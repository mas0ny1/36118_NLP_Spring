{
 "cells": [
  {
   "cell_type": "markdown",
   "metadata": {},
   "source": [
    "Here integrating all previous notebooks into one pipeline, mainly to avoid uploading and downloading json files, which seems to introduce corruptions. "
   ]
  },
  {
   "cell_type": "markdown",
   "metadata": {},
   "source": [
    "# 0. Import Data and Dependencies"
   ]
  },
  {
   "cell_type": "markdown",
   "metadata": {},
   "source": [
    "# 0.0 Packages and Dependencies"
   ]
  },
  {
   "cell_type": "code",
   "execution_count": 5,
   "metadata": {},
   "outputs": [],
   "source": [
    "import numpy as np\n",
    "import pandas as pd\n",
    "import os \n",
    "import re"
   ]
  },
  {
   "cell_type": "markdown",
   "metadata": {},
   "source": [
    "## 0.1 Notebook Functions"
   ]
  },
  {
   "cell_type": "code",
   "execution_count": null,
   "metadata": {},
   "outputs": [],
   "source": [
    "def print_first_lines(dict_list, n):\n",
    "    for idx, d in enumerate(dict_list):\n",
    "        if idx == n:\n",
    "            break\n",
    "        else:\n",
    "            print(d)"
   ]
  },
  {
   "cell_type": "code",
   "execution_count": null,
   "metadata": {},
   "outputs": [],
   "source": [
    "def find_avg_length(series):\n",
    "    avg_length = np.mean([len(d) for d in series])\n",
    "    print(\"Average length:\", avg_length)"
   ]
  },
  {
   "cell_type": "code",
   "execution_count": 14,
   "metadata": {},
   "outputs": [],
   "source": [
    "def format_as_json(screenplay):\n",
    "    # store results as list of key-value pairs\n",
    "    screenplay_data = []\n",
    "    # split screenplays by \\n\n",
    "    lines = screenplay.split(\"\\n\")\n",
    "    # iterate through lines \n",
    "    for line in lines: \n",
    "        # take part of string up to : as label\n",
    "        match = re.search(r':', line)\n",
    "        if match:\n",
    "            # take end of match as cutoff\n",
    "            cutoff = match.end()\n",
    "            label = line[:cutoff-1]\n",
    "            # after cutoff is data \n",
    "            data = line[cutoff+1:]\n",
    "            # store as dict\n",
    "            line_info = {label:data}\n",
    "            # append to list\n",
    "            screenplay_data.append(line_info)\n",
    "    # return list\n",
    "    return screenplay_data"
   ]
  },
  {
   "cell_type": "markdown",
   "metadata": {},
   "source": [
    "## 0.2 Read Datafiles "
   ]
  },
  {
   "cell_type": "code",
   "execution_count": 2,
   "metadata": {},
   "outputs": [
    {
     "name": "stdout",
     "output_type": "stream",
     "text": [
      "Example of 10 Cloverfield Lane_1179933_anno.txt:\n",
      "\n",
      "dialog: The Cellar\n",
      "dialog: by\n",
      "dialog: Josh Campbell & Matt Stuecken\n",
      "speaker_heading: DARKNESS\n",
      "dialog\n",
      "--------------------------------------------------\n",
      "Example of 10 Things I Hate About You_0147800_anno.txt:\n",
      "\n",
      "dialog: \n",
      "text: TEN THINGS I HATE ABOUT YOU\n",
      "dialog: \n",
      "dialog: written by Karen McCullah Lutz &amp; Kir\n",
      "--------------------------------------------------\n",
      "Example of 12 Angry Men_0118528_anno.txt:\n",
      "\n",
      "scene_heading: PLEASE COPY AND RETURN |\n",
      "dialog: ———_————_\n",
      "dialog: \n",
      "scene_heading: TWELVE ANGRY MEN\n",
      "d\n",
      "--------------------------------------------------\n",
      "Example of 12 Monkeys_0114746_anno.txt:\n",
      "\n",
      "dialog: \n",
      "speaker_heading: TWELVE MONKEYS\n",
      "dialog: \n",
      "dialog: An original screenplay by\n",
      "dialog: David Pe\n",
      "--------------------------------------------------\n",
      "Example of 12 Years a Slave_2024544_anno.txt:\n",
      "\n",
      "dialog: \n",
      "speaker_heading: 12 YEARS A SLAVE\n",
      "dialog: Written by\n",
      "dialog: John Ridley\n",
      "speaker_heading: C\n",
      "--------------------------------------------------\n",
      "Example of 127 Hours_1542344_anno.txt:\n",
      "\n",
      "dialog: \n",
      "dialog: \n",
      "speaker_heading: 127 HOURS\n",
      "dialog: Written by\n",
      "dialog: \n",
      "dialog: Simon Beaufoy &amp;\n",
      "--------------------------------------------------\n",
      "Example of 13 13 13_2991516_anno.txt:\n",
      "\n",
      "dialog: 13/13/13\n",
      "dialog: Written by\n",
      "dialog: James Cullen Bressack\n",
      "dialog: 5/15/13\n",
      "speaker_heading: T\n",
      "--------------------------------------------------\n",
      "Example of 1408_0450385_anno.txt:\n",
      "\n",
      "speaker_heading: 1408\n",
      "dialog: Written by\n",
      "dialog: Scott Alexander & Larry Karaszewski\n",
      "speaker_heading\n",
      "--------------------------------------------------\n",
      "Example of 1492 Conquest of Paradise_0103594_anno.txt:\n",
      "\n",
      "text: \n",
      "text: 1492: CONQUEST OF PARADISE\n",
      "dialog: by\n",
      "speaker_heading: Roselyne Bosch\n",
      "speaker_heading: \n",
      "--------------------------------------------------\n",
      "Example of 15 Minutes_0179626_anno.txt:\n",
      "\n",
      "dialog: \n",
      "speaker_heading: FADE IN\n",
      "text: on the words CZECH AIRLINE. We are panning across the words\n",
      "\n",
      "--------------------------------------------------\n"
     ]
    }
   ],
   "source": [
    "# replace paths here\n",
    "root_path = r'C:\\\\Users\\bened\\DataScience\\ANLP\\AT2'\n",
    "\n",
    "folder_path = f'{root_path}\\\\BERT_annotations'\n",
    "screenplays_annot = {}\n",
    "\n",
    "hex_pat = re.compile(r'[\\x00-\\x1F\\x7F-\\x9F]')\n",
    "\n",
    "# list all files in folder and iterate over them \n",
    "for file_name in os.listdir(folder_path):\n",
    "    # get file_path by joining folder path with file_name\n",
    "    file_path = os.path.join(folder_path, file_name)\n",
    "    # ensure path points to an actual file\n",
    "    if os.path.isfile(file_path):\n",
    "        with open(file_path, 'r', encoding='utf-8') as f:\n",
    "            content = f.read()\n",
    "            # remove non-printable non-ASCII chars\n",
    "            cleaned_content = re.sub(hex_pat, '', content)\n",
    "            # assign content to its file_name\n",
    "            screenplays_annot[file_name] = content\n",
    "\n",
    "# ensure files were imported correctly by printing a sample of the first ten files \n",
    "i = 0\n",
    "for file_name, content in screenplays_annot.items():\n",
    "    if i == 10:\n",
    "        break\n",
    "    else:\n",
    "        print(f\"Example of {file_name}:\\n\")\n",
    "        print(content[:100])\n",
    "        print(\"-\"*50)\n",
    "        i += 1"
   ]
  },
  {
   "cell_type": "code",
   "execution_count": 3,
   "metadata": {},
   "outputs": [
    {
     "name": "stdout",
     "output_type": "stream",
     "text": [
      "set()\n"
     ]
    }
   ],
   "source": [
    "# search values of screenplays_annot for data corruption pattern \n",
    "corruptions = set()\n",
    "for val in screenplays_annot.values():\n",
    "    corrupted = re.findall(hex_pat, repr(val))\n",
    "    for c in corrupted:\n",
    "        corruptions.add(c)\n",
    "\n",
    "print(corruptions)"
   ]
  },
  {
   "cell_type": "code",
   "execution_count": 4,
   "metadata": {},
   "outputs": [
    {
     "name": "stdout",
     "output_type": "stream",
     "text": [
      "0 files contain hexadecimal chars\n"
     ]
    }
   ],
   "source": [
    "# find names of screenpay with hexademical chars \n",
    "counter = 0\n",
    "for key, val in screenplays_annot.items():\n",
    "    if re.search(hex_pat, repr(val)):\n",
    "        print(key)\n",
    "        counter += 1\n",
    "\n",
    "print(f\"{counter} files contain hexadecimal chars\")"
   ]
  },
  {
   "cell_type": "markdown",
   "metadata": {},
   "source": [
    "## 0.3 Assemble DataFrame"
   ]
  },
  {
   "cell_type": "code",
   "execution_count": null,
   "metadata": {},
   "outputs": [
    {
     "name": "stdout",
     "output_type": "stream",
     "text": [
      "Collecting pandas\n",
      "  Using cached pandas-2.2.3-cp311-cp311-win_amd64.whl.metadata (19 kB)\n",
      "Requirement already satisfied: numpy>=1.23.2 in c:\\users\\bened\\anaconda3\\envs\\spacy_env\\lib\\site-packages (from pandas) (2.0.2)\n",
      "Requirement already satisfied: python-dateutil>=2.8.2 in c:\\users\\bened\\anaconda3\\envs\\spacy_env\\lib\\site-packages (from pandas) (2.9.0)\n",
      "Collecting pytz>=2020.1 (from pandas)\n",
      "  Using cached pytz-2024.2-py2.py3-none-any.whl.metadata (22 kB)\n",
      "Collecting tzdata>=2022.7 (from pandas)\n",
      "  Using cached tzdata-2024.2-py2.py3-none-any.whl.metadata (1.4 kB)\n",
      "Requirement already satisfied: six>=1.5 in c:\\users\\bened\\anaconda3\\envs\\spacy_env\\lib\\site-packages (from python-dateutil>=2.8.2->pandas) (1.16.0)\n",
      "Using cached pandas-2.2.3-cp311-cp311-win_amd64.whl (11.6 MB)\n",
      "Using cached pytz-2024.2-py2.py3-none-any.whl (508 kB)\n",
      "Using cached tzdata-2024.2-py2.py3-none-any.whl (346 kB)\n",
      "Installing collected packages: pytz, tzdata, pandas\n",
      "Successfully installed pandas-2.2.3 pytz-2024.2 tzdata-2024.2\n"
     ]
    }
   ],
   "source": [
    "# ! pip install pandas"
   ]
  },
  {
   "cell_type": "code",
   "execution_count": 8,
   "metadata": {},
   "outputs": [
    {
     "data": {
      "text/html": [
       "<div>\n",
       "<style scoped>\n",
       "    .dataframe tbody tr th:only-of-type {\n",
       "        vertical-align: middle;\n",
       "    }\n",
       "\n",
       "    .dataframe tbody tr th {\n",
       "        vertical-align: top;\n",
       "    }\n",
       "\n",
       "    .dataframe thead th {\n",
       "        text-align: right;\n",
       "    }\n",
       "</style>\n",
       "<table border=\"1\" class=\"dataframe\">\n",
       "  <thead>\n",
       "    <tr style=\"text-align: right;\">\n",
       "      <th></th>\n",
       "      <th>imdbid</th>\n",
       "      <th>title</th>\n",
       "      <th>akas</th>\n",
       "      <th>year</th>\n",
       "      <th>metascore</th>\n",
       "      <th>imdb user rating</th>\n",
       "      <th>number of imdb user votes</th>\n",
       "      <th>awards</th>\n",
       "      <th>opening weekend</th>\n",
       "      <th>producers</th>\n",
       "      <th>...</th>\n",
       "      <th>casting directors</th>\n",
       "      <th>cast</th>\n",
       "      <th>countries</th>\n",
       "      <th>age restrict</th>\n",
       "      <th>plot</th>\n",
       "      <th>plot outline</th>\n",
       "      <th>keywords</th>\n",
       "      <th>genres</th>\n",
       "      <th>taglines</th>\n",
       "      <th>synopsis</th>\n",
       "    </tr>\n",
       "  </thead>\n",
       "  <tbody>\n",
       "    <tr>\n",
       "      <th>0</th>\n",
       "      <td>120770</td>\n",
       "      <td>A Night at the Roxbury</td>\n",
       "      <td>Une nuit au Roxbury (France), Movida en el Rox...</td>\n",
       "      <td>1998</td>\n",
       "      <td>26</td>\n",
       "      <td>6</td>\n",
       "      <td>56537</td>\n",
       "      <td>NaN</td>\n",
       "      <td>United States:</td>\n",
       "      <td>Marie Cantin, Erin Fraser, Amy Heckerling, Ste...</td>\n",
       "      <td>...</td>\n",
       "      <td>Jeff Greenberg</td>\n",
       "      <td>Will Ferrell, Chris Kattan, Raquel Gardner, Vi...</td>\n",
       "      <td>United States</td>\n",
       "      <td>Argentina:13, Australia:M, Brazil:14, Canada:P...</td>\n",
       "      <td>Two dim-witted brothers dream of owning their ...</td>\n",
       "      <td>The Roxbury Guys, Steve and Doug Butabi, want ...</td>\n",
       "      <td>woman-on-top, nightclub, car-accident, 1990s, ...</td>\n",
       "      <td>Comedy, Music, Romance</td>\n",
       "      <td>Score!</td>\n",
       "      <td>NaN</td>\n",
       "    </tr>\n",
       "    <tr>\n",
       "      <th>1</th>\n",
       "      <td>132512</td>\n",
       "      <td>At First Sight</td>\n",
       "      <td>Sight Unseen (United States), Premier regard (...</td>\n",
       "      <td>1999</td>\n",
       "      <td>40</td>\n",
       "      <td>6</td>\n",
       "      <td>12922</td>\n",
       "      <td>NaN</td>\n",
       "      <td>United States:</td>\n",
       "      <td>Rob Cowan, Roger Paradiso, Irwin Winkler</td>\n",
       "      <td>...</td>\n",
       "      <td>Kerry Barden, Billy Hopkins, Suzanne Smith</td>\n",
       "      <td>Val Kilmer, Mira Sorvino, Kelly McGillis, Stev...</td>\n",
       "      <td>United States</td>\n",
       "      <td>Argentina:13, Australia:M, Canada:PG::(Alberta...</td>\n",
       "      <td>A blind man has an operation to regain his sig...</td>\n",
       "      <td>First Sight is true to the title from start to...</td>\n",
       "      <td>visual-agnosia, brother-sister-relationship, r...</td>\n",
       "      <td>Drama, Romance</td>\n",
       "      <td>Only Love Can Bring You To Your Senses., Scien...</td>\n",
       "      <td>NaN</td>\n",
       "    </tr>\n",
       "    <tr>\n",
       "      <th>2</th>\n",
       "      <td>118661</td>\n",
       "      <td>The Avengers</td>\n",
       "      <td>Chapeau melon et bottes de cuir (France), Mit ...</td>\n",
       "      <td>1998</td>\n",
       "      <td>12</td>\n",
       "      <td>3</td>\n",
       "      <td>40784</td>\n",
       "      <td>FMCJ Award 1998, Golden Reel Award 1999, Razzi...</td>\n",
       "      <td>United States: $10,305,957, 16 Aug 1998</td>\n",
       "      <td>Susan Ekins, Jerry Weintraub</td>\n",
       "      <td>...</td>\n",
       "      <td>Susie Figgis</td>\n",
       "      <td>Ralph Fiennes, Uma Thurman, Sean Connery, Patr...</td>\n",
       "      <td>United States</td>\n",
       "      <td>Argentina:13, Australia:PG, Brazil:10, Canada:...</td>\n",
       "      <td>Two British Agents team up to stop Sir August ...</td>\n",
       "      <td>British Ministry Agent John Steed, under direc...</td>\n",
       "      <td>good-versus-evil, heroine, evil-man, villain, ...</td>\n",
       "      <td>Action, Adventure, Sci-Fi, Thriller</td>\n",
       "      <td>Mrs. Peel, we're needed., Extraordinary crimes...</td>\n",
       "      <td>NaN</td>\n",
       "    </tr>\n",
       "    <tr>\n",
       "      <th>3</th>\n",
       "      <td>215545</td>\n",
       "      <td>Bamboozled</td>\n",
       "      <td>The Very Black Show (France), It's Showtime (G...</td>\n",
       "      <td>2000</td>\n",
       "      <td>54</td>\n",
       "      <td>6</td>\n",
       "      <td>10373</td>\n",
       "      <td>Golden Berlin Bear 2001, Black Reel 2001, Imag...</td>\n",
       "      <td>United States:</td>\n",
       "      <td>Jon Kilik, Spike Lee, Kisha Imani Cameron</td>\n",
       "      <td>...</td>\n",
       "      <td>Aisha Coley</td>\n",
       "      <td>Damon Wayans, Savion Glover, Jada Pinkett Smit...</td>\n",
       "      <td>United States</td>\n",
       "      <td>Australia:MA, Finland:K-15, France:Tous public...</td>\n",
       "      <td>A frustrated African-American TV writer propos...</td>\n",
       "      <td>Dark, biting satire of the television industry...</td>\n",
       "      <td>television-industry, african-american, referen...</td>\n",
       "      <td>Comedy, Drama, Music</td>\n",
       "      <td>Starring the great negroe actors</td>\n",
       "      <td>In a New York City residence, Pierre Delacroix...</td>\n",
       "    </tr>\n",
       "    <tr>\n",
       "      <th>4</th>\n",
       "      <td>118715</td>\n",
       "      <td>The Big Lebowski</td>\n",
       "      <td>El gran Lebowski (Spain), O Grande Lebowski (P...</td>\n",
       "      <td>1998</td>\n",
       "      <td>71</td>\n",
       "      <td>8</td>\n",
       "      <td>724388</td>\n",
       "      <td>Honorable Mention 1998, ACCA 1998, Golden Berl...</td>\n",
       "      <td>United States: $5,533,844, 08 Mar 1998</td>\n",
       "      <td>Tim Bevan, John Cameron, Ethan Coen, Eric Fell...</td>\n",
       "      <td>...</td>\n",
       "      <td>John S. Lyons</td>\n",
       "      <td>Jeff Bridges, John Goodman, Julianne Moore, St...</td>\n",
       "      <td>United States, United Kingdom</td>\n",
       "      <td>Argentina:16, Argentina:18::(cable rating), Au...</td>\n",
       "      <td>Jeff \"The Dude\" Lebowski, mistaken for a milli...</td>\n",
       "      <td>When \"the dude\" Lebowski is mistaken for a mil...</td>\n",
       "      <td>rug, nihilism, pornographer, bowling-alley, de...</td>\n",
       "      <td>Comedy, Crime, Sport</td>\n",
       "      <td>Hay quienes tratan de ganarse la vida sin move...</td>\n",
       "      <td>A tumbleweed rolls up a hillside just outside ...</td>\n",
       "    </tr>\n",
       "  </tbody>\n",
       "</table>\n",
       "<p>5 rows × 25 columns</p>\n",
       "</div>"
      ],
      "text/plain": [
       "   imdbid                   title  \\\n",
       "0  120770  A Night at the Roxbury   \n",
       "1  132512          At First Sight   \n",
       "2  118661            The Avengers   \n",
       "3  215545              Bamboozled   \n",
       "4  118715        The Big Lebowski   \n",
       "\n",
       "                                                akas  year  metascore  \\\n",
       "0  Une nuit au Roxbury (France), Movida en el Rox...  1998         26   \n",
       "1  Sight Unseen (United States), Premier regard (...  1999         40   \n",
       "2  Chapeau melon et bottes de cuir (France), Mit ...  1998         12   \n",
       "3  The Very Black Show (France), It's Showtime (G...  2000         54   \n",
       "4  El gran Lebowski (Spain), O Grande Lebowski (P...  1998         71   \n",
       "\n",
       "   imdb user rating  number of imdb user votes  \\\n",
       "0                 6                      56537   \n",
       "1                 6                      12922   \n",
       "2                 3                      40784   \n",
       "3                 6                      10373   \n",
       "4                 8                     724388   \n",
       "\n",
       "                                              awards  \\\n",
       "0                                                NaN   \n",
       "1                                                NaN   \n",
       "2  FMCJ Award 1998, Golden Reel Award 1999, Razzi...   \n",
       "3  Golden Berlin Bear 2001, Black Reel 2001, Imag...   \n",
       "4  Honorable Mention 1998, ACCA 1998, Golden Berl...   \n",
       "\n",
       "                           opening weekend  \\\n",
       "0                          United States:    \n",
       "1                          United States:    \n",
       "2  United States: $10,305,957, 16 Aug 1998   \n",
       "3                          United States:    \n",
       "4   United States: $5,533,844, 08 Mar 1998   \n",
       "\n",
       "                                           producers  ...  \\\n",
       "0  Marie Cantin, Erin Fraser, Amy Heckerling, Ste...  ...   \n",
       "1           Rob Cowan, Roger Paradiso, Irwin Winkler  ...   \n",
       "2                       Susan Ekins, Jerry Weintraub  ...   \n",
       "3          Jon Kilik, Spike Lee, Kisha Imani Cameron  ...   \n",
       "4  Tim Bevan, John Cameron, Ethan Coen, Eric Fell...  ...   \n",
       "\n",
       "                            casting directors  \\\n",
       "0                              Jeff Greenberg   \n",
       "1  Kerry Barden, Billy Hopkins, Suzanne Smith   \n",
       "2                                Susie Figgis   \n",
       "3                                 Aisha Coley   \n",
       "4                               John S. Lyons   \n",
       "\n",
       "                                                cast  \\\n",
       "0  Will Ferrell, Chris Kattan, Raquel Gardner, Vi...   \n",
       "1  Val Kilmer, Mira Sorvino, Kelly McGillis, Stev...   \n",
       "2  Ralph Fiennes, Uma Thurman, Sean Connery, Patr...   \n",
       "3  Damon Wayans, Savion Glover, Jada Pinkett Smit...   \n",
       "4  Jeff Bridges, John Goodman, Julianne Moore, St...   \n",
       "\n",
       "                       countries  \\\n",
       "0                  United States   \n",
       "1                  United States   \n",
       "2                  United States   \n",
       "3                  United States   \n",
       "4  United States, United Kingdom   \n",
       "\n",
       "                                        age restrict  \\\n",
       "0  Argentina:13, Australia:M, Brazil:14, Canada:P...   \n",
       "1  Argentina:13, Australia:M, Canada:PG::(Alberta...   \n",
       "2  Argentina:13, Australia:PG, Brazil:10, Canada:...   \n",
       "3  Australia:MA, Finland:K-15, France:Tous public...   \n",
       "4  Argentina:16, Argentina:18::(cable rating), Au...   \n",
       "\n",
       "                                                plot  \\\n",
       "0  Two dim-witted brothers dream of owning their ...   \n",
       "1  A blind man has an operation to regain his sig...   \n",
       "2  Two British Agents team up to stop Sir August ...   \n",
       "3  A frustrated African-American TV writer propos...   \n",
       "4  Jeff \"The Dude\" Lebowski, mistaken for a milli...   \n",
       "\n",
       "                                        plot outline  \\\n",
       "0  The Roxbury Guys, Steve and Doug Butabi, want ...   \n",
       "1  First Sight is true to the title from start to...   \n",
       "2  British Ministry Agent John Steed, under direc...   \n",
       "3  Dark, biting satire of the television industry...   \n",
       "4  When \"the dude\" Lebowski is mistaken for a mil...   \n",
       "\n",
       "                                            keywords  \\\n",
       "0  woman-on-top, nightclub, car-accident, 1990s, ...   \n",
       "1  visual-agnosia, brother-sister-relationship, r...   \n",
       "2  good-versus-evil, heroine, evil-man, villain, ...   \n",
       "3  television-industry, african-american, referen...   \n",
       "4  rug, nihilism, pornographer, bowling-alley, de...   \n",
       "\n",
       "                                genres  \\\n",
       "0               Comedy, Music, Romance   \n",
       "1                       Drama, Romance   \n",
       "2  Action, Adventure, Sci-Fi, Thriller   \n",
       "3                 Comedy, Drama, Music   \n",
       "4                 Comedy, Crime, Sport   \n",
       "\n",
       "                                            taglines  \\\n",
       "0                                             Score!   \n",
       "1  Only Love Can Bring You To Your Senses., Scien...   \n",
       "2  Mrs. Peel, we're needed., Extraordinary crimes...   \n",
       "3                   Starring the great negroe actors   \n",
       "4  Hay quienes tratan de ganarse la vida sin move...   \n",
       "\n",
       "                                            synopsis  \n",
       "0                                                NaN  \n",
       "1                                                NaN  \n",
       "2                                                NaN  \n",
       "3  In a New York City residence, Pierre Delacroix...  \n",
       "4  A tumbleweed rolls up a hillside just outside ...  \n",
       "\n",
       "[5 rows x 25 columns]"
      ]
     },
     "execution_count": 8,
     "metadata": {},
     "output_type": "execute_result"
    }
   ],
   "source": [
    "meta_df = pd.read_csv(f'{root_path}\\\\movie_meta_data.csv')\n",
    "meta_df.head()"
   ]
  },
  {
   "cell_type": "code",
   "execution_count": 9,
   "metadata": {},
   "outputs": [
    {
     "name": "stdout",
     "output_type": "stream",
     "text": [
      "['10 Cloverfield Lane_1179933_anno.txt', '10 Things I Hate About You_0147800_anno.txt', '12 Angry Men_0118528_anno.txt', '12 Monkeys_0114746_anno.txt', '12 Years a Slave_2024544_anno.txt', '127 Hours_1542344_anno.txt', '13 13 13_2991516_anno.txt', '1408_0450385_anno.txt', '1492 Conquest of Paradise_0103594_anno.txt', '15 Minutes_0179626_anno.txt']\n"
     ]
    }
   ],
   "source": [
    "# take a look at filename format\n",
    "filenames = list(screenplays_annot.keys())\n",
    "print(filenames[:10])"
   ]
  },
  {
   "cell_type": "code",
   "execution_count": 10,
   "metadata": {},
   "outputs": [
    {
     "name": "stdout",
     "output_type": "stream",
     "text": [
      "Title: 10 Cloverfield Lane  ID: 1179933\n",
      "Title: 10 Things I Hate About You  ID: 0147800\n",
      "Title: 12 Angry Men  ID: 0118528\n",
      "Title: 12 Monkeys  ID: 0114746\n",
      "Title: 12 Years a Slave  ID: 2024544\n",
      "Title: 127 Hours  ID: 1542344\n",
      "Title: 13 13 13  ID: 2991516\n",
      "Title: 1408  ID: 0450385\n",
      "Title: 1492 Conquest of Paradise  ID: 0103594\n",
      "Title: 15 Minutes  ID: 0179626\n"
     ]
    }
   ],
   "source": [
    "# filenames are formatted as movietitle_IMDBid \n",
    "filenames = list(screenplays_annot.keys())\n",
    "movie_titles = []\n",
    "ids = []\n",
    "for f in filenames:\n",
    "    # split at first _ to separate title from rest of filename\n",
    "    split = f.split(sep=\"_\")\n",
    "    movie_title = split[0]\n",
    "    id = split[1]\n",
    "    movie_titles.append(movie_title)\n",
    "    ids.append(id)\n",
    "i = 0\n",
    "for title, id in zip(movie_titles, ids):\n",
    "    if i == 10:\n",
    "        break\n",
    "    else:\n",
    "        print(\"Title:\", title, \" ID:\", id)\n",
    "        i += 1"
   ]
  },
  {
   "cell_type": "code",
   "execution_count": 11,
   "metadata": {},
   "outputs": [
    {
     "data": {
      "text/html": [
       "<div>\n",
       "<style scoped>\n",
       "    .dataframe tbody tr th:only-of-type {\n",
       "        vertical-align: middle;\n",
       "    }\n",
       "\n",
       "    .dataframe tbody tr th {\n",
       "        vertical-align: top;\n",
       "    }\n",
       "\n",
       "    .dataframe thead th {\n",
       "        text-align: right;\n",
       "    }\n",
       "</style>\n",
       "<table border=\"1\" class=\"dataframe\">\n",
       "  <thead>\n",
       "    <tr style=\"text-align: right;\">\n",
       "      <th></th>\n",
       "      <th>imdbid</th>\n",
       "      <th>annot_screenplay</th>\n",
       "    </tr>\n",
       "  </thead>\n",
       "  <tbody>\n",
       "    <tr>\n",
       "      <th>0</th>\n",
       "      <td>1179933</td>\n",
       "      <td>dialog: The Cellar\\ndialog: by\\ndialog: Josh C...</td>\n",
       "    </tr>\n",
       "    <tr>\n",
       "      <th>1</th>\n",
       "      <td>0147800</td>\n",
       "      <td>dialog: \\ntext: TEN THINGS I HATE ABOUT YOU\\nd...</td>\n",
       "    </tr>\n",
       "    <tr>\n",
       "      <th>2</th>\n",
       "      <td>0118528</td>\n",
       "      <td>scene_heading: PLEASE COPY AND RETURN |\\ndialo...</td>\n",
       "    </tr>\n",
       "    <tr>\n",
       "      <th>3</th>\n",
       "      <td>0114746</td>\n",
       "      <td>dialog: \\nspeaker_heading: TWELVE MONKEYS\\ndia...</td>\n",
       "    </tr>\n",
       "    <tr>\n",
       "      <th>4</th>\n",
       "      <td>2024544</td>\n",
       "      <td>dialog: \\nspeaker_heading: 12 YEARS A SLAVE\\nd...</td>\n",
       "    </tr>\n",
       "  </tbody>\n",
       "</table>\n",
       "</div>"
      ],
      "text/plain": [
       "    imdbid                                   annot_screenplay\n",
       "0  1179933  dialog: The Cellar\\ndialog: by\\ndialog: Josh C...\n",
       "1  0147800  dialog: \\ntext: TEN THINGS I HATE ABOUT YOU\\nd...\n",
       "2  0118528  scene_heading: PLEASE COPY AND RETURN |\\ndialo...\n",
       "3  0114746  dialog: \\nspeaker_heading: TWELVE MONKEYS\\ndia...\n",
       "4  2024544  dialog: \\nspeaker_heading: 12 YEARS A SLAVE\\nd..."
      ]
     },
     "execution_count": 11,
     "metadata": {},
     "output_type": "execute_result"
    }
   ],
   "source": [
    "screenplays_df = pd.DataFrame({\n",
    "    'imdbid': ids,\n",
    "    'annot_screenplay': screenplays_annot.values()\n",
    "})\n",
    "screenplays_df.head()"
   ]
  },
  {
   "cell_type": "code",
   "execution_count": 12,
   "metadata": {},
   "outputs": [
    {
     "name": "stdout",
     "output_type": "stream",
     "text": [
      "<class 'pandas.core.frame.DataFrame'>\n",
      "RangeIndex: 1998 entries, 0 to 1997\n",
      "Data columns (total 2 columns):\n",
      " #   Column            Non-Null Count  Dtype \n",
      "---  ------            --------------  ----- \n",
      " 0   imdbid            1998 non-null   object\n",
      " 1   annot_screenplay  1998 non-null   object\n",
      "dtypes: object(2)\n",
      "memory usage: 31.3+ KB\n",
      "None\n",
      "<class 'pandas.core.frame.DataFrame'>\n",
      "RangeIndex: 2858 entries, 0 to 2857\n",
      "Data columns (total 25 columns):\n",
      " #   Column                     Non-Null Count  Dtype \n",
      "---  ------                     --------------  ----- \n",
      " 0   imdbid                     2858 non-null   int64 \n",
      " 1   title                      2858 non-null   object\n",
      " 2   akas                       2652 non-null   object\n",
      " 3   year                       2858 non-null   int64 \n",
      " 4   metascore                  2858 non-null   int64 \n",
      " 5   imdb user rating           2858 non-null   int64 \n",
      " 6   number of imdb user votes  2858 non-null   int64 \n",
      " 7   awards                     2243 non-null   object\n",
      " 8   opening weekend            1739 non-null   object\n",
      " 9   producers                  2640 non-null   object\n",
      " 10  budget                     1624 non-null   object\n",
      " 11  script department          2220 non-null   object\n",
      " 12  production companies       2682 non-null   object\n",
      " 13  writers                    2696 non-null   object\n",
      " 14  directors                  2658 non-null   object\n",
      " 15  casting directors          2141 non-null   object\n",
      " 16  cast                       2806 non-null   object\n",
      " 17  countries                  2678 non-null   object\n",
      " 18  age restrict               2526 non-null   object\n",
      " 19  plot                       2709 non-null   object\n",
      " 20  plot outline               2457 non-null   object\n",
      " 21  keywords                   2601 non-null   object\n",
      " 22  genres                     2846 non-null   object\n",
      " 23  taglines                   2256 non-null   object\n",
      " 24  synopsis                   1852 non-null   object\n",
      "dtypes: int64(5), object(20)\n",
      "memory usage: 558.3+ KB\n",
      "None\n"
     ]
    }
   ],
   "source": [
    "print(screenplays_df.info())\n",
    "print(meta_df.info())"
   ]
  },
  {
   "cell_type": "code",
   "execution_count": 13,
   "metadata": {},
   "outputs": [
    {
     "data": {
      "text/html": [
       "<div>\n",
       "<style scoped>\n",
       "    .dataframe tbody tr th:only-of-type {\n",
       "        vertical-align: middle;\n",
       "    }\n",
       "\n",
       "    .dataframe tbody tr th {\n",
       "        vertical-align: top;\n",
       "    }\n",
       "\n",
       "    .dataframe thead th {\n",
       "        text-align: right;\n",
       "    }\n",
       "</style>\n",
       "<table border=\"1\" class=\"dataframe\">\n",
       "  <thead>\n",
       "    <tr style=\"text-align: right;\">\n",
       "      <th></th>\n",
       "      <th>imdbid</th>\n",
       "      <th>title</th>\n",
       "      <th>akas</th>\n",
       "      <th>year</th>\n",
       "      <th>metascore</th>\n",
       "      <th>imdb user rating</th>\n",
       "      <th>number of imdb user votes</th>\n",
       "      <th>awards</th>\n",
       "      <th>opening weekend</th>\n",
       "      <th>producers</th>\n",
       "      <th>...</th>\n",
       "      <th>cast</th>\n",
       "      <th>countries</th>\n",
       "      <th>age restrict</th>\n",
       "      <th>plot</th>\n",
       "      <th>plot outline</th>\n",
       "      <th>keywords</th>\n",
       "      <th>genres</th>\n",
       "      <th>taglines</th>\n",
       "      <th>synopsis</th>\n",
       "      <th>annot_screenplay</th>\n",
       "    </tr>\n",
       "  </thead>\n",
       "  <tbody>\n",
       "    <tr>\n",
       "      <th>0</th>\n",
       "      <td>120770</td>\n",
       "      <td>A Night at the Roxbury</td>\n",
       "      <td>Une nuit au Roxbury (France), Movida en el Rox...</td>\n",
       "      <td>1998</td>\n",
       "      <td>26</td>\n",
       "      <td>6</td>\n",
       "      <td>56537</td>\n",
       "      <td>NaN</td>\n",
       "      <td>United States:</td>\n",
       "      <td>Marie Cantin, Erin Fraser, Amy Heckerling, Ste...</td>\n",
       "      <td>...</td>\n",
       "      <td>Will Ferrell, Chris Kattan, Raquel Gardner, Vi...</td>\n",
       "      <td>United States</td>\n",
       "      <td>Argentina:13, Australia:M, Brazil:14, Canada:P...</td>\n",
       "      <td>Two dim-witted brothers dream of owning their ...</td>\n",
       "      <td>The Roxbury Guys, Steve and Doug Butabi, want ...</td>\n",
       "      <td>woman-on-top, nightclub, car-accident, 1990s, ...</td>\n",
       "      <td>Comedy, Music, Romance</td>\n",
       "      <td>Score!</td>\n",
       "      <td>NaN</td>\n",
       "      <td>dialog: \\ntext: A NIGHT AT THE ROXBURY\\ndialog...</td>\n",
       "    </tr>\n",
       "    <tr>\n",
       "      <th>1</th>\n",
       "      <td>132512</td>\n",
       "      <td>At First Sight</td>\n",
       "      <td>Sight Unseen (United States), Premier regard (...</td>\n",
       "      <td>1999</td>\n",
       "      <td>40</td>\n",
       "      <td>6</td>\n",
       "      <td>12922</td>\n",
       "      <td>NaN</td>\n",
       "      <td>United States:</td>\n",
       "      <td>Rob Cowan, Roger Paradiso, Irwin Winkler</td>\n",
       "      <td>...</td>\n",
       "      <td>Val Kilmer, Mira Sorvino, Kelly McGillis, Stev...</td>\n",
       "      <td>United States</td>\n",
       "      <td>Argentina:13, Australia:M, Canada:PG::(Alberta...</td>\n",
       "      <td>A blind man has an operation to regain his sig...</td>\n",
       "      <td>First Sight is true to the title from start to...</td>\n",
       "      <td>visual-agnosia, brother-sister-relationship, r...</td>\n",
       "      <td>Drama, Romance</td>\n",
       "      <td>Only Love Can Bring You To Your Senses., Scien...</td>\n",
       "      <td>NaN</td>\n",
       "      <td>scene_heading: AT FIRST SIGHT\\nscene_heading: ...</td>\n",
       "    </tr>\n",
       "    <tr>\n",
       "      <th>2</th>\n",
       "      <td>118661</td>\n",
       "      <td>The Avengers</td>\n",
       "      <td>Chapeau melon et bottes de cuir (France), Mit ...</td>\n",
       "      <td>1998</td>\n",
       "      <td>12</td>\n",
       "      <td>3</td>\n",
       "      <td>40784</td>\n",
       "      <td>FMCJ Award 1998, Golden Reel Award 1999, Razzi...</td>\n",
       "      <td>United States: $10,305,957, 16 Aug 1998</td>\n",
       "      <td>Susan Ekins, Jerry Weintraub</td>\n",
       "      <td>...</td>\n",
       "      <td>Ralph Fiennes, Uma Thurman, Sean Connery, Patr...</td>\n",
       "      <td>United States</td>\n",
       "      <td>Argentina:13, Australia:PG, Brazil:10, Canada:...</td>\n",
       "      <td>Two British Agents team up to stop Sir August ...</td>\n",
       "      <td>British Ministry Agent John Steed, under direc...</td>\n",
       "      <td>good-versus-evil, heroine, evil-man, villain, ...</td>\n",
       "      <td>Action, Adventure, Sci-Fi, Thriller</td>\n",
       "      <td>Mrs. Peel, we're needed., Extraordinary crimes...</td>\n",
       "      <td>NaN</td>\n",
       "      <td>dialog: \\nspeaker_heading: THE AVENGERS\\ndialo...</td>\n",
       "    </tr>\n",
       "    <tr>\n",
       "      <th>3</th>\n",
       "      <td>215545</td>\n",
       "      <td>Bamboozled</td>\n",
       "      <td>The Very Black Show (France), It's Showtime (G...</td>\n",
       "      <td>2000</td>\n",
       "      <td>54</td>\n",
       "      <td>6</td>\n",
       "      <td>10373</td>\n",
       "      <td>Golden Berlin Bear 2001, Black Reel 2001, Imag...</td>\n",
       "      <td>United States:</td>\n",
       "      <td>Jon Kilik, Spike Lee, Kisha Imani Cameron</td>\n",
       "      <td>...</td>\n",
       "      <td>Damon Wayans, Savion Glover, Jada Pinkett Smit...</td>\n",
       "      <td>United States</td>\n",
       "      <td>Australia:MA, Finland:K-15, France:Tous public...</td>\n",
       "      <td>A frustrated African-American TV writer propos...</td>\n",
       "      <td>Dark, biting satire of the television industry...</td>\n",
       "      <td>television-industry, african-american, referen...</td>\n",
       "      <td>Comedy, Drama, Music</td>\n",
       "      <td>Starring the great negroe actors</td>\n",
       "      <td>In a New York City residence, Pierre Delacroix...</td>\n",
       "      <td>dialog: Bamboozled\\ndialog: by\\ndialog: Spike ...</td>\n",
       "    </tr>\n",
       "    <tr>\n",
       "      <th>4</th>\n",
       "      <td>118715</td>\n",
       "      <td>The Big Lebowski</td>\n",
       "      <td>El gran Lebowski (Spain), O Grande Lebowski (P...</td>\n",
       "      <td>1998</td>\n",
       "      <td>71</td>\n",
       "      <td>8</td>\n",
       "      <td>724388</td>\n",
       "      <td>Honorable Mention 1998, ACCA 1998, Golden Berl...</td>\n",
       "      <td>United States: $5,533,844, 08 Mar 1998</td>\n",
       "      <td>Tim Bevan, John Cameron, Ethan Coen, Eric Fell...</td>\n",
       "      <td>...</td>\n",
       "      <td>Jeff Bridges, John Goodman, Julianne Moore, St...</td>\n",
       "      <td>United States, United Kingdom</td>\n",
       "      <td>Argentina:16, Argentina:18::(cable rating), Au...</td>\n",
       "      <td>Jeff \"The Dude\" Lebowski, mistaken for a milli...</td>\n",
       "      <td>When \"the dude\" Lebowski is mistaken for a mil...</td>\n",
       "      <td>rug, nihilism, pornographer, bowling-alley, de...</td>\n",
       "      <td>Comedy, Crime, Sport</td>\n",
       "      <td>Hay quienes tratan de ganarse la vida sin move...</td>\n",
       "      <td>A tumbleweed rolls up a hillside just outside ...</td>\n",
       "      <td>dialog: \\nscene_heading: THE BIG LEBOWSKI\\ntex...</td>\n",
       "    </tr>\n",
       "  </tbody>\n",
       "</table>\n",
       "<p>5 rows × 26 columns</p>\n",
       "</div>"
      ],
      "text/plain": [
       "   imdbid                   title  \\\n",
       "0  120770  A Night at the Roxbury   \n",
       "1  132512          At First Sight   \n",
       "2  118661            The Avengers   \n",
       "3  215545              Bamboozled   \n",
       "4  118715        The Big Lebowski   \n",
       "\n",
       "                                                akas  year  metascore  \\\n",
       "0  Une nuit au Roxbury (France), Movida en el Rox...  1998         26   \n",
       "1  Sight Unseen (United States), Premier regard (...  1999         40   \n",
       "2  Chapeau melon et bottes de cuir (France), Mit ...  1998         12   \n",
       "3  The Very Black Show (France), It's Showtime (G...  2000         54   \n",
       "4  El gran Lebowski (Spain), O Grande Lebowski (P...  1998         71   \n",
       "\n",
       "   imdb user rating  number of imdb user votes  \\\n",
       "0                 6                      56537   \n",
       "1                 6                      12922   \n",
       "2                 3                      40784   \n",
       "3                 6                      10373   \n",
       "4                 8                     724388   \n",
       "\n",
       "                                              awards  \\\n",
       "0                                                NaN   \n",
       "1                                                NaN   \n",
       "2  FMCJ Award 1998, Golden Reel Award 1999, Razzi...   \n",
       "3  Golden Berlin Bear 2001, Black Reel 2001, Imag...   \n",
       "4  Honorable Mention 1998, ACCA 1998, Golden Berl...   \n",
       "\n",
       "                           opening weekend  \\\n",
       "0                          United States:    \n",
       "1                          United States:    \n",
       "2  United States: $10,305,957, 16 Aug 1998   \n",
       "3                          United States:    \n",
       "4   United States: $5,533,844, 08 Mar 1998   \n",
       "\n",
       "                                           producers  ...  \\\n",
       "0  Marie Cantin, Erin Fraser, Amy Heckerling, Ste...  ...   \n",
       "1           Rob Cowan, Roger Paradiso, Irwin Winkler  ...   \n",
       "2                       Susan Ekins, Jerry Weintraub  ...   \n",
       "3          Jon Kilik, Spike Lee, Kisha Imani Cameron  ...   \n",
       "4  Tim Bevan, John Cameron, Ethan Coen, Eric Fell...  ...   \n",
       "\n",
       "                                                cast  \\\n",
       "0  Will Ferrell, Chris Kattan, Raquel Gardner, Vi...   \n",
       "1  Val Kilmer, Mira Sorvino, Kelly McGillis, Stev...   \n",
       "2  Ralph Fiennes, Uma Thurman, Sean Connery, Patr...   \n",
       "3  Damon Wayans, Savion Glover, Jada Pinkett Smit...   \n",
       "4  Jeff Bridges, John Goodman, Julianne Moore, St...   \n",
       "\n",
       "                       countries  \\\n",
       "0                  United States   \n",
       "1                  United States   \n",
       "2                  United States   \n",
       "3                  United States   \n",
       "4  United States, United Kingdom   \n",
       "\n",
       "                                        age restrict  \\\n",
       "0  Argentina:13, Australia:M, Brazil:14, Canada:P...   \n",
       "1  Argentina:13, Australia:M, Canada:PG::(Alberta...   \n",
       "2  Argentina:13, Australia:PG, Brazil:10, Canada:...   \n",
       "3  Australia:MA, Finland:K-15, France:Tous public...   \n",
       "4  Argentina:16, Argentina:18::(cable rating), Au...   \n",
       "\n",
       "                                                plot  \\\n",
       "0  Two dim-witted brothers dream of owning their ...   \n",
       "1  A blind man has an operation to regain his sig...   \n",
       "2  Two British Agents team up to stop Sir August ...   \n",
       "3  A frustrated African-American TV writer propos...   \n",
       "4  Jeff \"The Dude\" Lebowski, mistaken for a milli...   \n",
       "\n",
       "                                        plot outline  \\\n",
       "0  The Roxbury Guys, Steve and Doug Butabi, want ...   \n",
       "1  First Sight is true to the title from start to...   \n",
       "2  British Ministry Agent John Steed, under direc...   \n",
       "3  Dark, biting satire of the television industry...   \n",
       "4  When \"the dude\" Lebowski is mistaken for a mil...   \n",
       "\n",
       "                                            keywords  \\\n",
       "0  woman-on-top, nightclub, car-accident, 1990s, ...   \n",
       "1  visual-agnosia, brother-sister-relationship, r...   \n",
       "2  good-versus-evil, heroine, evil-man, villain, ...   \n",
       "3  television-industry, african-american, referen...   \n",
       "4  rug, nihilism, pornographer, bowling-alley, de...   \n",
       "\n",
       "                                genres  \\\n",
       "0               Comedy, Music, Romance   \n",
       "1                       Drama, Romance   \n",
       "2  Action, Adventure, Sci-Fi, Thriller   \n",
       "3                 Comedy, Drama, Music   \n",
       "4                 Comedy, Crime, Sport   \n",
       "\n",
       "                                            taglines  \\\n",
       "0                                             Score!   \n",
       "1  Only Love Can Bring You To Your Senses., Scien...   \n",
       "2  Mrs. Peel, we're needed., Extraordinary crimes...   \n",
       "3                   Starring the great negroe actors   \n",
       "4  Hay quienes tratan de ganarse la vida sin move...   \n",
       "\n",
       "                                            synopsis  \\\n",
       "0                                                NaN   \n",
       "1                                                NaN   \n",
       "2                                                NaN   \n",
       "3  In a New York City residence, Pierre Delacroix...   \n",
       "4  A tumbleweed rolls up a hillside just outside ...   \n",
       "\n",
       "                                    annot_screenplay  \n",
       "0  dialog: \\ntext: A NIGHT AT THE ROXBURY\\ndialog...  \n",
       "1  scene_heading: AT FIRST SIGHT\\nscene_heading: ...  \n",
       "2  dialog: \\nspeaker_heading: THE AVENGERS\\ndialo...  \n",
       "3  dialog: Bamboozled\\ndialog: by\\ndialog: Spike ...  \n",
       "4  dialog: \\nscene_heading: THE BIG LEBOWSKI\\ntex...  \n",
       "\n",
       "[5 rows x 26 columns]"
      ]
     },
     "execution_count": 13,
     "metadata": {},
     "output_type": "execute_result"
    }
   ],
   "source": [
    "# convert screenplays imdbid to int\n",
    "screenplays_df['imdbid'] = screenplays_df['imdbid'].astype(int)\n",
    "df = meta_df.merge(screenplays_df, on='imdbid')\n",
    "df.head()"
   ]
  },
  {
   "cell_type": "code",
   "execution_count": 16,
   "metadata": {},
   "outputs": [],
   "source": [
    "del screenplays_df, meta_df, content, cleaned_content, filenames"
   ]
  },
  {
   "cell_type": "markdown",
   "metadata": {},
   "source": [
    "# 1. Preprocessing"
   ]
  },
  {
   "cell_type": "markdown",
   "metadata": {},
   "source": [
    "## 1.0 Format Text Data as JSONs"
   ]
  },
  {
   "cell_type": "code",
   "execution_count": 18,
   "metadata": {},
   "outputs": [],
   "source": [
    "# now we'll apply this logic to the whole corpus to see if labels are the same\n",
    "screenplay_jsons = df['annot_screenplay'].apply(format_as_json)"
   ]
  },
  {
   "cell_type": "markdown",
   "metadata": {},
   "source": [
    "df.head()"
   ]
  },
  {
   "cell_type": "code",
   "execution_count": 20,
   "metadata": {},
   "outputs": [
    {
     "data": {
      "text/html": [
       "<div>\n",
       "<style scoped>\n",
       "    .dataframe tbody tr th:only-of-type {\n",
       "        vertical-align: middle;\n",
       "    }\n",
       "\n",
       "    .dataframe tbody tr th {\n",
       "        vertical-align: top;\n",
       "    }\n",
       "\n",
       "    .dataframe thead th {\n",
       "        text-align: right;\n",
       "    }\n",
       "</style>\n",
       "<table border=\"1\" class=\"dataframe\">\n",
       "  <thead>\n",
       "    <tr style=\"text-align: right;\">\n",
       "      <th></th>\n",
       "      <th>imdbid</th>\n",
       "      <th>title</th>\n",
       "      <th>akas</th>\n",
       "      <th>year</th>\n",
       "      <th>metascore</th>\n",
       "      <th>imdb user rating</th>\n",
       "      <th>number of imdb user votes</th>\n",
       "      <th>awards</th>\n",
       "      <th>opening weekend</th>\n",
       "      <th>producers</th>\n",
       "      <th>...</th>\n",
       "      <th>cast</th>\n",
       "      <th>countries</th>\n",
       "      <th>age restrict</th>\n",
       "      <th>plot</th>\n",
       "      <th>plot outline</th>\n",
       "      <th>keywords</th>\n",
       "      <th>genres</th>\n",
       "      <th>taglines</th>\n",
       "      <th>synopsis</th>\n",
       "      <th>annot_screenplay</th>\n",
       "    </tr>\n",
       "  </thead>\n",
       "  <tbody>\n",
       "    <tr>\n",
       "      <th>0</th>\n",
       "      <td>120770</td>\n",
       "      <td>A Night at the Roxbury</td>\n",
       "      <td>Une nuit au Roxbury (France), Movida en el Rox...</td>\n",
       "      <td>1998</td>\n",
       "      <td>26</td>\n",
       "      <td>6</td>\n",
       "      <td>56537</td>\n",
       "      <td>NaN</td>\n",
       "      <td>United States:</td>\n",
       "      <td>Marie Cantin, Erin Fraser, Amy Heckerling, Ste...</td>\n",
       "      <td>...</td>\n",
       "      <td>Will Ferrell, Chris Kattan, Raquel Gardner, Vi...</td>\n",
       "      <td>United States</td>\n",
       "      <td>Argentina:13, Australia:M, Brazil:14, Canada:P...</td>\n",
       "      <td>Two dim-witted brothers dream of owning their ...</td>\n",
       "      <td>The Roxbury Guys, Steve and Doug Butabi, want ...</td>\n",
       "      <td>woman-on-top, nightclub, car-accident, 1990s, ...</td>\n",
       "      <td>Comedy, Music, Romance</td>\n",
       "      <td>Score!</td>\n",
       "      <td>NaN</td>\n",
       "      <td>dialog: \\ntext: A NIGHT AT THE ROXBURY\\ndialog...</td>\n",
       "    </tr>\n",
       "    <tr>\n",
       "      <th>1</th>\n",
       "      <td>132512</td>\n",
       "      <td>At First Sight</td>\n",
       "      <td>Sight Unseen (United States), Premier regard (...</td>\n",
       "      <td>1999</td>\n",
       "      <td>40</td>\n",
       "      <td>6</td>\n",
       "      <td>12922</td>\n",
       "      <td>NaN</td>\n",
       "      <td>United States:</td>\n",
       "      <td>Rob Cowan, Roger Paradiso, Irwin Winkler</td>\n",
       "      <td>...</td>\n",
       "      <td>Val Kilmer, Mira Sorvino, Kelly McGillis, Stev...</td>\n",
       "      <td>United States</td>\n",
       "      <td>Argentina:13, Australia:M, Canada:PG::(Alberta...</td>\n",
       "      <td>A blind man has an operation to regain his sig...</td>\n",
       "      <td>First Sight is true to the title from start to...</td>\n",
       "      <td>visual-agnosia, brother-sister-relationship, r...</td>\n",
       "      <td>Drama, Romance</td>\n",
       "      <td>Only Love Can Bring You To Your Senses., Scien...</td>\n",
       "      <td>NaN</td>\n",
       "      <td>scene_heading: AT FIRST SIGHT\\nscene_heading: ...</td>\n",
       "    </tr>\n",
       "    <tr>\n",
       "      <th>2</th>\n",
       "      <td>118661</td>\n",
       "      <td>The Avengers</td>\n",
       "      <td>Chapeau melon et bottes de cuir (France), Mit ...</td>\n",
       "      <td>1998</td>\n",
       "      <td>12</td>\n",
       "      <td>3</td>\n",
       "      <td>40784</td>\n",
       "      <td>FMCJ Award 1998, Golden Reel Award 1999, Razzi...</td>\n",
       "      <td>United States: $10,305,957, 16 Aug 1998</td>\n",
       "      <td>Susan Ekins, Jerry Weintraub</td>\n",
       "      <td>...</td>\n",
       "      <td>Ralph Fiennes, Uma Thurman, Sean Connery, Patr...</td>\n",
       "      <td>United States</td>\n",
       "      <td>Argentina:13, Australia:PG, Brazil:10, Canada:...</td>\n",
       "      <td>Two British Agents team up to stop Sir August ...</td>\n",
       "      <td>British Ministry Agent John Steed, under direc...</td>\n",
       "      <td>good-versus-evil, heroine, evil-man, villain, ...</td>\n",
       "      <td>Action, Adventure, Sci-Fi, Thriller</td>\n",
       "      <td>Mrs. Peel, we're needed., Extraordinary crimes...</td>\n",
       "      <td>NaN</td>\n",
       "      <td>dialog: \\nspeaker_heading: THE AVENGERS\\ndialo...</td>\n",
       "    </tr>\n",
       "    <tr>\n",
       "      <th>3</th>\n",
       "      <td>215545</td>\n",
       "      <td>Bamboozled</td>\n",
       "      <td>The Very Black Show (France), It's Showtime (G...</td>\n",
       "      <td>2000</td>\n",
       "      <td>54</td>\n",
       "      <td>6</td>\n",
       "      <td>10373</td>\n",
       "      <td>Golden Berlin Bear 2001, Black Reel 2001, Imag...</td>\n",
       "      <td>United States:</td>\n",
       "      <td>Jon Kilik, Spike Lee, Kisha Imani Cameron</td>\n",
       "      <td>...</td>\n",
       "      <td>Damon Wayans, Savion Glover, Jada Pinkett Smit...</td>\n",
       "      <td>United States</td>\n",
       "      <td>Australia:MA, Finland:K-15, France:Tous public...</td>\n",
       "      <td>A frustrated African-American TV writer propos...</td>\n",
       "      <td>Dark, biting satire of the television industry...</td>\n",
       "      <td>television-industry, african-american, referen...</td>\n",
       "      <td>Comedy, Drama, Music</td>\n",
       "      <td>Starring the great negroe actors</td>\n",
       "      <td>In a New York City residence, Pierre Delacroix...</td>\n",
       "      <td>dialog: Bamboozled\\ndialog: by\\ndialog: Spike ...</td>\n",
       "    </tr>\n",
       "    <tr>\n",
       "      <th>4</th>\n",
       "      <td>118715</td>\n",
       "      <td>The Big Lebowski</td>\n",
       "      <td>El gran Lebowski (Spain), O Grande Lebowski (P...</td>\n",
       "      <td>1998</td>\n",
       "      <td>71</td>\n",
       "      <td>8</td>\n",
       "      <td>724388</td>\n",
       "      <td>Honorable Mention 1998, ACCA 1998, Golden Berl...</td>\n",
       "      <td>United States: $5,533,844, 08 Mar 1998</td>\n",
       "      <td>Tim Bevan, John Cameron, Ethan Coen, Eric Fell...</td>\n",
       "      <td>...</td>\n",
       "      <td>Jeff Bridges, John Goodman, Julianne Moore, St...</td>\n",
       "      <td>United States, United Kingdom</td>\n",
       "      <td>Argentina:16, Argentina:18::(cable rating), Au...</td>\n",
       "      <td>Jeff \"The Dude\" Lebowski, mistaken for a milli...</td>\n",
       "      <td>When \"the dude\" Lebowski is mistaken for a mil...</td>\n",
       "      <td>rug, nihilism, pornographer, bowling-alley, de...</td>\n",
       "      <td>Comedy, Crime, Sport</td>\n",
       "      <td>Hay quienes tratan de ganarse la vida sin move...</td>\n",
       "      <td>A tumbleweed rolls up a hillside just outside ...</td>\n",
       "      <td>dialog: \\nscene_heading: THE BIG LEBOWSKI\\ntex...</td>\n",
       "    </tr>\n",
       "  </tbody>\n",
       "</table>\n",
       "<p>5 rows × 26 columns</p>\n",
       "</div>"
      ],
      "text/plain": [
       "   imdbid                   title  \\\n",
       "0  120770  A Night at the Roxbury   \n",
       "1  132512          At First Sight   \n",
       "2  118661            The Avengers   \n",
       "3  215545              Bamboozled   \n",
       "4  118715        The Big Lebowski   \n",
       "\n",
       "                                                akas  year  metascore  \\\n",
       "0  Une nuit au Roxbury (France), Movida en el Rox...  1998         26   \n",
       "1  Sight Unseen (United States), Premier regard (...  1999         40   \n",
       "2  Chapeau melon et bottes de cuir (France), Mit ...  1998         12   \n",
       "3  The Very Black Show (France), It's Showtime (G...  2000         54   \n",
       "4  El gran Lebowski (Spain), O Grande Lebowski (P...  1998         71   \n",
       "\n",
       "   imdb user rating  number of imdb user votes  \\\n",
       "0                 6                      56537   \n",
       "1                 6                      12922   \n",
       "2                 3                      40784   \n",
       "3                 6                      10373   \n",
       "4                 8                     724388   \n",
       "\n",
       "                                              awards  \\\n",
       "0                                                NaN   \n",
       "1                                                NaN   \n",
       "2  FMCJ Award 1998, Golden Reel Award 1999, Razzi...   \n",
       "3  Golden Berlin Bear 2001, Black Reel 2001, Imag...   \n",
       "4  Honorable Mention 1998, ACCA 1998, Golden Berl...   \n",
       "\n",
       "                           opening weekend  \\\n",
       "0                          United States:    \n",
       "1                          United States:    \n",
       "2  United States: $10,305,957, 16 Aug 1998   \n",
       "3                          United States:    \n",
       "4   United States: $5,533,844, 08 Mar 1998   \n",
       "\n",
       "                                           producers  ...  \\\n",
       "0  Marie Cantin, Erin Fraser, Amy Heckerling, Ste...  ...   \n",
       "1           Rob Cowan, Roger Paradiso, Irwin Winkler  ...   \n",
       "2                       Susan Ekins, Jerry Weintraub  ...   \n",
       "3          Jon Kilik, Spike Lee, Kisha Imani Cameron  ...   \n",
       "4  Tim Bevan, John Cameron, Ethan Coen, Eric Fell...  ...   \n",
       "\n",
       "                                                cast  \\\n",
       "0  Will Ferrell, Chris Kattan, Raquel Gardner, Vi...   \n",
       "1  Val Kilmer, Mira Sorvino, Kelly McGillis, Stev...   \n",
       "2  Ralph Fiennes, Uma Thurman, Sean Connery, Patr...   \n",
       "3  Damon Wayans, Savion Glover, Jada Pinkett Smit...   \n",
       "4  Jeff Bridges, John Goodman, Julianne Moore, St...   \n",
       "\n",
       "                       countries  \\\n",
       "0                  United States   \n",
       "1                  United States   \n",
       "2                  United States   \n",
       "3                  United States   \n",
       "4  United States, United Kingdom   \n",
       "\n",
       "                                        age restrict  \\\n",
       "0  Argentina:13, Australia:M, Brazil:14, Canada:P...   \n",
       "1  Argentina:13, Australia:M, Canada:PG::(Alberta...   \n",
       "2  Argentina:13, Australia:PG, Brazil:10, Canada:...   \n",
       "3  Australia:MA, Finland:K-15, France:Tous public...   \n",
       "4  Argentina:16, Argentina:18::(cable rating), Au...   \n",
       "\n",
       "                                                plot  \\\n",
       "0  Two dim-witted brothers dream of owning their ...   \n",
       "1  A blind man has an operation to regain his sig...   \n",
       "2  Two British Agents team up to stop Sir August ...   \n",
       "3  A frustrated African-American TV writer propos...   \n",
       "4  Jeff \"The Dude\" Lebowski, mistaken for a milli...   \n",
       "\n",
       "                                        plot outline  \\\n",
       "0  The Roxbury Guys, Steve and Doug Butabi, want ...   \n",
       "1  First Sight is true to the title from start to...   \n",
       "2  British Ministry Agent John Steed, under direc...   \n",
       "3  Dark, biting satire of the television industry...   \n",
       "4  When \"the dude\" Lebowski is mistaken for a mil...   \n",
       "\n",
       "                                            keywords  \\\n",
       "0  woman-on-top, nightclub, car-accident, 1990s, ...   \n",
       "1  visual-agnosia, brother-sister-relationship, r...   \n",
       "2  good-versus-evil, heroine, evil-man, villain, ...   \n",
       "3  television-industry, african-american, referen...   \n",
       "4  rug, nihilism, pornographer, bowling-alley, de...   \n",
       "\n",
       "                                genres  \\\n",
       "0               Comedy, Music, Romance   \n",
       "1                       Drama, Romance   \n",
       "2  Action, Adventure, Sci-Fi, Thriller   \n",
       "3                 Comedy, Drama, Music   \n",
       "4                 Comedy, Crime, Sport   \n",
       "\n",
       "                                            taglines  \\\n",
       "0                                             Score!   \n",
       "1  Only Love Can Bring You To Your Senses., Scien...   \n",
       "2  Mrs. Peel, we're needed., Extraordinary crimes...   \n",
       "3                   Starring the great negroe actors   \n",
       "4  Hay quienes tratan de ganarse la vida sin move...   \n",
       "\n",
       "                                            synopsis  \\\n",
       "0                                                NaN   \n",
       "1                                                NaN   \n",
       "2                                                NaN   \n",
       "3  In a New York City residence, Pierre Delacroix...   \n",
       "4  A tumbleweed rolls up a hillside just outside ...   \n",
       "\n",
       "                                    annot_screenplay  \n",
       "0  dialog: \\ntext: A NIGHT AT THE ROXBURY\\ndialog...  \n",
       "1  scene_heading: AT FIRST SIGHT\\nscene_heading: ...  \n",
       "2  dialog: \\nspeaker_heading: THE AVENGERS\\ndialo...  \n",
       "3  dialog: Bamboozled\\ndialog: by\\ndialog: Spike ...  \n",
       "4  dialog: \\nscene_heading: THE BIG LEBOWSKI\\ntex...  \n",
       "\n",
       "[5 rows x 26 columns]"
      ]
     },
     "execution_count": 20,
     "metadata": {},
     "output_type": "execute_result"
    }
   ],
   "source": [
    "df.head()"
   ]
  },
  {
   "cell_type": "markdown",
   "metadata": {},
   "source": [
    "## 1.1 Analyze labels"
   ]
  },
  {
   "cell_type": "code",
   "execution_count": 19,
   "metadata": {},
   "outputs": [],
   "source": [
    "def find_unique_labels(json):\n",
    "    unique_labels = {key for d in json for key in d.keys()}\n",
    "    return unique_labels\n",
    "\n",
    "unique_labels_series = screenplay_jsons.apply(find_unique_labels)"
   ]
  },
  {
   "cell_type": "markdown",
   "metadata": {},
   "source": [
    "### 1.1.1 Find and drop rows where data is empty"
   ]
  },
  {
   "cell_type": "code",
   "execution_count": 21,
   "metadata": {},
   "outputs": [
    {
     "name": "stdout",
     "output_type": "stream",
     "text": [
      "[{'speaker_heading', 'dialog', 'text'}, {'dialog', 'scene_heading', 'text'}, set(), set(), set()]\n"
     ]
    }
   ],
   "source": [
    "unequal_length = []\n",
    "for series in unique_labels_series:\n",
    "    if len(series) != 4:\n",
    "        unequal_length.append(series)\n",
    "\n",
    "print(unequal_length)"
   ]
  },
  {
   "cell_type": "code",
   "execution_count": 22,
   "metadata": {},
   "outputs": [],
   "source": [
    "# some annotations have only three labels, which is fine, but others appear to be empty, which we should investigate\n",
    "empty_series = []\n",
    "for idx, series in enumerate(unique_labels_series):\n",
    "    if len(series) == 0:\n",
    "        empty_series.append(idx)"
   ]
  },
  {
   "cell_type": "code",
   "execution_count": 23,
   "metadata": {},
   "outputs": [
    {
     "data": {
      "text/html": [
       "<div>\n",
       "<style scoped>\n",
       "    .dataframe tbody tr th:only-of-type {\n",
       "        vertical-align: middle;\n",
       "    }\n",
       "\n",
       "    .dataframe tbody tr th {\n",
       "        vertical-align: top;\n",
       "    }\n",
       "\n",
       "    .dataframe thead th {\n",
       "        text-align: right;\n",
       "    }\n",
       "</style>\n",
       "<table border=\"1\" class=\"dataframe\">\n",
       "  <thead>\n",
       "    <tr style=\"text-align: right;\">\n",
       "      <th></th>\n",
       "      <th>imdbid</th>\n",
       "      <th>title</th>\n",
       "      <th>akas</th>\n",
       "      <th>year</th>\n",
       "      <th>metascore</th>\n",
       "      <th>imdb user rating</th>\n",
       "      <th>number of imdb user votes</th>\n",
       "      <th>awards</th>\n",
       "      <th>opening weekend</th>\n",
       "      <th>producers</th>\n",
       "      <th>...</th>\n",
       "      <th>cast</th>\n",
       "      <th>countries</th>\n",
       "      <th>age restrict</th>\n",
       "      <th>plot</th>\n",
       "      <th>plot outline</th>\n",
       "      <th>keywords</th>\n",
       "      <th>genres</th>\n",
       "      <th>taglines</th>\n",
       "      <th>synopsis</th>\n",
       "      <th>annot_screenplay</th>\n",
       "    </tr>\n",
       "  </thead>\n",
       "  <tbody>\n",
       "    <tr>\n",
       "      <th>1034</th>\n",
       "      <td>1837703</td>\n",
       "      <td>The Fifth Estate</td>\n",
       "      <td>The 5ifth Estate (United States), The Man Who ...</td>\n",
       "      <td>2013</td>\n",
       "      <td>49</td>\n",
       "      <td>6</td>\n",
       "      <td>38595</td>\n",
       "      <td>Britannia Award 2013, COFCA Award 2014, Audien...</td>\n",
       "      <td>United States:</td>\n",
       "      <td>Leifur B. Dagfinnsson, Hilde De Laere, Steve G...</td>\n",
       "      <td>...</td>\n",
       "      <td>Peter Capaldi, David Thewlis, Anatole Taubman,...</td>\n",
       "      <td>United States, India, Belgium</td>\n",
       "      <td>Argentina:13, Australia:M, Canada:PG::(British...</td>\n",
       "      <td>A dramatic thriller based on real events that ...</td>\n",
       "      <td>The story begins as WikiLeaks founder Julian A...</td>\n",
       "      <td>internet, pantyhose, red-pantyhose, female-sto...</td>\n",
       "      <td>Biography, Crime, Drama, Thriller</td>\n",
       "      <td>You can't expose the world's secrets without e...</td>\n",
       "      <td>NaN</td>\n",
       "      <td></td>\n",
       "    </tr>\n",
       "    <tr>\n",
       "      <th>1477</th>\n",
       "      <td>99892</td>\n",
       "      <td>Joe Versus the Volcano</td>\n",
       "      <td>Joe contre le volcan (France), Joe gegen den V...</td>\n",
       "      <td>1990</td>\n",
       "      <td>45</td>\n",
       "      <td>5</td>\n",
       "      <td>34277</td>\n",
       "      <td>Felix 2011</td>\n",
       "      <td>United States:</td>\n",
       "      <td>Kathleen Kennedy, Frank Marshall, Roxanne Roge...</td>\n",
       "      <td>...</td>\n",
       "      <td>Tom Hanks, Meg Ryan, Lloyd Bridges, Robert Sta...</td>\n",
       "      <td>United States</td>\n",
       "      <td>Argentina:13, Australia:PG, Canada:PG, Canada:...</td>\n",
       "      <td>When a hypochondriac learns that he is dying, ...</td>\n",
       "      <td>Joe versus the Volcano is a fable which opens ...</td>\n",
       "      <td>tom-hanks, surrealism, terminal-illness, suici...</td>\n",
       "      <td>Comedy, Romance</td>\n",
       "      <td>An Average Joe. An Adventurous Comedy., A stor...</td>\n",
       "      <td>NaN</td>\n",
       "      <td></td>\n",
       "    </tr>\n",
       "    <tr>\n",
       "      <th>1639</th>\n",
       "      <td>4364194</td>\n",
       "      <td>The Peanut Butter Falcon</td>\n",
       "      <td>Le Cri du faucon (France), La familia que tú e...</td>\n",
       "      <td>2019</td>\n",
       "      <td>70</td>\n",
       "      <td>7</td>\n",
       "      <td>61007</td>\n",
       "      <td>AFCA Award 2020, Audience Award 2019, Special ...</td>\n",
       "      <td>United States:</td>\n",
       "      <td>Albert Berger, Carmella Casinelli, Manu Gargi,...</td>\n",
       "      <td>...</td>\n",
       "      <td>Zack Gottsagen, Ann Owens, Dakota Johnson, Bru...</td>\n",
       "      <td>United States</td>\n",
       "      <td>Australia:M, Austria:10, Belgium:KT/EA, Canada...</td>\n",
       "      <td>Zak runs away from his care home to make his d...</td>\n",
       "      <td>The Peanut Butter Falcon is an adventure story...</td>\n",
       "      <td>down-syndrome, wrestling, friendship, bare-che...</td>\n",
       "      <td>Adventure, Comedy, Drama</td>\n",
       "      <td>NaN</td>\n",
       "      <td>NaN</td>\n",
       "      <td></td>\n",
       "    </tr>\n",
       "  </tbody>\n",
       "</table>\n",
       "<p>3 rows × 26 columns</p>\n",
       "</div>"
      ],
      "text/plain": [
       "       imdbid                     title  \\\n",
       "1034  1837703          The Fifth Estate   \n",
       "1477    99892    Joe Versus the Volcano   \n",
       "1639  4364194  The Peanut Butter Falcon   \n",
       "\n",
       "                                                   akas  year  metascore  \\\n",
       "1034  The 5ifth Estate (United States), The Man Who ...  2013         49   \n",
       "1477  Joe contre le volcan (France), Joe gegen den V...  1990         45   \n",
       "1639  Le Cri du faucon (France), La familia que tú e...  2019         70   \n",
       "\n",
       "      imdb user rating  number of imdb user votes  \\\n",
       "1034                 6                      38595   \n",
       "1477                 5                      34277   \n",
       "1639                 7                      61007   \n",
       "\n",
       "                                                 awards  opening weekend  \\\n",
       "1034  Britannia Award 2013, COFCA Award 2014, Audien...  United States:    \n",
       "1477                                         Felix 2011  United States:    \n",
       "1639  AFCA Award 2020, Audience Award 2019, Special ...  United States:    \n",
       "\n",
       "                                              producers  ...  \\\n",
       "1034  Leifur B. Dagfinnsson, Hilde De Laere, Steve G...  ...   \n",
       "1477  Kathleen Kennedy, Frank Marshall, Roxanne Roge...  ...   \n",
       "1639  Albert Berger, Carmella Casinelli, Manu Gargi,...  ...   \n",
       "\n",
       "                                                   cast  \\\n",
       "1034  Peter Capaldi, David Thewlis, Anatole Taubman,...   \n",
       "1477  Tom Hanks, Meg Ryan, Lloyd Bridges, Robert Sta...   \n",
       "1639  Zack Gottsagen, Ann Owens, Dakota Johnson, Bru...   \n",
       "\n",
       "                          countries  \\\n",
       "1034  United States, India, Belgium   \n",
       "1477                  United States   \n",
       "1639                  United States   \n",
       "\n",
       "                                           age restrict  \\\n",
       "1034  Argentina:13, Australia:M, Canada:PG::(British...   \n",
       "1477  Argentina:13, Australia:PG, Canada:PG, Canada:...   \n",
       "1639  Australia:M, Austria:10, Belgium:KT/EA, Canada...   \n",
       "\n",
       "                                                   plot  \\\n",
       "1034  A dramatic thriller based on real events that ...   \n",
       "1477  When a hypochondriac learns that he is dying, ...   \n",
       "1639  Zak runs away from his care home to make his d...   \n",
       "\n",
       "                                           plot outline  \\\n",
       "1034  The story begins as WikiLeaks founder Julian A...   \n",
       "1477  Joe versus the Volcano is a fable which opens ...   \n",
       "1639  The Peanut Butter Falcon is an adventure story...   \n",
       "\n",
       "                                               keywords  \\\n",
       "1034  internet, pantyhose, red-pantyhose, female-sto...   \n",
       "1477  tom-hanks, surrealism, terminal-illness, suici...   \n",
       "1639  down-syndrome, wrestling, friendship, bare-che...   \n",
       "\n",
       "                                 genres  \\\n",
       "1034  Biography, Crime, Drama, Thriller   \n",
       "1477                    Comedy, Romance   \n",
       "1639           Adventure, Comedy, Drama   \n",
       "\n",
       "                                               taglines synopsis  \\\n",
       "1034  You can't expose the world's secrets without e...      NaN   \n",
       "1477  An Average Joe. An Adventurous Comedy., A stor...      NaN   \n",
       "1639                                                NaN      NaN   \n",
       "\n",
       "     annot_screenplay  \n",
       "1034                   \n",
       "1477                   \n",
       "1639                   \n",
       "\n",
       "[3 rows x 26 columns]"
      ]
     },
     "execution_count": 23,
     "metadata": {},
     "output_type": "execute_result"
    }
   ],
   "source": [
    "missing_imdbid = df.loc[empty_series, 'imdbid']\n",
    "df.loc[empty_series]"
   ]
  },
  {
   "cell_type": "markdown",
   "metadata": {},
   "source": [
    "If you look at the source data, you'll find the .txt files for these screenplays are simply empty.  We'll drop them."
   ]
  },
  {
   "cell_type": "code",
   "execution_count": 26,
   "metadata": {},
   "outputs": [
    {
     "data": {
      "text/html": [
       "<div>\n",
       "<style scoped>\n",
       "    .dataframe tbody tr th:only-of-type {\n",
       "        vertical-align: middle;\n",
       "    }\n",
       "\n",
       "    .dataframe tbody tr th {\n",
       "        vertical-align: top;\n",
       "    }\n",
       "\n",
       "    .dataframe thead th {\n",
       "        text-align: right;\n",
       "    }\n",
       "</style>\n",
       "<table border=\"1\" class=\"dataframe\">\n",
       "  <thead>\n",
       "    <tr style=\"text-align: right;\">\n",
       "      <th></th>\n",
       "      <th>imdbid</th>\n",
       "      <th>title</th>\n",
       "      <th>akas</th>\n",
       "      <th>year</th>\n",
       "      <th>metascore</th>\n",
       "      <th>imdb user rating</th>\n",
       "      <th>number of imdb user votes</th>\n",
       "      <th>awards</th>\n",
       "      <th>opening weekend</th>\n",
       "      <th>producers</th>\n",
       "      <th>...</th>\n",
       "      <th>cast</th>\n",
       "      <th>countries</th>\n",
       "      <th>age restrict</th>\n",
       "      <th>plot</th>\n",
       "      <th>plot outline</th>\n",
       "      <th>keywords</th>\n",
       "      <th>genres</th>\n",
       "      <th>taglines</th>\n",
       "      <th>synopsis</th>\n",
       "      <th>annot_screenplay</th>\n",
       "    </tr>\n",
       "  </thead>\n",
       "  <tbody>\n",
       "    <tr>\n",
       "      <th>0</th>\n",
       "      <td>120770</td>\n",
       "      <td>A Night at the Roxbury</td>\n",
       "      <td>Une nuit au Roxbury (France), Movida en el Rox...</td>\n",
       "      <td>1998</td>\n",
       "      <td>26</td>\n",
       "      <td>6</td>\n",
       "      <td>56537</td>\n",
       "      <td>NaN</td>\n",
       "      <td>United States:</td>\n",
       "      <td>Marie Cantin, Erin Fraser, Amy Heckerling, Ste...</td>\n",
       "      <td>...</td>\n",
       "      <td>Will Ferrell, Chris Kattan, Raquel Gardner, Vi...</td>\n",
       "      <td>United States</td>\n",
       "      <td>Argentina:13, Australia:M, Brazil:14, Canada:P...</td>\n",
       "      <td>Two dim-witted brothers dream of owning their ...</td>\n",
       "      <td>The Roxbury Guys, Steve and Doug Butabi, want ...</td>\n",
       "      <td>woman-on-top, nightclub, car-accident, 1990s, ...</td>\n",
       "      <td>Comedy, Music, Romance</td>\n",
       "      <td>Score!</td>\n",
       "      <td>NaN</td>\n",
       "      <td>dialog: \\ntext: A NIGHT AT THE ROXBURY\\ndialog...</td>\n",
       "    </tr>\n",
       "    <tr>\n",
       "      <th>1</th>\n",
       "      <td>132512</td>\n",
       "      <td>At First Sight</td>\n",
       "      <td>Sight Unseen (United States), Premier regard (...</td>\n",
       "      <td>1999</td>\n",
       "      <td>40</td>\n",
       "      <td>6</td>\n",
       "      <td>12922</td>\n",
       "      <td>NaN</td>\n",
       "      <td>United States:</td>\n",
       "      <td>Rob Cowan, Roger Paradiso, Irwin Winkler</td>\n",
       "      <td>...</td>\n",
       "      <td>Val Kilmer, Mira Sorvino, Kelly McGillis, Stev...</td>\n",
       "      <td>United States</td>\n",
       "      <td>Argentina:13, Australia:M, Canada:PG::(Alberta...</td>\n",
       "      <td>A blind man has an operation to regain his sig...</td>\n",
       "      <td>First Sight is true to the title from start to...</td>\n",
       "      <td>visual-agnosia, brother-sister-relationship, r...</td>\n",
       "      <td>Drama, Romance</td>\n",
       "      <td>Only Love Can Bring You To Your Senses., Scien...</td>\n",
       "      <td>NaN</td>\n",
       "      <td>scene_heading: AT FIRST SIGHT\\nscene_heading: ...</td>\n",
       "    </tr>\n",
       "    <tr>\n",
       "      <th>2</th>\n",
       "      <td>118661</td>\n",
       "      <td>The Avengers</td>\n",
       "      <td>Chapeau melon et bottes de cuir (France), Mit ...</td>\n",
       "      <td>1998</td>\n",
       "      <td>12</td>\n",
       "      <td>3</td>\n",
       "      <td>40784</td>\n",
       "      <td>FMCJ Award 1998, Golden Reel Award 1999, Razzi...</td>\n",
       "      <td>United States: $10,305,957, 16 Aug 1998</td>\n",
       "      <td>Susan Ekins, Jerry Weintraub</td>\n",
       "      <td>...</td>\n",
       "      <td>Ralph Fiennes, Uma Thurman, Sean Connery, Patr...</td>\n",
       "      <td>United States</td>\n",
       "      <td>Argentina:13, Australia:PG, Brazil:10, Canada:...</td>\n",
       "      <td>Two British Agents team up to stop Sir August ...</td>\n",
       "      <td>British Ministry Agent John Steed, under direc...</td>\n",
       "      <td>good-versus-evil, heroine, evil-man, villain, ...</td>\n",
       "      <td>Action, Adventure, Sci-Fi, Thriller</td>\n",
       "      <td>Mrs. Peel, we're needed., Extraordinary crimes...</td>\n",
       "      <td>NaN</td>\n",
       "      <td>dialog: \\nspeaker_heading: THE AVENGERS\\ndialo...</td>\n",
       "    </tr>\n",
       "    <tr>\n",
       "      <th>3</th>\n",
       "      <td>215545</td>\n",
       "      <td>Bamboozled</td>\n",
       "      <td>The Very Black Show (France), It's Showtime (G...</td>\n",
       "      <td>2000</td>\n",
       "      <td>54</td>\n",
       "      <td>6</td>\n",
       "      <td>10373</td>\n",
       "      <td>Golden Berlin Bear 2001, Black Reel 2001, Imag...</td>\n",
       "      <td>United States:</td>\n",
       "      <td>Jon Kilik, Spike Lee, Kisha Imani Cameron</td>\n",
       "      <td>...</td>\n",
       "      <td>Damon Wayans, Savion Glover, Jada Pinkett Smit...</td>\n",
       "      <td>United States</td>\n",
       "      <td>Australia:MA, Finland:K-15, France:Tous public...</td>\n",
       "      <td>A frustrated African-American TV writer propos...</td>\n",
       "      <td>Dark, biting satire of the television industry...</td>\n",
       "      <td>television-industry, african-american, referen...</td>\n",
       "      <td>Comedy, Drama, Music</td>\n",
       "      <td>Starring the great negroe actors</td>\n",
       "      <td>In a New York City residence, Pierre Delacroix...</td>\n",
       "      <td>dialog: Bamboozled\\ndialog: by\\ndialog: Spike ...</td>\n",
       "    </tr>\n",
       "    <tr>\n",
       "      <th>4</th>\n",
       "      <td>118715</td>\n",
       "      <td>The Big Lebowski</td>\n",
       "      <td>El gran Lebowski (Spain), O Grande Lebowski (P...</td>\n",
       "      <td>1998</td>\n",
       "      <td>71</td>\n",
       "      <td>8</td>\n",
       "      <td>724388</td>\n",
       "      <td>Honorable Mention 1998, ACCA 1998, Golden Berl...</td>\n",
       "      <td>United States: $5,533,844, 08 Mar 1998</td>\n",
       "      <td>Tim Bevan, John Cameron, Ethan Coen, Eric Fell...</td>\n",
       "      <td>...</td>\n",
       "      <td>Jeff Bridges, John Goodman, Julianne Moore, St...</td>\n",
       "      <td>United States, United Kingdom</td>\n",
       "      <td>Argentina:16, Argentina:18::(cable rating), Au...</td>\n",
       "      <td>Jeff \"The Dude\" Lebowski, mistaken for a milli...</td>\n",
       "      <td>When \"the dude\" Lebowski is mistaken for a mil...</td>\n",
       "      <td>rug, nihilism, pornographer, bowling-alley, de...</td>\n",
       "      <td>Comedy, Crime, Sport</td>\n",
       "      <td>Hay quienes tratan de ganarse la vida sin move...</td>\n",
       "      <td>A tumbleweed rolls up a hillside just outside ...</td>\n",
       "      <td>dialog: \\nscene_heading: THE BIG LEBOWSKI\\ntex...</td>\n",
       "    </tr>\n",
       "  </tbody>\n",
       "</table>\n",
       "<p>5 rows × 26 columns</p>\n",
       "</div>"
      ],
      "text/plain": [
       "   imdbid                   title  \\\n",
       "0  120770  A Night at the Roxbury   \n",
       "1  132512          At First Sight   \n",
       "2  118661            The Avengers   \n",
       "3  215545              Bamboozled   \n",
       "4  118715        The Big Lebowski   \n",
       "\n",
       "                                                akas  year  metascore  \\\n",
       "0  Une nuit au Roxbury (France), Movida en el Rox...  1998         26   \n",
       "1  Sight Unseen (United States), Premier regard (...  1999         40   \n",
       "2  Chapeau melon et bottes de cuir (France), Mit ...  1998         12   \n",
       "3  The Very Black Show (France), It's Showtime (G...  2000         54   \n",
       "4  El gran Lebowski (Spain), O Grande Lebowski (P...  1998         71   \n",
       "\n",
       "   imdb user rating  number of imdb user votes  \\\n",
       "0                 6                      56537   \n",
       "1                 6                      12922   \n",
       "2                 3                      40784   \n",
       "3                 6                      10373   \n",
       "4                 8                     724388   \n",
       "\n",
       "                                              awards  \\\n",
       "0                                                NaN   \n",
       "1                                                NaN   \n",
       "2  FMCJ Award 1998, Golden Reel Award 1999, Razzi...   \n",
       "3  Golden Berlin Bear 2001, Black Reel 2001, Imag...   \n",
       "4  Honorable Mention 1998, ACCA 1998, Golden Berl...   \n",
       "\n",
       "                           opening weekend  \\\n",
       "0                          United States:    \n",
       "1                          United States:    \n",
       "2  United States: $10,305,957, 16 Aug 1998   \n",
       "3                          United States:    \n",
       "4   United States: $5,533,844, 08 Mar 1998   \n",
       "\n",
       "                                           producers  ...  \\\n",
       "0  Marie Cantin, Erin Fraser, Amy Heckerling, Ste...  ...   \n",
       "1           Rob Cowan, Roger Paradiso, Irwin Winkler  ...   \n",
       "2                       Susan Ekins, Jerry Weintraub  ...   \n",
       "3          Jon Kilik, Spike Lee, Kisha Imani Cameron  ...   \n",
       "4  Tim Bevan, John Cameron, Ethan Coen, Eric Fell...  ...   \n",
       "\n",
       "                                                cast  \\\n",
       "0  Will Ferrell, Chris Kattan, Raquel Gardner, Vi...   \n",
       "1  Val Kilmer, Mira Sorvino, Kelly McGillis, Stev...   \n",
       "2  Ralph Fiennes, Uma Thurman, Sean Connery, Patr...   \n",
       "3  Damon Wayans, Savion Glover, Jada Pinkett Smit...   \n",
       "4  Jeff Bridges, John Goodman, Julianne Moore, St...   \n",
       "\n",
       "                       countries  \\\n",
       "0                  United States   \n",
       "1                  United States   \n",
       "2                  United States   \n",
       "3                  United States   \n",
       "4  United States, United Kingdom   \n",
       "\n",
       "                                        age restrict  \\\n",
       "0  Argentina:13, Australia:M, Brazil:14, Canada:P...   \n",
       "1  Argentina:13, Australia:M, Canada:PG::(Alberta...   \n",
       "2  Argentina:13, Australia:PG, Brazil:10, Canada:...   \n",
       "3  Australia:MA, Finland:K-15, France:Tous public...   \n",
       "4  Argentina:16, Argentina:18::(cable rating), Au...   \n",
       "\n",
       "                                                plot  \\\n",
       "0  Two dim-witted brothers dream of owning their ...   \n",
       "1  A blind man has an operation to regain his sig...   \n",
       "2  Two British Agents team up to stop Sir August ...   \n",
       "3  A frustrated African-American TV writer propos...   \n",
       "4  Jeff \"The Dude\" Lebowski, mistaken for a milli...   \n",
       "\n",
       "                                        plot outline  \\\n",
       "0  The Roxbury Guys, Steve and Doug Butabi, want ...   \n",
       "1  First Sight is true to the title from start to...   \n",
       "2  British Ministry Agent John Steed, under direc...   \n",
       "3  Dark, biting satire of the television industry...   \n",
       "4  When \"the dude\" Lebowski is mistaken for a mil...   \n",
       "\n",
       "                                            keywords  \\\n",
       "0  woman-on-top, nightclub, car-accident, 1990s, ...   \n",
       "1  visual-agnosia, brother-sister-relationship, r...   \n",
       "2  good-versus-evil, heroine, evil-man, villain, ...   \n",
       "3  television-industry, african-american, referen...   \n",
       "4  rug, nihilism, pornographer, bowling-alley, de...   \n",
       "\n",
       "                                genres  \\\n",
       "0               Comedy, Music, Romance   \n",
       "1                       Drama, Romance   \n",
       "2  Action, Adventure, Sci-Fi, Thriller   \n",
       "3                 Comedy, Drama, Music   \n",
       "4                 Comedy, Crime, Sport   \n",
       "\n",
       "                                            taglines  \\\n",
       "0                                             Score!   \n",
       "1  Only Love Can Bring You To Your Senses., Scien...   \n",
       "2  Mrs. Peel, we're needed., Extraordinary crimes...   \n",
       "3                   Starring the great negroe actors   \n",
       "4  Hay quienes tratan de ganarse la vida sin move...   \n",
       "\n",
       "                                            synopsis  \\\n",
       "0                                                NaN   \n",
       "1                                                NaN   \n",
       "2                                                NaN   \n",
       "3  In a New York City residence, Pierre Delacroix...   \n",
       "4  A tumbleweed rolls up a hillside just outside ...   \n",
       "\n",
       "                                    annot_screenplay  \n",
       "0  dialog: \\ntext: A NIGHT AT THE ROXBURY\\ndialog...  \n",
       "1  scene_heading: AT FIRST SIGHT\\nscene_heading: ...  \n",
       "2  dialog: \\nspeaker_heading: THE AVENGERS\\ndialo...  \n",
       "3  dialog: Bamboozled\\ndialog: by\\ndialog: Spike ...  \n",
       "4  dialog: \\nscene_heading: THE BIG LEBOWSKI\\ntex...  \n",
       "\n",
       "[5 rows x 26 columns]"
      ]
     },
     "execution_count": 26,
     "metadata": {},
     "output_type": "execute_result"
    }
   ],
   "source": [
    "df_clean = df.drop(empty_series)\n",
    "df_clean.head()"
   ]
  },
  {
   "cell_type": "code",
   "execution_count": 27,
   "metadata": {},
   "outputs": [],
   "source": [
    "screenplay_jsons.drop(empty_series, inplace=True)"
   ]
  },
  {
   "cell_type": "markdown",
   "metadata": {},
   "source": [
    "So we have 'scene_heading', 'speaker_heading', 'text' and 'dialog' labels.  Let's look at an example screenplay to see what might be worth removing. "
   ]
  },
  {
   "cell_type": "markdown",
   "metadata": {},
   "source": [
    "## 1.2 Flattening Contiguous Data"
   ]
  },
  {
   "cell_type": "markdown",
   "metadata": {},
   "source": [
    "In some cases we see the same sentences spread over different values, while key is the same.  The function below will find these contiguous values and flatten them into one value.  This will make sentence tokenization more meaningful later on. "
   ]
  },
  {
   "cell_type": "code",
   "execution_count": 28,
   "metadata": {},
   "outputs": [],
   "source": [
    "# we'll define a more general function this time that takes a key input\n",
    "def flatten_data(dict_list, key):\n",
    "    flattened_data = []\n",
    "    temp = ''\n",
    "    for d in dict_list:\n",
    "        if key in d:\n",
    "            temp += ' ' + d[key] if temp else d[key]\n",
    "        else:\n",
    "            # if a key other than input is encountered and temp is not empty\n",
    "            if temp:\n",
    "                # append the concatenated string to text list \n",
    "                flattened_data.append({key:temp})\n",
    "                # and reset temp \n",
    "                temp = ''\n",
    "            # append non text dict to list \n",
    "            flattened_data.append(d)\n",
    "    # after loop ends, concatenate what's left in temp if anything\n",
    "    if temp:\n",
    "        flattened_data.append({key:temp})\n",
    "    # and return concatenated list\n",
    "    return flattened_data"
   ]
  },
  {
   "cell_type": "code",
   "execution_count": 29,
   "metadata": {},
   "outputs": [],
   "source": [
    "del df, df_clean, ids, movie_titles, screenplays_annot, unique_labels_series, val"
   ]
  },
  {
   "cell_type": "code",
   "execution_count": 31,
   "metadata": {},
   "outputs": [],
   "source": [
    "screenplays_flat_txt = screenplay_jsons.apply(flatten_data, key='text')\n",
    "screenplays_flat = screenplays_flat_txt.apply(flatten_data, key='dialog')"
   ]
  },
  {
   "cell_type": "code",
   "execution_count": 32,
   "metadata": {},
   "outputs": [],
   "source": [
    "del screenplays_flat_txt"
   ]
  },
  {
   "cell_type": "code",
   "execution_count": 33,
   "metadata": {},
   "outputs": [],
   "source": [
    "del screenplay_jsons"
   ]
  },
  {
   "cell_type": "markdown",
   "metadata": {},
   "source": [
    "## 1.3 Removing 'speaker_heading'"
   ]
  },
  {
   "cell_type": "code",
   "execution_count": 30,
   "metadata": {},
   "outputs": [],
   "source": [
    "def decapitate_speakers(json_list):\n",
    "    decapitated = [d for d in json_list if not 'speaker_heading' in d]\n",
    "    return decapitated "
   ]
  },
  {
   "cell_type": "code",
   "execution_count": 34,
   "metadata": {},
   "outputs": [],
   "source": [
    "decapitated_screenplays = screenplays_flat.apply(decapitate_speakers)"
   ]
  },
  {
   "cell_type": "code",
   "execution_count": 35,
   "metadata": {},
   "outputs": [],
   "source": [
    "del screenplays_flat"
   ]
  },
  {
   "cell_type": "markdown",
   "metadata": {},
   "source": [
    "## 1.4 Remove empty strings and strings that are only punctuations "
   ]
  },
  {
   "cell_type": "code",
   "execution_count": 37,
   "metadata": {},
   "outputs": [],
   "source": [
    "# remove empty strings\n",
    "\n",
    "def remove_nulls(json_list):\n",
    "    non_nulls = []\n",
    "    for dict in json_list:\n",
    "        valid = True\n",
    "        for val in dict.values():\n",
    "            if val == '':\n",
    "                valid = False\n",
    "                break\n",
    "        if valid:\n",
    "            non_nulls.append(dict)\n",
    "    return non_nulls"
   ]
  },
  {
   "cell_type": "code",
   "execution_count": 38,
   "metadata": {},
   "outputs": [
    {
     "name": "stdout",
     "output_type": "stream",
     "text": [
      "[{'scene_heading': 'THE LAST OF THE MOHICANS'}, {'dialog': 'Written by Michael Mann &amp; Christopher Crowe'}, {'text': \"The screen is a microcosm of leaf, crystal drops of precipitation, a stone, emerald green moss. It's a landscape in miniature. We HEAR the forest. Some distant birds. Their sound seems to reverberate as if in a cavern. A piece of sunlight refracts within the drops of water, paints a patch of moss yellow. The whisper of wind is joined by another sound that mixes with it. A distant rustling. It gets closer and louder. It's shallow breathing. It gets ominous. We're interlopers on the floor of the forest and something is coming.\"}, {'scene_heading': 'SUDDENLY: A MOCCASINED FOOT'}, {'text': 'rockets through the frame scaring us and ...'}, {'scene_heading': 'EXTREMELY CLOSE: PART OF AN INDIAN FACE'}, {'text': \"running hard. His head shaved bald except for a scalp-lock. Tattoos. He's twenty-five. He seems tall and muscled. Heavy, even breathing. We'll learn later\"}, {'dialog': 'this man is UNCAS, the last of the Mohicans.'}, {'text': \"flash as he runs. One carries a flintlock musket. Sweat on the man's skin. A calico shirt is gathered at the waist with a wampum belt of small white beads over a breechcloth. He wears leggings to protect his legs. A long-handled tomahawk is stuffed in his belt.\"}, {'dialog': 'CUT TO ...'}, {'scene_heading': 'ANOTHER PART OF THE FOREST - MASSIVE WAR CLUB - DAY'}, {'text': \"in the hand of another running man. He's heavier, older ...\"}, {'text': \"A green bear claw is tattooed there. Silver armband. A snake is tattooed over his left eyebrow. Silver rings in his ear. He's forty to forty-five. His head is\"}, {'dialog': 'shaved into a scalp-lock. It says: \"Come and lift this from me. Take it, if you can ...\" That prospect strikes us as extremely unlikely. This man is'}, {'dialog': 'The French call him \"Le Gros Serpent,\" the Great Snake, because \"he knows the winding ways of men\\'s nature and he can strike a sudden, deathly blow.\"'}, {'scene_heading': 'WIDE ANGLE: CHINGACHGOOK'}, {'text': \"runs, disturbing no leaves, no branches; making no sound. He's running parallel to Uncas through the cathedral of mature forest. It's heavily canopied. There's very little brush. The girth of the trees is huge. Shafts of light illuminate motes of dust and turn leaves emerald where the sun breaks through. Sometimes there's ferns; rhododendron, sometimes pale grass and outcroppings of rock. These men run the forest streams, over boulders, fallen trees and down into ravines as if they own them. They do.\"}, {'dialog': 'CUT TO ...'}, {'scene_heading': 'ANOTHER PART OF THE FOREST - LONG BLACK HAIR - DAY'}, {'text': 'rocketing through trees. His torn buckskin shirt is tied at the waist with a wampum belt holding a tomahawk and a large knife. A long rifle in which is carved the name \"Killdeer\" is in his right fist. Indian tattooing on his chest. His name is NATHANIEL POE. He\\'s a few years older than Uncas. The French and \\tthe French-speaking tribes know him as La Longue Carabine (Long Rifle). Other'}, {'dialog': 'frontiersmen in New York colony and the Iroquois and Delaware-speaking tribes'}, {'text': 'know him as Hawkeye. Sweat stains his shirt. He flashes through the tree branches disturbing nothing. Making no sound.'}, {'scene_heading': \"HAWKEYE'S POV: A PIECE OF TAN\"}, {'text': 'two hundred and fifty yards away, a few square inches buried in the foliage ...'}, {'scene_heading': 'SUDDENLY HE STOPS'}, {'text': \"Killdeer's at his shoulder ...\"}, {'text': 'cocks the lock holding the piece of flint: click.'}, {'text': 'stops dead, holding out his hand ... no sound.'}, {'text': 'slips through young trees and stops, shouldering his smoothbore musket. Is this'}, {'dialog': 'an ambush?'}, {'scene_heading': \"HAWKEYE'S POV: RACK FOCUS THROUGH THE GUN SIGHT\"}, {'text': \"Five feet and fourteen pounds of rifle is elevated a half inch and shifted left, off target. It's a precise, smooth movement. No human quiver.\"}, {'dialog': 'tighter ...'}, {'text': 'holding the flint hits the iron file of the frizzen, shooting sparks into the pan of priming powder which flashes and ...'}, {'text': 'is a huge elk that leaps at the sound.'}, {'text': 'CRACKS like lightning.'}, {'text': 'leaps where the .59 caliber round was programmed to intercept him. On the moment'}, {'dialog': 'of impact ...'}, {'text': \"three men approach the fallen elk and each other. We realize they're hunting together. Hawkeye steps aside for Chingachgook. His massive war club is flat and angles to one side with a stabbing blade. Hawkeye is stepson and stepbrother. The two younger men treat Chingachgook with an easy deference and affection.\"}, {'dialog': \"Hawkeye's a dialectic of two cultures. In his coloration and worldliness he's\"}, {'text': \"more the Anglo-Saxon frontiersman. In his independent views and candid manner and in his combat skills and woodsmanship, he's more native American (Mohican). As Chingachgook takes out his long knife and they approach the fallen elk ...]\"}, {'dialog': \"(low Mohican; sub-titled) We're sorry to kill you, Brother. Forgive us. I do honor to your courage and speed, your strength ... CUT TO ...\"}, {'scene_heading': 'EXTERIOR - INTERIOR CAMERON CABIN - JOHN CAMERON - NIGHT'}, {'text': 'roasts potatoes on a stick in the stone fireplace next to CAPTAIN JACK WINTHROP, an American in very worn quasi-military gear. On a rough table in the tiny cabin ALEXANDRIA, his wife, is kneading bread. Three children climb on their father. He grabs their wild seven year old son, JAMES, who shrieks laughter and dodges away. The cabin has two primitive rooms, waxed paper windows, log walls. O.S. a dog barks. Others pick it up. Cameron &amp; Jack are suddenly alert, reaching for'}, {'dialog': 'weapons ... CUT TO ...'}, {'scene_heading': 'EXTERIOR CAMERON CABIN, DOORWAY - CAMERON - NIGHT'}, {'text': 'appears warily, musket in hand.'}, {'scene_heading': 'FENCE: CHINGACHGOOK'}, {'dialog': 'Halloo! John Cameron!'}, {'text': 'Doorway: Cameron towards the interior ...'}, {'dialog': 'Alexandria! Set three more places. (to the fence) How is Chingachgook, then?'}, {'text': 'Behind him, emerging from the dark trees are Hawkeye, Uncas, cradling flint locks, blankets and packs over their shoulders, leading a mule laden with skins and the elk carcass. Crossing the splitrail fence ...'}, {'dialog': 'The Master of Life is good. Another year pass ... How is it with you, John?'}, {'dialog': \"Gettin' along. Yes, it is. (warm) Nathaniel.\"}, {'dialog': 'Hello John. Cleared another quarter, I see.'}, {'dialog': '(shakes hands with Uncas) Yes, I did.'}, {'text': \"tears past his father &amp; runs full bore. Just before he's going to collide into Uncas, he leaps into the air and Uncas snatches him with one hand and swings him up onto his shoulders. The kid screams with delight and rides back towards the cabin that way. Alexandria comes to the door.\"}, {'dialog': 'CUT TO ...'}, {'scene_heading': 'INTERIOR CABIN - CHINGACHGOOK - EVENING (LATER)'}, {'text': 'lights &amp; smokes a clay pipe. The scene says: this is a rustic, frontier home and'}, {'dialog': 'these people have known each other &amp; live in dangerous circumstances.'}, {'dialog': 'If Uncas is with you, that means he has not found a woman and started a family yet.'}, {'dialog': 'Your eyes are too sharp, Alexandria Cameron. They see into my heart.'}, {'dialog': 'Your farm good to you this year, John?'}, {'dialog': 'It was a good year for corn.'}, {'dialog': 'Mohawk field we saw was 5 mile long on'}, {'text': \"the river. Chief Joseph Brandt's field.\"}, {'dialog': 'You take much fur?'}, {'dialog': 'That we did. John. But the horicane (sic)'}, {'text': 'is near trapped out.'}, {'dialog': \"Tradin' your skins in Castleton?\"}, {'dialog': 'No, Schylerville. With the Dutch for silver. French &amp; English want to buy with wampum &amp; brandy. Pause, then ...'}, {'dialog': 'So what is it, Jack? What brings you up here?'}, {'text': \"A French &amp; Indian army out of Fort Carillon's\"}, {'dialog': \"heading south to war against the English. I'm here to raise this county's militia to aid the British defense.\"}, {'dialog': \"Folks here goin' to join in that fight?\"}, {'dialog': \"We'll see in the morning ...\"}, {'dialog': \"Fathers of England &amp; France, both, take more land, furs, than they need. They're cold &amp; full of greed ...\"}, {'dialog': \"Few'd deny that? Where you headin'?\"}, {'dialog': 'Trap over the fall and winter among the Delawares in Can-tuck-ee.'}, {'dialog': 'So I can find a woman and make Mohican children so our father will leave my brother &amp; me in peace.'}, {'text': 'Alexandria laughs. So do Hawkeye &amp; Chingachgook.'}, {'dialog': 'A son like me?'}, {'text': 'Uncas grabs James &amp; suspends him upside down.'}, {'dialog': 'No. You are too strong. Turn me old too fast!'}, {'text': \"Hawkeye grabs the kid from Uncas. The kid's laughing &amp; can't stay still. Chingachgook watches, content, smoking his clay pipe.\"}, {'dialog': \"That's what he's doin' to his mama ...\"}, {'text': \"She ruffles his hair and lifts the heavy iron pot off the tibbet. Uncas goes to help her, she shrugs his hand away and carries it to the table herself. The men gather around. There's pan-baked bread, a dish of salt, and the pot has venison and yellow cornmeal in a kind of stew. Everyone waits.\"}, {'dialog': \"Dear Father, thank you for rewardin' the fruits of our labor with plenty. Amen.\"}, {'text': 'As they start to eat ...'}, {'dialog': 'CUT TO ...'}, {'scene_heading': 'EXTERIOR CAMERON CABIN - MOHAWK BOY &amp; JAMES CAMERON - MORNING'}, {'text': \"slam into other kids as they battle through a Lacrosse game. In the background are sixty men, women and children. It's a community gathering held out of doors. We've entered mid-scene. Captain Jack is standing on a box. Some women and kids mill around some tables and boards laid over barrels. Cooking fires. Smoke. Most but not all around Captain Jack are men, nine settlers, 3 hunter/trappers, eight Mohawk farmers in mixed European and native clothing. Off to the side are an English Lieutenant on horseback and a ten-man escort from whatever regiment's in Albany. A man named HENRI speaks in French. His son, MARTIN, translates.\"}, {'dialog': '(O.S. in French)'}, {'dialog': '(translates) My father says he was driven out of France by the black robe priests and he would fight them now but he lost his arm and so I will go in his place. Meanwhile ...'}, {'text': 'is an unusually large Mohawk in a blue match coat with a little girl holding his hand. He says something to Chingachgook who nods. Hawkeye and Uncas are a little apart in an outer grouping of the men. Ongewasgone is a war chief and wears a white plume and is tattooed. As Martin finishes, he steps forward.'}, {'dialog': 'John Cameron, thank you for your hospitality ... Twin River Mohawk got no quarrel with Les Francais. Trade furs with Les Francais. Now Les Francais bring Huron onto Mohawk hunting grounds ... These people are English, Scots-Irish and Dutch farmers; some French Huguenot'}, {'text': '\"mechanics\" (craftsmen). They\\'re in shirt-sleeves and Indian moccasins &amp; leggings. The'}, {'dialog': \"Mohawks' vast lands and corn agriculture border the settlement. They 've been\"}, {'text': \"acculturated for over a hundred years. Some wear European calico hunting shirts. Their heads are shaved to scalping locks and many are tattooed. They've politically and\"}]\n"
     ]
    }
   ],
   "source": [
    "# apply to all data \n",
    "screenplays_nonna = decapitated_screenplays.apply(remove_nulls)\n",
    "print(screenplays_nonna[10][:100])"
   ]
  },
  {
   "cell_type": "code",
   "execution_count": 39,
   "metadata": {},
   "outputs": [],
   "source": [
    "del decapitated_screenplays"
   ]
  },
  {
   "cell_type": "markdown",
   "metadata": {},
   "source": [
    "## 1.5 Delete 'CUT' "
   ]
  },
  {
   "cell_type": "code",
   "execution_count": 41,
   "metadata": {},
   "outputs": [],
   "source": [
    "def delete_cuts(dict_list):\n",
    "    # empty list for filtered dicts\n",
    "    dicts_uncut = []\n",
    "    for d in dict_list:\n",
    "        # if none of the values in the dict match 'CUT'\n",
    "        if all(not re.search(r'CUT', str(val), flags=re.IGNORECASE) for val in d.values()):\n",
    "            # then append to list\n",
    "            dicts_uncut.append(d)\n",
    "    return dicts_uncut "
   ]
  },
  {
   "cell_type": "code",
   "execution_count": 42,
   "metadata": {},
   "outputs": [
    {
     "name": "stdout",
     "output_type": "stream",
     "text": [
      "avg length before: 1853.7062656641604\n",
      "avg_length_after: 1835.842105263158\n"
     ]
    }
   ],
   "source": [
    "screenplays_uncut = screenplays_nonna.apply(delete_cuts)"
   ]
  },
  {
   "cell_type": "code",
   "execution_count": 43,
   "metadata": {},
   "outputs": [],
   "source": [
    "del screenplays_nonna"
   ]
  },
  {
   "cell_type": "markdown",
   "metadata": {},
   "source": [
    "## 1.6 Sentence Tokenization"
   ]
  },
  {
   "cell_type": "markdown",
   "metadata": {},
   "source": [
    "We'll sentence tokenize the values first before removing punctuation marks etc. "
   ]
  },
  {
   "cell_type": "code",
   "execution_count": 44,
   "metadata": {},
   "outputs": [],
   "source": [
    "import nltk\n",
    "from nltk.tokenize import sent_tokenize"
   ]
  },
  {
   "cell_type": "code",
   "execution_count": 45,
   "metadata": {},
   "outputs": [],
   "source": [
    "# define as a general function\n",
    "def sent_tokenize_dicts(dict_list):\n",
    "\n",
    "    sentence_dicts = []\n",
    "\n",
    "    for d in dict_list:\n",
    "        # empty dict for storing result \n",
    "        sents_dict = {}\n",
    "        for key, value in d.items():\n",
    "            sents_dict[key] = sent_tokenize(value)\n",
    "            sentence_dicts.append(sents_dict)\n",
    "    \n",
    "    return sentence_dicts"
   ]
  },
  {
   "cell_type": "code",
   "execution_count": 46,
   "metadata": {},
   "outputs": [],
   "source": [
    "# apply all \n",
    "screenplay_sents = screenplays_uncut.apply(sent_tokenize_dicts)"
   ]
  },
  {
   "cell_type": "code",
   "execution_count": 47,
   "metadata": {},
   "outputs": [
    {
     "name": "stdout",
     "output_type": "stream",
     "text": [
      "{'text': ['TEN THINGS I HATE ABOUT YOU']}\n",
      "{'dialog': ['written by Karen McCullah Lutz &amp; Kirsten Smith  based on \\'Taming of the Shrew\" by William Shakespeare  Revision November 12, 1997']}\n",
      "{'scene_heading': ['PADUA HIGH SCHOOL - DAY']}\n",
      "{'dialog': ['Welcome to Padua High School,, your typical urban-suburban high school in Portland, Oregon.', 'Smarties, Skids, Preppies,']}\n",
      "{'text': ['Granolas.', 'Loners, Lovers, the In and the Out Crowd rub sleep out of their eyes and head for the main building.']}\n",
      "{'scene_heading': ['PADUA HIGH PARKING LOT - DAY']}\n",
      "{'text': [\"KAT STRATFORD, eighteen, pretty -- but trying hard not to be -- in a baggy granny dress and glasses, balances a cup of coffee and a backpack as she climbs out of her battered, baby blue '75 Dodge Dart.\"]}\n",
      "{'text': ['A stray SKATEBOARD clips her, causing her to stumble and spill her coffee, as well as the contents of her backpack.']}\n",
      "{'text': ['The young RIDER dashes over to help, trembling when he sees who his board has hit.']}\n",
      "{'dialog': ['Hey -- sorry.']}\n"
     ]
    }
   ],
   "source": [
    "print_first_lines(screenplay_sents[50], 10)"
   ]
  },
  {
   "cell_type": "code",
   "execution_count": 50,
   "metadata": {},
   "outputs": [],
   "source": [
    "del screenplays_uncut"
   ]
  },
  {
   "cell_type": "markdown",
   "metadata": {},
   "source": [
    "## 1.7 Label Encoding"
   ]
  },
  {
   "cell_type": "markdown",
   "metadata": {},
   "source": [
    "At this point we're going to encode our labels just to save on memory. "
   ]
  },
  {
   "cell_type": "code",
   "execution_count": 49,
   "metadata": {},
   "outputs": [],
   "source": [
    "label_map = {\n",
    "    'scene_heading': np.int8(0),\n",
    "    'text': np.int8(1),\n",
    "    'dialog': np.int8(2)\n",
    "}"
   ]
  },
  {
   "cell_type": "code",
   "execution_count": 51,
   "metadata": {},
   "outputs": [
    {
     "name": "stdout",
     "output_type": "stream",
     "text": [
      "[{1: ['A NIGHT AT THE ROXBURY']}, {2: ['written by Steve Koren Will Ferrell & Chris Kattan June 2, 1997']}, {0: ['EXT.', 'PANORAMIC VIEW OF LOS ANGELES - SUNSET']}, {1: ['As we hear \"What is Love\" by HADDAWAY -- night falls and partytime begins.']}, {0: ['SUPERIMPOSE: SUNSET BLVD., 11:03 PM']}, {0: ['EXT.', 'DANCE CLUBS - NIGHT']}, {2: ['Coconut Teaser, The Palace, The Roxbury, Tatou, etc.']}, {0: ['INT.', 'DANCE CLUBS- QUICK SHOTS - NIGHT']}, {1: ['Of random dancers -- gyrating, flirting, making out, drinking.']}, {0: ['INT.', 'PALACE - NIGHT']}]\n"
     ]
    }
   ],
   "source": [
    "# define as function and apply all \n",
    "\n",
    "def encode_labels(dict_list):\n",
    "    encoded_list = []\n",
    "    for d in dict_list:\n",
    "        encoded_dict = {label_map[key]: value for key, value in d.items()}\n",
    "        encoded_list.append(encoded_dict)\n",
    "    return encoded_list\n",
    "\n",
    "screenplays_encoded = screenplay_sents.apply(encode_labels)\n",
    "print(screenplays_encoded[0][:10])"
   ]
  },
  {
   "cell_type": "code",
   "execution_count": 53,
   "metadata": {},
   "outputs": [],
   "source": [
    "del screenplay_sents"
   ]
  },
  {
   "cell_type": "markdown",
   "metadata": {},
   "source": [
    "## 1.8 Sentence Cleaning"
   ]
  },
  {
   "cell_type": "markdown",
   "metadata": {},
   "source": [
    "We can remove all sentences which contain only EXT/INT"
   ]
  },
  {
   "cell_type": "code",
   "execution_count": 52,
   "metadata": {},
   "outputs": [],
   "source": [
    "def remove_location(dict_list):\n",
    "    for d in dict_list:\n",
    "        for key, value in d.items():\n",
    "            d[key] = [sent for sent in value if sent not in ['EXT.', 'INT.', 'ext.', 'int.']]\n",
    "    return dict_list"
   ]
  },
  {
   "cell_type": "code",
   "execution_count": 54,
   "metadata": {},
   "outputs": [
    {
     "name": "stdout",
     "output_type": "stream",
     "text": [
      "[{0: ['THE LAST OF THE MOHICANS']}, {2: ['Written by Michael Mann &amp; Christopher Crowe']}, {1: ['The screen is a microcosm of leaf, crystal drops of precipitation, a stone, emerald green moss.', \"It's a landscape in miniature.\", 'We HEAR the forest.', 'Some distant birds.', 'Their sound seems to reverberate as if in a cavern.', 'A piece of sunlight refracts within the drops of water, paints a patch of moss yellow.', 'The whisper of wind is joined by another sound that mixes with it.', 'A distant rustling.', 'It gets closer and louder.', \"It's shallow breathing.\", 'It gets ominous.', \"We're interlopers on the floor of the forest and something is coming.\"]}, {0: ['SUDDENLY: A MOCCASINED FOOT']}, {1: ['rockets through the frame scaring us and ...']}, {0: ['EXTREMELY CLOSE: PART OF AN INDIAN FACE']}, {1: ['running hard.', 'His head shaved bald except for a scalp-lock.', 'Tattoos.', \"He's twenty-five.\", 'He seems tall and muscled.', 'Heavy, even breathing.', \"We'll learn later\"]}, {2: ['this man is UNCAS, the last of the Mohicans.']}, {1: ['flash as he runs.', 'One carries a flintlock musket.', \"Sweat on the man's skin.\", 'A calico shirt is gathered at the waist with a wampum belt of small white beads over a breechcloth.', 'He wears leggings to protect his legs.', 'A long-handled tomahawk is stuffed in his belt.']}, {0: ['ANOTHER PART OF THE FOREST - MASSIVE WAR CLUB - DAY']}]\n"
     ]
    }
   ],
   "source": [
    "# apply all\n",
    "screenplays_unlocated = screenplays_encoded.apply(remove_location)\n",
    "print(screenplays_unlocated[10][:10])"
   ]
  },
  {
   "cell_type": "code",
   "execution_count": 56,
   "metadata": {},
   "outputs": [],
   "source": [
    "del screenplays_encoded"
   ]
  },
  {
   "cell_type": "code",
   "execution_count": 55,
   "metadata": {},
   "outputs": [
    {
     "name": "stdout",
     "output_type": "stream",
     "text": [
      "{2: ['Written by Jon Lucas &amp; Scott Moore July 31, 2009']}\n",
      "{0: ['OPEN ON: PEACEFUL BLACK STILLNESS']}\n",
      "{1: ['Then we hear a baby SCREAM BLOODY MURDER.', 'Then a second baby joins in, even more shrill than the first.', 'Finally, we hear']}\n",
      "{2: ['the worst two words a parent can ever hear:']}\n",
      "{2: ['Your turn.']}\n",
      "{2: ['Fuck.']}\n",
      "{0: ['SUBURBAN HOUSE -- NIGHT']}\n",
      "{1: ['DAVE LOCKWOOD, 30, bleary-eyed father of three, shuffles through his well-appointed suburban home, passing a grandfather clock reading 3:45.', 'He stumbles over a TOY GIRAFFE -- it SQUEAKS, and Dave sleepily mumbles:']}\n",
      "{2: ['Sorry Hank.']}\n",
      "{0: ['NURSERY-- NIGHT']}\n"
     ]
    }
   ],
   "source": [
    "print_first_lines(screenplays_unlocated[200], 10)"
   ]
  },
  {
   "cell_type": "markdown",
   "metadata": {},
   "source": [
    "## 1.9 Word Token Processing"
   ]
  },
  {
   "cell_type": "code",
   "execution_count": 57,
   "metadata": {},
   "outputs": [],
   "source": [
    "from nltk.tokenize import word_tokenize\n",
    "\n",
    "def word_tokenize_dicts(dict_list):\n",
    "    # iterate through dict list\n",
    "    for d in dict_list:\n",
    "        # iterate through keys and values \n",
    "        for key, value in d.items():\n",
    "            d[key] = [word_tokenize(sent) for sent in value]\n",
    "    return dict_list"
   ]
  },
  {
   "cell_type": "markdown",
   "metadata": {},
   "source": [
    "unfortunate that we're now dealing with lists of dicts of lists of lists :/  but not sure how to remedy that without losing sentence boundaries"
   ]
  },
  {
   "cell_type": "code",
   "execution_count": 58,
   "metadata": {},
   "outputs": [
    {
     "name": "stdout",
     "output_type": "stream",
     "text": [
      "{1: [['A', 'NIGHT', 'AT', 'THE', 'ROXBURY']]}\n",
      "{2: [['written', 'by', 'Steve', 'Koren', 'Will', 'Ferrell', '&', 'Chris', 'Kattan', 'June', '2', ',', '1997']]}\n",
      "{0: [['PANORAMIC', 'VIEW', 'OF', 'LOS', 'ANGELES', '-', 'SUNSET']]}\n",
      "{1: [['As', 'we', 'hear', '``', 'What', 'is', 'Love', \"''\", 'by', 'HADDAWAY', '--', 'night', 'falls', 'and', 'partytime', 'begins', '.']]}\n",
      "{0: [['SUPERIMPOSE', ':', 'SUNSET', 'BLVD.', ',', '11:03', 'PM']]}\n",
      "{0: [['DANCE', 'CLUBS', '-', 'NIGHT']]}\n",
      "{2: [['Coconut', 'Teaser', ',', 'The', 'Palace', ',', 'The', 'Roxbury', ',', 'Tatou', ',', 'etc', '.']]}\n",
      "{0: [['DANCE', 'CLUBS-', 'QUICK', 'SHOTS', '-', 'NIGHT']]}\n",
      "{1: [['Of', 'random', 'dancers', '--', 'gyrating', ',', 'flirting', ',', 'making', 'out', ',', 'drinking', '.']]}\n",
      "{0: [['PALACE', '-', 'NIGHT']]}\n"
     ]
    }
   ],
   "source": [
    "# apply all \n",
    "screenplays_tokenized = screenplays_unlocated.apply(word_tokenize_dicts)\n",
    "print_first_lines(screenplays_tokenized[0], 10)"
   ]
  },
  {
   "cell_type": "code",
   "execution_count": 59,
   "metadata": {},
   "outputs": [],
   "source": [
    "del screenplays_unlocated"
   ]
  },
  {
   "cell_type": "markdown",
   "metadata": {},
   "source": [
    "### 1.9.1  Remove tokens with no letters"
   ]
  },
  {
   "cell_type": "code",
   "execution_count": 60,
   "metadata": {},
   "outputs": [
    {
     "name": "stdout",
     "output_type": "stream",
     "text": [
      "['!', '\"', '#', '$', '%', '&', \"'\", '(', ')', '*', '+', ',', '-', '.', '/', ':', ';', '<', '=', '>', '?', '@', '[', '\\\\', ']', '^', '_', '`', '{', '|', '}', '~']\n"
     ]
    }
   ],
   "source": [
    "import string\n",
    "puncts = list(string.punctuation)\n",
    "print(puncts)"
   ]
  },
  {
   "cell_type": "code",
   "execution_count": 61,
   "metadata": {},
   "outputs": [],
   "source": [
    "import re \n",
    "\n",
    "def contains_letters(token):\n",
    "    return bool(re.search(r'[a-zA-Z]', token))\n",
    "\n",
    "def remove_non_letters(dict_list):\n",
    "    for d in dict_list:\n",
    "        for key, value in d.items():\n",
    "            d[key] = [\n",
    "                [t for t in sentence if contains_letters(t)]\n",
    "                for sentence in value\n",
    "            ]\n",
    "    return dict_list "
   ]
  },
  {
   "cell_type": "code",
   "execution_count": 62,
   "metadata": {},
   "outputs": [
    {
     "name": "stdout",
     "output_type": "stream",
     "text": [
      "{1: [['A', 'NIGHT', 'AT', 'THE', 'ROXBURY']]}\n",
      "{2: [['written', 'by', 'Steve', 'Koren', 'Will', 'Ferrell', 'Chris', 'Kattan', 'June']]}\n",
      "{0: [['PANORAMIC', 'VIEW', 'OF', 'LOS', 'ANGELES', 'SUNSET']]}\n",
      "{1: [['As', 'we', 'hear', 'What', 'is', 'Love', 'by', 'HADDAWAY', 'night', 'falls', 'and', 'partytime', 'begins']]}\n",
      "{0: [['SUPERIMPOSE', 'SUNSET', 'BLVD.', 'PM']]}\n",
      "{0: [['DANCE', 'CLUBS', 'NIGHT']]}\n",
      "{2: [['Coconut', 'Teaser', 'The', 'Palace', 'The', 'Roxbury', 'Tatou', 'etc']]}\n",
      "{0: [['DANCE', 'CLUBS-', 'QUICK', 'SHOTS', 'NIGHT']]}\n",
      "{1: [['Of', 'random', 'dancers', 'gyrating', 'flirting', 'making', 'out', 'drinking']]}\n",
      "{0: [['PALACE', 'NIGHT']]}\n"
     ]
    }
   ],
   "source": [
    "# seems to work so apply all \n",
    "screenplays_alpha = screenplays_tokenized.apply(remove_non_letters)\n",
    "print_first_lines(screenplays_alpha[0], 10)"
   ]
  },
  {
   "cell_type": "code",
   "execution_count": 63,
   "metadata": {},
   "outputs": [],
   "source": [
    "del screenplays_tokenized"
   ]
  },
  {
   "cell_type": "markdown",
   "metadata": {},
   "source": [
    "### 1.9.2 Cut micro-tokens"
   ]
  },
  {
   "cell_type": "code",
   "execution_count": 64,
   "metadata": {},
   "outputs": [],
   "source": [
    "def cut_single_chars(dict_list):\n",
    "    for d in dict_list:\n",
    "        for key, value in d.items():\n",
    "            d[key] = [\n",
    "                [w for w in sentence if len(w) > 1]\n",
    "                for sentence in value]\n",
    "    return dict_list"
   ]
  },
  {
   "cell_type": "code",
   "execution_count": 65,
   "metadata": {},
   "outputs": [
    {
     "name": "stdout",
     "output_type": "stream",
     "text": [
      "{2: [['Written', 'by', 'Rhett', 'Reese', 'amp', 'Paul', 'Wernick', 'Final', 'Shooting', 'Script', 'November']]}\n",
      "{1: [['OVER', 'BLACK'], ['Low', 'volume', 'through', 'tinny', 'speaker', 'JUICE', 'NEWTON', \"'S\", 'ANGEL', 'OF', 'THE', 'MORNING']]}\n",
      "{0: [['EXT./INT'], ['TAXI', 'CAB', 'MORNING']]}\n",
      "{1: [['DEADPOOL', 'in', 'full', 'DRESS', 'REDS', 'and', 'MASK', 'quietly', 'FIDGETS', 'in', 'the', 'BACK', 'SEAT', 'of', 'TAXI', 'CAB', 'as', 'it', 'proceeds', 'along', 'CITY', 'FREEWAY'], ['Deadpool', 'adjusts', 'the', 'two', 'KATANAS', 'strapped', 'to', 'his', 'back'], ['Rolls', 'the', 'WINDOWS', 'up', 'down', 'up'], ['Tries', 'futilely', 'to', 'untwist', 'the', 'seatbelt', 'then', 'LUNGES', 'forward', 'locking', 'it', 'up'], ['Rifles', 'through', 'tourist', 'booklet', 'and', 'tears', 'out', 'HAUNTED', 'SEGWAY', 'TOUR', 'coupon'], ['The', 'CABBIE', 'young', 'thin', 'brown', 'glances', 'back', 'and', 'forth', 'from', 'the', 'rear', 'view', 'to', 'the', 'road', 'to', 'the', 'rear', 'view']]}\n",
      "{2: [['Kinda', 'lonesome', 'back', 'here']]}\n",
      "{2: [['Little', 'help']]}\n",
      "{1: [['The', 'cabbie', 'grabs', 'Deadpool', \"'s\", 'hand', 'and', 'pulls', 'him', 'through', 'to', 'the', 'front'], ['Deadpool', \"'s\", 'head', 'rests', 'upside', 'down', 'on', 'the', 'bench', 'seat', 'as', 'he', 'maneuvers', 'his', 'legs', 'through'], ['The', 'cabbie', 'turns', 'the', 'helping', 'hand', 'into', 'HANDSHAKE', 'then', 'turns', 'down', 'the', 'Juice']]}\n",
      "{2: [['Dopinder']]}\n",
      "{2: [['still', 'upside-down']]}\n",
      "{1: [['Pool'], ['Deadpool'], ['Dopinder', 'is', 'remarkably', 'UNAFFECTED', 'by', 'the', 'lunatic', 'in', 'his', 'cab']]}\n"
     ]
    }
   ],
   "source": [
    "# apply all \n",
    "screenplays_poly = screenplays_alpha.apply(cut_single_chars)\n",
    "print_first_lines(screenplays_poly[250], 10)"
   ]
  },
  {
   "cell_type": "code",
   "execution_count": 66,
   "metadata": {},
   "outputs": [],
   "source": [
    "del screenplays_alpha"
   ]
  },
  {
   "cell_type": "markdown",
   "metadata": {},
   "source": [
    "### 1.9.3 Stopword Removal"
   ]
  },
  {
   "cell_type": "code",
   "execution_count": 67,
   "metadata": {},
   "outputs": [],
   "source": [
    "from nltk.corpus import stopwords\n",
    "\n",
    "stops = stopwords.words('english')\n",
    "extra_stops = [\n",
    "'fox', 'searchlight', 'pictures', 'inc', 'los', 'angeles', 'ca',\n",
    "'all', 'rights', 'reserved', 'copyright', 'willow', 'and', 'oak', 'inc.', 'no',\n",
    "'portion', 'of', 'this', 'script', 'may', 'be', 'performed', 'published', 'reproduced',\n",
    "'sold', 'or', 'distributed', 'by', 'any', 'means', 'or', 'quoted', 'or', 'published', 'in', 'any',\n",
    "r'ext./int', 'amp', \"'ll\", 'ext', 'int'\n",
    "]\n",
    "\n",
    "for s in extra_stops:\n",
    "    if s not in stops:\n",
    "        stops.append(s)\n",
    "\n",
    "def remove_stops(dict_list):\n",
    "    for d in dict_list:\n",
    "        for key, value in d.items():\n",
    "            d[key] = [\n",
    "                [w for w in sentence if w.lower() not in stops]\n",
    "                for sentence in value]\n",
    "    return dict_list\n",
    "\n",
    "screenplays_nonstop = screenplays_poly.apply(remove_stops)"
   ]
  },
  {
   "cell_type": "code",
   "execution_count": 68,
   "metadata": {},
   "outputs": [
    {
     "name": "stdout",
     "output_type": "stream",
     "text": [
      "{2: [['Written', 'Brian', 'Helgeland', 'White', 'March', 'Blue', 'Revised', 'April', 'Pink', 'Revised', 'April', 'Yellow', 'Revised', 'April', 'Green', 'Revised', 'April', 'Goldenrod', 'Revised', 'Buff', 'Revised', 'Salmon', 'Revised', 'June', 'Cherry', 'Revised', 'June', 'Tan', 'Revised', 'June', 'Double', 'White', 'Revised', 'June', 'Double', 'Blue', 'Revised', 'July']]}\n",
      "{0: [['PINK', 'REV']]}\n",
      "{1: [['Fills', 'screen'], ['Falling', 'top', 'frame', 'bottom'], ['Pluming', 'dust'], ['White', 'white', 'white'], ['move', 'toward', 'even', 'recedes', 'always', 'reach'], ['Finally', 'pop', 'wide', 'high', 'reveal'], ['white', 'chalk'], ['old', 'BLACK', 'GROUNDSKEEPER', 'lays', 'right', 'field', 'line', 'baseball', 'diamond']]}\n",
      "{0: [[], ['BRANCH', 'RICKEY', \"'S\", 'OFFICE', 'MONTAGUE', 'ST', 'BROOKLYN', 'DAY']]}\n",
      "{1: [['Blinds', 'closed'], ['Dust', 'motes', 'air'], ['large', 'GOLDFISH', 'TANK', 'bubbles'], ['BRANCH', 'RICKEY', 'desk'], ['Two', 'photos', 'wall', 'Abe', 'Lincoln', 'Leo', 'Durocher'], ['CHALKBOARDS', 'covered', \"'s\", 'NAMES', 'every', 'player', 'Dodger', 'organization'], ['CLYDE', 'SUKEFORTH', 'HAROLD', 'PARROTT', 'sit', 'across', 'Rickey', 'stares'], ['Sukeforth', 'stares', 'back'], ['Parrott', 'nervous']]}\n",
      "{2: [['Gentlemen', 'plan', 'Board', 'Directors', 'family', 'know']]}\n",
      "{1: [['Sukeforth', 'Parrott', 'exchange', 'look']]}\n",
      "{2: [['plan', \"'s\", 'always', 'good', 'Mr.', 'Rickey'], ['always', 'got', 'one']]}\n",
      "{2: [['wife', 'says', \"'m\", 'old', 'health', \"n't\"], ['son', 'says', 'every', 'one', 'baseball'], [\"'m\", 'going']]}\n",
      "{1: [['Parrott', 'looks', 'Sukeforth', 'keeps', 'eyes', 'Rickey']]}\n"
     ]
    }
   ],
   "source": [
    "print_first_lines(screenplays_nonstop[60], 10)"
   ]
  },
  {
   "cell_type": "code",
   "execution_count": 69,
   "metadata": {},
   "outputs": [],
   "source": [
    "del screenplays_poly"
   ]
  },
  {
   "cell_type": "markdown",
   "metadata": {},
   "source": [
    "### 1.9.4 Remove Empties"
   ]
  },
  {
   "cell_type": "code",
   "execution_count": 70,
   "metadata": {},
   "outputs": [
    {
     "name": "stdout",
     "output_type": "stream",
     "text": [
      "{0: [['HEAR', 'SLOW', 'RHYTHMIC', 'CLACK-CLACK-CLACK', 'HARD', 'INSISTENT']]}\n",
      "{1: [['BEAT', 'PETRIFIED', 'HEART'], ['SUDDENLY', 'FLUORESCENT', 'LIGHT', 'INVADES', 'SPACE', 'HARSH', 'UGLY', 'FIND', 'FEATURELESS', 'WHITE', 'CORRIDOR', 'SEEMS', 'STRETCH', 'INFINITY'], ['SOFT', 'MUFFLED', 'COMING', 'HIDDEN', 'DIMENSION', 'HEAR', 'CRAZED', 'LAUGHTER', 'PATHETIC', 'WHIMPERING']]}\n",
      "{0: [['WILD', 'CANINE', 'YELPING', 'SOUNDS', 'MADNESS', 'EMANATING', 'WALLS']]}\n",
      "{2: [['Sometimes', \"'m\", 'late', 'night', 'think', 'tunnel', 'know', 'one', \"'re\", 'supposed', 'see']]}\n",
      "{1: [['die'], [\"'s\", 'door', 'far', 'end']]}\n",
      "{2: [['side', 'either', 'heaven', 'hell'], ['beat', 'mind', \"'s\", 'door']]}\n",
      "{1: [['FAR', 'END', 'CORRIDOR'], [\"'S\", 'WINDOW']]}\n",
      "{2: [['Um'], ['Dr.', 'Howard', 'said', 'five', 'milligrams', 'Zyprexa', 'twice', 'day'], ['Dr.', 'Fein']]}\n",
      "{2: [['Howard'], ['Fein', \"'s\", 'one', 'curly', 'hair']]}\n",
      "{2: [['Right'], [\"'s\"]]}\n"
     ]
    }
   ],
   "source": [
    "def remove_empties(dict_list):\n",
    "    for d in dict_list:\n",
    "        for key, value in d.items():\n",
    "            d[key] = [sent for sent in value if sent]\n",
    "    return dict_list\n",
    "\n",
    "cleaned_screenplays = screenplays_nonstop.apply(remove_empties)\n",
    "print_first_lines(cleaned_screenplays[44], 10)"
   ]
  },
  {
   "cell_type": "code",
   "execution_count": 71,
   "metadata": {},
   "outputs": [],
   "source": [
    "del screenplays_nonstop"
   ]
  },
  {
   "cell_type": "markdown",
   "metadata": {},
   "source": [
    "## 1.10 Convert to Dict structure "
   ]
  },
  {
   "cell_type": "code",
   "execution_count": 72,
   "metadata": {},
   "outputs": [
    {
     "name": "stdout",
     "output_type": "stream",
     "text": [
      "[{1: [['NIGHT', 'ROXBURY']]}, {2: [['written', 'Steve', 'Koren', 'Ferrell', 'Chris', 'Kattan', 'June']]}, {0: [['PANORAMIC', 'VIEW', 'SUNSET']]}, {1: [['hear', 'Love', 'HADDAWAY', 'night', 'falls', 'partytime', 'begins']]}, {0: [['SUPERIMPOSE', 'SUNSET', 'BLVD.', 'PM']]}, {0: [['DANCE', 'CLUBS', 'NIGHT']]}, {2: [['Coconut', 'Teaser', 'Palace', 'Roxbury', 'Tatou', 'etc']]}, {0: [['DANCE', 'CLUBS-', 'QUICK', 'SHOTS', 'NIGHT']]}, {1: [['random', 'dancers', 'gyrating', 'flirting', 'making', 'drinking']]}, {0: [['PALACE', 'NIGHT']]}]\n"
     ]
    }
   ],
   "source": [
    "screenplays_dict = cleaned_screenplays.to_dict()\n",
    "print(screenplays_dict[0][:10])"
   ]
  },
  {
   "cell_type": "code",
   "execution_count": 77,
   "metadata": {},
   "outputs": [
    {
     "name": "stdout",
     "output_type": "stream",
     "text": [
      "<class 'list'>\n",
      "<class 'dict'>\n",
      "<class 'list'>\n"
     ]
    }
   ],
   "source": [
    "print(type(screenplays_dict[0]))\n",
    "print(type(screenplays_dict[0][0]))\n",
    "print(type(list(screenplays_dict[0][0].values())[0]))\n"
   ]
  },
  {
   "cell_type": "code",
   "execution_count": 79,
   "metadata": {},
   "outputs": [
    {
     "ename": "NameError",
     "evalue": "name 'screenplay_sents' is not defined",
     "output_type": "error",
     "traceback": [
      "\u001b[1;31m---------------------------------------------------------------------------\u001b[0m",
      "\u001b[1;31mNameError\u001b[0m                                 Traceback (most recent call last)",
      "Cell \u001b[1;32mIn[79], line 1\u001b[0m\n\u001b[1;32m----> 1\u001b[0m \u001b[38;5;28;01mdel\u001b[39;00m cleaned_screenplays, \u001b[43mscreenplay_sents\u001b[49m, screenplays_encoded\n",
      "\u001b[1;31mNameError\u001b[0m: name 'screenplay_sents' is not defined"
     ]
    }
   ],
   "source": [
    "del cleaned_screenplays"
   ]
  },
  {
   "cell_type": "markdown",
   "metadata": {},
   "source": [
    "# 2. Lemmatization and NER with Spacy"
   ]
  },
  {
   "cell_type": "code",
   "execution_count": 78,
   "metadata": {},
   "outputs": [],
   "source": [
    "import spacy \n",
    "nlp = spacy.load(\"en_core_web_sm\")"
   ]
  },
  {
   "cell_type": "markdown",
   "metadata": {},
   "source": [
    "## 2.1 Named Entity Recognition"
   ]
  },
  {
   "cell_type": "markdown",
   "metadata": {},
   "source": [
    "### 2.1.1 Allowed Entities"
   ]
  },
  {
   "cell_type": "code",
   "execution_count": 82,
   "metadata": {},
   "outputs": [],
   "source": [
    "allowed_entities = [\n",
    "    \"DATE\",\n",
    "    \"TIME\",\n",
    "    \"QUANTITY\",\n",
    "    \"MONEY\",\n",
    "    \"GPE\",\n",
    "    \"WORK_OF_ART\",\n",
    "    \"FAC\",\n",
    "    \"LOC\",\n",
    "    \"EVENT\"\n",
    "]"
   ]
  },
  {
   "cell_type": "markdown",
   "metadata": {},
   "source": [
    "### 2.1.2 Create Corpus for Spacy"
   ]
  },
  {
   "cell_type": "code",
   "execution_count": 81,
   "metadata": {},
   "outputs": [],
   "source": [
    "# define a function to join json data into a corpus \n",
    "def join_json(data):\n",
    "    # empty list for storing joined lines (one line per dict)\n",
    "    joined_lines = []\n",
    "    # iterate through dicts\n",
    "    for d in data:\n",
    "        # unpack keys and values\n",
    "        for key, value in d.items():\n",
    "            # convert key to string label with an escape char\n",
    "            label = '@' + str(key) + ':'\n",
    "            # append label to corpus\n",
    "            joined_lines.append(label)\n",
    "            # create an empty list for joined sentences \n",
    "            joined_sentences = []\n",
    "            # iterate through sentences in value\n",
    "            for sentence in value:\n",
    "                # join the sentences with \" \" \n",
    "                joined_sentence = \" \".join(sentence)\n",
    "                # append joined_sentence to joined_sentences\n",
    "                joined_sentences.append(joined_sentence)\n",
    "            # now join the sentences in joined_sentences with \". \"\n",
    "            sentences_in_line = \". \".join(joined_sentences)\n",
    "            # append this line to the joined_lines list\n",
    "            joined_lines.append(sentences_in_line)\n",
    "    # now join all the lines in joined_lines with \"\\n\"\n",
    "    screenplay_text = \" \\n \".join(joined_lines)\n",
    "    # and return the text\n",
    "    return screenplay_text\n"
   ]
  },
  {
   "cell_type": "code",
   "execution_count": 83,
   "metadata": {},
   "outputs": [],
   "source": [
    "allowed_postags = [\n",
    "    \"NOUN\",\n",
    "    \"ADJ\",\n",
    "    \"VERB\",\n",
    "    \"INTJ\",\n",
    "    \"ADV\"\n",
    "]"
   ]
  },
  {
   "cell_type": "code",
   "execution_count": 84,
   "metadata": {},
   "outputs": [],
   "source": [
    "def lemmatize(doc, allowed_postags=allowed_postags):\n",
    "    lemmas = [] \n",
    "    for token in doc:\n",
    "        if token.pos_ in allowed_postags:\n",
    "            lemmas.append(token.lemma_)\n",
    "    return lemmas "
   ]
  },
  {
   "cell_type": "code",
   "execution_count": 88,
   "metadata": {},
   "outputs": [],
   "source": [
    "def preprocess_json(json_data, allowed_entities=allowed_entities, allowed_postags=allowed_postags):\n",
    "    text = join_json(json_data)\n",
    "    doc = nlp(text)\n",
    "    filtered_output = []\n",
    "    for token in doc: \n",
    "        if token.ent_type_:\n",
    "            t = token.text.lower()\n",
    "            filtered_output.append(t)\n",
    "        else:\n",
    "            if token.pos_ in allowed_postags:\n",
    "                t = token.lemma_.lower()\n",
    "                filtered_output.append(t)\n",
    "    return filtered_output"
   ]
  },
  {
   "cell_type": "code",
   "execution_count": 89,
   "metadata": {},
   "outputs": [
    {
     "data": {
      "application/vnd.jupyter.widget-view+json": {
       "model_id": "2cb663f8c6754ed4b8ce9e1b5c7b335b",
       "version_major": 2,
       "version_minor": 0
      },
      "text/plain": [
       "Processing Sreenplays:   0%|          | 0/1995 [00:00<?, ?it/s]"
      ]
     },
     "metadata": {},
     "output_type": "display_data"
    }
   ],
   "source": [
    "from tqdm.notebook import tqdm \n",
    "\n",
    "processed_screenplays_dict = {}\n",
    "\n",
    "for key, value in tqdm(screenplays_dict.items(), desc=\"Processing Sreenplays\"):\n",
    "    processed_screenplays_dict[key] = preprocess_json(value)"
   ]
  },
  {
   "cell_type": "code",
   "execution_count": 90,
   "metadata": {},
   "outputs": [],
   "source": [
    "import pickle \n",
    "\n",
    "path = r\"C:\\\\Users\\bened\\DataScience\\ANLP\\AT2\\\\preprocessed_data\\\\processed_screenplays_final.pkl\"\n",
    "\n",
    "screenplay_pickle = pickle.dumps(processed_screenplays_dict)\n",
    "\n",
    "with open(path, 'wb') as f:\n",
    "    f.write(screenplay_pickle)"
   ]
  },
  {
   "cell_type": "code",
   "execution_count": null,
   "metadata": {},
   "outputs": [],
   "source": []
  }
 ],
 "metadata": {
  "kernelspec": {
   "display_name": "spacy_env",
   "language": "python",
   "name": "python3"
  },
  "language_info": {
   "codemirror_mode": {
    "name": "ipython",
    "version": 3
   },
   "file_extension": ".py",
   "mimetype": "text/x-python",
   "name": "python",
   "nbconvert_exporter": "python",
   "pygments_lexer": "ipython3",
   "version": "3.11.10"
  }
 },
 "nbformat": 4,
 "nbformat_minor": 2
}
