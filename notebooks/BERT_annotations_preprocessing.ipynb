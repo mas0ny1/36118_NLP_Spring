{
 "cells": [
  {
   "cell_type": "markdown",
   "metadata": {},
   "source": [
    "Here I'll take a look at the BERT annotated data and see if we can do anything with it. "
   ]
  },
  {
   "cell_type": "markdown",
   "metadata": {},
   "source": []
  },
  {
   "cell_type": "markdown",
   "metadata": {},
   "source": [
    "# Australian Film Classification Guidelines"
   ]
  },
  {
   "cell_type": "markdown",
   "metadata": {},
   "source": [
    "Helpful resources for how film classifications are determined can be found here: \n",
    "\n",
    "https://www.classification.gov.au/classification-ratings/how-rating-decided\n",
    "\n",
    "Some relevant excerpts below: \n",
    "\n",
    "Approved classification tools use logic rules and algorithms to classify content.\n",
    "\n",
    "The guidelines include 6 classifiable elements. These are:\n",
    "\n",
    "themes\n",
    "violence\n",
    "sex\n",
    "language\n",
    "drug use\n",
    "nudity.\n",
    "\n",
    "Impact\n",
    "The impact depends on the frequency, intensity and the overall effect of the content. The purpose, tone and style can affect impact.\n",
    "\n",
    "Impact may increase where depictions are:\n",
    "\n",
    "detailed\n",
    "prolonged\n",
    "realistic\n",
    "interactive.\n",
    "Impact may be lower where content is:\n",
    "\n",
    "implied rather than depicted\n",
    "not detailed\n",
    "short in duration\n",
    "verbal and not visual\n",
    "incidental and not direct.\n",
    "The level of impact allowed in each classification category (rating):\n",
    "\n",
    "Rating\tImpact level\n",
    "G\tVery mild\n",
    "PG\tMild\n",
    "M\tModerate\n",
    "MA 15+\tStrong\n",
    "R 18+\tHigh\n",
    "RC\tVery high\n",
    "\n",
    "<i> So we have six relevant categories, and six impact levels corresponding to the 6 ratings.  The goal will be then to build a model that basically scores the impact level of the screenplay on these six measures, then uses those six scores to make the prediction/classsification.  So e.g., we might except a neural network architecture to look like:\n",
    "\n",
    "embedding layer(vector for each {sentence, word} in screenplay)\n",
    "- > 6 (?) neurons, one for each classifiable element\n",
    "( -> context layer? )\n",
    "- > 6 (?) neurons, an impact score for each element \n",
    "- > 1 output neuron for classification\n",
    "OR \n",
    "- > an output layer per country classification desired? </i> \n",
    "\n",
    "Context\n",
    "Context determines whether the storyline justifies content. Content that falls into a particular rating in one context may fall outside it in a different context.\n",
    "\n",
    "For example, the way the content deals with social issues may require a mature or adult perspective. Historical context may also justify certain depictions.\n",
    "\n",
    "<i> Should there be a separate context layer then? </i>\n",
    "\n",
    "Consumer advice\n",
    "Under section 20 of the Act, a classification decision must include consumer advice.\n",
    "\n",
    "Consumer advice gives information about the content. It usually describes the classifiable elements with the greatest impact.\n",
    "\n",
    "For example, a film classified PG may have consumer advice of 'Mild violence and coarse language'. This means that the film is PG because the violence and coarse language are mild in impact.\n",
    "\n",
    "<i> Ideally, our model would also therefore output this Consumer Advice </i> \n",
    "\n",
    "\n",
    "\n"
   ]
  },
  {
   "cell_type": "markdown",
   "metadata": {},
   "source": [
    "# 0. Import Data and Assemble DataFrame"
   ]
  },
  {
   "cell_type": "code",
   "execution_count": 19,
   "metadata": {},
   "outputs": [
    {
     "name": "stdout",
     "output_type": "stream",
     "text": [
      "Example of 10 Cloverfield Lane_1179933_anno.txt:\n",
      "\n",
      "dialog: The Cellar\n",
      "dialog: by\n",
      "dialog: Josh Campbell & Matt Stuecken\n",
      "speaker_heading: DARKNESS\n",
      "dialog\n",
      "--------------------------------------------------\n",
      "Example of 10 Things I Hate About You_0147800_anno.txt:\n",
      "\n",
      "dialog: \n",
      "text: TEN THINGS I HATE ABOUT YOU\n",
      "dialog: \n",
      "dialog: written by Karen McCullah Lutz &amp; Kir\n",
      "--------------------------------------------------\n",
      "Example of 12 Angry Men_0118528_anno.txt:\n",
      "\n",
      "scene_heading: PLEASE COPY AND RETURN |\n",
      "dialog: ———_————_\n",
      "dialog: \n",
      "scene_heading: TWELVE ANGRY MEN\n",
      "d\n",
      "--------------------------------------------------\n",
      "Example of 12 Monkeys_0114746_anno.txt:\n",
      "\n",
      "dialog: \n",
      "speaker_heading: TWELVE MONKEYS\n",
      "dialog: \n",
      "dialog: An original screenplay by\n",
      "dialog: David Pe\n",
      "--------------------------------------------------\n",
      "Example of 12 Years a Slave_2024544_anno.txt:\n",
      "\n",
      "dialog: \n",
      "speaker_heading: 12 YEARS A SLAVE\n",
      "dialog: Written by\n",
      "dialog: John Ridley\n",
      "speaker_heading: C\n",
      "--------------------------------------------------\n",
      "Example of 127 Hours_1542344_anno.txt:\n",
      "\n",
      "dialog: \n",
      "dialog: \n",
      "speaker_heading: 127 HOURS\n",
      "dialog: Written by\n",
      "dialog: \n",
      "dialog: Simon Beaufoy &amp;\n",
      "--------------------------------------------------\n",
      "Example of 13 13 13_2991516_anno.txt:\n",
      "\n",
      "dialog: 13/13/13\n",
      "dialog: Written by\n",
      "dialog: James Cullen Bressack\n",
      "dialog: 5/15/13\n",
      "speaker_heading: T\n",
      "--------------------------------------------------\n",
      "Example of 1408_0450385_anno.txt:\n",
      "\n",
      "speaker_heading: 1408\n",
      "dialog: Written by\n",
      "dialog: Scott Alexander & Larry Karaszewski\n",
      "speaker_heading\n",
      "--------------------------------------------------\n",
      "Example of 1492 Conquest of Paradise_0103594_anno.txt:\n",
      "\n",
      "text: \n",
      "text: 1492: CONQUEST OF PARADISE\n",
      "dialog: by\n",
      "speaker_heading: Roselyne Bosch\n",
      "speaker_heading: \n",
      "--------------------------------------------------\n",
      "Example of 15 Minutes_0179626_anno.txt:\n",
      "\n",
      "dialog: \n",
      "speaker_heading: FADE IN\n",
      "text: on the words CZECH AIRLINE. We are panning across the words\n",
      "\n",
      "--------------------------------------------------\n"
     ]
    }
   ],
   "source": [
    "# replace paths here\n",
    "root_path = r'C:\\\\Users\\bened\\DataScience\\ANLP\\AT2'\n",
    "\n",
    "import os \n",
    "import re\n",
    "\n",
    "folder_path = f'{root_path}\\\\BERT_annotations'\n",
    "screenplays_annot = {}\n",
    "\n",
    "hex_pat = re.compile(r'[\\x00-\\x1F\\x7F-\\x9F]')\n",
    "\n",
    "# list all files in folder and iterate over them \n",
    "for file_name in os.listdir(folder_path):\n",
    "    # get file_path by joining folder path with file_name\n",
    "    file_path = os.path.join(folder_path, file_name)\n",
    "    # ensure path points to an actual file\n",
    "    if os.path.isfile(file_path):\n",
    "        with open(file_path, 'r', encoding='utf-8') as f:\n",
    "            content = f.read()\n",
    "            # remove non-printable non-ASCII chars\n",
    "            cleaned_content = re.sub(hex_pat, '', content)\n",
    "            # assign content to its file_name\n",
    "            screenplays_annot[file_name] = content\n",
    "\n",
    "# ensure files were imported correctly by printing a sample of the first ten files \n",
    "i = 0\n",
    "for file_name, content in screenplays_annot.items():\n",
    "    if i == 10:\n",
    "        break\n",
    "    else:\n",
    "        print(f\"Example of {file_name}:\\n\")\n",
    "        print(content[:100])\n",
    "        print(\"-\"*50)\n",
    "        i += 1"
   ]
  },
  {
   "cell_type": "code",
   "execution_count": 20,
   "metadata": {},
   "outputs": [
    {
     "name": "stdout",
     "output_type": "stream",
     "text": [
      "set()\n"
     ]
    }
   ],
   "source": [
    "# search values of screenplays_annot for data corruption pattern \n",
    "import re \n",
    "\n",
    "corruptions = set()\n",
    "for val in screenplays_annot.values():\n",
    "    corrupted = re.findall(hex_pat, repr(val))\n",
    "    for c in corrupted:\n",
    "        corruptions.add(c)\n",
    "\n",
    "print(corruptions)"
   ]
  },
  {
   "cell_type": "code",
   "execution_count": 21,
   "metadata": {},
   "outputs": [
    {
     "name": "stdout",
     "output_type": "stream",
     "text": [
      "['10 Cloverfield Lane_1179933_anno.txt', '10 Things I Hate About You_0147800_anno.txt', '12 Angry Men_0118528_anno.txt', '12 Monkeys_0114746_anno.txt', '12 Years a Slave_2024544_anno.txt', '127 Hours_1542344_anno.txt', '13 13 13_2991516_anno.txt', '1408_0450385_anno.txt', '1492 Conquest of Paradise_0103594_anno.txt', '15 Minutes_0179626_anno.txt']\n"
     ]
    }
   ],
   "source": [
    "print(list(screenplays_annot.keys())[:10])"
   ]
  },
  {
   "cell_type": "code",
   "execution_count": 22,
   "metadata": {},
   "outputs": [
    {
     "name": "stdout",
     "output_type": "stream",
     "text": [
      "42_0453562_anno.txt\n",
      "Ace Ventura Pet Detective_0109040_anno.txt\n",
      "Airplane II The Sequel_0083530_anno.txt\n",
      "Airplane_0080339_anno.txt\n",
      "Alone in the Dark_0369226_anno.txt\n",
      "Amadeus_0086879_anno.txt\n",
      "American Psycho_0144084_anno.txt\n",
      "American Shaolin_0101327_anno.txt\n",
      "American Splendor_0305206_anno.txt\n",
      "An Act of Murder_0040072_anno.txt\n",
      "Annie Hall_0075686_anno.txt\n",
      "April Fool s Day_0090655_anno.txt\n",
      "Argo_1024648_anno.txt\n",
      "At First Sight_0132512_anno.txt\n",
      "Bad Lieutenant_0103759_anno.txt\n",
      "Barton Fink_0101410_anno.txt\n",
      "Batman Robin_0118688_anno.txt\n",
      "Batman Year One_1672723_anno.txt\n",
      "Bedlam_0038343_anno.txt\n",
      "Being John Malkovich_0120601_anno.txt\n",
      "Blade Trinity_0359013_anno.txt\n",
      "Blade_0120611_anno.txt\n",
      "Braveheart_0112573_anno.txt\n",
      "Bridesmaids_1478338_anno.txt\n",
      "Burn After Reading_0887883_anno.txt\n",
      "Burning Annie_0307879_anno.txt\n",
      "Candle to Water_2387411_anno.txt\n",
      "Carrie_0074285_anno.txt\n",
      "Cat People_0034587_anno.txt\n",
      "Chasing Amy_0118842_anno.txt\n",
      "Chinatown_0071315_anno.txt\n",
      "Cinema Paradiso_0095765_anno.txt\n",
      "Coco_2380307_anno.txt\n",
      "Cold Mountain_0159365_anno.txt\n",
      "Complete Guide to Guys_0407680_anno.txt\n",
      "Coraline_0327597_anno.txt\n",
      "Cowboys Aliens_0409847_anno.txt\n",
      "Date Night_1279935_anno.txt\n",
      "Days of Heaven_0077405_anno.txt\n",
      "Dead Poets Society_0097165_anno.txt\n",
      "Diner_0083833_anno.txt\n",
      "Drive Angry_1502404_anno.txt\n",
      "Eagle Eye_1059786_anno.txt\n",
      "Enough_0278435_anno.txt\n",
      "Fair Game_0977855_anno.txt\n",
      "Final Destination 2_0309593_anno.txt\n",
      "Fright Night_0089175_anno.txt\n",
      "Get Carter_0067128_anno.txt\n",
      "Ghost Rider_0259324_anno.txt\n",
      "Good Will Hunting_0119217_anno.txt\n",
      "Gremlins 2 The New Batch_0099700_anno.txt\n",
      "Gremlins_0087363_anno.txt\n",
      "Hancock_0448157_anno.txt\n",
      "Hanna_0993842_anno.txt\n",
      "Happiness_0147612_anno.txt\n",
      "Harold Kumar Go to White Castle_0366551_anno.txt\n",
      "Harvey_0042546_anno.txt\n",
      "Hellboy II The Golden Army_0411477_anno.txt\n",
      "Hellraiser III Hell on Earth_0104409_anno.txt\n",
      "Homicide The Movie_0226771_anno.txt\n",
      "How to Train Your Dragon_0892769_anno.txt\n",
      "I Am Number Four_1464540_anno.txt\n",
      "I Spit on Your Grave_1242432_anno.txt\n",
      "Idiocracy_0387808_anno.txt\n",
      "In the Bedroom_0247425_anno.txt\n",
      "Indiana Jones and the Last Crusade_0097576_anno.txt\n",
      "Inglourious Basterds_0361748_anno.txt\n",
      "Isle of the Dead_0037820_anno.txt\n",
      "It s a Wonderful Life_0038650_anno.txt\n",
      "Jackie Brown_0119396_anno.txt\n",
      "Jaws_0073195_anno.txt\n",
      "Jerry Maguire_0116695_anno.txt\n",
      "Jonah A VeggieTales Movie_0298388_anno.txt\n",
      "Jurassic Park III_0163025_anno.txt\n",
      "Kramer vs Kramer_0079417_anno.txt\n",
      "Kung Fu Panda_0441773_anno.txt\n",
      "Logan_3315342_anno.txt\n",
      "Looper_1276104_anno.txt\n",
      "Lord of Illusions_0113690_anno.txt\n",
      "Lost in Space_0120738_anno.txt\n",
      "Lost in Translation_0335266_anno.txt\n",
      "Manhunter_0091474_anno.txt\n",
      "Margaret_0466893_anno.txt\n",
      "MASH_0066026_anno.txt\n",
      "Mighty Morphin Power Rangers The Movie_0113820_anno.txt\n",
      "Milk_1013753_anno.txt\n",
      "Minority Report_0181689_anno.txt\n",
      "Monkeybone_0166276_anno.txt\n",
      "Moonstruck_0093565_anno.txt\n",
      "Nashville_0073440_anno.txt\n",
      "Never Been Kissed_0151738_anno.txt\n",
      "Nick of Time_0113972_anno.txt\n",
      "Nightbreed_0100260_anno.txt\n",
      "No Strings Attached_1411238_anno.txt\n",
      "Notting Hill_0125439_anno.txt\n",
      "On the Waterfront_0047296_anno.txt\n",
      "Ordinary People_0081283_anno.txt\n",
      "Pandorum_1188729_anno.txt\n",
      "Paul_1092026_anno.txt\n",
      "Peeping Tom_0054167_anno.txt\n",
      "Peggy Sue Got Married_0091738_anno.txt\n",
      "Pi_0138704_anno.txt\n",
      "Pleasantville_0120789_anno.txt\n",
      "Precious_0929632_anno.txt\n",
      "Pride Prejudice_0414387_anno.txt\n",
      "Priest_0822847_anno.txt\n",
      "Pulp Fiction_0110912_anno.txt\n",
      "Real Genius_0089886_anno.txt\n",
      "Resident Evil_0120804_anno.txt\n",
      "Revolutionary Road_0959337_anno.txt\n",
      "Ringu_0178868_anno.txt\n",
      "Rise of the Guardians_1446192_anno.txt\n",
      "Rise of the Planet of the Apes_1318514_anno.txt\n",
      "Schindler s List_0108052_anno.txt\n",
      "Scott Pilgrim vs the World_0446029_anno.txt\n",
      "Scream 2_0120082_anno.txt\n",
      "Serenity_0379786_anno.txt\n",
      "Shakespeare in Love_0138097_anno.txt\n",
      "Shine_0117631_anno.txt\n",
      "Source Code_0945513_anno.txt\n",
      "St Elmo s Fire_0090060_anno.txt\n",
      "Star Wars Episode II Attack of the Clones_0121765_anno.txt\n",
      "Stir of Echoes_0164181_anno.txt\n",
      "Storytelling_0250081_anno.txt\n",
      "Straight Outta Compton_1398426_anno.txt\n",
      "Superman_0078346_anno.txt\n",
      "Synecdoche New York_0383028_anno.txt\n",
      "Syriana_0365737_anno.txt\n",
      "The Adjustment Bureau_1385826_anno.txt\n",
      "The American President_0112346_anno.txt\n",
      "The Blair Witch Project_0185937_anno.txt\n",
      "The Boondock Saints_0144117_anno.txt\n",
      "The Breakfast Club_0088847_anno.txt\n",
      "The Cable Guy_0115798_anno.txt\n",
      "The Corruptor_0142192_anno.txt\n",
      "The Curious Case of Benjamin Button_0421715_anno.txt\n",
      "The Day the Earth Stood Still_0043456_anno.txt\n",
      "The Godfather Coda The Death of Michael Corleone_0099674_anno.txt\n",
      "The Hitchhiker s Guide to the Galaxy_0371724_anno.txt\n",
      "The Hunt for Red October_0099810_anno.txt\n",
      "The Italian Job_0290675_anno.txt\n",
      "The Jolson Story_0038661_anno.txt\n",
      "The Ladykillers_0335245_anno.txt\n",
      "The Leopard Man_0036104_anno.txt\n",
      "The Lost Son_0144286_anno.txt\n",
      "The Lost Weekend_0037884_anno.txt\n",
      "The Master_1560747_anno.txt\n",
      "The Matrix Reloaded_0234215_anno.txt\n",
      "The Omega Man_0067525_anno.txt\n",
      "The Parent Trap_0120783_anno.txt\n",
      "The Ploughman s Lunch_0086122_anno.txt\n",
      "The Proposal_1041829_anno.txt\n",
      "The Rage Carrie 2_0144814_anno.txt\n",
      "The Rock_0117500_anno.txt\n",
      "The Ruins_0963794_anno.txt\n",
      "The Saint_0055701_anno.txt\n",
      "The Saint_0120053_anno.txt\n",
      "The Secret Life of Walter Mitty_0359950_anno.txt\n",
      "The Seventh Victim_0036341_anno.txt\n",
      "The Social Network_1285016_anno.txt\n",
      "The Stunt Man_0081568_anno.txt\n",
      "The Taking of Pelham One Two Three_0072251_anno.txt\n",
      "The Twilight Saga New Moon_1259571_anno.txt\n",
      "The Ugly Truth_1142988_anno.txt\n",
      "The Wild Bunch_0065214_anno.txt\n",
      "The World Is Not Enough_0143145_anno.txt\n",
      "Thor_0800369_anno.txt\n",
      "Thunderheart_0105585_anno.txt\n",
      "Two and a Half Men_0369179_anno.txt\n",
      "Vanilla Sky_0259711_anno.txt\n",
      "Velvet Goldmine_0120879_anno.txt\n",
      "Wanted_0493464_anno.txt\n",
      "War for the Planet of the Apes_3450958_anno.txt\n",
      "Watchmen_0409459_anno.txt\n",
      "Water for Elephants_1067583_anno.txt\n",
      "Wild at Heart_0100935_anno.txt\n",
      "Wild Hogs_0486946_anno.txt\n",
      "Wonder Boys_0185014_anno.txt\n"
     ]
    }
   ],
   "source": [
    "# find names of screenpay with hexademical chars \n",
    "counter = 0\n",
    "for key, val in screenplays_annot.items():\n",
    "    if re.search(hex_pat, repr(val)):\n",
    "        print(key)\n",
    "        counter += 1\n",
    "\n",
    "print(f\"{counter} files contain hexadecimal chars\")"
   ]
  },
  {
   "cell_type": "markdown",
   "metadata": {},
   "source": [
    "## Global Functions"
   ]
  },
  {
   "cell_type": "code",
   "execution_count": 23,
   "metadata": {},
   "outputs": [],
   "source": [
    "import numpy as np"
   ]
  },
  {
   "cell_type": "code",
   "execution_count": 24,
   "metadata": {},
   "outputs": [],
   "source": [
    "def print_first_lines(dict_list, n):\n",
    "    for idx, d in enumerate(dict_list):\n",
    "        if idx == n:\n",
    "            break\n",
    "        else:\n",
    "            print(d)"
   ]
  },
  {
   "cell_type": "code",
   "execution_count": 25,
   "metadata": {},
   "outputs": [],
   "source": [
    "def find_avg_length(series):\n",
    "    avg_length = np.mean([len(d) for d in series])\n",
    "    print(\"Average length:\", avg_length)"
   ]
  },
  {
   "cell_type": "markdown",
   "metadata": {},
   "source": [
    "## 0.1 Join with metadata"
   ]
  },
  {
   "cell_type": "code",
   "execution_count": 27,
   "metadata": {},
   "outputs": [
    {
     "name": "stdout",
     "output_type": "stream",
     "text": [
      "Collecting pandas\n",
      "  Using cached pandas-2.2.3-cp311-cp311-win_amd64.whl.metadata (19 kB)\n",
      "Requirement already satisfied: numpy>=1.23.2 in c:\\users\\bened\\anaconda3\\envs\\spacy_env\\lib\\site-packages (from pandas) (2.0.2)\n",
      "Requirement already satisfied: python-dateutil>=2.8.2 in c:\\users\\bened\\anaconda3\\envs\\spacy_env\\lib\\site-packages (from pandas) (2.9.0)\n",
      "Collecting pytz>=2020.1 (from pandas)\n",
      "  Using cached pytz-2024.2-py2.py3-none-any.whl.metadata (22 kB)\n",
      "Collecting tzdata>=2022.7 (from pandas)\n",
      "  Using cached tzdata-2024.2-py2.py3-none-any.whl.metadata (1.4 kB)\n",
      "Requirement already satisfied: six>=1.5 in c:\\users\\bened\\anaconda3\\envs\\spacy_env\\lib\\site-packages (from python-dateutil>=2.8.2->pandas) (1.16.0)\n",
      "Using cached pandas-2.2.3-cp311-cp311-win_amd64.whl (11.6 MB)\n",
      "Using cached pytz-2024.2-py2.py3-none-any.whl (508 kB)\n",
      "Using cached tzdata-2024.2-py2.py3-none-any.whl (346 kB)\n",
      "Installing collected packages: pytz, tzdata, pandas\n",
      "Successfully installed pandas-2.2.3 pytz-2024.2 tzdata-2024.2\n"
     ]
    }
   ],
   "source": [
    "! pip install pandas"
   ]
  },
  {
   "cell_type": "code",
   "execution_count": 28,
   "metadata": {},
   "outputs": [
    {
     "data": {
      "text/html": [
       "<div>\n",
       "<style scoped>\n",
       "    .dataframe tbody tr th:only-of-type {\n",
       "        vertical-align: middle;\n",
       "    }\n",
       "\n",
       "    .dataframe tbody tr th {\n",
       "        vertical-align: top;\n",
       "    }\n",
       "\n",
       "    .dataframe thead th {\n",
       "        text-align: right;\n",
       "    }\n",
       "</style>\n",
       "<table border=\"1\" class=\"dataframe\">\n",
       "  <thead>\n",
       "    <tr style=\"text-align: right;\">\n",
       "      <th></th>\n",
       "      <th>imdbid</th>\n",
       "      <th>title</th>\n",
       "      <th>akas</th>\n",
       "      <th>year</th>\n",
       "      <th>metascore</th>\n",
       "      <th>imdb user rating</th>\n",
       "      <th>number of imdb user votes</th>\n",
       "      <th>awards</th>\n",
       "      <th>opening weekend</th>\n",
       "      <th>producers</th>\n",
       "      <th>...</th>\n",
       "      <th>casting directors</th>\n",
       "      <th>cast</th>\n",
       "      <th>countries</th>\n",
       "      <th>age restrict</th>\n",
       "      <th>plot</th>\n",
       "      <th>plot outline</th>\n",
       "      <th>keywords</th>\n",
       "      <th>genres</th>\n",
       "      <th>taglines</th>\n",
       "      <th>synopsis</th>\n",
       "    </tr>\n",
       "  </thead>\n",
       "  <tbody>\n",
       "    <tr>\n",
       "      <th>0</th>\n",
       "      <td>120770</td>\n",
       "      <td>A Night at the Roxbury</td>\n",
       "      <td>Une nuit au Roxbury (France), Movida en el Rox...</td>\n",
       "      <td>1998</td>\n",
       "      <td>26</td>\n",
       "      <td>6</td>\n",
       "      <td>56537</td>\n",
       "      <td>NaN</td>\n",
       "      <td>United States:</td>\n",
       "      <td>Marie Cantin, Erin Fraser, Amy Heckerling, Ste...</td>\n",
       "      <td>...</td>\n",
       "      <td>Jeff Greenberg</td>\n",
       "      <td>Will Ferrell, Chris Kattan, Raquel Gardner, Vi...</td>\n",
       "      <td>United States</td>\n",
       "      <td>Argentina:13, Australia:M, Brazil:14, Canada:P...</td>\n",
       "      <td>Two dim-witted brothers dream of owning their ...</td>\n",
       "      <td>The Roxbury Guys, Steve and Doug Butabi, want ...</td>\n",
       "      <td>woman-on-top, nightclub, car-accident, 1990s, ...</td>\n",
       "      <td>Comedy, Music, Romance</td>\n",
       "      <td>Score!</td>\n",
       "      <td>NaN</td>\n",
       "    </tr>\n",
       "    <tr>\n",
       "      <th>1</th>\n",
       "      <td>132512</td>\n",
       "      <td>At First Sight</td>\n",
       "      <td>Sight Unseen (United States), Premier regard (...</td>\n",
       "      <td>1999</td>\n",
       "      <td>40</td>\n",
       "      <td>6</td>\n",
       "      <td>12922</td>\n",
       "      <td>NaN</td>\n",
       "      <td>United States:</td>\n",
       "      <td>Rob Cowan, Roger Paradiso, Irwin Winkler</td>\n",
       "      <td>...</td>\n",
       "      <td>Kerry Barden, Billy Hopkins, Suzanne Smith</td>\n",
       "      <td>Val Kilmer, Mira Sorvino, Kelly McGillis, Stev...</td>\n",
       "      <td>United States</td>\n",
       "      <td>Argentina:13, Australia:M, Canada:PG::(Alberta...</td>\n",
       "      <td>A blind man has an operation to regain his sig...</td>\n",
       "      <td>First Sight is true to the title from start to...</td>\n",
       "      <td>visual-agnosia, brother-sister-relationship, r...</td>\n",
       "      <td>Drama, Romance</td>\n",
       "      <td>Only Love Can Bring You To Your Senses., Scien...</td>\n",
       "      <td>NaN</td>\n",
       "    </tr>\n",
       "    <tr>\n",
       "      <th>2</th>\n",
       "      <td>118661</td>\n",
       "      <td>The Avengers</td>\n",
       "      <td>Chapeau melon et bottes de cuir (France), Mit ...</td>\n",
       "      <td>1998</td>\n",
       "      <td>12</td>\n",
       "      <td>3</td>\n",
       "      <td>40784</td>\n",
       "      <td>FMCJ Award 1998, Golden Reel Award 1999, Razzi...</td>\n",
       "      <td>United States: $10,305,957, 16 Aug 1998</td>\n",
       "      <td>Susan Ekins, Jerry Weintraub</td>\n",
       "      <td>...</td>\n",
       "      <td>Susie Figgis</td>\n",
       "      <td>Ralph Fiennes, Uma Thurman, Sean Connery, Patr...</td>\n",
       "      <td>United States</td>\n",
       "      <td>Argentina:13, Australia:PG, Brazil:10, Canada:...</td>\n",
       "      <td>Two British Agents team up to stop Sir August ...</td>\n",
       "      <td>British Ministry Agent John Steed, under direc...</td>\n",
       "      <td>good-versus-evil, heroine, evil-man, villain, ...</td>\n",
       "      <td>Action, Adventure, Sci-Fi, Thriller</td>\n",
       "      <td>Mrs. Peel, we're needed., Extraordinary crimes...</td>\n",
       "      <td>NaN</td>\n",
       "    </tr>\n",
       "    <tr>\n",
       "      <th>3</th>\n",
       "      <td>215545</td>\n",
       "      <td>Bamboozled</td>\n",
       "      <td>The Very Black Show (France), It's Showtime (G...</td>\n",
       "      <td>2000</td>\n",
       "      <td>54</td>\n",
       "      <td>6</td>\n",
       "      <td>10373</td>\n",
       "      <td>Golden Berlin Bear 2001, Black Reel 2001, Imag...</td>\n",
       "      <td>United States:</td>\n",
       "      <td>Jon Kilik, Spike Lee, Kisha Imani Cameron</td>\n",
       "      <td>...</td>\n",
       "      <td>Aisha Coley</td>\n",
       "      <td>Damon Wayans, Savion Glover, Jada Pinkett Smit...</td>\n",
       "      <td>United States</td>\n",
       "      <td>Australia:MA, Finland:K-15, France:Tous public...</td>\n",
       "      <td>A frustrated African-American TV writer propos...</td>\n",
       "      <td>Dark, biting satire of the television industry...</td>\n",
       "      <td>television-industry, african-american, referen...</td>\n",
       "      <td>Comedy, Drama, Music</td>\n",
       "      <td>Starring the great negroe actors</td>\n",
       "      <td>In a New York City residence, Pierre Delacroix...</td>\n",
       "    </tr>\n",
       "    <tr>\n",
       "      <th>4</th>\n",
       "      <td>118715</td>\n",
       "      <td>The Big Lebowski</td>\n",
       "      <td>El gran Lebowski (Spain), O Grande Lebowski (P...</td>\n",
       "      <td>1998</td>\n",
       "      <td>71</td>\n",
       "      <td>8</td>\n",
       "      <td>724388</td>\n",
       "      <td>Honorable Mention 1998, ACCA 1998, Golden Berl...</td>\n",
       "      <td>United States: $5,533,844, 08 Mar 1998</td>\n",
       "      <td>Tim Bevan, John Cameron, Ethan Coen, Eric Fell...</td>\n",
       "      <td>...</td>\n",
       "      <td>John S. Lyons</td>\n",
       "      <td>Jeff Bridges, John Goodman, Julianne Moore, St...</td>\n",
       "      <td>United States, United Kingdom</td>\n",
       "      <td>Argentina:16, Argentina:18::(cable rating), Au...</td>\n",
       "      <td>Jeff \"The Dude\" Lebowski, mistaken for a milli...</td>\n",
       "      <td>When \"the dude\" Lebowski is mistaken for a mil...</td>\n",
       "      <td>rug, nihilism, pornographer, bowling-alley, de...</td>\n",
       "      <td>Comedy, Crime, Sport</td>\n",
       "      <td>Hay quienes tratan de ganarse la vida sin move...</td>\n",
       "      <td>A tumbleweed rolls up a hillside just outside ...</td>\n",
       "    </tr>\n",
       "  </tbody>\n",
       "</table>\n",
       "<p>5 rows × 25 columns</p>\n",
       "</div>"
      ],
      "text/plain": [
       "   imdbid                   title  \\\n",
       "0  120770  A Night at the Roxbury   \n",
       "1  132512          At First Sight   \n",
       "2  118661            The Avengers   \n",
       "3  215545              Bamboozled   \n",
       "4  118715        The Big Lebowski   \n",
       "\n",
       "                                                akas  year  metascore  \\\n",
       "0  Une nuit au Roxbury (France), Movida en el Rox...  1998         26   \n",
       "1  Sight Unseen (United States), Premier regard (...  1999         40   \n",
       "2  Chapeau melon et bottes de cuir (France), Mit ...  1998         12   \n",
       "3  The Very Black Show (France), It's Showtime (G...  2000         54   \n",
       "4  El gran Lebowski (Spain), O Grande Lebowski (P...  1998         71   \n",
       "\n",
       "   imdb user rating  number of imdb user votes  \\\n",
       "0                 6                      56537   \n",
       "1                 6                      12922   \n",
       "2                 3                      40784   \n",
       "3                 6                      10373   \n",
       "4                 8                     724388   \n",
       "\n",
       "                                              awards  \\\n",
       "0                                                NaN   \n",
       "1                                                NaN   \n",
       "2  FMCJ Award 1998, Golden Reel Award 1999, Razzi...   \n",
       "3  Golden Berlin Bear 2001, Black Reel 2001, Imag...   \n",
       "4  Honorable Mention 1998, ACCA 1998, Golden Berl...   \n",
       "\n",
       "                           opening weekend  \\\n",
       "0                          United States:    \n",
       "1                          United States:    \n",
       "2  United States: $10,305,957, 16 Aug 1998   \n",
       "3                          United States:    \n",
       "4   United States: $5,533,844, 08 Mar 1998   \n",
       "\n",
       "                                           producers  ...  \\\n",
       "0  Marie Cantin, Erin Fraser, Amy Heckerling, Ste...  ...   \n",
       "1           Rob Cowan, Roger Paradiso, Irwin Winkler  ...   \n",
       "2                       Susan Ekins, Jerry Weintraub  ...   \n",
       "3          Jon Kilik, Spike Lee, Kisha Imani Cameron  ...   \n",
       "4  Tim Bevan, John Cameron, Ethan Coen, Eric Fell...  ...   \n",
       "\n",
       "                            casting directors  \\\n",
       "0                              Jeff Greenberg   \n",
       "1  Kerry Barden, Billy Hopkins, Suzanne Smith   \n",
       "2                                Susie Figgis   \n",
       "3                                 Aisha Coley   \n",
       "4                               John S. Lyons   \n",
       "\n",
       "                                                cast  \\\n",
       "0  Will Ferrell, Chris Kattan, Raquel Gardner, Vi...   \n",
       "1  Val Kilmer, Mira Sorvino, Kelly McGillis, Stev...   \n",
       "2  Ralph Fiennes, Uma Thurman, Sean Connery, Patr...   \n",
       "3  Damon Wayans, Savion Glover, Jada Pinkett Smit...   \n",
       "4  Jeff Bridges, John Goodman, Julianne Moore, St...   \n",
       "\n",
       "                       countries  \\\n",
       "0                  United States   \n",
       "1                  United States   \n",
       "2                  United States   \n",
       "3                  United States   \n",
       "4  United States, United Kingdom   \n",
       "\n",
       "                                        age restrict  \\\n",
       "0  Argentina:13, Australia:M, Brazil:14, Canada:P...   \n",
       "1  Argentina:13, Australia:M, Canada:PG::(Alberta...   \n",
       "2  Argentina:13, Australia:PG, Brazil:10, Canada:...   \n",
       "3  Australia:MA, Finland:K-15, France:Tous public...   \n",
       "4  Argentina:16, Argentina:18::(cable rating), Au...   \n",
       "\n",
       "                                                plot  \\\n",
       "0  Two dim-witted brothers dream of owning their ...   \n",
       "1  A blind man has an operation to regain his sig...   \n",
       "2  Two British Agents team up to stop Sir August ...   \n",
       "3  A frustrated African-American TV writer propos...   \n",
       "4  Jeff \"The Dude\" Lebowski, mistaken for a milli...   \n",
       "\n",
       "                                        plot outline  \\\n",
       "0  The Roxbury Guys, Steve and Doug Butabi, want ...   \n",
       "1  First Sight is true to the title from start to...   \n",
       "2  British Ministry Agent John Steed, under direc...   \n",
       "3  Dark, biting satire of the television industry...   \n",
       "4  When \"the dude\" Lebowski is mistaken for a mil...   \n",
       "\n",
       "                                            keywords  \\\n",
       "0  woman-on-top, nightclub, car-accident, 1990s, ...   \n",
       "1  visual-agnosia, brother-sister-relationship, r...   \n",
       "2  good-versus-evil, heroine, evil-man, villain, ...   \n",
       "3  television-industry, african-american, referen...   \n",
       "4  rug, nihilism, pornographer, bowling-alley, de...   \n",
       "\n",
       "                                genres  \\\n",
       "0               Comedy, Music, Romance   \n",
       "1                       Drama, Romance   \n",
       "2  Action, Adventure, Sci-Fi, Thriller   \n",
       "3                 Comedy, Drama, Music   \n",
       "4                 Comedy, Crime, Sport   \n",
       "\n",
       "                                            taglines  \\\n",
       "0                                             Score!   \n",
       "1  Only Love Can Bring You To Your Senses., Scien...   \n",
       "2  Mrs. Peel, we're needed., Extraordinary crimes...   \n",
       "3                   Starring the great negroe actors   \n",
       "4  Hay quienes tratan de ganarse la vida sin move...   \n",
       "\n",
       "                                            synopsis  \n",
       "0                                                NaN  \n",
       "1                                                NaN  \n",
       "2                                                NaN  \n",
       "3  In a New York City residence, Pierre Delacroix...  \n",
       "4  A tumbleweed rolls up a hillside just outside ...  \n",
       "\n",
       "[5 rows x 25 columns]"
      ]
     },
     "execution_count": 28,
     "metadata": {},
     "output_type": "execute_result"
    }
   ],
   "source": [
    "import pandas as pd\n",
    "\n",
    "meta_df = pd.read_csv(f'{root_path}\\\\movie_meta_data.csv')\n",
    "meta_df.head()"
   ]
  },
  {
   "cell_type": "code",
   "execution_count": 29,
   "metadata": {},
   "outputs": [
    {
     "name": "stdout",
     "output_type": "stream",
     "text": [
      "['10 Cloverfield Lane_1179933_anno.txt', '10 Things I Hate About You_0147800_anno.txt', '12 Angry Men_0118528_anno.txt', '12 Monkeys_0114746_anno.txt', '12 Years a Slave_2024544_anno.txt', '127 Hours_1542344_anno.txt', '13 13 13_2991516_anno.txt', '1408_0450385_anno.txt', '1492 Conquest of Paradise_0103594_anno.txt', '15 Minutes_0179626_anno.txt']\n"
     ]
    }
   ],
   "source": [
    "# take a look at filename format\n",
    "\n",
    "filenames = list(screenplays_annot.keys())\n",
    "print(filenames[:10])"
   ]
  },
  {
   "cell_type": "code",
   "execution_count": 30,
   "metadata": {},
   "outputs": [
    {
     "name": "stdout",
     "output_type": "stream",
     "text": [
      "Title: 10 Cloverfield Lane  ID: 1179933\n",
      "Title: 10 Things I Hate About You  ID: 0147800\n",
      "Title: 12 Angry Men  ID: 0118528\n",
      "Title: 12 Monkeys  ID: 0114746\n",
      "Title: 12 Years a Slave  ID: 2024544\n",
      "Title: 127 Hours  ID: 1542344\n",
      "Title: 13 13 13  ID: 2991516\n",
      "Title: 1408  ID: 0450385\n",
      "Title: 1492 Conquest of Paradise  ID: 0103594\n",
      "Title: 15 Minutes  ID: 0179626\n"
     ]
    }
   ],
   "source": [
    "# filenames are formatted as movietitle_IMDBid \n",
    "import re\n",
    "\n",
    "filenames = list(screenplays_annot.keys())\n",
    "movie_titles = []\n",
    "ids = []\n",
    "for f in filenames:\n",
    "    # split at first _ to separate title from rest of filename\n",
    "    split = f.split(sep=\"_\")\n",
    "    movie_title = split[0]\n",
    "    id = split[1]\n",
    "    movie_titles.append(movie_title)\n",
    "    ids.append(id)\n",
    "i = 0\n",
    "for title, id in zip(movie_titles, ids):\n",
    "    if i == 10:\n",
    "        break\n",
    "    else:\n",
    "        print(\"Title:\", title, \" ID:\", id)\n",
    "        i += 1"
   ]
  },
  {
   "cell_type": "code",
   "execution_count": 31,
   "metadata": {},
   "outputs": [
    {
     "data": {
      "text/html": [
       "<div>\n",
       "<style scoped>\n",
       "    .dataframe tbody tr th:only-of-type {\n",
       "        vertical-align: middle;\n",
       "    }\n",
       "\n",
       "    .dataframe tbody tr th {\n",
       "        vertical-align: top;\n",
       "    }\n",
       "\n",
       "    .dataframe thead th {\n",
       "        text-align: right;\n",
       "    }\n",
       "</style>\n",
       "<table border=\"1\" class=\"dataframe\">\n",
       "  <thead>\n",
       "    <tr style=\"text-align: right;\">\n",
       "      <th></th>\n",
       "      <th>imdbid</th>\n",
       "      <th>annot_screenplay</th>\n",
       "    </tr>\n",
       "  </thead>\n",
       "  <tbody>\n",
       "    <tr>\n",
       "      <th>0</th>\n",
       "      <td>1179933</td>\n",
       "      <td>dialog: The Cellar\\ndialog: by\\ndialog: Josh C...</td>\n",
       "    </tr>\n",
       "    <tr>\n",
       "      <th>1</th>\n",
       "      <td>0147800</td>\n",
       "      <td>dialog: \\ntext: TEN THINGS I HATE ABOUT YOU\\nd...</td>\n",
       "    </tr>\n",
       "    <tr>\n",
       "      <th>2</th>\n",
       "      <td>0118528</td>\n",
       "      <td>scene_heading: PLEASE COPY AND RETURN |\\ndialo...</td>\n",
       "    </tr>\n",
       "    <tr>\n",
       "      <th>3</th>\n",
       "      <td>0114746</td>\n",
       "      <td>dialog: \\nspeaker_heading: TWELVE MONKEYS\\ndia...</td>\n",
       "    </tr>\n",
       "    <tr>\n",
       "      <th>4</th>\n",
       "      <td>2024544</td>\n",
       "      <td>dialog: \\nspeaker_heading: 12 YEARS A SLAVE\\nd...</td>\n",
       "    </tr>\n",
       "  </tbody>\n",
       "</table>\n",
       "</div>"
      ],
      "text/plain": [
       "    imdbid                                   annot_screenplay\n",
       "0  1179933  dialog: The Cellar\\ndialog: by\\ndialog: Josh C...\n",
       "1  0147800  dialog: \\ntext: TEN THINGS I HATE ABOUT YOU\\nd...\n",
       "2  0118528  scene_heading: PLEASE COPY AND RETURN |\\ndialo...\n",
       "3  0114746  dialog: \\nspeaker_heading: TWELVE MONKEYS\\ndia...\n",
       "4  2024544  dialog: \\nspeaker_heading: 12 YEARS A SLAVE\\nd..."
      ]
     },
     "execution_count": 31,
     "metadata": {},
     "output_type": "execute_result"
    }
   ],
   "source": [
    "screenplays_df = pd.DataFrame({\n",
    "    'imdbid': ids,\n",
    "    'annot_screenplay': screenplays_annot.values()\n",
    "})\n",
    "screenplays_df.head()"
   ]
  },
  {
   "cell_type": "code",
   "execution_count": 32,
   "metadata": {},
   "outputs": [
    {
     "name": "stdout",
     "output_type": "stream",
     "text": [
      "<class 'pandas.core.frame.DataFrame'>\n",
      "RangeIndex: 1998 entries, 0 to 1997\n",
      "Data columns (total 2 columns):\n",
      " #   Column            Non-Null Count  Dtype \n",
      "---  ------            --------------  ----- \n",
      " 0   imdbid            1998 non-null   object\n",
      " 1   annot_screenplay  1998 non-null   object\n",
      "dtypes: object(2)\n",
      "memory usage: 31.3+ KB\n",
      "None\n",
      "<class 'pandas.core.frame.DataFrame'>\n",
      "RangeIndex: 2858 entries, 0 to 2857\n",
      "Data columns (total 25 columns):\n",
      " #   Column                     Non-Null Count  Dtype \n",
      "---  ------                     --------------  ----- \n",
      " 0   imdbid                     2858 non-null   int64 \n",
      " 1   title                      2858 non-null   object\n",
      " 2   akas                       2652 non-null   object\n",
      " 3   year                       2858 non-null   int64 \n",
      " 4   metascore                  2858 non-null   int64 \n",
      " 5   imdb user rating           2858 non-null   int64 \n",
      " 6   number of imdb user votes  2858 non-null   int64 \n",
      " 7   awards                     2243 non-null   object\n",
      " 8   opening weekend            1739 non-null   object\n",
      " 9   producers                  2640 non-null   object\n",
      " 10  budget                     1624 non-null   object\n",
      " 11  script department          2220 non-null   object\n",
      " 12  production companies       2682 non-null   object\n",
      " 13  writers                    2696 non-null   object\n",
      " 14  directors                  2658 non-null   object\n",
      " 15  casting directors          2141 non-null   object\n",
      " 16  cast                       2806 non-null   object\n",
      " 17  countries                  2678 non-null   object\n",
      " 18  age restrict               2526 non-null   object\n",
      " 19  plot                       2709 non-null   object\n",
      " 20  plot outline               2457 non-null   object\n",
      " 21  keywords                   2601 non-null   object\n",
      " 22  genres                     2846 non-null   object\n",
      " 23  taglines                   2256 non-null   object\n",
      " 24  synopsis                   1852 non-null   object\n",
      "dtypes: int64(5), object(20)\n",
      "memory usage: 558.3+ KB\n",
      "None\n"
     ]
    }
   ],
   "source": [
    "print(screenplays_df.info())\n",
    "print(meta_df.info())"
   ]
  },
  {
   "cell_type": "code",
   "execution_count": 33,
   "metadata": {},
   "outputs": [
    {
     "data": {
      "text/html": [
       "<div>\n",
       "<style scoped>\n",
       "    .dataframe tbody tr th:only-of-type {\n",
       "        vertical-align: middle;\n",
       "    }\n",
       "\n",
       "    .dataframe tbody tr th {\n",
       "        vertical-align: top;\n",
       "    }\n",
       "\n",
       "    .dataframe thead th {\n",
       "        text-align: right;\n",
       "    }\n",
       "</style>\n",
       "<table border=\"1\" class=\"dataframe\">\n",
       "  <thead>\n",
       "    <tr style=\"text-align: right;\">\n",
       "      <th></th>\n",
       "      <th>imdbid</th>\n",
       "      <th>title</th>\n",
       "      <th>akas</th>\n",
       "      <th>year</th>\n",
       "      <th>metascore</th>\n",
       "      <th>imdb user rating</th>\n",
       "      <th>number of imdb user votes</th>\n",
       "      <th>awards</th>\n",
       "      <th>opening weekend</th>\n",
       "      <th>producers</th>\n",
       "      <th>...</th>\n",
       "      <th>cast</th>\n",
       "      <th>countries</th>\n",
       "      <th>age restrict</th>\n",
       "      <th>plot</th>\n",
       "      <th>plot outline</th>\n",
       "      <th>keywords</th>\n",
       "      <th>genres</th>\n",
       "      <th>taglines</th>\n",
       "      <th>synopsis</th>\n",
       "      <th>annot_screenplay</th>\n",
       "    </tr>\n",
       "  </thead>\n",
       "  <tbody>\n",
       "    <tr>\n",
       "      <th>0</th>\n",
       "      <td>120770</td>\n",
       "      <td>A Night at the Roxbury</td>\n",
       "      <td>Une nuit au Roxbury (France), Movida en el Rox...</td>\n",
       "      <td>1998</td>\n",
       "      <td>26</td>\n",
       "      <td>6</td>\n",
       "      <td>56537</td>\n",
       "      <td>NaN</td>\n",
       "      <td>United States:</td>\n",
       "      <td>Marie Cantin, Erin Fraser, Amy Heckerling, Ste...</td>\n",
       "      <td>...</td>\n",
       "      <td>Will Ferrell, Chris Kattan, Raquel Gardner, Vi...</td>\n",
       "      <td>United States</td>\n",
       "      <td>Argentina:13, Australia:M, Brazil:14, Canada:P...</td>\n",
       "      <td>Two dim-witted brothers dream of owning their ...</td>\n",
       "      <td>The Roxbury Guys, Steve and Doug Butabi, want ...</td>\n",
       "      <td>woman-on-top, nightclub, car-accident, 1990s, ...</td>\n",
       "      <td>Comedy, Music, Romance</td>\n",
       "      <td>Score!</td>\n",
       "      <td>NaN</td>\n",
       "      <td>dialog: \\ntext: A NIGHT AT THE ROXBURY\\ndialog...</td>\n",
       "    </tr>\n",
       "    <tr>\n",
       "      <th>1</th>\n",
       "      <td>132512</td>\n",
       "      <td>At First Sight</td>\n",
       "      <td>Sight Unseen (United States), Premier regard (...</td>\n",
       "      <td>1999</td>\n",
       "      <td>40</td>\n",
       "      <td>6</td>\n",
       "      <td>12922</td>\n",
       "      <td>NaN</td>\n",
       "      <td>United States:</td>\n",
       "      <td>Rob Cowan, Roger Paradiso, Irwin Winkler</td>\n",
       "      <td>...</td>\n",
       "      <td>Val Kilmer, Mira Sorvino, Kelly McGillis, Stev...</td>\n",
       "      <td>United States</td>\n",
       "      <td>Argentina:13, Australia:M, Canada:PG::(Alberta...</td>\n",
       "      <td>A blind man has an operation to regain his sig...</td>\n",
       "      <td>First Sight is true to the title from start to...</td>\n",
       "      <td>visual-agnosia, brother-sister-relationship, r...</td>\n",
       "      <td>Drama, Romance</td>\n",
       "      <td>Only Love Can Bring You To Your Senses., Scien...</td>\n",
       "      <td>NaN</td>\n",
       "      <td>scene_heading: AT FIRST SIGHT\\nscene_heading: ...</td>\n",
       "    </tr>\n",
       "    <tr>\n",
       "      <th>2</th>\n",
       "      <td>118661</td>\n",
       "      <td>The Avengers</td>\n",
       "      <td>Chapeau melon et bottes de cuir (France), Mit ...</td>\n",
       "      <td>1998</td>\n",
       "      <td>12</td>\n",
       "      <td>3</td>\n",
       "      <td>40784</td>\n",
       "      <td>FMCJ Award 1998, Golden Reel Award 1999, Razzi...</td>\n",
       "      <td>United States: $10,305,957, 16 Aug 1998</td>\n",
       "      <td>Susan Ekins, Jerry Weintraub</td>\n",
       "      <td>...</td>\n",
       "      <td>Ralph Fiennes, Uma Thurman, Sean Connery, Patr...</td>\n",
       "      <td>United States</td>\n",
       "      <td>Argentina:13, Australia:PG, Brazil:10, Canada:...</td>\n",
       "      <td>Two British Agents team up to stop Sir August ...</td>\n",
       "      <td>British Ministry Agent John Steed, under direc...</td>\n",
       "      <td>good-versus-evil, heroine, evil-man, villain, ...</td>\n",
       "      <td>Action, Adventure, Sci-Fi, Thriller</td>\n",
       "      <td>Mrs. Peel, we're needed., Extraordinary crimes...</td>\n",
       "      <td>NaN</td>\n",
       "      <td>dialog: \\nspeaker_heading: THE AVENGERS\\ndialo...</td>\n",
       "    </tr>\n",
       "    <tr>\n",
       "      <th>3</th>\n",
       "      <td>215545</td>\n",
       "      <td>Bamboozled</td>\n",
       "      <td>The Very Black Show (France), It's Showtime (G...</td>\n",
       "      <td>2000</td>\n",
       "      <td>54</td>\n",
       "      <td>6</td>\n",
       "      <td>10373</td>\n",
       "      <td>Golden Berlin Bear 2001, Black Reel 2001, Imag...</td>\n",
       "      <td>United States:</td>\n",
       "      <td>Jon Kilik, Spike Lee, Kisha Imani Cameron</td>\n",
       "      <td>...</td>\n",
       "      <td>Damon Wayans, Savion Glover, Jada Pinkett Smit...</td>\n",
       "      <td>United States</td>\n",
       "      <td>Australia:MA, Finland:K-15, France:Tous public...</td>\n",
       "      <td>A frustrated African-American TV writer propos...</td>\n",
       "      <td>Dark, biting satire of the television industry...</td>\n",
       "      <td>television-industry, african-american, referen...</td>\n",
       "      <td>Comedy, Drama, Music</td>\n",
       "      <td>Starring the great negroe actors</td>\n",
       "      <td>In a New York City residence, Pierre Delacroix...</td>\n",
       "      <td>dialog: Bamboozled\\ndialog: by\\ndialog: Spike ...</td>\n",
       "    </tr>\n",
       "    <tr>\n",
       "      <th>4</th>\n",
       "      <td>118715</td>\n",
       "      <td>The Big Lebowski</td>\n",
       "      <td>El gran Lebowski (Spain), O Grande Lebowski (P...</td>\n",
       "      <td>1998</td>\n",
       "      <td>71</td>\n",
       "      <td>8</td>\n",
       "      <td>724388</td>\n",
       "      <td>Honorable Mention 1998, ACCA 1998, Golden Berl...</td>\n",
       "      <td>United States: $5,533,844, 08 Mar 1998</td>\n",
       "      <td>Tim Bevan, John Cameron, Ethan Coen, Eric Fell...</td>\n",
       "      <td>...</td>\n",
       "      <td>Jeff Bridges, John Goodman, Julianne Moore, St...</td>\n",
       "      <td>United States, United Kingdom</td>\n",
       "      <td>Argentina:16, Argentina:18::(cable rating), Au...</td>\n",
       "      <td>Jeff \"The Dude\" Lebowski, mistaken for a milli...</td>\n",
       "      <td>When \"the dude\" Lebowski is mistaken for a mil...</td>\n",
       "      <td>rug, nihilism, pornographer, bowling-alley, de...</td>\n",
       "      <td>Comedy, Crime, Sport</td>\n",
       "      <td>Hay quienes tratan de ganarse la vida sin move...</td>\n",
       "      <td>A tumbleweed rolls up a hillside just outside ...</td>\n",
       "      <td>dialog: \\nscene_heading: THE BIG LEBOWSKI\\ntex...</td>\n",
       "    </tr>\n",
       "  </tbody>\n",
       "</table>\n",
       "<p>5 rows × 26 columns</p>\n",
       "</div>"
      ],
      "text/plain": [
       "   imdbid                   title  \\\n",
       "0  120770  A Night at the Roxbury   \n",
       "1  132512          At First Sight   \n",
       "2  118661            The Avengers   \n",
       "3  215545              Bamboozled   \n",
       "4  118715        The Big Lebowski   \n",
       "\n",
       "                                                akas  year  metascore  \\\n",
       "0  Une nuit au Roxbury (France), Movida en el Rox...  1998         26   \n",
       "1  Sight Unseen (United States), Premier regard (...  1999         40   \n",
       "2  Chapeau melon et bottes de cuir (France), Mit ...  1998         12   \n",
       "3  The Very Black Show (France), It's Showtime (G...  2000         54   \n",
       "4  El gran Lebowski (Spain), O Grande Lebowski (P...  1998         71   \n",
       "\n",
       "   imdb user rating  number of imdb user votes  \\\n",
       "0                 6                      56537   \n",
       "1                 6                      12922   \n",
       "2                 3                      40784   \n",
       "3                 6                      10373   \n",
       "4                 8                     724388   \n",
       "\n",
       "                                              awards  \\\n",
       "0                                                NaN   \n",
       "1                                                NaN   \n",
       "2  FMCJ Award 1998, Golden Reel Award 1999, Razzi...   \n",
       "3  Golden Berlin Bear 2001, Black Reel 2001, Imag...   \n",
       "4  Honorable Mention 1998, ACCA 1998, Golden Berl...   \n",
       "\n",
       "                           opening weekend  \\\n",
       "0                          United States:    \n",
       "1                          United States:    \n",
       "2  United States: $10,305,957, 16 Aug 1998   \n",
       "3                          United States:    \n",
       "4   United States: $5,533,844, 08 Mar 1998   \n",
       "\n",
       "                                           producers  ...  \\\n",
       "0  Marie Cantin, Erin Fraser, Amy Heckerling, Ste...  ...   \n",
       "1           Rob Cowan, Roger Paradiso, Irwin Winkler  ...   \n",
       "2                       Susan Ekins, Jerry Weintraub  ...   \n",
       "3          Jon Kilik, Spike Lee, Kisha Imani Cameron  ...   \n",
       "4  Tim Bevan, John Cameron, Ethan Coen, Eric Fell...  ...   \n",
       "\n",
       "                                                cast  \\\n",
       "0  Will Ferrell, Chris Kattan, Raquel Gardner, Vi...   \n",
       "1  Val Kilmer, Mira Sorvino, Kelly McGillis, Stev...   \n",
       "2  Ralph Fiennes, Uma Thurman, Sean Connery, Patr...   \n",
       "3  Damon Wayans, Savion Glover, Jada Pinkett Smit...   \n",
       "4  Jeff Bridges, John Goodman, Julianne Moore, St...   \n",
       "\n",
       "                       countries  \\\n",
       "0                  United States   \n",
       "1                  United States   \n",
       "2                  United States   \n",
       "3                  United States   \n",
       "4  United States, United Kingdom   \n",
       "\n",
       "                                        age restrict  \\\n",
       "0  Argentina:13, Australia:M, Brazil:14, Canada:P...   \n",
       "1  Argentina:13, Australia:M, Canada:PG::(Alberta...   \n",
       "2  Argentina:13, Australia:PG, Brazil:10, Canada:...   \n",
       "3  Australia:MA, Finland:K-15, France:Tous public...   \n",
       "4  Argentina:16, Argentina:18::(cable rating), Au...   \n",
       "\n",
       "                                                plot  \\\n",
       "0  Two dim-witted brothers dream of owning their ...   \n",
       "1  A blind man has an operation to regain his sig...   \n",
       "2  Two British Agents team up to stop Sir August ...   \n",
       "3  A frustrated African-American TV writer propos...   \n",
       "4  Jeff \"The Dude\" Lebowski, mistaken for a milli...   \n",
       "\n",
       "                                        plot outline  \\\n",
       "0  The Roxbury Guys, Steve and Doug Butabi, want ...   \n",
       "1  First Sight is true to the title from start to...   \n",
       "2  British Ministry Agent John Steed, under direc...   \n",
       "3  Dark, biting satire of the television industry...   \n",
       "4  When \"the dude\" Lebowski is mistaken for a mil...   \n",
       "\n",
       "                                            keywords  \\\n",
       "0  woman-on-top, nightclub, car-accident, 1990s, ...   \n",
       "1  visual-agnosia, brother-sister-relationship, r...   \n",
       "2  good-versus-evil, heroine, evil-man, villain, ...   \n",
       "3  television-industry, african-american, referen...   \n",
       "4  rug, nihilism, pornographer, bowling-alley, de...   \n",
       "\n",
       "                                genres  \\\n",
       "0               Comedy, Music, Romance   \n",
       "1                       Drama, Romance   \n",
       "2  Action, Adventure, Sci-Fi, Thriller   \n",
       "3                 Comedy, Drama, Music   \n",
       "4                 Comedy, Crime, Sport   \n",
       "\n",
       "                                            taglines  \\\n",
       "0                                             Score!   \n",
       "1  Only Love Can Bring You To Your Senses., Scien...   \n",
       "2  Mrs. Peel, we're needed., Extraordinary crimes...   \n",
       "3                   Starring the great negroe actors   \n",
       "4  Hay quienes tratan de ganarse la vida sin move...   \n",
       "\n",
       "                                            synopsis  \\\n",
       "0                                                NaN   \n",
       "1                                                NaN   \n",
       "2                                                NaN   \n",
       "3  In a New York City residence, Pierre Delacroix...   \n",
       "4  A tumbleweed rolls up a hillside just outside ...   \n",
       "\n",
       "                                    annot_screenplay  \n",
       "0  dialog: \\ntext: A NIGHT AT THE ROXBURY\\ndialog...  \n",
       "1  scene_heading: AT FIRST SIGHT\\nscene_heading: ...  \n",
       "2  dialog: \\nspeaker_heading: THE AVENGERS\\ndialo...  \n",
       "3  dialog: Bamboozled\\ndialog: by\\ndialog: Spike ...  \n",
       "4  dialog: \\nscene_heading: THE BIG LEBOWSKI\\ntex...  \n",
       "\n",
       "[5 rows x 26 columns]"
      ]
     },
     "execution_count": 33,
     "metadata": {},
     "output_type": "execute_result"
    }
   ],
   "source": [
    "# convert screenplays imdbid to int\n",
    "screenplays_df['imdbid'] = screenplays_df['imdbid'].astype(int)\n",
    "df = meta_df.merge(screenplays_df, on='imdbid')\n",
    "df.head()"
   ]
  },
  {
   "cell_type": "markdown",
   "metadata": {},
   "source": [
    "# 1. Data Annotations"
   ]
  },
  {
   "cell_type": "code",
   "execution_count": 34,
   "metadata": {},
   "outputs": [
    {
     "name": "stdout",
     "output_type": "stream",
     "text": [
      "dialog: \n",
      "text: A NIGHT AT THE ROXBURY\n",
      "dialog: written by\n",
      "dialog: Steve Koren\n",
      "dialog: Will Ferrell\n",
      "dialog: &\n",
      "dialog: Chris Kattan\n",
      "dialog: June 2, 1997\n",
      "speaker_heading: FADE IN:\n",
      "scene_heading: EXT. PANORAMIC VIEW OF LOS ANGELES - SUNSET\n",
      "text: As we hear \"What is Love\" by HADDAWAY -- night falls and\n",
      "text: partytime begins.\n",
      "scene_heading: SUPERIMPOSE: SUNSET BLVD., 11:03 PM\n",
      "speaker_heading: CUT TO:\n",
      "scene_heading: EXT. DANCE CLUBS - NIGHT\n",
      "dialog: Coconut Teaser, The Palace, The Roxbury, Tatou, etc.\n",
      "speaker_heading: CUT TO:\n",
      "scene_heading: INT. DANCE CLUBS- QUICK SHOTS - NIGHT\n",
      "text: Of random dancers -- gyrating, flirting, making out, drinking.\n",
      "speaker_heading: CUT TO:\n",
      "scene_heading: INT. PALACE - NIGHT\n",
      "text: The CAMERA MOVES THROUGH a crowded dance floor -- and\n",
      "text: SETTLES ON the rhythmically swaying backs of...\n",
      "speaker_heading: STEVE & DOUG BUTABI\n",
      "text: Our heroes. In their minds, Steve is tall, dark and handsome and DOUG is a little genius. Neither is correct\n",
      "dialog: -- except for the ta\n"
     ]
    }
   ],
   "source": [
    "roxbury_annot = df.at[0, 'annot_screenplay']\n",
    "print(roxbury_annot[:1000])"
   ]
  },
  {
   "cell_type": "markdown",
   "metadata": {},
   "source": [
    "Each \\n introduces a new label: data pairing\n",
    "Try to turn this into a json"
   ]
  },
  {
   "cell_type": "markdown",
   "metadata": {},
   "source": [
    "## 1.1 Format Text Data as JSONs"
   ]
  },
  {
   "cell_type": "code",
   "execution_count": 35,
   "metadata": {},
   "outputs": [
    {
     "name": "stdout",
     "output_type": "stream",
     "text": [
      "[{'dialog': ''}, {'text': 'A NIGHT AT THE ROXBURY'}, {'dialog': 'written by'}, {'dialog': 'Steve Koren'}, {'dialog': 'Will Ferrell'}, {'dialog': '&'}, {'dialog': 'Chris Kattan'}, {'dialog': 'June 2, 1997'}, {'speaker_heading': 'FADE IN:'}, {'scene_heading': 'EXT. PANORAMIC VIEW OF LOS ANGELES - SUNSET'}, {'text': 'As we hear \"What is Love\" by HADDAWAY -- night falls and'}, {'text': 'partytime begins.'}, {'scene_heading': 'SUPERIMPOSE: SUNSET BLVD., 11:03 PM'}, {'speaker_heading': 'CUT TO:'}, {'scene_heading': 'EXT. DANCE CLUBS - NIGHT'}, {'dialog': 'Coconut Teaser, The Palace, The Roxbury, Tatou, etc.'}, {'speaker_heading': 'CUT TO:'}, {'scene_heading': 'INT. DANCE CLUBS- QUICK SHOTS - NIGHT'}, {'text': 'Of random dancers -- gyrating, flirting, making out, drinking.'}, {'speaker_heading': 'CUT TO:'}, {'scene_heading': 'INT. PALACE - NIGHT'}, {'text': 'The CAMERA MOVES THROUGH a crowded dance floor -- and'}, {'text': 'SETTLES ON the rhythmically swaying backs of...'}, {'speaker_heading': 'STEVE & DOUG BUTABI'}, {'text': 'Our heroes. In their minds, Steve is tall, dark and handsome and DOUG is a little genius. Neither is correct'}, {'dialog': '-- except for the tall and little part.'}, {'text': 'They simultaneously turn and scope the room. In unison,'}, {'text': 'their heads bop to the MUSIC. Doug steps out from the'}, {'dialog': 'bar.'}, {'speaker_heading': 'DOUG'}, {'dialog': '(to O.S. female)'}, {'dialog': 'Hey! You want to dance? No?'}, {'dialog': \"Yes? Alright, don't worry about\"}, {'dialog': 'it.'}, {'text': 'Doug, rejected, steps back as Steve steps out.'}, {'speaker_heading': 'STEVE'}, {'dialog': '(to O.S. female)'}, {'dialog': 'Do you want to dance? You do?'}, {'dialog': \"You don't? Not a problem.\"}, {'text': 'They are no strangers to rejection, so neither is fazed.'}, {'text': 'Doug enthusiastically steps towards two attractive girls.'}, {'speaker_heading': 'DOUG'}, {'dialog': 'Hey, you wanna...?'}, {'text': 'Two attractive girls turn their backs to Doug.'}, {'speaker_heading': 'DOUG'}, {'dialog': '(remaining positive)'}, {'dialog': \"No? Maybe I'll see you later.\"}, {'text': 'Doug steps back. Steve spots GIRL AT end of BAR and'}, {'text': 'dances over to her.'}, {'speaker_heading': 'STEVE'}, {'dialog': 'Hey, do you want to dance?'}, {'speaker_heading': 'GIRL AT BAR'}, {'dialog': 'No.'}, {'speaker_heading': 'STEVE'}, {'dialog': '(cheerfully)'}, {'dialog': \"Alright, you know where I'll be.\"}, {'text': 'Steve steps back. Doug sees a pretty woman on a balcony,'}, {'text': 'waving to someone.'}, {'speaker_heading': 'DOUG/STEVE'}, {'dialog': '(pointing to each other)'}, {'dialog': 'You want him? Me? Him? Me?'}, {'text': 'Pretty woman waves them off, frustrated, and dissapears.'}, {'speaker_heading': 'STEVE'}, {'dialog': \"... Oh, you're okay?\"}, {'speaker_heading': 'DOUG'}, {'dialog': 'Alright then.'}, {'text': 'They turn around to the bar, bartender is standing in'}, {'text': 'front of them.'}, {'speaker_heading': 'STEVE'}, {'dialog': 'Bartender, can I get a beer?'}, {'text': 'The bartender pays no attention and walks away. Second'}, {'text': 'bartender comes from the opposite direction.'}, {'speaker_heading': 'DOUG'}, {'dialog': 'Barkeep, what do you have on tap?'}, {'text': 'The second bartender ignores them, walks away. The'}, {'text': 'bartenders keep crossing past the, paying no attention.'}, {'speaker_heading': 'STEVE'}, {'dialog': 'Big guy, could I get a...'}, {'speaker_heading': 'DOUG'}, {'dialog': \"My man, how 'bout a...\"}, {'speaker_heading': 'STEVE'}, {'dialog': \"S'cuse me, partner...\"}, {'speaker_heading': 'DOUG'}, {'dialog': 'Yo, buddy, I was wondering... you'}, {'dialog': \"know what? Don't worry about it.\"}, {'speaker_heading': 'STEVE'}, {'dialog': \"Yeah, we're good.\"}, {'text': 'They turn back to the dance floor and bop. Suddenly, a'}, {'text': 'HOT GIRL dances in front of them.'}, {'text': 'Doug dances up behind her and frantically gyrates. She'}, {'text': 'turns away -- only to find...'}, {'text': 'Steve gyrating behind her. The guys close in on her'}, {'text': 'trapping her in the middle.'}, {'speaker_heading': 'HOT GIRL'}, {'dialog': 'Get off me!'}, {'text': \"She runs off, furious. The guys, unaware that she's\"}, {'text': 'upset, celebrate.'}, {'speaker_heading': 'STEVE/DOUG'}, {'dialog': 'Score!'}, {'text': 'They high five. The doorman comes over with the upset'}]\n"
     ]
    }
   ],
   "source": [
    "# define a function to format screenplay as json\n",
    "## output should look like e.g.:\n",
    "## {\"label\": \"data\", \"label\":\"data\" etc.}\n",
    "\n",
    "import re\n",
    "\n",
    "def format_as_json(screenplay):\n",
    "    # store results as list of key-value pairs\n",
    "    screenplay_data = []\n",
    "    # split screenplays by \\n\n",
    "    lines = screenplay.split(\"\\n\")\n",
    "    # iterate through lines \n",
    "    for line in lines: \n",
    "        # take part of string up to : as label\n",
    "        match = re.search(r':', line)\n",
    "        if match:\n",
    "            # take end of match as cutoff\n",
    "            cutoff = match.end()\n",
    "            label = line[:cutoff-1]\n",
    "            # after cutoff is data \n",
    "            data = line[cutoff+1:]\n",
    "            # store as dict\n",
    "            line_info = {label:data}\n",
    "            # append to list\n",
    "            screenplay_data.append(line_info)\n",
    "    # return list\n",
    "    return screenplay_data\n",
    "\n",
    "# beta test on roxbury \n",
    "roxbury_data = format_as_json(roxbury_annot)\n",
    "print(roxbury_data[:100])"
   ]
  },
  {
   "cell_type": "code",
   "execution_count": 36,
   "metadata": {},
   "outputs": [],
   "source": [
    "# now we'll apply this logic to the whole corpus to see if labels are the same\n",
    "\n",
    "screenplay_jsons = df['annot_screenplay'].apply(format_as_json)"
   ]
  },
  {
   "cell_type": "code",
   "execution_count": 37,
   "metadata": {},
   "outputs": [
    {
     "name": "stdout",
     "output_type": "stream",
     "text": [
      "[{'dialog': ''}, {'scene_heading': 'THE LAST OF THE MOHICANS'}, {'dialog': 'Written by'}, {'dialog': 'Michael Mann &amp; Christopher Crowe'}, {'speaker_heading': 'FADE IN'}, {'text': 'The screen is a microcosm of leaf, crystal drops of precipitation, a stone,'}, {'text': \"emerald green moss. It's a landscape in miniature. We HEAR the forest. Some\"}, {'text': 'distant birds. Their sound seems to reverberate as if in a cavern. A piece of'}, {'text': 'sunlight refracts within the drops of water, paints a patch of moss yellow. The'}, {'text': 'whisper of wind is joined by another sound that mixes with it. A distant'}, {'text': \"rustling. It gets closer and louder. It's shallow breathing. It gets ominous.\"}, {'text': \"We're interlopers on the floor of the forest and something is coming.\"}, {'scene_heading': 'SUDDENLY: A MOCCASINED FOOT'}, {'dialog': ''}, {'text': 'rockets through the frame scaring us and ...'}, {'scene_heading': 'EXTREMELY CLOSE: PART OF AN INDIAN FACE'}, {'text': \"running hard. His head shaved bald except for a scalp-lock. Tattoos. He's\"}, {'text': \"twenty-five. He seems tall and muscled. Heavy, even breathing. We'll learn later\"}, {'dialog': 'this man is UNCAS, the last of the Mohicans.'}, {'speaker_heading': \"PROFILE: UNCAS' ARMS\"}, {'text': \"flash as he runs. One carries a flintlock musket. Sweat on the man's skin. A\"}, {'text': 'calico shirt is gathered at the waist with a wampum belt of small white beads'}, {'text': 'over a breechcloth. He wears leggings to protect his legs. A long-handled'}, {'text': 'tomahawk is stuffed in his belt.'}, {'dialog': 'CUT TO ...'}, {'scene_heading': 'ANOTHER PART OF THE FOREST - MASSIVE WAR CLUB - DAY'}, {'text': \"in the hand of another running man. He's heavier, older ...\"}, {'dialog': ''}, {'speaker_heading': 'CHEST'}, {'text': 'A green bear claw is tattooed there. Silver armband. A snake is tattooed over'}, {'text': \"his left eyebrow. Silver rings in his ear. He's forty to forty-five. His head is\"}, {'dialog': 'shaved into a scalp-lock. It says: \"Come and lift this from me. Take it, if you'}, {'dialog': 'can ...\" That prospect strikes us as extremely unlikely. This man is'}, {'speaker_heading': 'CHINGACHGOOK.'}, {'dialog': 'The French call him \"Le Gros Serpent,\" the Great Snake, because'}, {'dialog': '\"he knows the winding ways of men\\'s nature and he can strike a sudden, deathly'}, {'dialog': 'blow.\"'}, {'scene_heading': 'WIDE ANGLE: CHINGACHGOOK'}, {'text': \"runs, disturbing no leaves, no branches; making no sound. He's running parallel\"}, {'text': \"to Uncas through the cathedral of mature forest. It's heavily canopied. There's\"}, {'text': 'very little brush. The girth of the trees is huge. Shafts of light illuminate'}, {'text': 'motes of dust and turn leaves emerald where the sun breaks through. Sometimes'}, {'text': \"there's ferns; rhododendron, sometimes pale grass and outcroppings of rock.\"}, {'text': 'These men run the forest streams, over boulders, fallen trees and down into'}, {'text': 'ravines as if they own them. They do.'}, {'dialog': 'CUT TO ...'}, {'scene_heading': 'ANOTHER PART OF THE FOREST - LONG BLACK HAIR - DAY'}, {'text': 'rocketing through trees. His torn buckskin shirt is tied at the waist with a'}, {'text': 'wampum belt holding a tomahawk and a large knife. A long rifle in which is'}, {'text': 'carved the name \"Killdeer\" is in his right fist. Indian tattooing on his chest.'}, {'text': \"His name is NATHANIEL POE. He's a few years older than Uncas. The French and \\tthe French-speaking tribes know him as La Longue Carabine (Long Rifle). Other\"}, {'dialog': 'frontiersmen in New York colony and the Iroquois and Delaware-speaking tribes'}, {'text': 'know him as Hawkeye. Sweat stains his shirt. He flashes through the tree'}, {'text': 'branches disturbing nothing. Making no sound.'}, {'scene_heading': \"HAWKEYE'S POV: A PIECE OF TAN\"}, {'text': 'two hundred and fifty yards away, a few square inches buried in the foliage ...'}, {'scene_heading': 'SUDDENLY HE STOPS'}, {'text': \"Killdeer's at his shoulder ...\"}, {'speaker_heading': \"HAWKEYE'S THUMB\"}, {'text': 'cocks the lock holding the piece of flint: click.'}, {'speaker_heading': 'UNCAS'}, {'text': 'stops dead, holding out his hand ... no sound.'}, {'speaker_heading': 'CHINGACHGOOK'}, {'text': 'slips through young trees and stops, shouldering his smoothbore musket. Is this'}, {'dialog': 'an ambush?'}, {'scene_heading': \"HAWKEYE'S POV: RACK FOCUS THROUGH THE GUN SIGHT\"}, {'text': 'Five feet and fourteen pounds of rifle is elevated a half inch and shifted left,'}, {'text': \"off target. It's a precise, smooth movement. No human quiver.\"}, {'speaker_heading': \"KILLDEER'S TRIGGER\"}, {'dialog': 'tighter ...'}, {'speaker_heading': 'THE COCK'}, {'text': 'holding the flint hits the iron file of the frizzen, shooting sparks into the'}, {'text': 'pan of priming powder which flashes and ...'}, {'speaker_heading': 'TAN'}, {'text': 'is a huge elk that leaps at the sound.'}, {'speaker_heading': \"KILLDEER'S MUZZLE\"}, {'text': 'CRACKS like lightning.'}, {'speaker_heading': 'AN ELK'}, {'text': 'leaps where the .59 caliber round was programmed to intercept him. On the moment'}, {'dialog': 'of impact ...'}, {'speaker_heading': 'WIDE'}, {'text': \"three men approach the fallen elk and each other. We realize they're hunting\"}, {'text': 'together. Hawkeye steps aside for Chingachgook. His massive war club is flat and'}, {'text': 'angles to one side with a stabbing blade. Hawkeye is stepson and stepbrother.'}, {'text': 'The two younger men treat Chingachgook with an easy deference and affection.'}, {'dialog': \"Hawkeye's a dialectic of two cultures. In his coloration and worldliness he's\"}, {'text': 'more the Anglo-Saxon frontiersman. In his independent views and candid manner'}, {'text': \"and in his combat skills and woodsmanship, he's more native American (Mohican).\"}, {'text': 'As Chingachgook takes out his long knife and they approach the fallen elk ...]'}, {'dialog': ''}, {'speaker_heading': 'CHINGACHGOOK'}, {'dialog': '(low Mohican; sub-titled)'}, {'dialog': \"We're sorry to kill you, Brother.\"}, {'dialog': 'Forgive us. I do honor to your courage and'}, {'dialog': 'speed, your strength ...'}, {'dialog': 'CUT TO ...'}, {'scene_heading': 'EXTERIOR - INTERIOR CAMERON CABIN - JOHN CAMERON - NIGHT'}, {'text': 'roasts potatoes on a stick in the stone fireplace next to CAPTAIN JACK WINTHROP,'}, {'text': 'an American in very worn quasi-military gear. On a rough table in the tiny cabin'}, {'text': 'ALEXANDRIA, his wife, is kneading bread. Three children climb on their father.'}]\n"
     ]
    }
   ],
   "source": [
    "print(screenplay_jsons[10][:100])"
   ]
  },
  {
   "cell_type": "markdown",
   "metadata": {},
   "source": [
    "## 1.2 Analyze labels"
   ]
  },
  {
   "cell_type": "code",
   "execution_count": 38,
   "metadata": {},
   "outputs": [
    {
     "name": "stdout",
     "output_type": "stream",
     "text": [
      "{'text', 'speaker_heading', 'scene_heading', 'dialog'}\n"
     ]
    }
   ],
   "source": [
    "# assess the unique keys (labels)\n",
    "## iterate through list and return set of unique labels\n",
    "unique_labels = {key for d in roxbury_data for key in d.keys()}\n",
    "print(unique_labels)"
   ]
  },
  {
   "cell_type": "code",
   "execution_count": 39,
   "metadata": {},
   "outputs": [],
   "source": [
    "def find_unique_labels(json):\n",
    "    unique_labels = {key for d in json for key in d.keys()}\n",
    "    return unique_labels\n",
    "\n",
    "unique_labels_series = screenplay_jsons.apply(find_unique_labels)\n"
   ]
  },
  {
   "cell_type": "markdown",
   "metadata": {},
   "source": [
    "## 1.3 Find and drop rows where data is empty"
   ]
  },
  {
   "cell_type": "code",
   "execution_count": 40,
   "metadata": {},
   "outputs": [
    {
     "name": "stdout",
     "output_type": "stream",
     "text": [
      "[{'speaker_heading', 'text', 'dialog'}, {'text', 'scene_heading', 'dialog'}, set(), set(), set()]\n"
     ]
    }
   ],
   "source": [
    "unequal_length = []\n",
    "for series in unique_labels_series:\n",
    "    if len(series) != 4:\n",
    "        unequal_length.append(series)\n",
    "\n",
    "print(unequal_length)\n",
    "    "
   ]
  },
  {
   "cell_type": "code",
   "execution_count": 41,
   "metadata": {},
   "outputs": [],
   "source": [
    "# some annotations have only three labels, which is fine, but others appear to be empty, which we should investigate\n",
    "empty_series = []\n",
    "for idx, series in enumerate(unique_labels_series):\n",
    "    if len(series) == 0:\n",
    "        empty_series.append(idx)"
   ]
  },
  {
   "cell_type": "code",
   "execution_count": 42,
   "metadata": {},
   "outputs": [
    {
     "data": {
      "text/html": [
       "<div>\n",
       "<style scoped>\n",
       "    .dataframe tbody tr th:only-of-type {\n",
       "        vertical-align: middle;\n",
       "    }\n",
       "\n",
       "    .dataframe tbody tr th {\n",
       "        vertical-align: top;\n",
       "    }\n",
       "\n",
       "    .dataframe thead th {\n",
       "        text-align: right;\n",
       "    }\n",
       "</style>\n",
       "<table border=\"1\" class=\"dataframe\">\n",
       "  <thead>\n",
       "    <tr style=\"text-align: right;\">\n",
       "      <th></th>\n",
       "      <th>imdbid</th>\n",
       "      <th>title</th>\n",
       "      <th>akas</th>\n",
       "      <th>year</th>\n",
       "      <th>metascore</th>\n",
       "      <th>imdb user rating</th>\n",
       "      <th>number of imdb user votes</th>\n",
       "      <th>awards</th>\n",
       "      <th>opening weekend</th>\n",
       "      <th>producers</th>\n",
       "      <th>...</th>\n",
       "      <th>cast</th>\n",
       "      <th>countries</th>\n",
       "      <th>age restrict</th>\n",
       "      <th>plot</th>\n",
       "      <th>plot outline</th>\n",
       "      <th>keywords</th>\n",
       "      <th>genres</th>\n",
       "      <th>taglines</th>\n",
       "      <th>synopsis</th>\n",
       "      <th>annot_screenplay</th>\n",
       "    </tr>\n",
       "  </thead>\n",
       "  <tbody>\n",
       "    <tr>\n",
       "      <th>1034</th>\n",
       "      <td>1837703</td>\n",
       "      <td>The Fifth Estate</td>\n",
       "      <td>The 5ifth Estate (United States), The Man Who ...</td>\n",
       "      <td>2013</td>\n",
       "      <td>49</td>\n",
       "      <td>6</td>\n",
       "      <td>38595</td>\n",
       "      <td>Britannia Award 2013, COFCA Award 2014, Audien...</td>\n",
       "      <td>United States:</td>\n",
       "      <td>Leifur B. Dagfinnsson, Hilde De Laere, Steve G...</td>\n",
       "      <td>...</td>\n",
       "      <td>Peter Capaldi, David Thewlis, Anatole Taubman,...</td>\n",
       "      <td>United States, India, Belgium</td>\n",
       "      <td>Argentina:13, Australia:M, Canada:PG::(British...</td>\n",
       "      <td>A dramatic thriller based on real events that ...</td>\n",
       "      <td>The story begins as WikiLeaks founder Julian A...</td>\n",
       "      <td>internet, pantyhose, red-pantyhose, female-sto...</td>\n",
       "      <td>Biography, Crime, Drama, Thriller</td>\n",
       "      <td>You can't expose the world's secrets without e...</td>\n",
       "      <td>NaN</td>\n",
       "      <td></td>\n",
       "    </tr>\n",
       "    <tr>\n",
       "      <th>1477</th>\n",
       "      <td>99892</td>\n",
       "      <td>Joe Versus the Volcano</td>\n",
       "      <td>Joe contre le volcan (France), Joe gegen den V...</td>\n",
       "      <td>1990</td>\n",
       "      <td>45</td>\n",
       "      <td>5</td>\n",
       "      <td>34277</td>\n",
       "      <td>Felix 2011</td>\n",
       "      <td>United States:</td>\n",
       "      <td>Kathleen Kennedy, Frank Marshall, Roxanne Roge...</td>\n",
       "      <td>...</td>\n",
       "      <td>Tom Hanks, Meg Ryan, Lloyd Bridges, Robert Sta...</td>\n",
       "      <td>United States</td>\n",
       "      <td>Argentina:13, Australia:PG, Canada:PG, Canada:...</td>\n",
       "      <td>When a hypochondriac learns that he is dying, ...</td>\n",
       "      <td>Joe versus the Volcano is a fable which opens ...</td>\n",
       "      <td>tom-hanks, surrealism, terminal-illness, suici...</td>\n",
       "      <td>Comedy, Romance</td>\n",
       "      <td>An Average Joe. An Adventurous Comedy., A stor...</td>\n",
       "      <td>NaN</td>\n",
       "      <td></td>\n",
       "    </tr>\n",
       "    <tr>\n",
       "      <th>1639</th>\n",
       "      <td>4364194</td>\n",
       "      <td>The Peanut Butter Falcon</td>\n",
       "      <td>Le Cri du faucon (France), La familia que tú e...</td>\n",
       "      <td>2019</td>\n",
       "      <td>70</td>\n",
       "      <td>7</td>\n",
       "      <td>61007</td>\n",
       "      <td>AFCA Award 2020, Audience Award 2019, Special ...</td>\n",
       "      <td>United States:</td>\n",
       "      <td>Albert Berger, Carmella Casinelli, Manu Gargi,...</td>\n",
       "      <td>...</td>\n",
       "      <td>Zack Gottsagen, Ann Owens, Dakota Johnson, Bru...</td>\n",
       "      <td>United States</td>\n",
       "      <td>Australia:M, Austria:10, Belgium:KT/EA, Canada...</td>\n",
       "      <td>Zak runs away from his care home to make his d...</td>\n",
       "      <td>The Peanut Butter Falcon is an adventure story...</td>\n",
       "      <td>down-syndrome, wrestling, friendship, bare-che...</td>\n",
       "      <td>Adventure, Comedy, Drama</td>\n",
       "      <td>NaN</td>\n",
       "      <td>NaN</td>\n",
       "      <td></td>\n",
       "    </tr>\n",
       "  </tbody>\n",
       "</table>\n",
       "<p>3 rows × 26 columns</p>\n",
       "</div>"
      ],
      "text/plain": [
       "       imdbid                     title  \\\n",
       "1034  1837703          The Fifth Estate   \n",
       "1477    99892    Joe Versus the Volcano   \n",
       "1639  4364194  The Peanut Butter Falcon   \n",
       "\n",
       "                                                   akas  year  metascore  \\\n",
       "1034  The 5ifth Estate (United States), The Man Who ...  2013         49   \n",
       "1477  Joe contre le volcan (France), Joe gegen den V...  1990         45   \n",
       "1639  Le Cri du faucon (France), La familia que tú e...  2019         70   \n",
       "\n",
       "      imdb user rating  number of imdb user votes  \\\n",
       "1034                 6                      38595   \n",
       "1477                 5                      34277   \n",
       "1639                 7                      61007   \n",
       "\n",
       "                                                 awards  opening weekend  \\\n",
       "1034  Britannia Award 2013, COFCA Award 2014, Audien...  United States:    \n",
       "1477                                         Felix 2011  United States:    \n",
       "1639  AFCA Award 2020, Audience Award 2019, Special ...  United States:    \n",
       "\n",
       "                                              producers  ...  \\\n",
       "1034  Leifur B. Dagfinnsson, Hilde De Laere, Steve G...  ...   \n",
       "1477  Kathleen Kennedy, Frank Marshall, Roxanne Roge...  ...   \n",
       "1639  Albert Berger, Carmella Casinelli, Manu Gargi,...  ...   \n",
       "\n",
       "                                                   cast  \\\n",
       "1034  Peter Capaldi, David Thewlis, Anatole Taubman,...   \n",
       "1477  Tom Hanks, Meg Ryan, Lloyd Bridges, Robert Sta...   \n",
       "1639  Zack Gottsagen, Ann Owens, Dakota Johnson, Bru...   \n",
       "\n",
       "                          countries  \\\n",
       "1034  United States, India, Belgium   \n",
       "1477                  United States   \n",
       "1639                  United States   \n",
       "\n",
       "                                           age restrict  \\\n",
       "1034  Argentina:13, Australia:M, Canada:PG::(British...   \n",
       "1477  Argentina:13, Australia:PG, Canada:PG, Canada:...   \n",
       "1639  Australia:M, Austria:10, Belgium:KT/EA, Canada...   \n",
       "\n",
       "                                                   plot  \\\n",
       "1034  A dramatic thriller based on real events that ...   \n",
       "1477  When a hypochondriac learns that he is dying, ...   \n",
       "1639  Zak runs away from his care home to make his d...   \n",
       "\n",
       "                                           plot outline  \\\n",
       "1034  The story begins as WikiLeaks founder Julian A...   \n",
       "1477  Joe versus the Volcano is a fable which opens ...   \n",
       "1639  The Peanut Butter Falcon is an adventure story...   \n",
       "\n",
       "                                               keywords  \\\n",
       "1034  internet, pantyhose, red-pantyhose, female-sto...   \n",
       "1477  tom-hanks, surrealism, terminal-illness, suici...   \n",
       "1639  down-syndrome, wrestling, friendship, bare-che...   \n",
       "\n",
       "                                 genres  \\\n",
       "1034  Biography, Crime, Drama, Thriller   \n",
       "1477                    Comedy, Romance   \n",
       "1639           Adventure, Comedy, Drama   \n",
       "\n",
       "                                               taglines synopsis  \\\n",
       "1034  You can't expose the world's secrets without e...      NaN   \n",
       "1477  An Average Joe. An Adventurous Comedy., A stor...      NaN   \n",
       "1639                                                NaN      NaN   \n",
       "\n",
       "     annot_screenplay  \n",
       "1034                   \n",
       "1477                   \n",
       "1639                   \n",
       "\n",
       "[3 rows x 26 columns]"
      ]
     },
     "execution_count": 42,
     "metadata": {},
     "output_type": "execute_result"
    }
   ],
   "source": [
    "missing_imdbid = df.loc[empty_series, 'imdbid']\n",
    "df.loc[empty_series]"
   ]
  },
  {
   "cell_type": "code",
   "execution_count": 43,
   "metadata": {},
   "outputs": [
    {
     "data": {
      "text/html": [
       "<div>\n",
       "<style scoped>\n",
       "    .dataframe tbody tr th:only-of-type {\n",
       "        vertical-align: middle;\n",
       "    }\n",
       "\n",
       "    .dataframe tbody tr th {\n",
       "        vertical-align: top;\n",
       "    }\n",
       "\n",
       "    .dataframe thead th {\n",
       "        text-align: right;\n",
       "    }\n",
       "</style>\n",
       "<table border=\"1\" class=\"dataframe\">\n",
       "  <thead>\n",
       "    <tr style=\"text-align: right;\">\n",
       "      <th></th>\n",
       "      <th>imdbid</th>\n",
       "      <th>annot_screenplay</th>\n",
       "    </tr>\n",
       "  </thead>\n",
       "  <tbody>\n",
       "    <tr>\n",
       "      <th>769</th>\n",
       "      <td>99892</td>\n",
       "      <td></td>\n",
       "    </tr>\n",
       "    <tr>\n",
       "      <th>1513</th>\n",
       "      <td>1837703</td>\n",
       "      <td></td>\n",
       "    </tr>\n",
       "    <tr>\n",
       "      <th>1702</th>\n",
       "      <td>4364194</td>\n",
       "      <td></td>\n",
       "    </tr>\n",
       "  </tbody>\n",
       "</table>\n",
       "</div>"
      ],
      "text/plain": [
       "       imdbid annot_screenplay\n",
       "769     99892                 \n",
       "1513  1837703                 \n",
       "1702  4364194                 "
      ]
     },
     "execution_count": 43,
     "metadata": {},
     "output_type": "execute_result"
    }
   ],
   "source": [
    "screenplays_df[screenplays_df['imdbid'].isin(missing_imdbid)]"
   ]
  },
  {
   "cell_type": "markdown",
   "metadata": {},
   "source": [
    "If you look at the source data, you'll find the .txt files for these screenplays are simply empty.  We'll drop them."
   ]
  },
  {
   "cell_type": "code",
   "execution_count": 44,
   "metadata": {},
   "outputs": [
    {
     "data": {
      "text/html": [
       "<div>\n",
       "<style scoped>\n",
       "    .dataframe tbody tr th:only-of-type {\n",
       "        vertical-align: middle;\n",
       "    }\n",
       "\n",
       "    .dataframe tbody tr th {\n",
       "        vertical-align: top;\n",
       "    }\n",
       "\n",
       "    .dataframe thead th {\n",
       "        text-align: right;\n",
       "    }\n",
       "</style>\n",
       "<table border=\"1\" class=\"dataframe\">\n",
       "  <thead>\n",
       "    <tr style=\"text-align: right;\">\n",
       "      <th></th>\n",
       "      <th>imdbid</th>\n",
       "      <th>title</th>\n",
       "      <th>akas</th>\n",
       "      <th>year</th>\n",
       "      <th>metascore</th>\n",
       "      <th>imdb user rating</th>\n",
       "      <th>number of imdb user votes</th>\n",
       "      <th>awards</th>\n",
       "      <th>opening weekend</th>\n",
       "      <th>producers</th>\n",
       "      <th>...</th>\n",
       "      <th>cast</th>\n",
       "      <th>countries</th>\n",
       "      <th>age restrict</th>\n",
       "      <th>plot</th>\n",
       "      <th>plot outline</th>\n",
       "      <th>keywords</th>\n",
       "      <th>genres</th>\n",
       "      <th>taglines</th>\n",
       "      <th>synopsis</th>\n",
       "      <th>annot_screenplay</th>\n",
       "    </tr>\n",
       "  </thead>\n",
       "  <tbody>\n",
       "    <tr>\n",
       "      <th>0</th>\n",
       "      <td>120770</td>\n",
       "      <td>A Night at the Roxbury</td>\n",
       "      <td>Une nuit au Roxbury (France), Movida en el Rox...</td>\n",
       "      <td>1998</td>\n",
       "      <td>26</td>\n",
       "      <td>6</td>\n",
       "      <td>56537</td>\n",
       "      <td>NaN</td>\n",
       "      <td>United States:</td>\n",
       "      <td>Marie Cantin, Erin Fraser, Amy Heckerling, Ste...</td>\n",
       "      <td>...</td>\n",
       "      <td>Will Ferrell, Chris Kattan, Raquel Gardner, Vi...</td>\n",
       "      <td>United States</td>\n",
       "      <td>Argentina:13, Australia:M, Brazil:14, Canada:P...</td>\n",
       "      <td>Two dim-witted brothers dream of owning their ...</td>\n",
       "      <td>The Roxbury Guys, Steve and Doug Butabi, want ...</td>\n",
       "      <td>woman-on-top, nightclub, car-accident, 1990s, ...</td>\n",
       "      <td>Comedy, Music, Romance</td>\n",
       "      <td>Score!</td>\n",
       "      <td>NaN</td>\n",
       "      <td>dialog: \\ntext: A NIGHT AT THE ROXBURY\\ndialog...</td>\n",
       "    </tr>\n",
       "    <tr>\n",
       "      <th>1</th>\n",
       "      <td>132512</td>\n",
       "      <td>At First Sight</td>\n",
       "      <td>Sight Unseen (United States), Premier regard (...</td>\n",
       "      <td>1999</td>\n",
       "      <td>40</td>\n",
       "      <td>6</td>\n",
       "      <td>12922</td>\n",
       "      <td>NaN</td>\n",
       "      <td>United States:</td>\n",
       "      <td>Rob Cowan, Roger Paradiso, Irwin Winkler</td>\n",
       "      <td>...</td>\n",
       "      <td>Val Kilmer, Mira Sorvino, Kelly McGillis, Stev...</td>\n",
       "      <td>United States</td>\n",
       "      <td>Argentina:13, Australia:M, Canada:PG::(Alberta...</td>\n",
       "      <td>A blind man has an operation to regain his sig...</td>\n",
       "      <td>First Sight is true to the title from start to...</td>\n",
       "      <td>visual-agnosia, brother-sister-relationship, r...</td>\n",
       "      <td>Drama, Romance</td>\n",
       "      <td>Only Love Can Bring You To Your Senses., Scien...</td>\n",
       "      <td>NaN</td>\n",
       "      <td>scene_heading: AT FIRST SIGHT\\nscene_heading: ...</td>\n",
       "    </tr>\n",
       "    <tr>\n",
       "      <th>2</th>\n",
       "      <td>118661</td>\n",
       "      <td>The Avengers</td>\n",
       "      <td>Chapeau melon et bottes de cuir (France), Mit ...</td>\n",
       "      <td>1998</td>\n",
       "      <td>12</td>\n",
       "      <td>3</td>\n",
       "      <td>40784</td>\n",
       "      <td>FMCJ Award 1998, Golden Reel Award 1999, Razzi...</td>\n",
       "      <td>United States: $10,305,957, 16 Aug 1998</td>\n",
       "      <td>Susan Ekins, Jerry Weintraub</td>\n",
       "      <td>...</td>\n",
       "      <td>Ralph Fiennes, Uma Thurman, Sean Connery, Patr...</td>\n",
       "      <td>United States</td>\n",
       "      <td>Argentina:13, Australia:PG, Brazil:10, Canada:...</td>\n",
       "      <td>Two British Agents team up to stop Sir August ...</td>\n",
       "      <td>British Ministry Agent John Steed, under direc...</td>\n",
       "      <td>good-versus-evil, heroine, evil-man, villain, ...</td>\n",
       "      <td>Action, Adventure, Sci-Fi, Thriller</td>\n",
       "      <td>Mrs. Peel, we're needed., Extraordinary crimes...</td>\n",
       "      <td>NaN</td>\n",
       "      <td>dialog: \\nspeaker_heading: THE AVENGERS\\ndialo...</td>\n",
       "    </tr>\n",
       "    <tr>\n",
       "      <th>3</th>\n",
       "      <td>215545</td>\n",
       "      <td>Bamboozled</td>\n",
       "      <td>The Very Black Show (France), It's Showtime (G...</td>\n",
       "      <td>2000</td>\n",
       "      <td>54</td>\n",
       "      <td>6</td>\n",
       "      <td>10373</td>\n",
       "      <td>Golden Berlin Bear 2001, Black Reel 2001, Imag...</td>\n",
       "      <td>United States:</td>\n",
       "      <td>Jon Kilik, Spike Lee, Kisha Imani Cameron</td>\n",
       "      <td>...</td>\n",
       "      <td>Damon Wayans, Savion Glover, Jada Pinkett Smit...</td>\n",
       "      <td>United States</td>\n",
       "      <td>Australia:MA, Finland:K-15, France:Tous public...</td>\n",
       "      <td>A frustrated African-American TV writer propos...</td>\n",
       "      <td>Dark, biting satire of the television industry...</td>\n",
       "      <td>television-industry, african-american, referen...</td>\n",
       "      <td>Comedy, Drama, Music</td>\n",
       "      <td>Starring the great negroe actors</td>\n",
       "      <td>In a New York City residence, Pierre Delacroix...</td>\n",
       "      <td>dialog: Bamboozled\\ndialog: by\\ndialog: Spike ...</td>\n",
       "    </tr>\n",
       "    <tr>\n",
       "      <th>4</th>\n",
       "      <td>118715</td>\n",
       "      <td>The Big Lebowski</td>\n",
       "      <td>El gran Lebowski (Spain), O Grande Lebowski (P...</td>\n",
       "      <td>1998</td>\n",
       "      <td>71</td>\n",
       "      <td>8</td>\n",
       "      <td>724388</td>\n",
       "      <td>Honorable Mention 1998, ACCA 1998, Golden Berl...</td>\n",
       "      <td>United States: $5,533,844, 08 Mar 1998</td>\n",
       "      <td>Tim Bevan, John Cameron, Ethan Coen, Eric Fell...</td>\n",
       "      <td>...</td>\n",
       "      <td>Jeff Bridges, John Goodman, Julianne Moore, St...</td>\n",
       "      <td>United States, United Kingdom</td>\n",
       "      <td>Argentina:16, Argentina:18::(cable rating), Au...</td>\n",
       "      <td>Jeff \"The Dude\" Lebowski, mistaken for a milli...</td>\n",
       "      <td>When \"the dude\" Lebowski is mistaken for a mil...</td>\n",
       "      <td>rug, nihilism, pornographer, bowling-alley, de...</td>\n",
       "      <td>Comedy, Crime, Sport</td>\n",
       "      <td>Hay quienes tratan de ganarse la vida sin move...</td>\n",
       "      <td>A tumbleweed rolls up a hillside just outside ...</td>\n",
       "      <td>dialog: \\nscene_heading: THE BIG LEBOWSKI\\ntex...</td>\n",
       "    </tr>\n",
       "  </tbody>\n",
       "</table>\n",
       "<p>5 rows × 26 columns</p>\n",
       "</div>"
      ],
      "text/plain": [
       "   imdbid                   title  \\\n",
       "0  120770  A Night at the Roxbury   \n",
       "1  132512          At First Sight   \n",
       "2  118661            The Avengers   \n",
       "3  215545              Bamboozled   \n",
       "4  118715        The Big Lebowski   \n",
       "\n",
       "                                                akas  year  metascore  \\\n",
       "0  Une nuit au Roxbury (France), Movida en el Rox...  1998         26   \n",
       "1  Sight Unseen (United States), Premier regard (...  1999         40   \n",
       "2  Chapeau melon et bottes de cuir (France), Mit ...  1998         12   \n",
       "3  The Very Black Show (France), It's Showtime (G...  2000         54   \n",
       "4  El gran Lebowski (Spain), O Grande Lebowski (P...  1998         71   \n",
       "\n",
       "   imdb user rating  number of imdb user votes  \\\n",
       "0                 6                      56537   \n",
       "1                 6                      12922   \n",
       "2                 3                      40784   \n",
       "3                 6                      10373   \n",
       "4                 8                     724388   \n",
       "\n",
       "                                              awards  \\\n",
       "0                                                NaN   \n",
       "1                                                NaN   \n",
       "2  FMCJ Award 1998, Golden Reel Award 1999, Razzi...   \n",
       "3  Golden Berlin Bear 2001, Black Reel 2001, Imag...   \n",
       "4  Honorable Mention 1998, ACCA 1998, Golden Berl...   \n",
       "\n",
       "                           opening weekend  \\\n",
       "0                          United States:    \n",
       "1                          United States:    \n",
       "2  United States: $10,305,957, 16 Aug 1998   \n",
       "3                          United States:    \n",
       "4   United States: $5,533,844, 08 Mar 1998   \n",
       "\n",
       "                                           producers  ...  \\\n",
       "0  Marie Cantin, Erin Fraser, Amy Heckerling, Ste...  ...   \n",
       "1           Rob Cowan, Roger Paradiso, Irwin Winkler  ...   \n",
       "2                       Susan Ekins, Jerry Weintraub  ...   \n",
       "3          Jon Kilik, Spike Lee, Kisha Imani Cameron  ...   \n",
       "4  Tim Bevan, John Cameron, Ethan Coen, Eric Fell...  ...   \n",
       "\n",
       "                                                cast  \\\n",
       "0  Will Ferrell, Chris Kattan, Raquel Gardner, Vi...   \n",
       "1  Val Kilmer, Mira Sorvino, Kelly McGillis, Stev...   \n",
       "2  Ralph Fiennes, Uma Thurman, Sean Connery, Patr...   \n",
       "3  Damon Wayans, Savion Glover, Jada Pinkett Smit...   \n",
       "4  Jeff Bridges, John Goodman, Julianne Moore, St...   \n",
       "\n",
       "                       countries  \\\n",
       "0                  United States   \n",
       "1                  United States   \n",
       "2                  United States   \n",
       "3                  United States   \n",
       "4  United States, United Kingdom   \n",
       "\n",
       "                                        age restrict  \\\n",
       "0  Argentina:13, Australia:M, Brazil:14, Canada:P...   \n",
       "1  Argentina:13, Australia:M, Canada:PG::(Alberta...   \n",
       "2  Argentina:13, Australia:PG, Brazil:10, Canada:...   \n",
       "3  Australia:MA, Finland:K-15, France:Tous public...   \n",
       "4  Argentina:16, Argentina:18::(cable rating), Au...   \n",
       "\n",
       "                                                plot  \\\n",
       "0  Two dim-witted brothers dream of owning their ...   \n",
       "1  A blind man has an operation to regain his sig...   \n",
       "2  Two British Agents team up to stop Sir August ...   \n",
       "3  A frustrated African-American TV writer propos...   \n",
       "4  Jeff \"The Dude\" Lebowski, mistaken for a milli...   \n",
       "\n",
       "                                        plot outline  \\\n",
       "0  The Roxbury Guys, Steve and Doug Butabi, want ...   \n",
       "1  First Sight is true to the title from start to...   \n",
       "2  British Ministry Agent John Steed, under direc...   \n",
       "3  Dark, biting satire of the television industry...   \n",
       "4  When \"the dude\" Lebowski is mistaken for a mil...   \n",
       "\n",
       "                                            keywords  \\\n",
       "0  woman-on-top, nightclub, car-accident, 1990s, ...   \n",
       "1  visual-agnosia, brother-sister-relationship, r...   \n",
       "2  good-versus-evil, heroine, evil-man, villain, ...   \n",
       "3  television-industry, african-american, referen...   \n",
       "4  rug, nihilism, pornographer, bowling-alley, de...   \n",
       "\n",
       "                                genres  \\\n",
       "0               Comedy, Music, Romance   \n",
       "1                       Drama, Romance   \n",
       "2  Action, Adventure, Sci-Fi, Thriller   \n",
       "3                 Comedy, Drama, Music   \n",
       "4                 Comedy, Crime, Sport   \n",
       "\n",
       "                                            taglines  \\\n",
       "0                                             Score!   \n",
       "1  Only Love Can Bring You To Your Senses., Scien...   \n",
       "2  Mrs. Peel, we're needed., Extraordinary crimes...   \n",
       "3                   Starring the great negroe actors   \n",
       "4  Hay quienes tratan de ganarse la vida sin move...   \n",
       "\n",
       "                                            synopsis  \\\n",
       "0                                                NaN   \n",
       "1                                                NaN   \n",
       "2                                                NaN   \n",
       "3  In a New York City residence, Pierre Delacroix...   \n",
       "4  A tumbleweed rolls up a hillside just outside ...   \n",
       "\n",
       "                                    annot_screenplay  \n",
       "0  dialog: \\ntext: A NIGHT AT THE ROXBURY\\ndialog...  \n",
       "1  scene_heading: AT FIRST SIGHT\\nscene_heading: ...  \n",
       "2  dialog: \\nspeaker_heading: THE AVENGERS\\ndialo...  \n",
       "3  dialog: Bamboozled\\ndialog: by\\ndialog: Spike ...  \n",
       "4  dialog: \\nscene_heading: THE BIG LEBOWSKI\\ntex...  \n",
       "\n",
       "[5 rows x 26 columns]"
      ]
     },
     "execution_count": 44,
     "metadata": {},
     "output_type": "execute_result"
    }
   ],
   "source": [
    "df_clean = df.drop(empty_series)\n",
    "df_clean.head()"
   ]
  },
  {
   "cell_type": "code",
   "execution_count": 45,
   "metadata": {},
   "outputs": [],
   "source": [
    "screenplay_jsons.drop(empty_series, inplace=True)"
   ]
  },
  {
   "cell_type": "markdown",
   "metadata": {},
   "source": [
    "So we have 'scene_heading', 'speaker_heading', 'text' and 'dialog' labels.  Let's look at an example screenplay to see what might be worth removing. "
   ]
  },
  {
   "cell_type": "markdown",
   "metadata": {},
   "source": [
    "## 'text'"
   ]
  },
  {
   "cell_type": "markdown",
   "metadata": {},
   "source": [
    "- 'text' is likely to be relevant, e.g. {'text': 'Of random dancers -- gyrating, flirting, making out, drinking.'}\n",
    "- 'scene_heading' is conceivably relevant, e.g. {'scene_heading': 'INT. DANCE CLUBS- QUICK SHOTS - NIGHT'} -- a scene set in a nightclub might predict a higher classification. \n",
    "Let's look at a representative sample of 'text'. "
   ]
  },
  {
   "cell_type": "code",
   "execution_count": 46,
   "metadata": {},
   "outputs": [
    {
     "name": "stdout",
     "output_type": "stream",
     "text": [
      "['A NIGHT AT THE ROXBURY', 'As we hear \"What is Love\" by HADDAWAY -- night falls and', 'partytime begins.', 'Of random dancers -- gyrating, flirting, making out, drinking.', 'The CAMERA MOVES THROUGH a crowded dance floor -- and', 'SETTLES ON the rhythmically swaying backs of...', 'Our heroes. In their minds, Steve is tall, dark and handsome and DOUG is a little genius. Neither is correct', 'They simultaneously turn and scope the room. In unison,', 'their heads bop to the MUSIC. Doug steps out from the', 'Doug, rejected, steps back as Steve steps out.', 'They are no strangers to rejection, so neither is fazed.', 'Doug enthusiastically steps towards two attractive girls.', 'Two attractive girls turn their backs to Doug.', 'Doug steps back. Steve spots GIRL AT end of BAR and', 'dances over to her.', 'Steve steps back. Doug sees a pretty woman on a balcony,', 'waving to someone.', 'Pretty woman waves them off, frustrated, and dissapears.', 'They turn around to the bar, bartender is standing in', 'front of them.', 'The bartender pays no attention and walks away. Second', 'bartender comes from the opposite direction.', 'The second bartender ignores them, walks away. The', 'bartenders keep crossing past the, paying no attention.', 'They turn back to the dance floor and bop. Suddenly, a', 'HOT GIRL dances in front of them.', 'Doug dances up behind her and frantically gyrates. She', 'turns away -- only to find...', 'Steve gyrating behind her. The guys close in on her', 'trapping her in the middle.', \"She runs off, furious. The guys, unaware that she's\", 'upset, celebrate.', 'They high five. The doorman comes over with the upset', 'Girl and pulls the guys out.', 'The road flies by as we PAN UP the front grill of a red', 'BMW to reveal Doug and Steve. The car stops next to two', 'girls in a white Porshe.', 'Doug Turns UP the STEREO really loud so the car is', \"The guys moving their mouths -- but the girls can't hear\", 'The light turns green. Girls drive off.', 'A neon sign reads \"ROXBURY.\"', 'A huge muscular BOUNCER, wearing a headset, guards the', 'roped off area. Doug and Steve confidently strut past', 'They slowly turn to each other and bust.', 'They high five, laughing.', \"Behind Steve and Doug, a '98 yellow FERRARI SCREECHES up\", 'to the valet. Car door opens and...', 'gets out. Looking great, in an Armani suit, beautiful', 'supermodel accompanies him.', 'Grieco quickly steps past Steve and Doug.', 'The Bouncer jumps aside, letting them enter. Richard', 'inadvertently rubs his nose as he enters.', 'Watching. They both imitate his nose rub and try to', 'follow him in. The Bouncer steps in front of them.', 'The guys exit.', 'The guys are driving.', 'incoming clientele.', 'A police car drives behind them, turns on the SIREN.', 'The sound of the SIREN mixes with their MUSIC.', 'Pull over to the side of the road!', 'A female POLICE OFFICER signals them to pull over.', 'The officer steps up to their car.', 'She reaches in, shuts OFF RADIO -- starts filling out', 'Steve pulls the documents off the sun visor, hands them', 'She takes it, walks back to police car. Doug adjusts the', 'rearview mirror.', \"She's on the radio.\", \"She's calling her friends.\", 'She hands Steve the papers and a ticket.', 'She laughs it off, walks away. Doug takes the ticket.', 'They high five and PEEL OUT.', 'This is a very downscale crowd, crappy cars, surrounding a dilapidated building.', 'Completely packed. People are physically wedged up', 'A big SECURITY GUY plows through the area.', 'The crowd moves, sweeping the guys along. Doug and Steve', 'settle in a different spot.', 'As it moves, Doug is engulfed in the crowd and', 'Steve is shoved away as the crowd moves again.', 'jumps up and pops his head above the crowd.', 'is wedged into a corner.', \"pops up near the entrance to the men's room.\", \"Doug's face is wedged up against a mirror. He struggles\", 'to pull a cellular phone put of his pocket and dial.', 'Steve is wedged against a blinking light. We hear a', 'cellular PHONE RING. Steve reaches in his pocket and', 'pulls out his phone.', 'Doug gets pushed up against a urinal.', 'DOUG hangs up. O.S. we hear someone UNZIP.', 'Doug moves away.', 'Two very bored club girls are standing up against a wall.', 'turns around and tips his hat like', 'DOUG does a \"tip your hat\" motion.', 'Girls still stone-faced.', 'The girls stare at them.', 'The guys pull up. Doug gets out and starts to pump gas.', 'Steve exits into the AM/PM. Doug notices a woman puttng', 'gas into her car. She feins a smile, looks away.', 'Doug starts pulling the pump in and out of the gas', \"tank -- simulating copulation. She's repulsed.\", 'Steve looking at a bag of Pork Rinds. Doug comes up from']\n"
     ]
    }
   ],
   "source": [
    "# iterate through jsons and return data for 'text' label \n",
    "roxbury_texts = [d.get('text') for d in roxbury_data if 'text' in d]\n",
    "print(roxbury_texts[:100])"
   ]
  },
  {
   "cell_type": "code",
   "execution_count": 47,
   "metadata": {},
   "outputs": [
    {
     "name": "stdout",
     "output_type": "stream",
     "text": [
      "['I got it. I walk down the aisle.', 'skirmishes.', 'heavy, I step in. Like a', 'FATHER WILLIAMS, a grey-haired priest, Phil Donahue-type,', 'walks over.', \"He's in regular black priest garb. He exits, confused.\", 'Steve walks up to Mr. Butabi, who is waiting with the', 'procession. WEDDING MARCH BEGINS.', 'Richard Grieco, in tux, walks down the aisle with a', 'frumpy BRIDESMAID.', 'Craig, the best man, begins walking down with the maid of', 'Craig takes pulse, looks at his watch. Grandma and', 'Grandma Butabi walk down the aisle. As they approach', 'Walk down the aisle. Steve is wearing a CD walkman --', 'Mr. Butabi notices and yanks it off. They pass a pretty', 'girl. Steve veers off course.', 'Mr. Butabi pulls Steve back on course.', 'and her parents walk down the aisle...', 'Emily goes back to walking gracefully. MARCH ENDS.', 'Nobody speaks. Beat.', 'Steve steps forward, takes out a piece of paper, reads.', \"Steve steps back. Priest looks to see if Steve's done.\", 'Mr. Butabi hands Steve the ring.', 'Steve puts the ring on her finger.', 'Suddenly, the ceremony is interrupted by the sound of the', 'holding a huge boom box over his head, confidently', \"standing in place. Emily rolls her eyes. Mr. Butabi's\", 'Doug hits the play button. \"WHAT IS LOVE?\" by Haddaway', 'Doug TURNS UP the VOLUME, drowning out Emily.', 'Steve starts bopping his head. Doug bops his head back.', 'Steve starts walking towards Doug. Mr. Butabi, furious', 'follows him and reaches to stop him. Suddenly, a hand', 'pulls him on his back. We REVEAL it is...', 'the groom to beat a hasty retreat', 'Butabi tries to get around. Craig jumps in the way.', 'Steve runs up to Doug.', 'They run out of the back yard.', 'Puts his arm around Mr. Butabi.', \"Emily is furious. Craig steps in the groom's spot.\", 'Emily considers this a moment, then puts her arm through', 'Steve and Doug are on the bridge tossing rocks.', 'Steve is still looking at the water.', 'Jerry MacGuire theme \"SECRET GARDEN\" by Springsteen begins.', 'Steve walks up to Doug.', 'They hug and hold one another as the MUSIC SWELLS...', 'The guests are gone. In the empty tent, Richard Grieco', 'sits alone drinking wine with Mr. Butabi.', 'Mr. Butabi has an epiphany.', 'Richard nods, knowingly.', 'We PAN UP the front of the red BMW to reveal Doug and', 'Steve in their usual positions.', 'Doug looks at his hair in the passenger sideview mirror.', 'Then he looks in the vanity mirror.', 'back in the room.', 'Craig and Emily in leotards, pitching their \"Un-fat\"', 'bars. A chunky silhouette is superimposed -- getting', 'Billboard ad of Gilbert Gottfried and Bob Saget in a TNT', 'An antique airplane is taking off. Gilbert Gottfried in', 'turn of the century garb, watches the plane.', 'Akiro and Toronaga are on the bridge -- same positions', 'that Doug and Steve were in. A japanese version of Bruce', 'Springsteen\\'s \"SECRET GARDEN\" is playing.', 'SUPERIMPOSE: \"SHUT UP, JUST SHUT UP.', 'They embrace. MUSIC SWELLS.', 'Dooey is lying under a totaled limo, surrounded by cans', \"of Reddi-whip. However, the boys don't notice.\", 'Outside, people sit on couches and listen to music, even', 'though they are waiting in line to get in.', 'They park, get out.', 'Guys walk up. A huge BOUNCER steps in front of them.', 'The Bouncer checks the list.', 'The guys suspiciously enter.', 'The walls look like building facades, we see cars parked', 'inside, the main dance floor covers a lit body of', 'water with fish underneath. The guys look astounded.', 'Mr. Zadir approaches them.', 'Bouncer comes over.', 'at the door.', 'Cambi and Vivica are arguing outside with another', 'bouncer. Doug and Steve appear.', 'On line, we see the Switchboard Operator from the credit', 'He pricks up his ears.', 'The Switchboard operator walks up to Doug.', 'They mentally put the voice with the face and are', 'immediately attracted.', \"They're lost in each other's eyes.\", 'The female Police Officer who earlier pulled them over is', 'her friend. Steve steps over.', 'They walk in the club.', '\"WHAT IS LOVE\" by Haddaway comes over the outdoor', 'The girls laugh.', 'The MUSIC rises as they all dance and we...', 'FADE TO BLACK.', 'As CREDITS ROLL...', 'Doug and Steve stand at the entrance, wearing headsets.', 'A CLUB GOER walks up. Doug steps in front of him.', 'They both check their lists.', 'The confused guy goes in. Girl steps up.', 'EMILIO ESTEVEZ approaches.', 'The guys look up.']\n"
     ]
    }
   ],
   "source": [
    "print(roxbury_texts[len(roxbury_texts)-100:len(roxbury_texts)])"
   ]
  },
  {
   "cell_type": "markdown",
   "metadata": {},
   "source": [
    "'texts' are most likely relevant. "
   ]
  },
  {
   "cell_type": "markdown",
   "metadata": {},
   "source": [
    "## Flattening Data"
   ]
  },
  {
   "cell_type": "markdown",
   "metadata": {},
   "source": [
    "In some cases we see the same sentences spread over different values, while key is the same.  The function below will find these contiguous values and flatten them into one value.  This will make sentence tokenization more meaningful later on. "
   ]
  },
  {
   "cell_type": "code",
   "execution_count": 48,
   "metadata": {},
   "outputs": [],
   "source": [
    "# we'll define a more general function this time that takes a key input\n",
    "def flatten_data(dict_list, key):\n",
    "    flattened_data = []\n",
    "    temp = ''\n",
    "    for d in dict_list:\n",
    "        if key in d:\n",
    "            temp += ' ' + d[key] if temp else d[key]\n",
    "        else:\n",
    "            # if a key other than input is encountered and temp is not empty\n",
    "            if temp:\n",
    "                # append the concatenated string to text list \n",
    "                flattened_data.append({key:temp})\n",
    "                # and reset temp \n",
    "                temp = ''\n",
    "            # append non text dict to list \n",
    "            flattened_data.append(d)\n",
    "    # after loop ends, concatenate what's left in temp if anything\n",
    "    if temp:\n",
    "        flattened_data.append({key:temp})\n",
    "    # and return concatenated list\n",
    "    return flattened_data"
   ]
  },
  {
   "cell_type": "code",
   "execution_count": 49,
   "metadata": {},
   "outputs": [
    {
     "name": "stdout",
     "output_type": "stream",
     "text": [
      "[{'dialog': ''}, {'speaker_heading': 'ANONYMOUS'}, {'dialog': 'Written by'}, {'dialog': 'John Orloff'}, {'scene_heading': '1 BLACK SCREEN 1'}, {'text': 'TITLES BEGIN over the SOUNDS of city traffic.'}, {'speaker_heading': 'FADE UP:'}, {'scene_heading': '2 EXT. THEATER DISTRICT OF BROADWAY - DUSK 2'}, {'text': 'The sidewalks are filled with theater-goers heading for their shows. Cabs line the streets.'}, {'speaker_heading': 'SIDE ALLEY'}, {'text': 'A cab quickly turns into the alley, coming to a screeching halt. A Man in a Grey Suit jumps out and rushes to the side entrance of a theater. In the background we see that the title of the play, \"Anonymous\", is written on the theatre\\'s marquee...'}, {'scene_heading': '3 INT. BROADWAY THEATER - BACKSTAGE - DUSK 3'}, {'text': 'We follow the Man in the Grey Suit as he rushes through narrow backstage hallways, passing several ACTORS dressing in Elizabethan costumes, applying their make-'}, {'dialog': 'up, etc...'}, {'scene_heading': 'TITLES CONTINUE.'}, {'scene_heading': '4 INT. BROADWAY THEATER - BACKSTAGE/EMPTY STAGE - DUSK 4'}, {'text': 'The curtains are still closed, and the sound of the audience excitedly MURMURING behind them is heard. . Stagehands are moving stage lights as--'}, {'speaker_heading': 'A STAGE MANAGER'}, {'text': \"takes a nervous peek through the curtains to check the audience-- it's a full house. He holds a prop umbrella in one hand, anxiously checks his watch in the other. He looks on both wings of the stage-- and then relief floods his face as he sees The Man in the Grey Suit hurrying over to him. The Stage Manager wordlessly hands him the umbrella and signals to a stagehand in\"}, {'dialog': 'the background.'}, {'text': 'The curtains start to OPEN and the MURMUR of the audience dies down.'}, {'speaker_heading': '1'}, {'dialog': 'pg. 2'}, {'scene_heading': '5 INT. BROADWAY THEATER - THE STAGE - CONTINUOUS 5'}, {'text': 'The man with the umbrella stands on the empty stage, a single light on him. He is \"PROLOGUE\". (We will see the same actor later as the \"Prologue\" of Henry V). \"Prologue\" regards his audience for a beat before:'}, {'speaker_heading': 'PROLOGUE'}, {'dialog': 'Soul of the Age!'}, {'dialog': 'The applause, delight, the wonder of'}, {'dialog': 'our stage!'}, {'dialog': 'Our Shakespeare, rise...'}, {'dialog': '(beat, repeating)'}, {'dialog': 'Our Shakespeare... For he is all of'}, {'dialog': 'ours, is he not? The most performed'}, {'dialog': 'playwright of all time! The author of'}, {'dialog': '37 plays, 154 sonnets, and several'}, {'dialog': 'epic poems that are collectively known'}, {'dialog': 'as the ultimate expressions of'}, {'dialog': 'humanity in the English language. And'}, {'dialog': 'yet... And yet...'}, {'dialog': '(beat)'}, {'dialog': 'Not a single manuscript of any kind'}, {'dialog': 'has ever been found written in'}, {'dialog': \"Shakespeare's own hand. In four\"}, {'dialog': 'hundred years, not one document-- be'}, {'dialog': 'it poem, play, diary or even a simple'}, {'dialog': 'letter.'}, {'dialog': '(beat)'}, {'dialog': 'He was born the son of a glove-maker,'}, {'text': 'and at some unknown time, armed with'}, {'dialog': 'but an elementary school education, he'}, {'dialog': 'went to London where, the story goes,'}, {'dialog': 'he became an actor and eventually a'}, {'dialog': 'playwright.'}, {'speaker_heading': 'OFF STAGE'}, {'text': 'A stagehand takes a wooden hammer and beats against a flat metal pate, creating the SOUNDS of THUNDER. Another stagehand starts to lift shutters in front of a stage light back and forth to create LIGHTNING STRIKES.'}, {'speaker_heading': 'ON STAGE'}, {'text': '\"Prologue\" opens his umbrella.'}, {'speaker_heading': \"PROLOGUE (CONT'D)\"}, {'dialog': 'He died at the age of 56, and was'}, {'dialog': 'survived by his wife and two daughters'}, {'dialog': \"who were, like Shakespeare's own\"}, {'text': 'father, irrefutably illiterate.'}, {'dialog': '2'}, {'dialog': 'pg. 3'}, {'speaker_heading': 'OFF STAGE'}, {'text': 'In the rafters a stagehand opens valves. It starts to'}, {'speaker_heading': 'RAIN.'}, {'speaker_heading': \"PROLOGUE (O.C.) (CONT'D)\"}, {'dialog': 'His will famously left his second best'}, {'dialog': 'bed to his widow. But it made no'}, {'dialog': 'mention of a single book or'}, {'dialog': 'manuscript.'}, {'text': 'The actor who will play \"Ben JONSON\" (mid 30\\'s) appears in the wings, bearded, ready to go on stage, holding a prop leather manuscript. Behind him a group of Elizabethan \"soldiers\" strap on their swords.'}, {'speaker_heading': 'ON STAGE'}, {'text': '\"Prologue\" continues, as do TITLES.'}, {'speaker_heading': \"PROLOGUE (CONT'D)\"}, {'dialog': 'Is it possible Shakespeare owned no'}, {'dialog': 'books at his death because... he could'}, {'dialog': 'not read? That he wrote no letters'}, {'dialog': 'because he, like his father before him'}, {'dialog': 'and his children after him, could not'}, {'dialog': 'write?'}, {'dialog': '(lets that sink in, then)'}, {'dialog': 'Our Shakespeare is a cypher, a ghost;'}, {'dialog': 'his biography made not by history...'}, {'dialog': 'but by conjecture. His story not'}, {'dialog': 'written with facts, but with...'}, {'dialog': 'imagination.'}, {'text': 'The rain has intensified. \"Prologue\" turns and the camera starts to leave him and the TITLES END....'}, {'speaker_heading': \"PROLOGUE (CONT'D)\"}, {'dialog': '(more energetic)'}, {'dialog': 'So! Let me offer you a different'}, {'text': 'story. A darker story... Of quills and swords. Of power and betrayal.'}, {'dialog': 'Of a stage conquered, and a throne'}, {'dialog': 'lost!'}, {'text': 'A FLASH OF LIGHTNING, and for a moment only sheets of RAIN are visible. No stage, no \"Prologue\". Then, trough the rain, we see a form of a man... Ben Jonson... running. Then we make out the shapes of'}, {'dialog': \"houses... a street. We're not on a stage anymore. We\"}, {'dialog': 'are:'}, {'dialog': '3'}, {'dialog': 'pg. 4'}]\n"
     ]
    }
   ],
   "source": [
    "# test function on the film 'Anonymous'\n",
    "anon = screenplay_jsons[100]\n",
    "anon_text_flattened = flatten_data(anon, 'text')\n",
    "print(anon_text_flattened[:100])"
   ]
  },
  {
   "cell_type": "code",
   "execution_count": 50,
   "metadata": {},
   "outputs": [
    {
     "name": "stdout",
     "output_type": "stream",
     "text": [
      "{'speaker_heading': 'ANONYMOUS'}\n",
      "{'dialog': 'Written by John Orloff'}\n",
      "{'scene_heading': '1 BLACK SCREEN 1'}\n",
      "{'text': 'TITLES BEGIN over the SOUNDS of city traffic.'}\n",
      "{'speaker_heading': 'FADE UP:'}\n",
      "{'scene_heading': '2 EXT. THEATER DISTRICT OF BROADWAY - DUSK 2'}\n",
      "{'text': 'The sidewalks are filled with theater-goers heading for their shows. Cabs line the streets.'}\n",
      "{'speaker_heading': 'SIDE ALLEY'}\n",
      "{'text': 'A cab quickly turns into the alley, coming to a screeching halt. A Man in a Grey Suit jumps out and rushes to the side entrance of a theater. In the background we see that the title of the play, \"Anonymous\", is written on the theatre\\'s marquee...'}\n",
      "{'scene_heading': '3 INT. BROADWAY THEATER - BACKSTAGE - DUSK 3'}\n",
      "{'text': 'We follow the Man in the Grey Suit as he rushes through narrow backstage hallways, passing several ACTORS dressing in Elizabethan costumes, applying their make-'}\n",
      "{'dialog': 'up, etc...'}\n",
      "{'scene_heading': 'TITLES CONTINUE.'}\n",
      "{'scene_heading': '4 INT. BROADWAY THEATER - BACKSTAGE/EMPTY STAGE - DUSK 4'}\n",
      "{'text': 'The curtains are still closed, and the sound of the audience excitedly MURMURING behind them is heard. . Stagehands are moving stage lights as--'}\n",
      "{'speaker_heading': 'A STAGE MANAGER'}\n",
      "{'text': \"takes a nervous peek through the curtains to check the audience-- it's a full house. He holds a prop umbrella in one hand, anxiously checks his watch in the other. He looks on both wings of the stage-- and then relief floods his face as he sees The Man in the Grey Suit hurrying over to him. The Stage Manager wordlessly hands him the umbrella and signals to a stagehand in\"}\n",
      "{'dialog': 'the background.'}\n",
      "{'text': 'The curtains start to OPEN and the MURMUR of the audience dies down.'}\n",
      "{'speaker_heading': '1'}\n",
      "{'dialog': 'pg. 2'}\n",
      "{'scene_heading': '5 INT. BROADWAY THEATER - THE STAGE - CONTINUOUS 5'}\n",
      "{'text': 'The man with the umbrella stands on the empty stage, a single light on him. He is \"PROLOGUE\". (We will see the same actor later as the \"Prologue\" of Henry V). \"Prologue\" regards his audience for a beat before:'}\n",
      "{'speaker_heading': 'PROLOGUE'}\n",
      "{'dialog': \"Soul of the Age! The applause, delight, the wonder of our stage! Our Shakespeare, rise... (beat, repeating) Our Shakespeare... For he is all of ours, is he not? The most performed playwright of all time! The author of 37 plays, 154 sonnets, and several epic poems that are collectively known as the ultimate expressions of humanity in the English language. And yet... And yet... (beat) Not a single manuscript of any kind has ever been found written in Shakespeare's own hand. In four hundred years, not one document-- be it poem, play, diary or even a simple letter. (beat) He was born the son of a glove-maker,\"}\n",
      "{'text': 'and at some unknown time, armed with'}\n",
      "{'dialog': 'but an elementary school education, he went to London where, the story goes, he became an actor and eventually a playwright.'}\n",
      "{'speaker_heading': 'OFF STAGE'}\n",
      "{'text': 'A stagehand takes a wooden hammer and beats against a flat metal pate, creating the SOUNDS of THUNDER. Another stagehand starts to lift shutters in front of a stage light back and forth to create LIGHTNING STRIKES.'}\n",
      "{'speaker_heading': 'ON STAGE'}\n",
      "{'text': '\"Prologue\" opens his umbrella.'}\n",
      "{'speaker_heading': \"PROLOGUE (CONT'D)\"}\n",
      "{'dialog': \"He died at the age of 56, and was survived by his wife and two daughters who were, like Shakespeare's own\"}\n",
      "{'text': 'father, irrefutably illiterate.'}\n",
      "{'dialog': '2 pg. 3'}\n",
      "{'speaker_heading': 'OFF STAGE'}\n",
      "{'text': 'In the rafters a stagehand opens valves. It starts to'}\n",
      "{'speaker_heading': 'RAIN.'}\n",
      "{'speaker_heading': \"PROLOGUE (O.C.) (CONT'D)\"}\n",
      "{'dialog': 'His will famously left his second best bed to his widow. But it made no mention of a single book or manuscript.'}\n",
      "{'text': 'The actor who will play \"Ben JONSON\" (mid 30\\'s) appears in the wings, bearded, ready to go on stage, holding a prop leather manuscript. Behind him a group of Elizabethan \"soldiers\" strap on their swords.'}\n",
      "{'speaker_heading': 'ON STAGE'}\n",
      "{'text': '\"Prologue\" continues, as do TITLES.'}\n",
      "{'speaker_heading': \"PROLOGUE (CONT'D)\"}\n",
      "{'dialog': 'Is it possible Shakespeare owned no books at his death because... he could not read? That he wrote no letters because he, like his father before him and his children after him, could not write? (lets that sink in, then) Our Shakespeare is a cypher, a ghost; his biography made not by history... but by conjecture. His story not written with facts, but with... imagination.'}\n",
      "{'text': 'The rain has intensified. \"Prologue\" turns and the camera starts to leave him and the TITLES END....'}\n",
      "{'speaker_heading': \"PROLOGUE (CONT'D)\"}\n",
      "{'dialog': '(more energetic) So! Let me offer you a different'}\n",
      "{'text': 'story. A darker story... Of quills and swords. Of power and betrayal.'}\n",
      "{'dialog': 'Of a stage conquered, and a throne lost!'}\n"
     ]
    }
   ],
   "source": [
    "# and now for dialog\n",
    "anon_dialog_flattened = flatten_data(anon_text_flattened, 'dialog')\n",
    "for i, d in enumerate(anon_dialog_flattened):\n",
    "    if i == 50:\n",
    "        break\n",
    "    else:\n",
    "        print(d)"
   ]
  },
  {
   "cell_type": "markdown",
   "metadata": {},
   "source": [
    "appears to have worked, so we'll apply all for both 'text' and 'dialog' keys"
   ]
  },
  {
   "cell_type": "code",
   "execution_count": 51,
   "metadata": {},
   "outputs": [],
   "source": [
    "screenplays_flat_txt = screenplay_jsons.apply(flatten_data, key='text')\n",
    "screenplays_flat = screenplays_flat_txt.apply(flatten_data, key='dialog')"
   ]
  },
  {
   "cell_type": "code",
   "execution_count": 52,
   "metadata": {},
   "outputs": [
    {
     "name": "stdout",
     "output_type": "stream",
     "text": [
      "[{'scene_heading': 'THE LAST OF THE MOHICANS'}, {'dialog': 'Written by Michael Mann &amp; Christopher Crowe'}, {'speaker_heading': 'FADE IN'}, {'text': \"The screen is a microcosm of leaf, crystal drops of precipitation, a stone, emerald green moss. It's a landscape in miniature. We HEAR the forest. Some distant birds. Their sound seems to reverberate as if in a cavern. A piece of sunlight refracts within the drops of water, paints a patch of moss yellow. The whisper of wind is joined by another sound that mixes with it. A distant rustling. It gets closer and louder. It's shallow breathing. It gets ominous. We're interlopers on the floor of the forest and something is coming.\"}, {'scene_heading': 'SUDDENLY: A MOCCASINED FOOT'}, {'text': 'rockets through the frame scaring us and ...'}, {'scene_heading': 'EXTREMELY CLOSE: PART OF AN INDIAN FACE'}, {'text': \"running hard. His head shaved bald except for a scalp-lock. Tattoos. He's twenty-five. He seems tall and muscled. Heavy, even breathing. We'll learn later\"}, {'dialog': 'this man is UNCAS, the last of the Mohicans.'}, {'speaker_heading': \"PROFILE: UNCAS' ARMS\"}, {'text': \"flash as he runs. One carries a flintlock musket. Sweat on the man's skin. A calico shirt is gathered at the waist with a wampum belt of small white beads over a breechcloth. He wears leggings to protect his legs. A long-handled tomahawk is stuffed in his belt.\"}, {'dialog': 'CUT TO ...'}, {'scene_heading': 'ANOTHER PART OF THE FOREST - MASSIVE WAR CLUB - DAY'}, {'text': \"in the hand of another running man. He's heavier, older ...\"}, {'speaker_heading': 'CHEST'}, {'text': \"A green bear claw is tattooed there. Silver armband. A snake is tattooed over his left eyebrow. Silver rings in his ear. He's forty to forty-five. His head is\"}, {'dialog': 'shaved into a scalp-lock. It says: \"Come and lift this from me. Take it, if you can ...\" That prospect strikes us as extremely unlikely. This man is'}, {'speaker_heading': 'CHINGACHGOOK.'}, {'dialog': 'The French call him \"Le Gros Serpent,\" the Great Snake, because \"he knows the winding ways of men\\'s nature and he can strike a sudden, deathly blow.\"'}, {'scene_heading': 'WIDE ANGLE: CHINGACHGOOK'}, {'text': \"runs, disturbing no leaves, no branches; making no sound. He's running parallel to Uncas through the cathedral of mature forest. It's heavily canopied. There's very little brush. The girth of the trees is huge. Shafts of light illuminate motes of dust and turn leaves emerald where the sun breaks through. Sometimes there's ferns; rhododendron, sometimes pale grass and outcroppings of rock. These men run the forest streams, over boulders, fallen trees and down into ravines as if they own them. They do.\"}, {'dialog': 'CUT TO ...'}, {'scene_heading': 'ANOTHER PART OF THE FOREST - LONG BLACK HAIR - DAY'}, {'text': 'rocketing through trees. His torn buckskin shirt is tied at the waist with a wampum belt holding a tomahawk and a large knife. A long rifle in which is carved the name \"Killdeer\" is in his right fist. Indian tattooing on his chest. His name is NATHANIEL POE. He\\'s a few years older than Uncas. The French and \\tthe French-speaking tribes know him as La Longue Carabine (Long Rifle). Other'}, {'dialog': 'frontiersmen in New York colony and the Iroquois and Delaware-speaking tribes'}, {'text': 'know him as Hawkeye. Sweat stains his shirt. He flashes through the tree branches disturbing nothing. Making no sound.'}, {'scene_heading': \"HAWKEYE'S POV: A PIECE OF TAN\"}, {'text': 'two hundred and fifty yards away, a few square inches buried in the foliage ...'}, {'scene_heading': 'SUDDENLY HE STOPS'}, {'text': \"Killdeer's at his shoulder ...\"}, {'speaker_heading': \"HAWKEYE'S THUMB\"}, {'text': 'cocks the lock holding the piece of flint: click.'}, {'speaker_heading': 'UNCAS'}, {'text': 'stops dead, holding out his hand ... no sound.'}, {'speaker_heading': 'CHINGACHGOOK'}, {'text': 'slips through young trees and stops, shouldering his smoothbore musket. Is this'}, {'dialog': 'an ambush?'}, {'scene_heading': \"HAWKEYE'S POV: RACK FOCUS THROUGH THE GUN SIGHT\"}, {'text': \"Five feet and fourteen pounds of rifle is elevated a half inch and shifted left, off target. It's a precise, smooth movement. No human quiver.\"}, {'speaker_heading': \"KILLDEER'S TRIGGER\"}, {'dialog': 'tighter ...'}, {'speaker_heading': 'THE COCK'}, {'text': 'holding the flint hits the iron file of the frizzen, shooting sparks into the pan of priming powder which flashes and ...'}, {'speaker_heading': 'TAN'}, {'text': 'is a huge elk that leaps at the sound.'}, {'speaker_heading': \"KILLDEER'S MUZZLE\"}, {'text': 'CRACKS like lightning.'}, {'speaker_heading': 'AN ELK'}, {'text': 'leaps where the .59 caliber round was programmed to intercept him. On the moment'}, {'dialog': 'of impact ...'}, {'speaker_heading': 'WIDE'}, {'text': \"three men approach the fallen elk and each other. We realize they're hunting together. Hawkeye steps aside for Chingachgook. His massive war club is flat and angles to one side with a stabbing blade. Hawkeye is stepson and stepbrother. The two younger men treat Chingachgook with an easy deference and affection.\"}, {'dialog': \"Hawkeye's a dialectic of two cultures. In his coloration and worldliness he's\"}, {'text': \"more the Anglo-Saxon frontiersman. In his independent views and candid manner and in his combat skills and woodsmanship, he's more native American (Mohican). As Chingachgook takes out his long knife and they approach the fallen elk ...]\"}, {'speaker_heading': 'CHINGACHGOOK'}, {'dialog': \"(low Mohican; sub-titled) We're sorry to kill you, Brother. Forgive us. I do honor to your courage and speed, your strength ... CUT TO ...\"}, {'scene_heading': 'EXTERIOR - INTERIOR CAMERON CABIN - JOHN CAMERON - NIGHT'}, {'text': 'roasts potatoes on a stick in the stone fireplace next to CAPTAIN JACK WINTHROP, an American in very worn quasi-military gear. On a rough table in the tiny cabin ALEXANDRIA, his wife, is kneading bread. Three children climb on their father. He grabs their wild seven year old son, JAMES, who shrieks laughter and dodges away. The cabin has two primitive rooms, waxed paper windows, log walls. O.S. a dog barks. Others pick it up. Cameron &amp; Jack are suddenly alert, reaching for'}, {'dialog': 'weapons ... CUT TO ...'}, {'scene_heading': 'EXTERIOR CAMERON CABIN, DOORWAY - CAMERON - NIGHT'}, {'text': 'appears warily, musket in hand.'}, {'scene_heading': 'FENCE: CHINGACHGOOK'}, {'speaker_heading': 'CHINGACHGOOK'}, {'dialog': 'Halloo! John Cameron!'}, {'text': 'Doorway: Cameron towards the interior ...'}, {'speaker_heading': 'CAMERON'}, {'dialog': 'Alexandria! Set three more places. (to the fence) How is Chingachgook, then?'}, {'text': 'Behind him, emerging from the dark trees are Hawkeye, Uncas, cradling flint locks, blankets and packs over their shoulders, leading a mule laden with skins and the elk carcass. Crossing the splitrail fence ...'}, {'speaker_heading': 'CHINGACHGOOK'}, {'dialog': 'The Master of Life is good. Another year pass ... How is it with you, John?'}, {'speaker_heading': 'CAMERON'}, {'dialog': \"Gettin' along. Yes, it is. (warm) Nathaniel.\"}, {'speaker_heading': 'HAWKEYE'}, {'dialog': 'Hello John. Cleared another quarter, I see.'}, {'speaker_heading': 'CAMERON'}, {'dialog': '(shakes hands with Uncas) Yes, I did.'}, {'speaker_heading': 'JAMES CAMERON'}, {'text': \"tears past his father &amp; runs full bore. Just before he's going to collide into Uncas, he leaps into the air and Uncas snatches him with one hand and swings him up onto his shoulders. The kid screams with delight and rides back towards the cabin that way. Alexandria comes to the door.\"}, {'dialog': 'CUT TO ...'}, {'scene_heading': 'INTERIOR CABIN - CHINGACHGOOK - EVENING (LATER)'}, {'text': 'lights &amp; smokes a clay pipe. The scene says: this is a rustic, frontier home and'}, {'dialog': 'these people have known each other &amp; live in dangerous circumstances.'}, {'speaker_heading': 'ALEXANDRIA'}, {'dialog': 'If Uncas is with you, that means he has not found a woman and started a family yet.'}, {'speaker_heading': 'CHINGACHGOOK'}, {'dialog': 'Your eyes are too sharp, Alexandria Cameron. They see into my heart.'}, {'speaker_heading': 'UNCAS'}, {'dialog': 'Your farm good to you this year, John?'}, {'speaker_heading': 'CAMERON'}, {'dialog': 'It was a good year for corn.'}, {'speaker_heading': 'UNCAS'}, {'dialog': 'Mohawk field we saw was 5 mile long on'}, {'text': \"the river. Chief Joseph Brandt's field.\"}, {'speaker_heading': 'CAMERON'}, {'dialog': 'You take much fur?'}, {'speaker_heading': 'HAWKEYE'}, {'dialog': 'That we did. John. But the horicane (sic)'}, {'text': 'is near trapped out.'}, {'speaker_heading': 'JACK'}, {'dialog': \"Tradin' your skins in Castleton?\"}]\n"
     ]
    }
   ],
   "source": [
    "print(screenplays_flat[10][:100])"
   ]
  },
  {
   "cell_type": "code",
   "execution_count": 53,
   "metadata": {},
   "outputs": [],
   "source": [
    "del screenplays_flat_txt"
   ]
  },
  {
   "cell_type": "markdown",
   "metadata": {},
   "source": [
    "## speaker_heading"
   ]
  },
  {
   "cell_type": "markdown",
   "metadata": {},
   "source": [
    "'speaker_heading' is likely irrelevant, but let's take a look"
   ]
  },
  {
   "cell_type": "code",
   "execution_count": 54,
   "metadata": {},
   "outputs": [],
   "source": [
    "speaker_headings = [d.get('speaker_heading') for d in roxbury_data if 'speaker_heading' in d]"
   ]
  },
  {
   "cell_type": "markdown",
   "metadata": {},
   "source": [
    "'speaker_heading' almost certainly irrelevant. "
   ]
  },
  {
   "cell_type": "code",
   "execution_count": 55,
   "metadata": {},
   "outputs": [],
   "source": [
    "# drop speaker_heading data \n",
    "def decapitate_speakers(json_list):\n",
    "    decapitated = [d for d in json_list if not 'speaker_heading' in d]\n",
    "    return decapitated \n",
    "\n",
    "# # test on roxbury \n",
    "# roxbury_decapitated = decapitate_speakers(roxbury_data)\n",
    "# print(roxbury_decapitated[:100])"
   ]
  },
  {
   "cell_type": "code",
   "execution_count": 57,
   "metadata": {},
   "outputs": [],
   "source": [
    "# free up RAM \n",
    "del df, filenames, content, meta_df, ids, movie_titles, roxbury_annot, roxbury_data, screenplays_annot, screenplays_df, speaker_headings, unique_labels_series"
   ]
  },
  {
   "cell_type": "code",
   "execution_count": 58,
   "metadata": {},
   "outputs": [],
   "source": [
    "# apply to all texts \n",
    "decapitated_screenplays = screenplays_flat.apply(decapitate_speakers)"
   ]
  },
  {
   "cell_type": "code",
   "execution_count": 59,
   "metadata": {},
   "outputs": [
    {
     "name": "stdout",
     "output_type": "stream",
     "text": [
      "[{'scene_heading': 'THE LAST OF THE MOHICANS'}, {'dialog': 'Written by Michael Mann &amp; Christopher Crowe'}, {'text': \"The screen is a microcosm of leaf, crystal drops of precipitation, a stone, emerald green moss. It's a landscape in miniature. We HEAR the forest. Some distant birds. Their sound seems to reverberate as if in a cavern. A piece of sunlight refracts within the drops of water, paints a patch of moss yellow. The whisper of wind is joined by another sound that mixes with it. A distant rustling. It gets closer and louder. It's shallow breathing. It gets ominous. We're interlopers on the floor of the forest and something is coming.\"}, {'scene_heading': 'SUDDENLY: A MOCCASINED FOOT'}, {'text': 'rockets through the frame scaring us and ...'}, {'scene_heading': 'EXTREMELY CLOSE: PART OF AN INDIAN FACE'}, {'text': \"running hard. His head shaved bald except for a scalp-lock. Tattoos. He's twenty-five. He seems tall and muscled. Heavy, even breathing. We'll learn later\"}, {'dialog': 'this man is UNCAS, the last of the Mohicans.'}, {'text': \"flash as he runs. One carries a flintlock musket. Sweat on the man's skin. A calico shirt is gathered at the waist with a wampum belt of small white beads over a breechcloth. He wears leggings to protect his legs. A long-handled tomahawk is stuffed in his belt.\"}, {'dialog': 'CUT TO ...'}, {'scene_heading': 'ANOTHER PART OF THE FOREST - MASSIVE WAR CLUB - DAY'}, {'text': \"in the hand of another running man. He's heavier, older ...\"}, {'text': \"A green bear claw is tattooed there. Silver armband. A snake is tattooed over his left eyebrow. Silver rings in his ear. He's forty to forty-five. His head is\"}, {'dialog': 'shaved into a scalp-lock. It says: \"Come and lift this from me. Take it, if you can ...\" That prospect strikes us as extremely unlikely. This man is'}, {'dialog': 'The French call him \"Le Gros Serpent,\" the Great Snake, because \"he knows the winding ways of men\\'s nature and he can strike a sudden, deathly blow.\"'}, {'scene_heading': 'WIDE ANGLE: CHINGACHGOOK'}, {'text': \"runs, disturbing no leaves, no branches; making no sound. He's running parallel to Uncas through the cathedral of mature forest. It's heavily canopied. There's very little brush. The girth of the trees is huge. Shafts of light illuminate motes of dust and turn leaves emerald where the sun breaks through. Sometimes there's ferns; rhododendron, sometimes pale grass and outcroppings of rock. These men run the forest streams, over boulders, fallen trees and down into ravines as if they own them. They do.\"}, {'dialog': 'CUT TO ...'}, {'scene_heading': 'ANOTHER PART OF THE FOREST - LONG BLACK HAIR - DAY'}, {'text': 'rocketing through trees. His torn buckskin shirt is tied at the waist with a wampum belt holding a tomahawk and a large knife. A long rifle in which is carved the name \"Killdeer\" is in his right fist. Indian tattooing on his chest. His name is NATHANIEL POE. He\\'s a few years older than Uncas. The French and \\tthe French-speaking tribes know him as La Longue Carabine (Long Rifle). Other'}, {'dialog': 'frontiersmen in New York colony and the Iroquois and Delaware-speaking tribes'}, {'text': 'know him as Hawkeye. Sweat stains his shirt. He flashes through the tree branches disturbing nothing. Making no sound.'}, {'scene_heading': \"HAWKEYE'S POV: A PIECE OF TAN\"}, {'text': 'two hundred and fifty yards away, a few square inches buried in the foliage ...'}, {'scene_heading': 'SUDDENLY HE STOPS'}, {'text': \"Killdeer's at his shoulder ...\"}, {'text': 'cocks the lock holding the piece of flint: click.'}, {'text': 'stops dead, holding out his hand ... no sound.'}, {'text': 'slips through young trees and stops, shouldering his smoothbore musket. Is this'}, {'dialog': 'an ambush?'}, {'scene_heading': \"HAWKEYE'S POV: RACK FOCUS THROUGH THE GUN SIGHT\"}, {'text': \"Five feet and fourteen pounds of rifle is elevated a half inch and shifted left, off target. It's a precise, smooth movement. No human quiver.\"}, {'dialog': 'tighter ...'}, {'text': 'holding the flint hits the iron file of the frizzen, shooting sparks into the pan of priming powder which flashes and ...'}, {'text': 'is a huge elk that leaps at the sound.'}, {'text': 'CRACKS like lightning.'}, {'text': 'leaps where the .59 caliber round was programmed to intercept him. On the moment'}, {'dialog': 'of impact ...'}, {'text': \"three men approach the fallen elk and each other. We realize they're hunting together. Hawkeye steps aside for Chingachgook. His massive war club is flat and angles to one side with a stabbing blade. Hawkeye is stepson and stepbrother. The two younger men treat Chingachgook with an easy deference and affection.\"}, {'dialog': \"Hawkeye's a dialectic of two cultures. In his coloration and worldliness he's\"}, {'text': \"more the Anglo-Saxon frontiersman. In his independent views and candid manner and in his combat skills and woodsmanship, he's more native American (Mohican). As Chingachgook takes out his long knife and they approach the fallen elk ...]\"}, {'dialog': \"(low Mohican; sub-titled) We're sorry to kill you, Brother. Forgive us. I do honor to your courage and speed, your strength ... CUT TO ...\"}, {'scene_heading': 'EXTERIOR - INTERIOR CAMERON CABIN - JOHN CAMERON - NIGHT'}, {'text': 'roasts potatoes on a stick in the stone fireplace next to CAPTAIN JACK WINTHROP, an American in very worn quasi-military gear. On a rough table in the tiny cabin ALEXANDRIA, his wife, is kneading bread. Three children climb on their father. He grabs their wild seven year old son, JAMES, who shrieks laughter and dodges away. The cabin has two primitive rooms, waxed paper windows, log walls. O.S. a dog barks. Others pick it up. Cameron &amp; Jack are suddenly alert, reaching for'}, {'dialog': 'weapons ... CUT TO ...'}, {'scene_heading': 'EXTERIOR CAMERON CABIN, DOORWAY - CAMERON - NIGHT'}, {'text': 'appears warily, musket in hand.'}, {'scene_heading': 'FENCE: CHINGACHGOOK'}, {'dialog': 'Halloo! John Cameron!'}, {'text': 'Doorway: Cameron towards the interior ...'}, {'dialog': 'Alexandria! Set three more places. (to the fence) How is Chingachgook, then?'}, {'text': 'Behind him, emerging from the dark trees are Hawkeye, Uncas, cradling flint locks, blankets and packs over their shoulders, leading a mule laden with skins and the elk carcass. Crossing the splitrail fence ...'}, {'dialog': 'The Master of Life is good. Another year pass ... How is it with you, John?'}, {'dialog': \"Gettin' along. Yes, it is. (warm) Nathaniel.\"}, {'dialog': 'Hello John. Cleared another quarter, I see.'}, {'dialog': '(shakes hands with Uncas) Yes, I did.'}, {'text': \"tears past his father &amp; runs full bore. Just before he's going to collide into Uncas, he leaps into the air and Uncas snatches him with one hand and swings him up onto his shoulders. The kid screams with delight and rides back towards the cabin that way. Alexandria comes to the door.\"}, {'dialog': 'CUT TO ...'}, {'scene_heading': 'INTERIOR CABIN - CHINGACHGOOK - EVENING (LATER)'}, {'text': 'lights &amp; smokes a clay pipe. The scene says: this is a rustic, frontier home and'}, {'dialog': 'these people have known each other &amp; live in dangerous circumstances.'}, {'dialog': 'If Uncas is with you, that means he has not found a woman and started a family yet.'}, {'dialog': 'Your eyes are too sharp, Alexandria Cameron. They see into my heart.'}, {'dialog': 'Your farm good to you this year, John?'}, {'dialog': 'It was a good year for corn.'}, {'dialog': 'Mohawk field we saw was 5 mile long on'}, {'text': \"the river. Chief Joseph Brandt's field.\"}, {'dialog': 'You take much fur?'}, {'dialog': 'That we did. John. But the horicane (sic)'}, {'text': 'is near trapped out.'}, {'dialog': \"Tradin' your skins in Castleton?\"}, {'dialog': 'No, Schylerville. With the Dutch for silver. French &amp; English want to buy with wampum &amp; brandy. Pause, then ...'}, {'dialog': 'So what is it, Jack? What brings you up here?'}, {'text': \"A French &amp; Indian army out of Fort Carillon's\"}, {'dialog': \"heading south to war against the English. I'm here to raise this county's militia to aid the British defense.\"}, {'dialog': \"Folks here goin' to join in that fight?\"}, {'dialog': \"We'll see in the morning ...\"}, {'dialog': \"Fathers of England &amp; France, both, take more land, furs, than they need. They're cold &amp; full of greed ...\"}, {'dialog': \"Few'd deny that? Where you headin'?\"}, {'dialog': 'Trap over the fall and winter among the Delawares in Can-tuck-ee.'}, {'dialog': 'So I can find a woman and make Mohican children so our father will leave my brother &amp; me in peace.'}, {'text': 'Alexandria laughs. So do Hawkeye &amp; Chingachgook.'}, {'dialog': 'A son like me?'}, {'text': 'Uncas grabs James &amp; suspends him upside down.'}, {'dialog': 'No. You are too strong. Turn me old too fast!'}, {'text': \"Hawkeye grabs the kid from Uncas. The kid's laughing &amp; can't stay still. Chingachgook watches, content, smoking his clay pipe.\"}, {'dialog': \"That's what he's doin' to his mama ...\"}, {'text': \"She ruffles his hair and lifts the heavy iron pot off the tibbet. Uncas goes to help her, she shrugs his hand away and carries it to the table herself. The men gather around. There's pan-baked bread, a dish of salt, and the pot has venison and yellow cornmeal in a kind of stew. Everyone waits.\"}, {'dialog': \"Dear Father, thank you for rewardin' the fruits of our labor with plenty. Amen.\"}, {'text': 'As they start to eat ...'}, {'dialog': 'CUT TO ...'}, {'scene_heading': 'EXTERIOR CAMERON CABIN - MOHAWK BOY &amp; JAMES CAMERON - MORNING'}, {'text': \"slam into other kids as they battle through a Lacrosse game. In the background are sixty men, women and children. It's a community gathering held out of doors. We've entered mid-scene. Captain Jack is standing on a box. Some women and kids mill around some tables and boards laid over barrels. Cooking fires. Smoke. Most but not all around Captain Jack are men, nine settlers, 3 hunter/trappers, eight Mohawk farmers in mixed European and native clothing. Off to the side are an English Lieutenant on horseback and a ten-man escort from whatever regiment's in Albany. A man named HENRI speaks in French. His son, MARTIN, translates.\"}, {'dialog': '(O.S. in French)'}, {'dialog': '(translates) My father says he was driven out of France by the black robe priests and he would fight them now but he lost his arm and so I will go in his place. Meanwhile ...'}, {'text': 'is an unusually large Mohawk in a blue match coat with a little girl holding his hand. He says something to Chingachgook who nods. Hawkeye and Uncas are a little apart in an outer grouping of the men. Ongewasgone is a war chief and wears a white plume and is tattooed. As Martin finishes, he steps forward.'}, {'dialog': 'John Cameron, thank you for your hospitality ... Twin River Mohawk got no quarrel with Les Francais. Trade furs with Les Francais. Now Les Francais bring Huron onto Mohawk hunting grounds ... These people are English, Scots-Irish and Dutch farmers; some French Huguenot'}, {'text': '\"mechanics\" (craftsmen). They\\'re in shirt-sleeves and Indian moccasins &amp; leggings. The'}, {'dialog': \"Mohawks' vast lands and corn agriculture border the settlement. They 've been\"}, {'text': \"acculturated for over a hundred years. Some wear European calico hunting shirts. Their heads are shaved to scalping locks and many are tattooed. They've politically and\"}]\n"
     ]
    }
   ],
   "source": [
    "print(decapitated_screenplays[10][:100])"
   ]
  },
  {
   "cell_type": "code",
   "execution_count": 60,
   "metadata": {},
   "outputs": [],
   "source": [
    "del screenplays_flat"
   ]
  },
  {
   "cell_type": "markdown",
   "metadata": {},
   "source": [
    "note: we can likely remove any values:\n",
    "- that are empty \n",
    "- containing ':' -- these seem to be camera directions"
   ]
  },
  {
   "cell_type": "markdown",
   "metadata": {},
   "source": [
    "### Remove Empty Strings"
   ]
  },
  {
   "cell_type": "code",
   "execution_count": 62,
   "metadata": {},
   "outputs": [],
   "source": [
    "# remove empty strings\n",
    "\n",
    "import string \n",
    "puncts = set(string.punctuation)\n",
    "\n",
    "def remove_nulls(json_list):\n",
    "    non_nulls = []\n",
    "    for dict in json_list:\n",
    "        valid = True\n",
    "        for val in dict.values():\n",
    "            if val == '' or all(char in puncts for char in val):\n",
    "                valid = False\n",
    "                break\n",
    "        if valid:\n",
    "            non_nulls.append(dict)\n",
    "    return non_nulls\n",
    "\n",
    "# # beta test on roxbury \n",
    "# roxbury_nonna = remove_nulls(roxbury_decapitated)\n",
    "# print(roxbury_nonna[:100])"
   ]
  },
  {
   "cell_type": "code",
   "execution_count": 63,
   "metadata": {},
   "outputs": [
    {
     "name": "stdout",
     "output_type": "stream",
     "text": [
      "[{'scene_heading': 'THE LAST OF THE MOHICANS'}, {'dialog': 'Written by Michael Mann &amp; Christopher Crowe'}, {'text': \"The screen is a microcosm of leaf, crystal drops of precipitation, a stone, emerald green moss. It's a landscape in miniature. We HEAR the forest. Some distant birds. Their sound seems to reverberate as if in a cavern. A piece of sunlight refracts within the drops of water, paints a patch of moss yellow. The whisper of wind is joined by another sound that mixes with it. A distant rustling. It gets closer and louder. It's shallow breathing. It gets ominous. We're interlopers on the floor of the forest and something is coming.\"}, {'scene_heading': 'SUDDENLY: A MOCCASINED FOOT'}, {'text': 'rockets through the frame scaring us and ...'}, {'scene_heading': 'EXTREMELY CLOSE: PART OF AN INDIAN FACE'}, {'text': \"running hard. His head shaved bald except for a scalp-lock. Tattoos. He's twenty-five. He seems tall and muscled. Heavy, even breathing. We'll learn later\"}, {'dialog': 'this man is UNCAS, the last of the Mohicans.'}, {'text': \"flash as he runs. One carries a flintlock musket. Sweat on the man's skin. A calico shirt is gathered at the waist with a wampum belt of small white beads over a breechcloth. He wears leggings to protect his legs. A long-handled tomahawk is stuffed in his belt.\"}, {'dialog': 'CUT TO ...'}, {'scene_heading': 'ANOTHER PART OF THE FOREST - MASSIVE WAR CLUB - DAY'}, {'text': \"in the hand of another running man. He's heavier, older ...\"}, {'text': \"A green bear claw is tattooed there. Silver armband. A snake is tattooed over his left eyebrow. Silver rings in his ear. He's forty to forty-five. His head is\"}, {'dialog': 'shaved into a scalp-lock. It says: \"Come and lift this from me. Take it, if you can ...\" That prospect strikes us as extremely unlikely. This man is'}, {'dialog': 'The French call him \"Le Gros Serpent,\" the Great Snake, because \"he knows the winding ways of men\\'s nature and he can strike a sudden, deathly blow.\"'}, {'scene_heading': 'WIDE ANGLE: CHINGACHGOOK'}, {'text': \"runs, disturbing no leaves, no branches; making no sound. He's running parallel to Uncas through the cathedral of mature forest. It's heavily canopied. There's very little brush. The girth of the trees is huge. Shafts of light illuminate motes of dust and turn leaves emerald where the sun breaks through. Sometimes there's ferns; rhododendron, sometimes pale grass and outcroppings of rock. These men run the forest streams, over boulders, fallen trees and down into ravines as if they own them. They do.\"}, {'dialog': 'CUT TO ...'}, {'scene_heading': 'ANOTHER PART OF THE FOREST - LONG BLACK HAIR - DAY'}, {'text': 'rocketing through trees. His torn buckskin shirt is tied at the waist with a wampum belt holding a tomahawk and a large knife. A long rifle in which is carved the name \"Killdeer\" is in his right fist. Indian tattooing on his chest. His name is NATHANIEL POE. He\\'s a few years older than Uncas. The French and \\tthe French-speaking tribes know him as La Longue Carabine (Long Rifle). Other'}, {'dialog': 'frontiersmen in New York colony and the Iroquois and Delaware-speaking tribes'}, {'text': 'know him as Hawkeye. Sweat stains his shirt. He flashes through the tree branches disturbing nothing. Making no sound.'}, {'scene_heading': \"HAWKEYE'S POV: A PIECE OF TAN\"}, {'text': 'two hundred and fifty yards away, a few square inches buried in the foliage ...'}, {'scene_heading': 'SUDDENLY HE STOPS'}, {'text': \"Killdeer's at his shoulder ...\"}, {'text': 'cocks the lock holding the piece of flint: click.'}, {'text': 'stops dead, holding out his hand ... no sound.'}, {'text': 'slips through young trees and stops, shouldering his smoothbore musket. Is this'}, {'dialog': 'an ambush?'}, {'scene_heading': \"HAWKEYE'S POV: RACK FOCUS THROUGH THE GUN SIGHT\"}, {'text': \"Five feet and fourteen pounds of rifle is elevated a half inch and shifted left, off target. It's a precise, smooth movement. No human quiver.\"}, {'dialog': 'tighter ...'}, {'text': 'holding the flint hits the iron file of the frizzen, shooting sparks into the pan of priming powder which flashes and ...'}, {'text': 'is a huge elk that leaps at the sound.'}, {'text': 'CRACKS like lightning.'}, {'text': 'leaps where the .59 caliber round was programmed to intercept him. On the moment'}, {'dialog': 'of impact ...'}, {'text': \"three men approach the fallen elk and each other. We realize they're hunting together. Hawkeye steps aside for Chingachgook. His massive war club is flat and angles to one side with a stabbing blade. Hawkeye is stepson and stepbrother. The two younger men treat Chingachgook with an easy deference and affection.\"}, {'dialog': \"Hawkeye's a dialectic of two cultures. In his coloration and worldliness he's\"}, {'text': \"more the Anglo-Saxon frontiersman. In his independent views and candid manner and in his combat skills and woodsmanship, he's more native American (Mohican). As Chingachgook takes out his long knife and they approach the fallen elk ...]\"}, {'dialog': \"(low Mohican; sub-titled) We're sorry to kill you, Brother. Forgive us. I do honor to your courage and speed, your strength ... CUT TO ...\"}, {'scene_heading': 'EXTERIOR - INTERIOR CAMERON CABIN - JOHN CAMERON - NIGHT'}, {'text': 'roasts potatoes on a stick in the stone fireplace next to CAPTAIN JACK WINTHROP, an American in very worn quasi-military gear. On a rough table in the tiny cabin ALEXANDRIA, his wife, is kneading bread. Three children climb on their father. He grabs their wild seven year old son, JAMES, who shrieks laughter and dodges away. The cabin has two primitive rooms, waxed paper windows, log walls. O.S. a dog barks. Others pick it up. Cameron &amp; Jack are suddenly alert, reaching for'}, {'dialog': 'weapons ... CUT TO ...'}, {'scene_heading': 'EXTERIOR CAMERON CABIN, DOORWAY - CAMERON - NIGHT'}, {'text': 'appears warily, musket in hand.'}, {'scene_heading': 'FENCE: CHINGACHGOOK'}, {'dialog': 'Halloo! John Cameron!'}, {'text': 'Doorway: Cameron towards the interior ...'}, {'dialog': 'Alexandria! Set three more places. (to the fence) How is Chingachgook, then?'}, {'text': 'Behind him, emerging from the dark trees are Hawkeye, Uncas, cradling flint locks, blankets and packs over their shoulders, leading a mule laden with skins and the elk carcass. Crossing the splitrail fence ...'}, {'dialog': 'The Master of Life is good. Another year pass ... How is it with you, John?'}, {'dialog': \"Gettin' along. Yes, it is. (warm) Nathaniel.\"}, {'dialog': 'Hello John. Cleared another quarter, I see.'}, {'dialog': '(shakes hands with Uncas) Yes, I did.'}, {'text': \"tears past his father &amp; runs full bore. Just before he's going to collide into Uncas, he leaps into the air and Uncas snatches him with one hand and swings him up onto his shoulders. The kid screams with delight and rides back towards the cabin that way. Alexandria comes to the door.\"}, {'dialog': 'CUT TO ...'}, {'scene_heading': 'INTERIOR CABIN - CHINGACHGOOK - EVENING (LATER)'}, {'text': 'lights &amp; smokes a clay pipe. The scene says: this is a rustic, frontier home and'}, {'dialog': 'these people have known each other &amp; live in dangerous circumstances.'}, {'dialog': 'If Uncas is with you, that means he has not found a woman and started a family yet.'}, {'dialog': 'Your eyes are too sharp, Alexandria Cameron. They see into my heart.'}, {'dialog': 'Your farm good to you this year, John?'}, {'dialog': 'It was a good year for corn.'}, {'dialog': 'Mohawk field we saw was 5 mile long on'}, {'text': \"the river. Chief Joseph Brandt's field.\"}, {'dialog': 'You take much fur?'}, {'dialog': 'That we did. John. But the horicane (sic)'}, {'text': 'is near trapped out.'}, {'dialog': \"Tradin' your skins in Castleton?\"}, {'dialog': 'No, Schylerville. With the Dutch for silver. French &amp; English want to buy with wampum &amp; brandy. Pause, then ...'}, {'dialog': 'So what is it, Jack? What brings you up here?'}, {'text': \"A French &amp; Indian army out of Fort Carillon's\"}, {'dialog': \"heading south to war against the English. I'm here to raise this county's militia to aid the British defense.\"}, {'dialog': \"Folks here goin' to join in that fight?\"}, {'dialog': \"We'll see in the morning ...\"}, {'dialog': \"Fathers of England &amp; France, both, take more land, furs, than they need. They're cold &amp; full of greed ...\"}, {'dialog': \"Few'd deny that? Where you headin'?\"}, {'dialog': 'Trap over the fall and winter among the Delawares in Can-tuck-ee.'}, {'dialog': 'So I can find a woman and make Mohican children so our father will leave my brother &amp; me in peace.'}, {'text': 'Alexandria laughs. So do Hawkeye &amp; Chingachgook.'}, {'dialog': 'A son like me?'}, {'text': 'Uncas grabs James &amp; suspends him upside down.'}, {'dialog': 'No. You are too strong. Turn me old too fast!'}, {'text': \"Hawkeye grabs the kid from Uncas. The kid's laughing &amp; can't stay still. Chingachgook watches, content, smoking his clay pipe.\"}, {'dialog': \"That's what he's doin' to his mama ...\"}, {'text': \"She ruffles his hair and lifts the heavy iron pot off the tibbet. Uncas goes to help her, she shrugs his hand away and carries it to the table herself. The men gather around. There's pan-baked bread, a dish of salt, and the pot has venison and yellow cornmeal in a kind of stew. Everyone waits.\"}, {'dialog': \"Dear Father, thank you for rewardin' the fruits of our labor with plenty. Amen.\"}, {'text': 'As they start to eat ...'}, {'dialog': 'CUT TO ...'}, {'scene_heading': 'EXTERIOR CAMERON CABIN - MOHAWK BOY &amp; JAMES CAMERON - MORNING'}, {'text': \"slam into other kids as they battle through a Lacrosse game. In the background are sixty men, women and children. It's a community gathering held out of doors. We've entered mid-scene. Captain Jack is standing on a box. Some women and kids mill around some tables and boards laid over barrels. Cooking fires. Smoke. Most but not all around Captain Jack are men, nine settlers, 3 hunter/trappers, eight Mohawk farmers in mixed European and native clothing. Off to the side are an English Lieutenant on horseback and a ten-man escort from whatever regiment's in Albany. A man named HENRI speaks in French. His son, MARTIN, translates.\"}, {'dialog': '(O.S. in French)'}, {'dialog': '(translates) My father says he was driven out of France by the black robe priests and he would fight them now but he lost his arm and so I will go in his place. Meanwhile ...'}, {'text': 'is an unusually large Mohawk in a blue match coat with a little girl holding his hand. He says something to Chingachgook who nods. Hawkeye and Uncas are a little apart in an outer grouping of the men. Ongewasgone is a war chief and wears a white plume and is tattooed. As Martin finishes, he steps forward.'}, {'dialog': 'John Cameron, thank you for your hospitality ... Twin River Mohawk got no quarrel with Les Francais. Trade furs with Les Francais. Now Les Francais bring Huron onto Mohawk hunting grounds ... These people are English, Scots-Irish and Dutch farmers; some French Huguenot'}, {'text': '\"mechanics\" (craftsmen). They\\'re in shirt-sleeves and Indian moccasins &amp; leggings. The'}, {'dialog': \"Mohawks' vast lands and corn agriculture border the settlement. They 've been\"}, {'text': \"acculturated for over a hundred years. Some wear European calico hunting shirts. Their heads are shaved to scalping locks and many are tattooed. They've politically and\"}]\n"
     ]
    }
   ],
   "source": [
    "print(decapitated_screenplays[10][:100])"
   ]
  },
  {
   "cell_type": "code",
   "execution_count": 64,
   "metadata": {},
   "outputs": [
    {
     "name": "stdout",
     "output_type": "stream",
     "text": [
      "[{'scene_heading': 'THE LAST OF THE MOHICANS'}, {'dialog': 'Written by Michael Mann &amp; Christopher Crowe'}, {'text': \"The screen is a microcosm of leaf, crystal drops of precipitation, a stone, emerald green moss. It's a landscape in miniature. We HEAR the forest. Some distant birds. Their sound seems to reverberate as if in a cavern. A piece of sunlight refracts within the drops of water, paints a patch of moss yellow. The whisper of wind is joined by another sound that mixes with it. A distant rustling. It gets closer and louder. It's shallow breathing. It gets ominous. We're interlopers on the floor of the forest and something is coming.\"}, {'scene_heading': 'SUDDENLY: A MOCCASINED FOOT'}, {'text': 'rockets through the frame scaring us and ...'}, {'scene_heading': 'EXTREMELY CLOSE: PART OF AN INDIAN FACE'}, {'text': \"running hard. His head shaved bald except for a scalp-lock. Tattoos. He's twenty-five. He seems tall and muscled. Heavy, even breathing. We'll learn later\"}, {'dialog': 'this man is UNCAS, the last of the Mohicans.'}, {'text': \"flash as he runs. One carries a flintlock musket. Sweat on the man's skin. A calico shirt is gathered at the waist with a wampum belt of small white beads over a breechcloth. He wears leggings to protect his legs. A long-handled tomahawk is stuffed in his belt.\"}, {'dialog': 'CUT TO ...'}, {'scene_heading': 'ANOTHER PART OF THE FOREST - MASSIVE WAR CLUB - DAY'}, {'text': \"in the hand of another running man. He's heavier, older ...\"}, {'text': \"A green bear claw is tattooed there. Silver armband. A snake is tattooed over his left eyebrow. Silver rings in his ear. He's forty to forty-five. His head is\"}, {'dialog': 'shaved into a scalp-lock. It says: \"Come and lift this from me. Take it, if you can ...\" That prospect strikes us as extremely unlikely. This man is'}, {'dialog': 'The French call him \"Le Gros Serpent,\" the Great Snake, because \"he knows the winding ways of men\\'s nature and he can strike a sudden, deathly blow.\"'}, {'scene_heading': 'WIDE ANGLE: CHINGACHGOOK'}, {'text': \"runs, disturbing no leaves, no branches; making no sound. He's running parallel to Uncas through the cathedral of mature forest. It's heavily canopied. There's very little brush. The girth of the trees is huge. Shafts of light illuminate motes of dust and turn leaves emerald where the sun breaks through. Sometimes there's ferns; rhododendron, sometimes pale grass and outcroppings of rock. These men run the forest streams, over boulders, fallen trees and down into ravines as if they own them. They do.\"}, {'dialog': 'CUT TO ...'}, {'scene_heading': 'ANOTHER PART OF THE FOREST - LONG BLACK HAIR - DAY'}, {'text': 'rocketing through trees. His torn buckskin shirt is tied at the waist with a wampum belt holding a tomahawk and a large knife. A long rifle in which is carved the name \"Killdeer\" is in his right fist. Indian tattooing on his chest. His name is NATHANIEL POE. He\\'s a few years older than Uncas. The French and \\tthe French-speaking tribes know him as La Longue Carabine (Long Rifle). Other'}, {'dialog': 'frontiersmen in New York colony and the Iroquois and Delaware-speaking tribes'}, {'text': 'know him as Hawkeye. Sweat stains his shirt. He flashes through the tree branches disturbing nothing. Making no sound.'}, {'scene_heading': \"HAWKEYE'S POV: A PIECE OF TAN\"}, {'text': 'two hundred and fifty yards away, a few square inches buried in the foliage ...'}, {'scene_heading': 'SUDDENLY HE STOPS'}, {'text': \"Killdeer's at his shoulder ...\"}, {'text': 'cocks the lock holding the piece of flint: click.'}, {'text': 'stops dead, holding out his hand ... no sound.'}, {'text': 'slips through young trees and stops, shouldering his smoothbore musket. Is this'}, {'dialog': 'an ambush?'}, {'scene_heading': \"HAWKEYE'S POV: RACK FOCUS THROUGH THE GUN SIGHT\"}, {'text': \"Five feet and fourteen pounds of rifle is elevated a half inch and shifted left, off target. It's a precise, smooth movement. No human quiver.\"}, {'dialog': 'tighter ...'}, {'text': 'holding the flint hits the iron file of the frizzen, shooting sparks into the pan of priming powder which flashes and ...'}, {'text': 'is a huge elk that leaps at the sound.'}, {'text': 'CRACKS like lightning.'}, {'text': 'leaps where the .59 caliber round was programmed to intercept him. On the moment'}, {'dialog': 'of impact ...'}, {'text': \"three men approach the fallen elk and each other. We realize they're hunting together. Hawkeye steps aside for Chingachgook. His massive war club is flat and angles to one side with a stabbing blade. Hawkeye is stepson and stepbrother. The two younger men treat Chingachgook with an easy deference and affection.\"}, {'dialog': \"Hawkeye's a dialectic of two cultures. In his coloration and worldliness he's\"}, {'text': \"more the Anglo-Saxon frontiersman. In his independent views and candid manner and in his combat skills and woodsmanship, he's more native American (Mohican). As Chingachgook takes out his long knife and they approach the fallen elk ...]\"}, {'dialog': \"(low Mohican; sub-titled) We're sorry to kill you, Brother. Forgive us. I do honor to your courage and speed, your strength ... CUT TO ...\"}, {'scene_heading': 'EXTERIOR - INTERIOR CAMERON CABIN - JOHN CAMERON - NIGHT'}, {'text': 'roasts potatoes on a stick in the stone fireplace next to CAPTAIN JACK WINTHROP, an American in very worn quasi-military gear. On a rough table in the tiny cabin ALEXANDRIA, his wife, is kneading bread. Three children climb on their father. He grabs their wild seven year old son, JAMES, who shrieks laughter and dodges away. The cabin has two primitive rooms, waxed paper windows, log walls. O.S. a dog barks. Others pick it up. Cameron &amp; Jack are suddenly alert, reaching for'}, {'dialog': 'weapons ... CUT TO ...'}, {'scene_heading': 'EXTERIOR CAMERON CABIN, DOORWAY - CAMERON - NIGHT'}, {'text': 'appears warily, musket in hand.'}, {'scene_heading': 'FENCE: CHINGACHGOOK'}, {'dialog': 'Halloo! John Cameron!'}, {'text': 'Doorway: Cameron towards the interior ...'}, {'dialog': 'Alexandria! Set three more places. (to the fence) How is Chingachgook, then?'}, {'text': 'Behind him, emerging from the dark trees are Hawkeye, Uncas, cradling flint locks, blankets and packs over their shoulders, leading a mule laden with skins and the elk carcass. Crossing the splitrail fence ...'}, {'dialog': 'The Master of Life is good. Another year pass ... How is it with you, John?'}, {'dialog': \"Gettin' along. Yes, it is. (warm) Nathaniel.\"}, {'dialog': 'Hello John. Cleared another quarter, I see.'}, {'dialog': '(shakes hands with Uncas) Yes, I did.'}, {'text': \"tears past his father &amp; runs full bore. Just before he's going to collide into Uncas, he leaps into the air and Uncas snatches him with one hand and swings him up onto his shoulders. The kid screams with delight and rides back towards the cabin that way. Alexandria comes to the door.\"}, {'dialog': 'CUT TO ...'}, {'scene_heading': 'INTERIOR CABIN - CHINGACHGOOK - EVENING (LATER)'}, {'text': 'lights &amp; smokes a clay pipe. The scene says: this is a rustic, frontier home and'}, {'dialog': 'these people have known each other &amp; live in dangerous circumstances.'}, {'dialog': 'If Uncas is with you, that means he has not found a woman and started a family yet.'}, {'dialog': 'Your eyes are too sharp, Alexandria Cameron. They see into my heart.'}, {'dialog': 'Your farm good to you this year, John?'}, {'dialog': 'It was a good year for corn.'}, {'dialog': 'Mohawk field we saw was 5 mile long on'}, {'text': \"the river. Chief Joseph Brandt's field.\"}, {'dialog': 'You take much fur?'}, {'dialog': 'That we did. John. But the horicane (sic)'}, {'text': 'is near trapped out.'}, {'dialog': \"Tradin' your skins in Castleton?\"}, {'dialog': 'No, Schylerville. With the Dutch for silver. French &amp; English want to buy with wampum &amp; brandy. Pause, then ...'}, {'dialog': 'So what is it, Jack? What brings you up here?'}, {'text': \"A French &amp; Indian army out of Fort Carillon's\"}, {'dialog': \"heading south to war against the English. I'm here to raise this county's militia to aid the British defense.\"}, {'dialog': \"Folks here goin' to join in that fight?\"}, {'dialog': \"We'll see in the morning ...\"}, {'dialog': \"Fathers of England &amp; France, both, take more land, furs, than they need. They're cold &amp; full of greed ...\"}, {'dialog': \"Few'd deny that? Where you headin'?\"}, {'dialog': 'Trap over the fall and winter among the Delawares in Can-tuck-ee.'}, {'dialog': 'So I can find a woman and make Mohican children so our father will leave my brother &amp; me in peace.'}, {'text': 'Alexandria laughs. So do Hawkeye &amp; Chingachgook.'}, {'dialog': 'A son like me?'}, {'text': 'Uncas grabs James &amp; suspends him upside down.'}, {'dialog': 'No. You are too strong. Turn me old too fast!'}, {'text': \"Hawkeye grabs the kid from Uncas. The kid's laughing &amp; can't stay still. Chingachgook watches, content, smoking his clay pipe.\"}, {'dialog': \"That's what he's doin' to his mama ...\"}, {'text': \"She ruffles his hair and lifts the heavy iron pot off the tibbet. Uncas goes to help her, she shrugs his hand away and carries it to the table herself. The men gather around. There's pan-baked bread, a dish of salt, and the pot has venison and yellow cornmeal in a kind of stew. Everyone waits.\"}, {'dialog': \"Dear Father, thank you for rewardin' the fruits of our labor with plenty. Amen.\"}, {'text': 'As they start to eat ...'}, {'dialog': 'CUT TO ...'}, {'scene_heading': 'EXTERIOR CAMERON CABIN - MOHAWK BOY &amp; JAMES CAMERON - MORNING'}, {'text': \"slam into other kids as they battle through a Lacrosse game. In the background are sixty men, women and children. It's a community gathering held out of doors. We've entered mid-scene. Captain Jack is standing on a box. Some women and kids mill around some tables and boards laid over barrels. Cooking fires. Smoke. Most but not all around Captain Jack are men, nine settlers, 3 hunter/trappers, eight Mohawk farmers in mixed European and native clothing. Off to the side are an English Lieutenant on horseback and a ten-man escort from whatever regiment's in Albany. A man named HENRI speaks in French. His son, MARTIN, translates.\"}, {'dialog': '(O.S. in French)'}, {'dialog': '(translates) My father says he was driven out of France by the black robe priests and he would fight them now but he lost his arm and so I will go in his place. Meanwhile ...'}, {'text': 'is an unusually large Mohawk in a blue match coat with a little girl holding his hand. He says something to Chingachgook who nods. Hawkeye and Uncas are a little apart in an outer grouping of the men. Ongewasgone is a war chief and wears a white plume and is tattooed. As Martin finishes, he steps forward.'}, {'dialog': 'John Cameron, thank you for your hospitality ... Twin River Mohawk got no quarrel with Les Francais. Trade furs with Les Francais. Now Les Francais bring Huron onto Mohawk hunting grounds ... These people are English, Scots-Irish and Dutch farmers; some French Huguenot'}, {'text': '\"mechanics\" (craftsmen). They\\'re in shirt-sleeves and Indian moccasins &amp; leggings. The'}, {'dialog': \"Mohawks' vast lands and corn agriculture border the settlement. They 've been\"}, {'text': \"acculturated for over a hundred years. Some wear European calico hunting shirts. Their heads are shaved to scalping locks and many are tattooed. They've politically and\"}]\n"
     ]
    }
   ],
   "source": [
    "# apply to all data \n",
    "screenplays_nonna = decapitated_screenplays.apply(remove_nulls)\n",
    "print(screenplays_nonna[10][:100])"
   ]
  },
  {
   "cell_type": "code",
   "execution_count": 65,
   "metadata": {},
   "outputs": [
    {
     "name": "stdout",
     "output_type": "stream",
     "text": [
      "{'scene_heading': 'THE LAST OF THE MOHICANS'}\n",
      "{'dialog': 'Written by Michael Mann &amp; Christopher Crowe'}\n",
      "{'text': \"The screen is a microcosm of leaf, crystal drops of precipitation, a stone, emerald green moss. It's a landscape in miniature. We HEAR the forest. Some distant birds. Their sound seems to reverberate as if in a cavern. A piece of sunlight refracts within the drops of water, paints a patch of moss yellow. The whisper of wind is joined by another sound that mixes with it. A distant rustling. It gets closer and louder. It's shallow breathing. It gets ominous. We're interlopers on the floor of the forest and something is coming.\"}\n",
      "{'scene_heading': 'SUDDENLY: A MOCCASINED FOOT'}\n",
      "{'text': 'rockets through the frame scaring us and ...'}\n",
      "{'scene_heading': 'EXTREMELY CLOSE: PART OF AN INDIAN FACE'}\n",
      "{'text': \"running hard. His head shaved bald except for a scalp-lock. Tattoos. He's twenty-five. He seems tall and muscled. Heavy, even breathing. We'll learn later\"}\n",
      "{'dialog': 'this man is UNCAS, the last of the Mohicans.'}\n",
      "{'text': \"flash as he runs. One carries a flintlock musket. Sweat on the man's skin. A calico shirt is gathered at the waist with a wampum belt of small white beads over a breechcloth. He wears leggings to protect his legs. A long-handled tomahawk is stuffed in his belt.\"}\n",
      "{'dialog': 'CUT TO ...'}\n"
     ]
    }
   ],
   "source": [
    "i = 0\n",
    "for s in screenplays_nonna[10]:\n",
    "    if i == 10:\n",
    "        break\n",
    "    print(s)\n",
    "    i += 1"
   ]
  },
  {
   "cell_type": "markdown",
   "metadata": {},
   "source": [
    "It's possible that values in allcaps are basically irrelevant. Let's return these and take a look at them. "
   ]
  },
  {
   "cell_type": "code",
   "execution_count": 66,
   "metadata": {},
   "outputs": [
    {
     "name": "stdout",
     "output_type": "stream",
     "text": [
      "{'scene_heading': 'THE LAST OF THE MOHICANS'}\n",
      "{'scene_heading': 'SUDDENLY: A MOCCASINED FOOT'}\n",
      "{'scene_heading': 'EXTREMELY CLOSE: PART OF AN INDIAN FACE'}\n",
      "{'dialog': 'CUT TO ...'}\n",
      "{'scene_heading': 'ANOTHER PART OF THE FOREST - MASSIVE WAR CLUB - DAY'}\n",
      "{'scene_heading': 'WIDE ANGLE: CHINGACHGOOK'}\n",
      "{'dialog': 'CUT TO ...'}\n",
      "{'scene_heading': 'ANOTHER PART OF THE FOREST - LONG BLACK HAIR - DAY'}\n",
      "{'scene_heading': \"HAWKEYE'S POV: A PIECE OF TAN\"}\n",
      "{'scene_heading': 'SUDDENLY HE STOPS'}\n",
      "{'scene_heading': \"HAWKEYE'S POV: RACK FOCUS THROUGH THE GUN SIGHT\"}\n",
      "{'scene_heading': 'EXTERIOR - INTERIOR CAMERON CABIN - JOHN CAMERON - NIGHT'}\n",
      "{'scene_heading': 'EXTERIOR CAMERON CABIN, DOORWAY - CAMERON - NIGHT'}\n",
      "{'scene_heading': 'FENCE: CHINGACHGOOK'}\n",
      "{'dialog': 'CUT TO ...'}\n",
      "{'scene_heading': 'INTERIOR CABIN - CHINGACHGOOK - EVENING (LATER)'}\n",
      "{'dialog': 'CUT TO ...'}\n",
      "{'dialog': 'CUT TO ...'}\n",
      "{'scene_heading': 'EXTERIOR BRITISH ENCAMPMENT, PARADE GROUND - SIX HUNDRED'}\n",
      "{'scene_heading': 'REGIMENTAL SGT. MAJOR'}\n",
      "{'dialog': 'CUT TO ...'}\n",
      "{'scene_heading': 'EXTERIOR ROAD - HORSES GALLOP - DAY'}\n",
      "{'dialog': 'CUT TO ...'}\n",
      "{'scene_heading': 'INTERIOR COACH - MAJOR DUNCAN HEYWARD - DAY'}\n",
      "{'dialog': 'CUT TO ...'}\n",
      "{'scene_heading': 'INTERIOR BRITISH HQ, ASSEMBLY ROOM - DOOR - DAY'}\n",
      "{'dialog': 'CUT TO ...'}\n",
      "{'scene_heading': \"EXTERIOR POLTROON'S HOUSE - DUNCAN HEYWARD - DAY\"}\n",
      "{'dialog': 'CUT TO ...'}\n",
      "{'scene_heading': 'REVERSE: ALICE MUNRO'}\n",
      "{'scene_heading': 'EXTERIOR BRITISH ARMY HQ - TWENTY BRITISH REGULARS - DAY'}\n",
      "{'scene_heading': 'MILITARY HQ, ENTRANCE - MAJOR DUNCAN HEYWARD'}\n",
      "{'scene_heading': 'REAR SHOT: THE COLUMN'}\n",
      "{'dialog': 'CUT TO ...'}\n",
      "{'scene_heading': \"CORA'S POV: FOREST CANOPY\"}\n",
      "{'dialog': 'CUT TO ...'}\n",
      "{'scene_heading': 'FRONTAL: CHINGACHGOOK'}\n",
      "{'scene_heading': 'EXTERIOR FOREST, TRAIL - MAGUA - DAY'}\n",
      "{'scene_heading': 'FORESTED RISE - HURONS'}\n",
      "{'scene_heading': 'AN ATTACKING HURON'}\n",
      "{'scene_heading': 'TIME SLOWS: MAGUA'}\n",
      "{'scene_heading': \"HAWKEYE'S POV OVER BARREL: SMOKE\"}\n",
      "{'scene_heading': \"HEYWARD'S MUSKET\"}\n",
      "{'scene_heading': \"CHINGACHGOOK'S WAR CLUB\"}\n",
      "{'scene_heading': 'EXTERIOR FOREST - HAWKEYE - DAY'}\n",
      "{'dialog': 'CUT TO ...'}\n",
      "{'scene_heading': 'EXTERIOR FOREST, TREE LINE - GREEN BRANCHES - DAY'}\n",
      "{'scene_heading': 'EXTERIOR CAMERON CABIN - WIDE - DAY'}\n",
      "{'dialog': 'CUT TO ...'}\n",
      "{'scene_heading': 'EXTERIOR GLADE - PROFILE: HAWKEYE - NIGHT'}\n",
      "{'dialog': 'CUT TO ...'}\n",
      "{'scene_heading': 'EXTERIOR BIRCH FOREST - TREES - NIGHT'}\n",
      "{'scene_heading': 'RED-PAINTED FACE'}\n",
      "{'scene_heading': 'DEEPER: MORE OTTAWA'}\n",
      "{'scene_heading': 'SEPERATE SHOTS: HAWKEYE, UNCAS, CHINGACHGOOK, CORA'}\n",
      "{'scene_heading': 'EXTERIOR FOREST - WIDE - LATE AFTERNOON'}\n",
      "{'scene_heading': \"HAWKEYE'S POV: DISTANT HILLS\"}\n",
      "{'scene_heading': 'ANOTHER ANGLE: HEYWARD'}\n",
      "{'scene_heading': 'WIDE FROM THE FRONT - HAWKEYE'}\n",
      "{'scene_heading': 'THEIR POV: FORT WILLIAM HENRY'}\n",
      "{'scene_heading': 'EXTERIOR BATTLEFIELD, FRENCH BATTERY #1 - CLOSE SHOTS - DUSK'}\n",
      "{'scene_heading': 'EXTERIOR FORT, WEST BATTERY'}\n",
      "{'scene_heading': 'WIDE ANGLE FROM THE WATER'}\n",
      "{'scene_heading': 'EXTERIOR LAKE GEORGE BANK - DEBRIS'}\n",
      "{'dialog': 'CUT TO ...'}\n",
      "{'scene_heading': 'EXTERIOR FORT WILLIAM HENRY, NORTH WALL - SALLY-PORT TUNNEL'}\n",
      "{'scene_heading': 'INTERIOR FORT WILLIAM HENRY, PARADE GROUND - GROUP - NIGHT'}\n",
      "{'dialog': 'CUT TO ...'}\n",
      "{'scene_heading': \"INTERIOR MUNRO'S QUARTERS - NIGHT\"}\n",
      "{'dialog': 'CUT TO ...'}\n",
      "{'scene_heading': \"INTERIOR MONTCALM'S MARQUEE - CHORAL GROUP - NIGHT\"}\n",
      "{'scene_heading': 'INTERIOR SURGERY, ENTRANCE - PHELPS - NIGHT'}\n",
      "{'dialog': 'CUT TO ...'}\n",
      "{'scene_heading': 'EXTERIOR FRENCH TRENCHES - FRENCH PICKETTS'}\n",
      "{'dialog': 'CUT TO ...'}\n",
      "{'scene_heading': 'EXTERIOR FORT WILLIAM HENRY, WEST SIDE - SALLY-PORT - NIGHT'}\n",
      "{'dialog': 'CUT TO ...'}\n",
      "{'scene_heading': 'A FRONTIERSMAN - COURIER'}\n",
      "{'dialog': 'CUT TO ...'}\n",
      "{'scene_heading': 'EXTERIOR FRENCH TRENCH - THREE PICKETS - NIGHT'}\n",
      "{'scene_heading': '62ND REGIMENT OF FOOT'}\n",
      "{'scene_heading': '62ND REGIMENT OF FOOT - HEYWARD'}\n",
      "{'scene_heading': 'EXTERIOR FORT WILLIAM HENRY - COURIER - NIGHT'}\n",
      "{'scene_heading': 'EXTERIOR HILLSIDE - THREE HALF-SAVAGE CANADIENS'}\n",
      "{'scene_heading': 'EXTERIOR FORT WILLIAM HENRY - HAWKEYE'}\n",
      "{'scene_heading': 'EXTERIOR FOREST - THE CANADIEN'}\n",
      "{'scene_heading': 'EXTERIOR FORT WILLIAM HENRY - HAWKEYE'}\n",
      "{'scene_heading': 'EXTERIOR FOREST - CANADIEN'}\n",
      "{'dialog': 'CUT TO ...'}\n",
      "{'scene_heading': 'EXTERIOR FORT WILLIAM HENRY - WEST SALLY-PORT'}\n",
      "{'dialog': 'CUT TO ...'}\n",
      "{'scene_heading': \"INTERIOR MUNRO'S BEDCHAMBER - DOOR - NIGHT\"}\n",
      "{'dialog': 'CUT TO ...'}\n",
      "{'scene_heading': 'INTERIOR FORT, INNER CORRIDOR - CORA'}\n",
      "{'scene_heading': \"HEYWARD'S POV: DOORWAY\"}\n",
      "{'dialog': 'CUT TO ...'}\n",
      "{'scene_heading': 'EXTERIOR FORT, PARADE GROUND - BONFIRE - NIGHT'}\n",
      "{'scene_heading': 'ANOTHER ANGLE: SOME WOMEN'}\n",
      "{'dialog': 'CUT TO ...'}\n",
      "{'scene_heading': \"INTERIOR MUNRO'S QUARTERS - CORA - DAY\"}\n",
      "{'dialog': 'CUT TO ...'}\n",
      "{'scene_heading': 'INTERIOR FORT, STOCKADE - NIGHT'}\n",
      "{'scene_heading': 'INTERIOR CELL - HAWKEYE'}\n",
      "{'scene_heading': 'EXTERIOR FORT WILLIAM HENRY - VARIOUS CUTS - DAWN (2ND UNIT)'}\n",
      "{'dialog': 'CUT TO ...'}\n",
      "{'scene_heading': 'INTERIOR FORT WILLIAM HENRY - ENGLISH CANNON CREW - NIGHT'}\n",
      "{'dialog': 'CUT TO ...'}\n",
      "{'scene_heading': 'INTERIOR STOCKADE - HAWKEYE - DAWN - LATER'}\n",
      "{'scene_heading': 'EXTERIOR FORT, MAIN GATE - HAWKEYES POV: CHEVALIER DE LEVIS'}\n",
      "{'scene_heading': 'INTERIOR FORT - STOCKADE - HAWKEYE'}\n",
      "{'dialog': 'CUT TO ...'}\n",
      "{'scene_heading': 'EXTERIOR FRENCH LINES - MUNRO, HEYWARD, BEAMS - DAY'}\n",
      "{'scene_heading': 'REVERSE: FRENCH SOLDIERS'}\n",
      "{'scene_heading': 'INTERIOR FORT - ENGLISH TROOPS (TABLEAUX)'}\n",
      "{'dialog': 'CUT TO ...'}\n",
      "{'scene_heading': 'EXTERIOR FRENCH LINES - CLOAKED MAN - NIGHT'}\n",
      "{'scene_heading': 'ANOTHER ANGLE: MONTCALM'}\n",
      "{'dialog': 'CUT TO ...'}\n",
      "{'scene_heading': 'EXTERIOR WOODS - MAGUA - NIGHT'}\n",
      "{'dialog': 'CUT TO ...'}\n",
      "{'scene_heading': 'EXTERIOR FORT, MAIN GATE - MUNRO - DAY'}\n",
      "{'scene_heading': 'MID-COLUMN - ON HEYWARD'}\n",
      "{'scene_heading': 'FRONT OF COLUMN - CORA WITH ALICE'}\n",
      "{'scene_heading': \"CORA'S POV: THE COLUMN\"}\n",
      "{'scene_heading': 'EXTERIOR FORT - PRISONERS'}\n",
      "{'scene_heading': 'RANK AND FILE FRENCH'}\n",
      "{'scene_heading': 'EXTERIOR ROAD - HAWKEYE'}\n",
      "{'scene_heading': \"HAWKEYE'S DISTANT POV: CORA\"}\n",
      "{'scene_heading': '62ND REGIMENT OF FOOT'}\n",
      "{'scene_heading': 'EXTERIOR FORESTED HILLSIDES - OTHER TRIBES'}\n",
      "{'scene_heading': \"HAWKEYE'S POV: FORESTED SLOPES\"}\n",
      "{'scene_heading': 'EXTERIOR FORESTED SLOPE - MAGUA'}\n",
      "{'scene_heading': 'WIDE: ALL HELL BREAKS LOOSE'}\n",
      "{'scene_heading': 'EXTERIOR FORESTED SLOPE - MAGUA'}\n",
      "{'scene_heading': 'EXTREMELY CLOSE: ALICE'}\n",
      "{'scene_heading': \"OVER MAGUA'S SHOULDER: MUNRO\"}\n",
      "{'scene_heading': 'SMOKE DRIFTING OVER WATER'}\n",
      "{'scene_heading': 'THE SHALLOWS - HAWKEYE, CHINGACHGOOK, UNCAS, CORA, ALICE,'}\n",
      "{'dialog': 'CUT TO ...'}\n",
      "{'scene_heading': 'HAWKEYE CANOE - HAWKEYE'}\n",
      "{'scene_heading': 'EXTERIOR WHITE WATER - WIDE - DAY'}\n",
      "{'scene_heading': 'CANOE POV: EIGHT FOOT WAVE'}\n",
      "{'scene_heading': \"HEYWARD'S POV: THE RIVER AHEAD\"}\n",
      "{'scene_heading': \"HEYWARD'S POV: TIGHTER\"}\n",
      "{'scene_heading': 'BOTH CANOES: HEYWARD, REDCOATS, THE RANGER'}\n",
      "{'scene_heading': 'INTERIOR GLEN FALLS CAVES - FISSURE - TWILIGHT'}\n",
      "{'scene_heading': 'ANOTHER ANGLE: THE WALLS'}\n",
      "{'scene_heading': 'WIDEN TO REVEAL'}\n",
      "{'scene_heading': 'EXTREME CLOSE UP: HAWKEYE'}\n",
      "{'scene_heading': 'EXTREME CLOSE UP: CORA'}\n",
      "{'dialog': 'CUT TO ...'}\n",
      "{'dialog': 'CUT TO ...'}\n",
      "{'scene_heading': 'OVER HIS SHOULDER: THREE MORE WOLVES'}\n",
      "{'scene_heading': 'INTERIOR GLEN FALLS CAVE - HAWKEYE -NIGHT'}\n",
      "{'dialog': 'CUT TO ...'}\n",
      "{'dialog': 'CUT TO ...'}\n",
      "{'scene_heading': 'EXTERIOR RIVER - MAGUA - NIGHT'}\n",
      "{'dialog': 'CUT TO ...'}\n",
      "{'scene_heading': 'INTERIOR SOUTH FISSURE - HAWKEYE - NIGHT'}\n",
      "{'dialog': 'CUT TO ...'}\n",
      "{'scene_heading': 'INTERIOR GLEN FALLS ISLAND, CAVE - CORA - NIGHT'}\n",
      "{'scene_heading': 'INTERIOR NORTH FISSURE - UNCAS - NIGHT'}\n",
      "{'dialog': 'CUT TO ...'}\n",
      "{'text': 'WHAT HAWKEYE SEES: JAMMING AT THE WATERFALL'}\n",
      "{'scene_heading': 'SUBJECTIVE CAMERA: UP'}\n",
      "{'scene_heading': 'EXTERIOR GLEN FALLS - HAWKEYE - NIGHT'}\n",
      "{'scene_heading': \"HAWKEYE'S POV: FALLING\"}\n",
      "{'scene_heading': 'INTERIOR GLEN FALLS, CAVE - FLAMING TORCH - NIGHT'}\n",
      "{'dialog': 'CUT TO ...'}\n",
      "{'scene_heading': 'EXTERIOR RIVER - WHITE WATER - NIGHT'}\n",
      "{'scene_heading': \"CHINGACHGOOK'S POV: WATER\"}\n",
      "{'dialog': 'CUT TO ...'}\n",
      "{'scene_heading': 'EXTERIOR FOREST - HURONS - DAY'}\n",
      "{'dialog': 'CUT TO ...'}\n",
      "{'dialog': 'CUT TO ...'}\n",
      "{'scene_heading': 'EXTERIOR FOREST - CORA - NIGHT'}\n",
      "{'dialog': 'CUT TO ...'}\n",
      "{'scene_heading': 'EXTERIOR FOREST - RUNNING FEET - DAY'}\n",
      "{'dialog': 'CUT TO ...'}\n",
      "{'scene_heading': 'EXT. HURON VILLAGE - ORNATE CHAIR - DAY'}\n",
      "{'dialog': 'CUT TO ...'}\n",
      "{'scene_heading': 'CHINGACHGOOK - DAY'}\n",
      "{'scene_heading': 'WIDE OVER THEIR SHOULDERS: THE HURON \"CASTLE\"'}\n",
      "{'scene_heading': 'EXTERIOR HURON VILLAGE - MAGUA - DAY'}\n",
      "{'dialog': 'CUT TO ...'}\n",
      "{'scene_heading': \"HAWKEYE'S POV: HURONS\"}\n",
      "{'scene_heading': \"CHINGACHGOOK'S POV: MASSED HURON\"}\n",
      "{'dialog': 'CUT TO ...'}\n",
      "{'scene_heading': 'EXTERIOR PROMONTORY - UNCAS - DAY'}\n",
      "{'scene_heading': 'EXTERIOR PROMONTORY - UNCAS'}\n",
      "{'dialog': 'CUT TO ...'}\n",
      "{'scene_heading': 'EXTERIOR PROMONTORY - HURONS - DAY'}\n",
      "{'scene_heading': 'EXTERIOR - MEADOW - CHINGACHGOOK'}\n",
      "{'scene_heading': 'EXTERIOR PROMONTORY - UNCAS'}\n",
      "{'scene_heading': 'EXTERIOR PROMONTORY - ALICE'}\n",
      "{'scene_heading': 'EXTERIOR MEADOW - CORA'}\n",
      "{'scene_heading': 'EXTERIOR PROMONTORY - MAGUA'}\n",
      "{'scene_heading': 'HAWKEYE FIRES.'}\n",
      "{'dialog': 'UNCAS!!!'}\n",
      "{'scene_heading': 'EXTERIOR - MOUNTAIN TOP - WIDE REAR SHOT - NEXT DAY'}\n",
      "{'scene_heading': \"HAWKEYE'S POV: CHINGACHGOOK\"}\n"
     ]
    }
   ],
   "source": [
    "pattern = re.compile(r'^[^a-z]+$')\n",
    "\n",
    "def no_lower(dict_list):\n",
    "    no_lowers = []\n",
    "    for d in dict_list:\n",
    "        for val in d.values():\n",
    "            if re.match(pattern, val):\n",
    "                no_lowers.append(d)\n",
    "    return no_lowers\n",
    "\n",
    "# test on mohicans\n",
    "mohicans = screenplays_nonna[10]\n",
    "mohicans_no_lowers = no_lower(mohicans)\n",
    "for i, j in enumerate(mohicans_no_lowers):\n",
    "    if j == 20:\n",
    "        break\n",
    "    print(j)"
   ]
  },
  {
   "cell_type": "markdown",
   "metadata": {},
   "source": [
    "potentially relevant info in here, e.g. 'GUN', 'MASSIVE WAR CLUB'.  However we can delete all strings that match 'CUT TO ...' "
   ]
  },
  {
   "cell_type": "code",
   "execution_count": 67,
   "metadata": {},
   "outputs": [
    {
     "name": "stdout",
     "output_type": "stream",
     "text": [
      "[{'text': 'A NIGHT AT THE ROXBURY'}, {'dialog': 'written by Steve Koren Will Ferrell & Chris Kattan June 2, 1997'}, {'scene_heading': 'EXT. PANORAMIC VIEW OF LOS ANGELES - SUNSET'}, {'text': 'As we hear \"What is Love\" by HADDAWAY -- night falls and partytime begins.'}, {'scene_heading': 'SUPERIMPOSE: SUNSET BLVD., 11:03 PM'}, {'scene_heading': 'EXT. DANCE CLUBS - NIGHT'}, {'dialog': 'Coconut Teaser, The Palace, The Roxbury, Tatou, etc.'}, {'scene_heading': 'INT. DANCE CLUBS- QUICK SHOTS - NIGHT'}, {'text': 'Of random dancers -- gyrating, flirting, making out, drinking.'}, {'scene_heading': 'INT. PALACE - NIGHT'}]\n"
     ]
    }
   ],
   "source": [
    "print(screenplays_nonna[0][:10])"
   ]
  },
  {
   "cell_type": "code",
   "execution_count": 68,
   "metadata": {},
   "outputs": [
    {
     "name": "stdout",
     "output_type": "stream",
     "text": [
      "{'scene_heading': 'THE LAST OF THE MOHICANS'}\n",
      "{'scene_heading': 'SUDDENLY: A MOCCASINED FOOT'}\n",
      "{'scene_heading': 'EXTREMELY CLOSE: PART OF AN INDIAN FACE'}\n",
      "{'scene_heading': 'ANOTHER PART OF THE FOREST - MASSIVE WAR CLUB - DAY'}\n",
      "{'scene_heading': 'WIDE ANGLE: CHINGACHGOOK'}\n",
      "{'scene_heading': 'ANOTHER PART OF THE FOREST - LONG BLACK HAIR - DAY'}\n",
      "{'scene_heading': \"HAWKEYE'S POV: A PIECE OF TAN\"}\n",
      "{'scene_heading': 'SUDDENLY HE STOPS'}\n",
      "{'scene_heading': \"HAWKEYE'S POV: RACK FOCUS THROUGH THE GUN SIGHT\"}\n",
      "{'scene_heading': 'EXTERIOR - INTERIOR CAMERON CABIN - JOHN CAMERON - NIGHT'}\n",
      "{'scene_heading': 'EXTERIOR CAMERON CABIN, DOORWAY - CAMERON - NIGHT'}\n",
      "{'scene_heading': 'FENCE: CHINGACHGOOK'}\n",
      "{'scene_heading': 'INTERIOR CABIN - CHINGACHGOOK - EVENING (LATER)'}\n",
      "{'scene_heading': 'EXTERIOR BRITISH ENCAMPMENT, PARADE GROUND - SIX HUNDRED'}\n",
      "{'scene_heading': 'REGIMENTAL SGT. MAJOR'}\n",
      "{'scene_heading': 'EXTERIOR ROAD - HORSES GALLOP - DAY'}\n",
      "{'scene_heading': 'INTERIOR COACH - MAJOR DUNCAN HEYWARD - DAY'}\n",
      "{'scene_heading': 'INTERIOR BRITISH HQ, ASSEMBLY ROOM - DOOR - DAY'}\n",
      "{'scene_heading': \"EXTERIOR POLTROON'S HOUSE - DUNCAN HEYWARD - DAY\"}\n",
      "{'scene_heading': 'REVERSE: ALICE MUNRO'}\n",
      "{'scene_heading': 'EXTERIOR BRITISH ARMY HQ - TWENTY BRITISH REGULARS - DAY'}\n",
      "{'scene_heading': 'MILITARY HQ, ENTRANCE - MAJOR DUNCAN HEYWARD'}\n",
      "{'scene_heading': 'REAR SHOT: THE COLUMN'}\n",
      "{'scene_heading': \"CORA'S POV: FOREST CANOPY\"}\n",
      "{'scene_heading': 'FRONTAL: CHINGACHGOOK'}\n",
      "{'scene_heading': 'EXTERIOR FOREST, TRAIL - MAGUA - DAY'}\n",
      "{'scene_heading': 'FORESTED RISE - HURONS'}\n",
      "{'scene_heading': 'AN ATTACKING HURON'}\n",
      "{'scene_heading': 'TIME SLOWS: MAGUA'}\n",
      "{'scene_heading': \"HAWKEYE'S POV OVER BARREL: SMOKE\"}\n",
      "{'scene_heading': \"HEYWARD'S MUSKET\"}\n",
      "{'scene_heading': \"CHINGACHGOOK'S WAR CLUB\"}\n",
      "{'scene_heading': 'EXTERIOR FOREST - HAWKEYE - DAY'}\n",
      "{'scene_heading': 'EXTERIOR FOREST, TREE LINE - GREEN BRANCHES - DAY'}\n",
      "{'scene_heading': 'EXTERIOR CAMERON CABIN - WIDE - DAY'}\n",
      "{'scene_heading': 'EXTERIOR GLADE - PROFILE: HAWKEYE - NIGHT'}\n",
      "{'scene_heading': 'EXTERIOR BIRCH FOREST - TREES - NIGHT'}\n",
      "{'scene_heading': 'RED-PAINTED FACE'}\n",
      "{'scene_heading': 'DEEPER: MORE OTTAWA'}\n",
      "{'scene_heading': 'SEPERATE SHOTS: HAWKEYE, UNCAS, CHINGACHGOOK, CORA'}\n",
      "{'scene_heading': 'EXTERIOR FOREST - WIDE - LATE AFTERNOON'}\n",
      "{'scene_heading': \"HAWKEYE'S POV: DISTANT HILLS\"}\n",
      "{'scene_heading': 'ANOTHER ANGLE: HEYWARD'}\n",
      "{'scene_heading': 'WIDE FROM THE FRONT - HAWKEYE'}\n",
      "{'scene_heading': 'THEIR POV: FORT WILLIAM HENRY'}\n",
      "{'scene_heading': 'EXTERIOR BATTLEFIELD, FRENCH BATTERY #1 - CLOSE SHOTS - DUSK'}\n",
      "{'scene_heading': 'EXTERIOR FORT, WEST BATTERY'}\n",
      "{'scene_heading': 'WIDE ANGLE FROM THE WATER'}\n",
      "{'scene_heading': 'EXTERIOR LAKE GEORGE BANK - DEBRIS'}\n",
      "{'scene_heading': 'EXTERIOR FORT WILLIAM HENRY, NORTH WALL - SALLY-PORT TUNNEL'}\n",
      "{'scene_heading': 'INTERIOR FORT WILLIAM HENRY, PARADE GROUND - GROUP - NIGHT'}\n",
      "{'scene_heading': \"INTERIOR MUNRO'S QUARTERS - NIGHT\"}\n",
      "{'scene_heading': \"INTERIOR MONTCALM'S MARQUEE - CHORAL GROUP - NIGHT\"}\n",
      "{'scene_heading': 'INTERIOR SURGERY, ENTRANCE - PHELPS - NIGHT'}\n",
      "{'scene_heading': 'EXTERIOR FRENCH TRENCHES - FRENCH PICKETTS'}\n",
      "{'scene_heading': 'EXTERIOR FORT WILLIAM HENRY, WEST SIDE - SALLY-PORT - NIGHT'}\n",
      "{'scene_heading': 'A FRONTIERSMAN - COURIER'}\n",
      "{'scene_heading': 'EXTERIOR FRENCH TRENCH - THREE PICKETS - NIGHT'}\n",
      "{'scene_heading': '62ND REGIMENT OF FOOT'}\n",
      "{'scene_heading': '62ND REGIMENT OF FOOT - HEYWARD'}\n",
      "{'scene_heading': 'EXTERIOR FORT WILLIAM HENRY - COURIER - NIGHT'}\n",
      "{'scene_heading': 'EXTERIOR HILLSIDE - THREE HALF-SAVAGE CANADIENS'}\n",
      "{'scene_heading': 'EXTERIOR FORT WILLIAM HENRY - HAWKEYE'}\n",
      "{'scene_heading': 'EXTERIOR FOREST - THE CANADIEN'}\n",
      "{'scene_heading': 'EXTERIOR FORT WILLIAM HENRY - HAWKEYE'}\n",
      "{'scene_heading': 'EXTERIOR FOREST - CANADIEN'}\n",
      "{'scene_heading': 'EXTERIOR FORT WILLIAM HENRY - WEST SALLY-PORT'}\n",
      "{'scene_heading': \"INTERIOR MUNRO'S BEDCHAMBER - DOOR - NIGHT\"}\n",
      "{'scene_heading': 'INTERIOR FORT, INNER CORRIDOR - CORA'}\n",
      "{'scene_heading': \"HEYWARD'S POV: DOORWAY\"}\n",
      "{'scene_heading': 'EXTERIOR FORT, PARADE GROUND - BONFIRE - NIGHT'}\n",
      "{'scene_heading': 'ANOTHER ANGLE: SOME WOMEN'}\n",
      "{'scene_heading': \"INTERIOR MUNRO'S QUARTERS - CORA - DAY\"}\n",
      "{'scene_heading': 'INTERIOR FORT, STOCKADE - NIGHT'}\n",
      "{'scene_heading': 'INTERIOR CELL - HAWKEYE'}\n",
      "{'scene_heading': 'INTERIOR FORT WILLIAM HENRY - ENGLISH CANNON CREW - NIGHT'}\n",
      "{'scene_heading': 'INTERIOR STOCKADE - HAWKEYE - DAWN - LATER'}\n",
      "{'scene_heading': 'EXTERIOR FORT, MAIN GATE - HAWKEYES POV: CHEVALIER DE LEVIS'}\n",
      "{'scene_heading': 'INTERIOR FORT - STOCKADE - HAWKEYE'}\n",
      "{'scene_heading': 'EXTERIOR FRENCH LINES - MUNRO, HEYWARD, BEAMS - DAY'}\n",
      "{'scene_heading': 'REVERSE: FRENCH SOLDIERS'}\n",
      "{'scene_heading': 'INTERIOR FORT - ENGLISH TROOPS (TABLEAUX)'}\n",
      "{'scene_heading': 'EXTERIOR FRENCH LINES - CLOAKED MAN - NIGHT'}\n",
      "{'scene_heading': 'ANOTHER ANGLE: MONTCALM'}\n",
      "{'scene_heading': 'EXTERIOR WOODS - MAGUA - NIGHT'}\n",
      "{'scene_heading': 'EXTERIOR FORT, MAIN GATE - MUNRO - DAY'}\n",
      "{'scene_heading': 'MID-COLUMN - ON HEYWARD'}\n",
      "{'scene_heading': 'FRONT OF COLUMN - CORA WITH ALICE'}\n",
      "{'scene_heading': \"CORA'S POV: THE COLUMN\"}\n",
      "{'scene_heading': 'EXTERIOR FORT - PRISONERS'}\n",
      "{'scene_heading': 'RANK AND FILE FRENCH'}\n",
      "{'scene_heading': 'EXTERIOR ROAD - HAWKEYE'}\n",
      "{'scene_heading': \"HAWKEYE'S DISTANT POV: CORA\"}\n",
      "{'scene_heading': '62ND REGIMENT OF FOOT'}\n",
      "{'scene_heading': 'EXTERIOR FORESTED HILLSIDES - OTHER TRIBES'}\n",
      "{'scene_heading': \"HAWKEYE'S POV: FORESTED SLOPES\"}\n",
      "{'scene_heading': 'EXTERIOR FORESTED SLOPE - MAGUA'}\n",
      "{'scene_heading': 'WIDE: ALL HELL BREAKS LOOSE'}\n",
      "{'scene_heading': 'EXTERIOR FORESTED SLOPE - MAGUA'}\n",
      "{'scene_heading': 'EXTREMELY CLOSE: ALICE'}\n",
      "{'scene_heading': \"OVER MAGUA'S SHOULDER: MUNRO\"}\n",
      "{'scene_heading': 'SMOKE DRIFTING OVER WATER'}\n",
      "{'scene_heading': 'THE SHALLOWS - HAWKEYE, CHINGACHGOOK, UNCAS, CORA, ALICE,'}\n",
      "{'scene_heading': 'HAWKEYE CANOE - HAWKEYE'}\n",
      "{'scene_heading': 'EXTERIOR WHITE WATER - WIDE - DAY'}\n",
      "{'scene_heading': 'CANOE POV: EIGHT FOOT WAVE'}\n",
      "{'scene_heading': \"HEYWARD'S POV: THE RIVER AHEAD\"}\n",
      "{'scene_heading': \"HEYWARD'S POV: TIGHTER\"}\n",
      "{'scene_heading': 'BOTH CANOES: HEYWARD, REDCOATS, THE RANGER'}\n",
      "{'scene_heading': 'INTERIOR GLEN FALLS CAVES - FISSURE - TWILIGHT'}\n",
      "{'scene_heading': 'ANOTHER ANGLE: THE WALLS'}\n",
      "{'scene_heading': 'WIDEN TO REVEAL'}\n",
      "{'scene_heading': 'EXTREME CLOSE UP: HAWKEYE'}\n",
      "{'scene_heading': 'EXTREME CLOSE UP: CORA'}\n",
      "{'scene_heading': 'OVER HIS SHOULDER: THREE MORE WOLVES'}\n",
      "{'scene_heading': 'INTERIOR GLEN FALLS CAVE - HAWKEYE -NIGHT'}\n",
      "{'scene_heading': 'EXTERIOR RIVER - MAGUA - NIGHT'}\n",
      "{'scene_heading': 'INTERIOR SOUTH FISSURE - HAWKEYE - NIGHT'}\n",
      "{'scene_heading': 'INTERIOR GLEN FALLS ISLAND, CAVE - CORA - NIGHT'}\n",
      "{'scene_heading': 'INTERIOR NORTH FISSURE - UNCAS - NIGHT'}\n",
      "{'text': 'WHAT HAWKEYE SEES: JAMMING AT THE WATERFALL'}\n",
      "{'scene_heading': 'SUBJECTIVE CAMERA: UP'}\n",
      "{'scene_heading': 'EXTERIOR GLEN FALLS - HAWKEYE - NIGHT'}\n",
      "{'scene_heading': \"HAWKEYE'S POV: FALLING\"}\n",
      "{'scene_heading': 'INTERIOR GLEN FALLS, CAVE - FLAMING TORCH - NIGHT'}\n",
      "{'scene_heading': 'EXTERIOR RIVER - WHITE WATER - NIGHT'}\n",
      "{'scene_heading': \"CHINGACHGOOK'S POV: WATER\"}\n",
      "{'scene_heading': 'EXTERIOR FOREST - HURONS - DAY'}\n",
      "{'scene_heading': 'EXTERIOR FOREST - CORA - NIGHT'}\n",
      "{'scene_heading': 'EXTERIOR FOREST - RUNNING FEET - DAY'}\n",
      "{'scene_heading': 'EXT. HURON VILLAGE - ORNATE CHAIR - DAY'}\n",
      "{'scene_heading': 'CHINGACHGOOK - DAY'}\n",
      "{'scene_heading': 'WIDE OVER THEIR SHOULDERS: THE HURON \"CASTLE\"'}\n",
      "{'scene_heading': 'EXTERIOR HURON VILLAGE - MAGUA - DAY'}\n",
      "{'scene_heading': \"HAWKEYE'S POV: HURONS\"}\n",
      "{'scene_heading': \"CHINGACHGOOK'S POV: MASSED HURON\"}\n",
      "{'scene_heading': 'EXTERIOR PROMONTORY - UNCAS - DAY'}\n",
      "{'scene_heading': 'EXTERIOR PROMONTORY - UNCAS'}\n",
      "{'scene_heading': 'EXTERIOR PROMONTORY - HURONS - DAY'}\n",
      "{'scene_heading': 'EXTERIOR - MEADOW - CHINGACHGOOK'}\n",
      "{'scene_heading': 'EXTERIOR PROMONTORY - UNCAS'}\n",
      "{'scene_heading': 'EXTERIOR PROMONTORY - ALICE'}\n",
      "{'scene_heading': 'EXTERIOR MEADOW - CORA'}\n",
      "{'scene_heading': 'EXTERIOR PROMONTORY - MAGUA'}\n",
      "{'scene_heading': 'HAWKEYE FIRES.'}\n",
      "{'dialog': 'UNCAS!!!'}\n",
      "{'scene_heading': 'EXTERIOR - MOUNTAIN TOP - WIDE REAR SHOT - NEXT DAY'}\n",
      "{'scene_heading': \"HAWKEYE'S POV: CHINGACHGOOK\"}\n"
     ]
    }
   ],
   "source": [
    "def delete_cuts(dict_list):\n",
    "    # empty list for filtered dicts\n",
    "    dicts_uncut = []\n",
    "    for d in dict_list:\n",
    "        # if none of the values in the dict match 'CUT'\n",
    "        if all(not re.search(r'CUT', str(val)) for val in d.values()):\n",
    "            # then append to list\n",
    "            dicts_uncut.append(d)\n",
    "    return dicts_uncut \n",
    "\n",
    "# test on mohicans_no_lowers\n",
    "mohicans_uncut = delete_cuts(mohicans_no_lowers)\n",
    "for i, j in enumerate(mohicans_uncut):\n",
    "    if j == 20:\n",
    "        break\n",
    "    print(j)"
   ]
  },
  {
   "cell_type": "code",
   "execution_count": 69,
   "metadata": {},
   "outputs": [
    {
     "name": "stdout",
     "output_type": "stream",
     "text": [
      "[{'scene_heading': 'THE LAST OF THE MOHICANS'}, {'dialog': 'Written by Michael Mann &amp; Christopher Crowe'}, {'text': \"The screen is a microcosm of leaf, crystal drops of precipitation, a stone, emerald green moss. It's a landscape in miniature. We HEAR the forest. Some distant birds. Their sound seems to reverberate as if in a cavern. A piece of sunlight refracts within the drops of water, paints a patch of moss yellow. The whisper of wind is joined by another sound that mixes with it. A distant rustling. It gets closer and louder. It's shallow breathing. It gets ominous. We're interlopers on the floor of the forest and something is coming.\"}, {'scene_heading': 'SUDDENLY: A MOCCASINED FOOT'}, {'text': 'rockets through the frame scaring us and ...'}, {'scene_heading': 'EXTREMELY CLOSE: PART OF AN INDIAN FACE'}, {'text': \"running hard. His head shaved bald except for a scalp-lock. Tattoos. He's twenty-five. He seems tall and muscled. Heavy, even breathing. We'll learn later\"}, {'dialog': 'this man is UNCAS, the last of the Mohicans.'}, {'text': \"flash as he runs. One carries a flintlock musket. Sweat on the man's skin. A calico shirt is gathered at the waist with a wampum belt of small white beads over a breechcloth. He wears leggings to protect his legs. A long-handled tomahawk is stuffed in his belt.\"}, {'dialog': 'CUT TO ...'}]\n"
     ]
    }
   ],
   "source": [
    "print(mohicans[:10])"
   ]
  },
  {
   "cell_type": "code",
   "execution_count": null,
   "metadata": {},
   "outputs": [],
   "source": []
  },
  {
   "cell_type": "code",
   "execution_count": 70,
   "metadata": {},
   "outputs": [],
   "source": [
    "mohicans_uncut = delete_cuts(mohicans)"
   ]
  },
  {
   "cell_type": "code",
   "execution_count": 71,
   "metadata": {},
   "outputs": [
    {
     "name": "stdout",
     "output_type": "stream",
     "text": [
      "[{'scene_heading': 'THE LAST OF THE MOHICANS'}, {'dialog': 'Written by Michael Mann &amp; Christopher Crowe'}, {'text': \"The screen is a microcosm of leaf, crystal drops of precipitation, a stone, emerald green moss. It's a landscape in miniature. We HEAR the forest. Some distant birds. Their sound seems to reverberate as if in a cavern. A piece of sunlight refracts within the drops of water, paints a patch of moss yellow. The whisper of wind is joined by another sound that mixes with it. A distant rustling. It gets closer and louder. It's shallow breathing. It gets ominous. We're interlopers on the floor of the forest and something is coming.\"}, {'scene_heading': 'SUDDENLY: A MOCCASINED FOOT'}, {'text': 'rockets through the frame scaring us and ...'}, {'scene_heading': 'EXTREMELY CLOSE: PART OF AN INDIAN FACE'}, {'text': \"running hard. His head shaved bald except for a scalp-lock. Tattoos. He's twenty-five. He seems tall and muscled. Heavy, even breathing. We'll learn later\"}, {'dialog': 'this man is UNCAS, the last of the Mohicans.'}, {'text': \"flash as he runs. One carries a flintlock musket. Sweat on the man's skin. A calico shirt is gathered at the waist with a wampum belt of small white beads over a breechcloth. He wears leggings to protect his legs. A long-handled tomahawk is stuffed in his belt.\"}, {'scene_heading': 'ANOTHER PART OF THE FOREST - MASSIVE WAR CLUB - DAY'}]\n"
     ]
    }
   ],
   "source": [
    "print(mohicans_uncut[:10])"
   ]
  },
  {
   "cell_type": "code",
   "execution_count": 72,
   "metadata": {},
   "outputs": [
    {
     "name": "stdout",
     "output_type": "stream",
     "text": [
      "[{'scene_heading': 'THE LAST OF THE MOHICANS'}, {'dialog': 'Written by Michael Mann &amp; Christopher Crowe'}, {'text': \"The screen is a microcosm of leaf, crystal drops of precipitation, a stone, emerald green moss. It's a landscape in miniature. We HEAR the forest. Some distant birds. Their sound seems to reverberate as if in a cavern. A piece of sunlight refracts within the drops of water, paints a patch of moss yellow. The whisper of wind is joined by another sound that mixes with it. A distant rustling. It gets closer and louder. It's shallow breathing. It gets ominous. We're interlopers on the floor of the forest and something is coming.\"}, {'scene_heading': 'SUDDENLY: A MOCCASINED FOOT'}, {'text': 'rockets through the frame scaring us and ...'}, {'scene_heading': 'EXTREMELY CLOSE: PART OF AN INDIAN FACE'}, {'text': \"running hard. His head shaved bald except for a scalp-lock. Tattoos. He's twenty-five. He seems tall and muscled. Heavy, even breathing. We'll learn later\"}, {'dialog': 'this man is UNCAS, the last of the Mohicans.'}, {'text': \"flash as he runs. One carries a flintlock musket. Sweat on the man's skin. A calico shirt is gathered at the waist with a wampum belt of small white beads over a breechcloth. He wears leggings to protect his legs. A long-handled tomahawk is stuffed in his belt.\"}, {'dialog': 'CUT TO ...'}]\n"
     ]
    }
   ],
   "source": [
    "print(screenplays_nonna[10][:10])"
   ]
  },
  {
   "cell_type": "code",
   "execution_count": 73,
   "metadata": {},
   "outputs": [
    {
     "name": "stdout",
     "output_type": "stream",
     "text": [
      "avg length before: 1852.1598997493734\n",
      "avg_length_after: 1846.6005012531327\n"
     ]
    }
   ],
   "source": [
    "# apply all \n",
    "import numpy as np\n",
    "\n",
    "# average length before filtering\n",
    "avg_length_before = np.mean([len(s) for s in screenplays_nonna])\n",
    "print(\"avg length before:\", avg_length_before)\n",
    "\n",
    "screenplays_uncut = screenplays_nonna.apply(delete_cuts)\n",
    "\n",
    "# average length after filtering\n",
    "avg_length_after = np.mean([len(s) for s in screenplays_uncut])\n",
    "print(\"avg_length_after:\", avg_length_after)"
   ]
  },
  {
   "cell_type": "code",
   "execution_count": 74,
   "metadata": {},
   "outputs": [
    {
     "name": "stdout",
     "output_type": "stream",
     "text": [
      "[{'scene_heading': 'THE LAST OF THE MOHICANS'}, {'dialog': 'Written by Michael Mann &amp; Christopher Crowe'}, {'text': \"The screen is a microcosm of leaf, crystal drops of precipitation, a stone, emerald green moss. It's a landscape in miniature. We HEAR the forest. Some distant birds. Their sound seems to reverberate as if in a cavern. A piece of sunlight refracts within the drops of water, paints a patch of moss yellow. The whisper of wind is joined by another sound that mixes with it. A distant rustling. It gets closer and louder. It's shallow breathing. It gets ominous. We're interlopers on the floor of the forest and something is coming.\"}, {'scene_heading': 'SUDDENLY: A MOCCASINED FOOT'}, {'text': 'rockets through the frame scaring us and ...'}, {'scene_heading': 'EXTREMELY CLOSE: PART OF AN INDIAN FACE'}, {'text': \"running hard. His head shaved bald except for a scalp-lock. Tattoos. He's twenty-five. He seems tall and muscled. Heavy, even breathing. We'll learn later\"}, {'dialog': 'this man is UNCAS, the last of the Mohicans.'}, {'text': \"flash as he runs. One carries a flintlock musket. Sweat on the man's skin. A calico shirt is gathered at the waist with a wampum belt of small white beads over a breechcloth. He wears leggings to protect his legs. A long-handled tomahawk is stuffed in his belt.\"}, {'scene_heading': 'ANOTHER PART OF THE FOREST - MASSIVE WAR CLUB - DAY'}]\n"
     ]
    }
   ],
   "source": [
    "print(screenplays_uncut[10][:10])"
   ]
  },
  {
   "cell_type": "code",
   "execution_count": 75,
   "metadata": {},
   "outputs": [],
   "source": [
    "del screenplays_nonna"
   ]
  },
  {
   "cell_type": "code",
   "execution_count": 76,
   "metadata": {},
   "outputs": [
    {
     "data": {
      "text/plain": [
       "imdbid                                                                 1488555\n",
       "title                                                            The Change-Up\n",
       "akas                         Échange standard (France), Wie ausgewechselt (...\n",
       "year                                                                      2011\n",
       "metascore                                                                   39\n",
       "imdb user rating                                                             6\n",
       "number of imdb user votes                                               165797\n",
       "awards                                                 Young Artist Award 2012\n",
       "opening weekend                        United States: $13,531,115, 07 Aug 2011\n",
       "producers                    Joseph M. Caracciolo Jr., David Dobkin, Jeff K...\n",
       "budget                                                 $52,000,000 (estimated)\n",
       "script department                                  Gail Hunter, Debbie Walters\n",
       "production companies         Universal Pictures, Relativity Media, Original...\n",
       "writers                                                 Jon Lucas, Scott Moore\n",
       "directors                                                         David Dobkin\n",
       "casting directors                                    Lisa Beach, Sarah Katzman\n",
       "cast                         Ryan Reynolds, Jason Bateman, Leslie Mann, Oli...\n",
       "countries                                                        United States\n",
       "age restrict                 Argentina:16, Australia:MA15+, Brazil:14, Cana...\n",
       "plot                         Dave is a married man with three kids and a lo...\n",
       "plot outline                 Growing up together, Mitch (Ryan Reynolds) and...\n",
       "keywords                     pantyhose, black-pantyhose, female-stockinged-...\n",
       "genres                                                         Comedy, Fantasy\n",
       "taglines                                            Who says men can't change?\n",
       "synopsis                     Mitch and Dave are best friends who have grown...\n",
       "annot_screenplay             dialog: \\nspeaker_heading: THE CHANGE-UP\\ndial...\n",
       "Name: 200, dtype: object"
      ]
     },
     "execution_count": 76,
     "metadata": {},
     "output_type": "execute_result"
    }
   ],
   "source": [
    "df_clean.loc[200]"
   ]
  },
  {
   "cell_type": "code",
   "execution_count": 77,
   "metadata": {},
   "outputs": [
    {
     "name": "stdout",
     "output_type": "stream",
     "text": [
      "{'dialog': 'Written by Jon Lucas &amp; Scott Moore July 31, 2009 '}\n",
      "{'scene_heading': 'OPEN ON: PEACEFUL BLACK STILLNESS'}\n",
      "{'text': 'Then we hear a baby SCREAM BLOODY MURDER. Then a second baby joins in, even more shrill than the first. Finally, we hear'}\n",
      "{'dialog': 'the worst two words a parent can ever hear:'}\n",
      "{'dialog': 'Your turn.'}\n",
      "{'dialog': 'Fuck.'}\n",
      "{'scene_heading': 'INT. SUBURBAN HOUSE -- NIGHT'}\n",
      "{'text': 'DAVE LOCKWOOD, 30, bleary-eyed father of three, shuffles through his well-appointed suburban home, passing a grandfather clock reading 3:45. He stumbles over a TOY GIRAFFE -- it SQUEAKS, and Dave sleepily mumbles:'}\n",
      "{'dialog': 'Sorry Hank.'}\n",
      "{'scene_heading': 'INT. NURSERY-- NIGHT'}\n"
     ]
    }
   ],
   "source": [
    "# print another random sample to see where we're at \n",
    "change_up = screenplays_uncut[200]\n",
    "for i, s in enumerate(change_up):\n",
    "    if i == 10:\n",
    "        break\n",
    "    print(s)"
   ]
  },
  {
   "cell_type": "markdown",
   "metadata": {},
   "source": [
    "# Sentence Tokenization"
   ]
  },
  {
   "cell_type": "markdown",
   "metadata": {},
   "source": [
    "We'll sentence tokenize the values first before removing punctuation marks etc. "
   ]
  },
  {
   "cell_type": "code",
   "execution_count": 78,
   "metadata": {},
   "outputs": [],
   "source": [
    "# ! pip install nltk"
   ]
  },
  {
   "cell_type": "code",
   "execution_count": 79,
   "metadata": {},
   "outputs": [
    {
     "name": "stdout",
     "output_type": "stream",
     "text": [
      "[{'scene_heading': 'THE LAST OF THE MOHICANS'}, {'dialog': 'Written by Michael Mann &amp; Christopher Crowe'}, {'text': \"The screen is a microcosm of leaf, crystal drops of precipitation, a stone, emerald green moss. It's a landscape in miniature. We HEAR the forest. Some distant birds. Their sound seems to reverberate as if in a cavern. A piece of sunlight refracts within the drops of water, paints a patch of moss yellow. The whisper of wind is joined by another sound that mixes with it. A distant rustling. It gets closer and louder. It's shallow breathing. It gets ominous. We're interlopers on the floor of the forest and something is coming.\"}, {'scene_heading': 'SUDDENLY: A MOCCASINED FOOT'}, {'text': 'rockets through the frame scaring us and ...'}, {'scene_heading': 'EXTREMELY CLOSE: PART OF AN INDIAN FACE'}, {'text': \"running hard. His head shaved bald except for a scalp-lock. Tattoos. He's twenty-five. He seems tall and muscled. Heavy, even breathing. We'll learn later\"}, {'dialog': 'this man is UNCAS, the last of the Mohicans.'}, {'text': \"flash as he runs. One carries a flintlock musket. Sweat on the man's skin. A calico shirt is gathered at the waist with a wampum belt of small white beads over a breechcloth. He wears leggings to protect his legs. A long-handled tomahawk is stuffed in his belt.\"}, {'scene_heading': 'ANOTHER PART OF THE FOREST - MASSIVE WAR CLUB - DAY'}]\n"
     ]
    }
   ],
   "source": [
    "print(mohicans_uncut[:10])"
   ]
  },
  {
   "cell_type": "code",
   "execution_count": 81,
   "metadata": {},
   "outputs": [
    {
     "name": "stdout",
     "output_type": "stream",
     "text": [
      "Collecting nltk\n",
      "  Using cached nltk-3.9.1-py3-none-any.whl.metadata (2.9 kB)\n",
      "Requirement already satisfied: click in c:\\users\\bened\\anaconda3\\envs\\spacy_env\\lib\\site-packages (from nltk) (8.1.7)\n",
      "Collecting joblib (from nltk)\n",
      "  Using cached joblib-1.4.2-py3-none-any.whl.metadata (5.4 kB)\n",
      "Collecting regex>=2021.8.3 (from nltk)\n",
      "  Using cached regex-2024.9.11-cp311-cp311-win_amd64.whl.metadata (41 kB)\n",
      "Requirement already satisfied: tqdm in c:\\users\\bened\\anaconda3\\envs\\spacy_env\\lib\\site-packages (from nltk) (4.66.5)\n",
      "Requirement already satisfied: colorama in c:\\users\\bened\\anaconda3\\envs\\spacy_env\\lib\\site-packages (from click->nltk) (0.4.6)\n",
      "Using cached nltk-3.9.1-py3-none-any.whl (1.5 MB)\n",
      "Using cached regex-2024.9.11-cp311-cp311-win_amd64.whl (274 kB)\n",
      "Using cached joblib-1.4.2-py3-none-any.whl (301 kB)\n",
      "Installing collected packages: regex, joblib, nltk\n",
      "Successfully installed joblib-1.4.2 nltk-3.9.1 regex-2024.9.11\n"
     ]
    }
   ],
   "source": [
    "! pip install nltk"
   ]
  },
  {
   "cell_type": "code",
   "execution_count": 83,
   "metadata": {},
   "outputs": [
    {
     "name": "stderr",
     "output_type": "stream",
     "text": [
      "[nltk_data] Downloading package punkt_tab to\n",
      "[nltk_data]     C:\\Users\\bened\\AppData\\Roaming\\nltk_data...\n",
      "[nltk_data]   Unzipping tokenizers\\punkt_tab.zip.\n"
     ]
    },
    {
     "name": "stdout",
     "output_type": "stream",
     "text": [
      "{'scene_heading': ['THE LAST OF THE MOHICANS']}\n",
      "{'dialog': ['Written by Michael Mann &amp; Christopher Crowe']}\n",
      "{'text': ['The screen is a microcosm of leaf, crystal drops of precipitation, a stone, emerald green moss.', \"It's a landscape in miniature.\", 'We HEAR the forest.', 'Some distant birds.', 'Their sound seems to reverberate as if in a cavern.', 'A piece of sunlight refracts within the drops of water, paints a patch of moss yellow.', 'The whisper of wind is joined by another sound that mixes with it.', 'A distant rustling.', 'It gets closer and louder.', \"It's shallow breathing.\", 'It gets ominous.', \"We're interlopers on the floor of the forest and something is coming.\"]}\n",
      "{'scene_heading': ['SUDDENLY: A MOCCASINED FOOT']}\n",
      "{'text': ['rockets through the frame scaring us and ...']}\n",
      "{'scene_heading': ['EXTREMELY CLOSE: PART OF AN INDIAN FACE']}\n",
      "{'text': ['running hard.', 'His head shaved bald except for a scalp-lock.', 'Tattoos.', \"He's twenty-five.\", 'He seems tall and muscled.', 'Heavy, even breathing.', \"We'll learn later\"]}\n",
      "{'dialog': ['this man is UNCAS, the last of the Mohicans.']}\n",
      "{'text': ['flash as he runs.', 'One carries a flintlock musket.', \"Sweat on the man's skin.\", 'A calico shirt is gathered at the waist with a wampum belt of small white beads over a breechcloth.', 'He wears leggings to protect his legs.', 'A long-handled tomahawk is stuffed in his belt.']}\n",
      "{'scene_heading': ['ANOTHER PART OF THE FOREST - MASSIVE WAR CLUB - DAY']}\n"
     ]
    }
   ],
   "source": [
    "import nltk\n",
    "from nltk.tokenize import sent_tokenize\n",
    "nltk.download('punkt_tab')\n",
    "\n",
    "# try out first on mohicans\n",
    "mohicans_sents = []\n",
    "\n",
    "for d in mohicans_uncut:\n",
    "    # empty dict for storing result \n",
    "    sents_dict = {}\n",
    "    for key, value in d.items():\n",
    "        # # if the value is a list, unpack the list first (needs to be debugged)\n",
    "        # if isinstance(value, list):\n",
    "        #     value = str(value)\n",
    "        #     sents_dict[key] = sent_tokenize(value)\n",
    "        #     mohicans_sents.append(sents_dict)\n",
    "        # else:\n",
    "        sents_dict[key] = sent_tokenize(value)\n",
    "        mohicans_sents.append(sents_dict)\n",
    "\n",
    "for i, j in enumerate(mohicans_sents):\n",
    "    if i == 10:\n",
    "        break\n",
    "    print(j)"
   ]
  },
  {
   "cell_type": "markdown",
   "metadata": {},
   "source": [
    "Seems to work okay, although now we have to deal with a list of dicts of lists :/ including lists with one sentence "
   ]
  },
  {
   "cell_type": "markdown",
   "metadata": {},
   "source": [
    "If you run this again, make it a dict of dicts? With a structure like\n",
    "{\"screenplay\":\n",
    "    {\"label\":\"data\"},\n",
    "    {\"label\":\"data\"},\n",
    "    etc}"
   ]
  },
  {
   "cell_type": "code",
   "execution_count": 84,
   "metadata": {},
   "outputs": [],
   "source": [
    "# delete unneeded variables before sentence tokenization \n",
    "del anon, anon_dialog_flattened"
   ]
  },
  {
   "cell_type": "code",
   "execution_count": 86,
   "metadata": {},
   "outputs": [
    {
     "ename": "NameError",
     "evalue": "name 'anon_text_flattened' is not defined",
     "output_type": "error",
     "traceback": [
      "\u001b[1;31m---------------------------------------------------------------------------\u001b[0m",
      "\u001b[1;31mNameError\u001b[0m                                 Traceback (most recent call last)",
      "Cell \u001b[1;32mIn[86], line 1\u001b[0m\n\u001b[1;32m----> 1\u001b[0m \u001b[38;5;28;01mdel\u001b[39;00m \u001b[43manon_text_flattened\u001b[49m, change_up, decapitated_screenplays, mohicans, mohicans_no_lowers, mohicans_sents, mohicans_uncut, roxbury_texts, screenplay_jsons\n",
      "\u001b[1;31mNameError\u001b[0m: name 'anon_text_flattened' is not defined"
     ]
    }
   ],
   "source": [
    "del anon_text_flattened, change_up, decapitated_screenplays, mohicans, mohicans_no_lowers, mohicans_sents, mohicans_uncut, roxbury_texts, screenplay_jsons"
   ]
  },
  {
   "cell_type": "code",
   "execution_count": 87,
   "metadata": {},
   "outputs": [],
   "source": [
    "# define as a general function\n",
    "def sent_tokenize_dicts(dict_list):\n",
    "\n",
    "    sentence_dicts = []\n",
    "\n",
    "    for d in dict_list:\n",
    "        # empty dict for storing result \n",
    "        sents_dict = {}\n",
    "        for key, value in d.items():\n",
    "            sents_dict[key] = sent_tokenize(value)\n",
    "            sentence_dicts.append(sents_dict)\n",
    "    \n",
    "    return sentence_dicts"
   ]
  },
  {
   "cell_type": "code",
   "execution_count": 88,
   "metadata": {},
   "outputs": [],
   "source": [
    "# apply all \n",
    "screenplay_sents = screenplays_uncut.apply(sent_tokenize_dicts)"
   ]
  },
  {
   "cell_type": "code",
   "execution_count": 89,
   "metadata": {},
   "outputs": [
    {
     "name": "stdout",
     "output_type": "stream",
     "text": [
      "{'text': ['TEN THINGS I HATE ABOUT YOU']}\n",
      "{'dialog': ['written by Karen McCullah Lutz &amp; Kirsten Smith  based on \\'Taming of the Shrew\" by William Shakespeare  Revision November 12, 1997']}\n",
      "{'scene_heading': ['PADUA HIGH SCHOOL - DAY']}\n",
      "{'dialog': ['Welcome to Padua High School,, your typical urban-suburban high school in Portland, Oregon.', 'Smarties, Skids, Preppies,']}\n",
      "{'text': ['Granolas.', 'Loners, Lovers, the In and the Out Crowd rub sleep out of their eyes and head for the main building.']}\n",
      "{'scene_heading': ['PADUA HIGH PARKING LOT - DAY']}\n",
      "{'text': [\"KAT STRATFORD, eighteen, pretty -- but trying hard not to be -- in a baggy granny dress and glasses, balances a cup of coffee and a backpack as she climbs out of her battered, baby blue '75 Dodge Dart.\"]}\n",
      "{'text': ['A stray SKATEBOARD clips her, causing her to stumble and spill her coffee, as well as the contents of her backpack.']}\n",
      "{'text': ['The young RIDER dashes over to help, trembling when he sees who his board has hit.']}\n",
      "{'dialog': ['Hey -- sorry.']}\n"
     ]
    }
   ],
   "source": [
    "print_first_lines(screenplay_sents[50], 10)"
   ]
  },
  {
   "cell_type": "markdown",
   "metadata": {},
   "source": [
    "looks okay"
   ]
  },
  {
   "cell_type": "code",
   "execution_count": 90,
   "metadata": {},
   "outputs": [],
   "source": [
    "del screenplays_uncut"
   ]
  },
  {
   "cell_type": "markdown",
   "metadata": {},
   "source": [
    "## Label Encoding"
   ]
  },
  {
   "cell_type": "markdown",
   "metadata": {},
   "source": [
    "At this point we're going to encode our labels just to save on memory. "
   ]
  },
  {
   "cell_type": "code",
   "execution_count": 91,
   "metadata": {},
   "outputs": [
    {
     "name": "stdout",
     "output_type": "stream",
     "text": [
      "[{np.int8(1): ['TEN THINGS I HATE ABOUT YOU']}, {np.int8(2): ['written by Karen McCullah Lutz &amp; Kirsten Smith  based on \\'Taming of the Shrew\" by William Shakespeare  Revision November 12, 1997']}, {np.int8(0): ['PADUA HIGH SCHOOL - DAY']}, {np.int8(2): ['Welcome to Padua High School,, your typical urban-suburban high school in Portland, Oregon.', 'Smarties, Skids, Preppies,']}, {np.int8(1): ['Granolas.', 'Loners, Lovers, the In and the Out Crowd rub sleep out of their eyes and head for the main building.']}, {np.int8(0): ['PADUA HIGH PARKING LOT - DAY']}, {np.int8(1): [\"KAT STRATFORD, eighteen, pretty -- but trying hard not to be -- in a baggy granny dress and glasses, balances a cup of coffee and a backpack as she climbs out of her battered, baby blue '75 Dodge Dart.\"]}, {np.int8(1): ['A stray SKATEBOARD clips her, causing her to stumble and spill her coffee, as well as the contents of her backpack.']}, {np.int8(1): ['The young RIDER dashes over to help, trembling when he sees who his board has hit.']}, {np.int8(2): ['Hey -- sorry.']}]\n"
     ]
    }
   ],
   "source": [
    "label_map = {\n",
    "    'scene_heading': 0,\n",
    "    'text': 1,\n",
    "    'dialog': 2\n",
    "}\n",
    "\n",
    "# check how it will work on ten things I hate about you \n",
    "ten_things_sents = screenplay_sents[50]\n",
    "# iterate through dict list\n",
    "ten_things_encoded = []\n",
    "for d in ten_things_sents:\n",
    "    encoded_dict = {np.int8(label_map[key]): value for key, value in d.items()}\n",
    "    ten_things_encoded.append(encoded_dict)\n",
    "\n",
    "print(ten_things_encoded[:10])\n"
   ]
  },
  {
   "cell_type": "code",
   "execution_count": 92,
   "metadata": {},
   "outputs": [
    {
     "name": "stdout",
     "output_type": "stream",
     "text": [
      "[{np.int8(1): ['A NIGHT AT THE ROXBURY']}, {np.int8(2): ['written by Steve Koren Will Ferrell & Chris Kattan June 2, 1997']}, {np.int8(0): ['EXT.', 'PANORAMIC VIEW OF LOS ANGELES - SUNSET']}, {np.int8(1): ['As we hear \"What is Love\" by HADDAWAY -- night falls and partytime begins.']}, {np.int8(0): ['SUPERIMPOSE: SUNSET BLVD., 11:03 PM']}, {np.int8(0): ['EXT.', 'DANCE CLUBS - NIGHT']}, {np.int8(2): ['Coconut Teaser, The Palace, The Roxbury, Tatou, etc.']}, {np.int8(0): ['INT.', 'DANCE CLUBS- QUICK SHOTS - NIGHT']}, {np.int8(1): ['Of random dancers -- gyrating, flirting, making out, drinking.']}, {np.int8(0): ['INT.', 'PALACE - NIGHT']}]\n"
     ]
    }
   ],
   "source": [
    "# define as function and apply all \n",
    "\n",
    "def encode_labels(dict_list):\n",
    "    encoded_list = []\n",
    "    for d in dict_list:\n",
    "        encoded_dict = {np.int8(label_map[key]): value for key, value in d.items()}\n",
    "        encoded_list.append(encoded_dict)\n",
    "    return encoded_list\n",
    "\n",
    "screenplays_encoded = screenplay_sents.apply(encode_labels)\n",
    "print(screenplays_encoded[0][:10])"
   ]
  },
  {
   "cell_type": "markdown",
   "metadata": {},
   "source": [
    "## remove 'EXT' and 'INT' "
   ]
  },
  {
   "cell_type": "markdown",
   "metadata": {},
   "source": [
    "We can remove all sentences which contain only EXT/INT"
   ]
  },
  {
   "cell_type": "code",
   "execution_count": 93,
   "metadata": {},
   "outputs": [],
   "source": [
    "def remove_location(dict_list):\n",
    "    for d in dict_list:\n",
    "        for key, value in d.items():\n",
    "            d[key] = [item for item in value if item not in ['EXT.', 'INT.']]\n",
    "    return dict_list"
   ]
  },
  {
   "cell_type": "code",
   "execution_count": 94,
   "metadata": {},
   "outputs": [
    {
     "name": "stdout",
     "output_type": "stream",
     "text": [
      "{np.int8(1): ['A NIGHT AT THE ROXBURY']}\n",
      "{np.int8(2): ['written by Steve Koren Will Ferrell & Chris Kattan June 2, 1997']}\n",
      "{np.int8(0): ['PANORAMIC VIEW OF LOS ANGELES - SUNSET']}\n",
      "{np.int8(1): ['As we hear \"What is Love\" by HADDAWAY -- night falls and partytime begins.']}\n",
      "{np.int8(0): ['SUPERIMPOSE: SUNSET BLVD., 11:03 PM']}\n",
      "{np.int8(0): ['DANCE CLUBS - NIGHT']}\n",
      "{np.int8(2): ['Coconut Teaser, The Palace, The Roxbury, Tatou, etc.']}\n",
      "{np.int8(0): ['DANCE CLUBS- QUICK SHOTS - NIGHT']}\n",
      "{np.int8(1): ['Of random dancers -- gyrating, flirting, making out, drinking.']}\n",
      "{np.int8(0): ['PALACE - NIGHT']}\n"
     ]
    }
   ],
   "source": [
    "# test on ten things \n",
    "roxbury_sents = screenplays_encoded[0]\n",
    "roxbury_unlocated = remove_location(roxbury_sents)\n",
    "print_first_lines(roxbury_unlocated, 10)"
   ]
  },
  {
   "cell_type": "code",
   "execution_count": 95,
   "metadata": {},
   "outputs": [],
   "source": [
    "del screenplay_sents"
   ]
  },
  {
   "cell_type": "code",
   "execution_count": 96,
   "metadata": {},
   "outputs": [
    {
     "name": "stdout",
     "output_type": "stream",
     "text": [
      "[{np.int8(0): ['THE LAST OF THE MOHICANS']}, {np.int8(2): ['Written by Michael Mann &amp; Christopher Crowe']}, {np.int8(1): ['The screen is a microcosm of leaf, crystal drops of precipitation, a stone, emerald green moss.', \"It's a landscape in miniature.\", 'We HEAR the forest.', 'Some distant birds.', 'Their sound seems to reverberate as if in a cavern.', 'A piece of sunlight refracts within the drops of water, paints a patch of moss yellow.', 'The whisper of wind is joined by another sound that mixes with it.', 'A distant rustling.', 'It gets closer and louder.', \"It's shallow breathing.\", 'It gets ominous.', \"We're interlopers on the floor of the forest and something is coming.\"]}, {np.int8(0): ['SUDDENLY: A MOCCASINED FOOT']}, {np.int8(1): ['rockets through the frame scaring us and ...']}, {np.int8(0): ['EXTREMELY CLOSE: PART OF AN INDIAN FACE']}, {np.int8(1): ['running hard.', 'His head shaved bald except for a scalp-lock.', 'Tattoos.', \"He's twenty-five.\", 'He seems tall and muscled.', 'Heavy, even breathing.', \"We'll learn later\"]}, {np.int8(2): ['this man is UNCAS, the last of the Mohicans.']}, {np.int8(1): ['flash as he runs.', 'One carries a flintlock musket.', \"Sweat on the man's skin.\", 'A calico shirt is gathered at the waist with a wampum belt of small white beads over a breechcloth.', 'He wears leggings to protect his legs.', 'A long-handled tomahawk is stuffed in his belt.']}, {np.int8(0): ['ANOTHER PART OF THE FOREST - MASSIVE WAR CLUB - DAY']}]\n"
     ]
    }
   ],
   "source": [
    "# apply all\n",
    "screenplays_unlocated = screenplays_encoded.apply(remove_location)\n",
    "print(screenplays_unlocated[10][:10])"
   ]
  },
  {
   "cell_type": "code",
   "execution_count": 97,
   "metadata": {},
   "outputs": [
    {
     "name": "stdout",
     "output_type": "stream",
     "text": [
      "{np.int8(2): ['Written by Jon Lucas &amp; Scott Moore July 31, 2009']}\n",
      "{np.int8(0): ['OPEN ON: PEACEFUL BLACK STILLNESS']}\n",
      "{np.int8(1): ['Then we hear a baby SCREAM BLOODY MURDER.', 'Then a second baby joins in, even more shrill than the first.', 'Finally, we hear']}\n",
      "{np.int8(2): ['the worst two words a parent can ever hear:']}\n",
      "{np.int8(2): ['Your turn.']}\n",
      "{np.int8(2): ['Fuck.']}\n",
      "{np.int8(0): ['SUBURBAN HOUSE -- NIGHT']}\n",
      "{np.int8(1): ['DAVE LOCKWOOD, 30, bleary-eyed father of three, shuffles through his well-appointed suburban home, passing a grandfather clock reading 3:45.', 'He stumbles over a TOY GIRAFFE -- it SQUEAKS, and Dave sleepily mumbles:']}\n",
      "{np.int8(2): ['Sorry Hank.']}\n",
      "{np.int8(0): ['NURSERY-- NIGHT']}\n"
     ]
    }
   ],
   "source": [
    "print_first_lines(screenplays_unlocated[200], 10)"
   ]
  },
  {
   "cell_type": "markdown",
   "metadata": {},
   "source": [
    "## Word Tokenization"
   ]
  },
  {
   "cell_type": "code",
   "execution_count": 98,
   "metadata": {},
   "outputs": [
    {
     "name": "stdout",
     "output_type": "stream",
     "text": [
      "[{np.int8(0): ['THE LAST OF THE MOHICANS']}, {np.int8(2): ['Written by Michael Mann &amp; Christopher Crowe']}, {np.int8(1): ['The screen is a microcosm of leaf, crystal drops of precipitation, a stone, emerald green moss.', \"It's a landscape in miniature.\", 'We HEAR the forest.', 'Some distant birds.', 'Their sound seems to reverberate as if in a cavern.', 'A piece of sunlight refracts within the drops of water, paints a patch of moss yellow.', 'The whisper of wind is joined by another sound that mixes with it.', 'A distant rustling.', 'It gets closer and louder.', \"It's shallow breathing.\", 'It gets ominous.', \"We're interlopers on the floor of the forest and something is coming.\"]}, {np.int8(0): ['SUDDENLY: A MOCCASINED FOOT']}, {np.int8(1): ['rockets through the frame scaring us and ...']}, {np.int8(0): ['EXTREMELY CLOSE: PART OF AN INDIAN FACE']}, {np.int8(1): ['running hard.', 'His head shaved bald except for a scalp-lock.', 'Tattoos.', \"He's twenty-five.\", 'He seems tall and muscled.', 'Heavy, even breathing.', \"We'll learn later\"]}, {np.int8(2): ['this man is UNCAS, the last of the Mohicans.']}, {np.int8(1): ['flash as he runs.', 'One carries a flintlock musket.', \"Sweat on the man's skin.\", 'A calico shirt is gathered at the waist with a wampum belt of small white beads over a breechcloth.', 'He wears leggings to protect his legs.', 'A long-handled tomahawk is stuffed in his belt.']}, {np.int8(0): ['ANOTHER PART OF THE FOREST - MASSIVE WAR CLUB - DAY']}]\n"
     ]
    }
   ],
   "source": [
    "print(screenplays_unlocated[10][:10])"
   ]
  },
  {
   "cell_type": "code",
   "execution_count": 99,
   "metadata": {},
   "outputs": [
    {
     "name": "stdout",
     "output_type": "stream",
     "text": [
      "{np.int8(0): [['THE', 'LAST', 'OF', 'THE', 'MOHICANS']]}\n",
      "{np.int8(2): [['Written', 'by', 'Michael', 'Mann', '&', 'amp', ';', 'Christopher', 'Crowe']]}\n",
      "{np.int8(1): [['The', 'screen', 'is', 'a', 'microcosm', 'of', 'leaf', ',', 'crystal', 'drops', 'of', 'precipitation', ',', 'a', 'stone', ',', 'emerald', 'green', 'moss', '.'], ['It', \"'s\", 'a', 'landscape', 'in', 'miniature', '.'], ['We', 'HEAR', 'the', 'forest', '.'], ['Some', 'distant', 'birds', '.'], ['Their', 'sound', 'seems', 'to', 'reverberate', 'as', 'if', 'in', 'a', 'cavern', '.'], ['A', 'piece', 'of', 'sunlight', 'refracts', 'within', 'the', 'drops', 'of', 'water', ',', 'paints', 'a', 'patch', 'of', 'moss', 'yellow', '.'], ['The', 'whisper', 'of', 'wind', 'is', 'joined', 'by', 'another', 'sound', 'that', 'mixes', 'with', 'it', '.'], ['A', 'distant', 'rustling', '.'], ['It', 'gets', 'closer', 'and', 'louder', '.'], ['It', \"'s\", 'shallow', 'breathing', '.'], ['It', 'gets', 'ominous', '.'], ['We', \"'re\", 'interlopers', 'on', 'the', 'floor', 'of', 'the', 'forest', 'and', 'something', 'is', 'coming', '.']]}\n",
      "{np.int8(0): [['SUDDENLY', ':', 'A', 'MOCCASINED', 'FOOT']]}\n",
      "{np.int8(1): [['rockets', 'through', 'the', 'frame', 'scaring', 'us', 'and', '...']]}\n",
      "{np.int8(0): [['EXTREMELY', 'CLOSE', ':', 'PART', 'OF', 'AN', 'INDIAN', 'FACE']]}\n",
      "{np.int8(1): [['running', 'hard', '.'], ['His', 'head', 'shaved', 'bald', 'except', 'for', 'a', 'scalp-lock', '.'], ['Tattoos', '.'], ['He', \"'s\", 'twenty-five', '.'], ['He', 'seems', 'tall', 'and', 'muscled', '.'], ['Heavy', ',', 'even', 'breathing', '.'], ['We', \"'ll\", 'learn', 'later']]}\n",
      "{np.int8(2): [['this', 'man', 'is', 'UNCAS', ',', 'the', 'last', 'of', 'the', 'Mohicans', '.']]}\n",
      "{np.int8(1): [['flash', 'as', 'he', 'runs', '.'], ['One', 'carries', 'a', 'flintlock', 'musket', '.'], ['Sweat', 'on', 'the', 'man', \"'s\", 'skin', '.'], ['A', 'calico', 'shirt', 'is', 'gathered', 'at', 'the', 'waist', 'with', 'a', 'wampum', 'belt', 'of', 'small', 'white', 'beads', 'over', 'a', 'breechcloth', '.'], ['He', 'wears', 'leggings', 'to', 'protect', 'his', 'legs', '.'], ['A', 'long-handled', 'tomahawk', 'is', 'stuffed', 'in', 'his', 'belt', '.']]}\n",
      "{np.int8(0): [['ANOTHER', 'PART', 'OF', 'THE', 'FOREST', '-', 'MASSIVE', 'WAR', 'CLUB', '-', 'DAY']]}\n"
     ]
    }
   ],
   "source": [
    "from nltk.tokenize import word_tokenize\n",
    "import copy\n",
    "\n",
    "# try out on mohicans \n",
    "mohicans_sents = copy.deepcopy(screenplays_unlocated[10])\n",
    "\n",
    "def word_tokenize_dicts(dict_list):\n",
    "    # iterate through dict list\n",
    "    for d in dict_list:\n",
    "        # iterate through keys and values \n",
    "        for key, value in d.items():\n",
    "            d[key] = [word_tokenize(sent) for sent in value]\n",
    "    return dict_list\n",
    "\n",
    "mohicans_tokenized = word_tokenize_dicts(mohicans_sents)\n",
    "print_first_lines(mohicans_tokenized, 10)\n"
   ]
  },
  {
   "cell_type": "code",
   "execution_count": 100,
   "metadata": {},
   "outputs": [
    {
     "name": "stdout",
     "output_type": "stream",
     "text": [
      "[{np.int8(0): ['THE LAST OF THE MOHICANS']}, {np.int8(2): ['Written by Michael Mann &amp; Christopher Crowe']}, {np.int8(1): ['The screen is a microcosm of leaf, crystal drops of precipitation, a stone, emerald green moss.', \"It's a landscape in miniature.\", 'We HEAR the forest.', 'Some distant birds.', 'Their sound seems to reverberate as if in a cavern.', 'A piece of sunlight refracts within the drops of water, paints a patch of moss yellow.', 'The whisper of wind is joined by another sound that mixes with it.', 'A distant rustling.', 'It gets closer and louder.', \"It's shallow breathing.\", 'It gets ominous.', \"We're interlopers on the floor of the forest and something is coming.\"]}, {np.int8(0): ['SUDDENLY: A MOCCASINED FOOT']}, {np.int8(1): ['rockets through the frame scaring us and ...']}, {np.int8(0): ['EXTREMELY CLOSE: PART OF AN INDIAN FACE']}, {np.int8(1): ['running hard.', 'His head shaved bald except for a scalp-lock.', 'Tattoos.', \"He's twenty-five.\", 'He seems tall and muscled.', 'Heavy, even breathing.', \"We'll learn later\"]}, {np.int8(2): ['this man is UNCAS, the last of the Mohicans.']}, {np.int8(1): ['flash as he runs.', 'One carries a flintlock musket.', \"Sweat on the man's skin.\", 'A calico shirt is gathered at the waist with a wampum belt of small white beads over a breechcloth.', 'He wears leggings to protect his legs.', 'A long-handled tomahawk is stuffed in his belt.']}, {np.int8(0): ['ANOTHER PART OF THE FOREST - MASSIVE WAR CLUB - DAY']}]\n"
     ]
    }
   ],
   "source": [
    "print(screenplays_unlocated[10][:10])"
   ]
  },
  {
   "cell_type": "markdown",
   "metadata": {},
   "source": [
    "unfortunate that we're now dealing with lists of dicts of lists of lists :/  but not sure how to remedy that without losing sentence boundaries"
   ]
  },
  {
   "cell_type": "code",
   "execution_count": 101,
   "metadata": {},
   "outputs": [
    {
     "name": "stdout",
     "output_type": "stream",
     "text": [
      "{np.int8(1): [['A', 'NIGHT', 'AT', 'THE', 'ROXBURY']]}\n",
      "{np.int8(2): [['written', 'by', 'Steve', 'Koren', 'Will', 'Ferrell', '&', 'Chris', 'Kattan', 'June', '2', ',', '1997']]}\n",
      "{np.int8(0): [['PANORAMIC', 'VIEW', 'OF', 'LOS', 'ANGELES', '-', 'SUNSET']]}\n",
      "{np.int8(1): [['As', 'we', 'hear', '``', 'What', 'is', 'Love', \"''\", 'by', 'HADDAWAY', '--', 'night', 'falls', 'and', 'partytime', 'begins', '.']]}\n",
      "{np.int8(0): [['SUPERIMPOSE', ':', 'SUNSET', 'BLVD.', ',', '11:03', 'PM']]}\n",
      "{np.int8(0): [['DANCE', 'CLUBS', '-', 'NIGHT']]}\n",
      "{np.int8(2): [['Coconut', 'Teaser', ',', 'The', 'Palace', ',', 'The', 'Roxbury', ',', 'Tatou', ',', 'etc', '.']]}\n",
      "{np.int8(0): [['DANCE', 'CLUBS-', 'QUICK', 'SHOTS', '-', 'NIGHT']]}\n",
      "{np.int8(1): [['Of', 'random', 'dancers', '--', 'gyrating', ',', 'flirting', ',', 'making', 'out', ',', 'drinking', '.']]}\n",
      "{np.int8(0): [['PALACE', '-', 'NIGHT']]}\n"
     ]
    }
   ],
   "source": [
    "# apply all \n",
    "screenplays_tokenized = screenplays_unlocated.apply(word_tokenize_dicts)\n",
    "print_first_lines(screenplays_tokenized[0], 10)"
   ]
  },
  {
   "cell_type": "markdown",
   "metadata": {},
   "source": [
    "## remove strings that contain no letters "
   ]
  },
  {
   "cell_type": "code",
   "execution_count": 102,
   "metadata": {},
   "outputs": [
    {
     "name": "stdout",
     "output_type": "stream",
     "text": [
      "{np.int8(0): [['THE', 'LAST', 'OF', 'THE', 'MOHICANS']]}\n",
      "{np.int8(2): [['Written', 'by', 'Michael', 'Mann', '&', 'amp', ';', 'Christopher', 'Crowe']]}\n",
      "{np.int8(1): [['The', 'screen', 'is', 'a', 'microcosm', 'of', 'leaf', ',', 'crystal', 'drops', 'of', 'precipitation', ',', 'a', 'stone', ',', 'emerald', 'green', 'moss', '.'], ['It', \"'s\", 'a', 'landscape', 'in', 'miniature', '.'], ['We', 'HEAR', 'the', 'forest', '.'], ['Some', 'distant', 'birds', '.'], ['Their', 'sound', 'seems', 'to', 'reverberate', 'as', 'if', 'in', 'a', 'cavern', '.'], ['A', 'piece', 'of', 'sunlight', 'refracts', 'within', 'the', 'drops', 'of', 'water', ',', 'paints', 'a', 'patch', 'of', 'moss', 'yellow', '.'], ['The', 'whisper', 'of', 'wind', 'is', 'joined', 'by', 'another', 'sound', 'that', 'mixes', 'with', 'it', '.'], ['A', 'distant', 'rustling', '.'], ['It', 'gets', 'closer', 'and', 'louder', '.'], ['It', \"'s\", 'shallow', 'breathing', '.'], ['It', 'gets', 'ominous', '.'], ['We', \"'re\", 'interlopers', 'on', 'the', 'floor', 'of', 'the', 'forest', 'and', 'something', 'is', 'coming', '.']]}\n",
      "{np.int8(0): [['SUDDENLY', ':', 'A', 'MOCCASINED', 'FOOT']]}\n",
      "{np.int8(1): [['rockets', 'through', 'the', 'frame', 'scaring', 'us', 'and', '...']]}\n",
      "{np.int8(0): [['EXTREMELY', 'CLOSE', ':', 'PART', 'OF', 'AN', 'INDIAN', 'FACE']]}\n",
      "{np.int8(1): [['running', 'hard', '.'], ['His', 'head', 'shaved', 'bald', 'except', 'for', 'a', 'scalp-lock', '.'], ['Tattoos', '.'], ['He', \"'s\", 'twenty-five', '.'], ['He', 'seems', 'tall', 'and', 'muscled', '.'], ['Heavy', ',', 'even', 'breathing', '.'], ['We', \"'ll\", 'learn', 'later']]}\n",
      "{np.int8(2): [['this', 'man', 'is', 'UNCAS', ',', 'the', 'last', 'of', 'the', 'Mohicans', '.']]}\n",
      "{np.int8(1): [['flash', 'as', 'he', 'runs', '.'], ['One', 'carries', 'a', 'flintlock', 'musket', '.'], ['Sweat', 'on', 'the', 'man', \"'s\", 'skin', '.'], ['A', 'calico', 'shirt', 'is', 'gathered', 'at', 'the', 'waist', 'with', 'a', 'wampum', 'belt', 'of', 'small', 'white', 'beads', 'over', 'a', 'breechcloth', '.'], ['He', 'wears', 'leggings', 'to', 'protect', 'his', 'legs', '.'], ['A', 'long-handled', 'tomahawk', 'is', 'stuffed', 'in', 'his', 'belt', '.']]}\n",
      "{np.int8(0): [['ANOTHER', 'PART', 'OF', 'THE', 'FOREST', '-', 'MASSIVE', 'WAR', 'CLUB', '-', 'DAY']]}\n"
     ]
    }
   ],
   "source": [
    "mohicans_tokenized = copy.deepcopy(screenplays_tokenized[10])\n",
    "print_first_lines(mohicans_tokenized, 10)"
   ]
  },
  {
   "cell_type": "code",
   "execution_count": 103,
   "metadata": {},
   "outputs": [
    {
     "name": "stdout",
     "output_type": "stream",
     "text": [
      "['!', '\"', '#', '$', '%', '&', \"'\", '(', ')', '*', '+', ',', '-', '.', '/', ':', ';', '<', '=', '>', '?', '@', '[', '\\\\', ']', '^', '_', '`', '{', '|', '}', '~']\n"
     ]
    }
   ],
   "source": [
    "import string\n",
    "puncts = list(string.punctuation)\n",
    "print(puncts)"
   ]
  },
  {
   "cell_type": "code",
   "execution_count": 104,
   "metadata": {},
   "outputs": [
    {
     "name": "stdout",
     "output_type": "stream",
     "text": [
      "{np.int8(0): [['THE', 'LAST', 'OF', 'THE', 'MOHICANS']]}\n",
      "{np.int8(2): [['Written', 'by', 'Michael', 'Mann', 'amp', 'Christopher', 'Crowe']]}\n",
      "{np.int8(1): [['The', 'screen', 'is', 'a', 'microcosm', 'of', 'leaf', 'crystal', 'drops', 'of', 'precipitation', 'a', 'stone', 'emerald', 'green', 'moss'], ['It', \"'s\", 'a', 'landscape', 'in', 'miniature'], ['We', 'HEAR', 'the', 'forest'], ['Some', 'distant', 'birds'], ['Their', 'sound', 'seems', 'to', 'reverberate', 'as', 'if', 'in', 'a', 'cavern'], ['A', 'piece', 'of', 'sunlight', 'refracts', 'within', 'the', 'drops', 'of', 'water', 'paints', 'a', 'patch', 'of', 'moss', 'yellow'], ['The', 'whisper', 'of', 'wind', 'is', 'joined', 'by', 'another', 'sound', 'that', 'mixes', 'with', 'it'], ['A', 'distant', 'rustling'], ['It', 'gets', 'closer', 'and', 'louder'], ['It', \"'s\", 'shallow', 'breathing'], ['It', 'gets', 'ominous'], ['We', \"'re\", 'interlopers', 'on', 'the', 'floor', 'of', 'the', 'forest', 'and', 'something', 'is', 'coming']]}\n",
      "{np.int8(0): [['SUDDENLY', 'A', 'MOCCASINED', 'FOOT']]}\n",
      "{np.int8(1): [['rockets', 'through', 'the', 'frame', 'scaring', 'us', 'and']]}\n",
      "{np.int8(0): [['EXTREMELY', 'CLOSE', 'PART', 'OF', 'AN', 'INDIAN', 'FACE']]}\n",
      "{np.int8(1): [['running', 'hard'], ['His', 'head', 'shaved', 'bald', 'except', 'for', 'a', 'scalp-lock'], ['Tattoos'], ['He', \"'s\", 'twenty-five'], ['He', 'seems', 'tall', 'and', 'muscled'], ['Heavy', 'even', 'breathing'], ['We', \"'ll\", 'learn', 'later']]}\n",
      "{np.int8(2): [['this', 'man', 'is', 'UNCAS', 'the', 'last', 'of', 'the', 'Mohicans']]}\n",
      "{np.int8(1): [['flash', 'as', 'he', 'runs'], ['One', 'carries', 'a', 'flintlock', 'musket'], ['Sweat', 'on', 'the', 'man', \"'s\", 'skin'], ['A', 'calico', 'shirt', 'is', 'gathered', 'at', 'the', 'waist', 'with', 'a', 'wampum', 'belt', 'of', 'small', 'white', 'beads', 'over', 'a', 'breechcloth'], ['He', 'wears', 'leggings', 'to', 'protect', 'his', 'legs'], ['A', 'long-handled', 'tomahawk', 'is', 'stuffed', 'in', 'his', 'belt']]}\n",
      "{np.int8(0): [['ANOTHER', 'PART', 'OF', 'THE', 'FOREST', 'MASSIVE', 'WAR', 'CLUB', 'DAY']]}\n"
     ]
    }
   ],
   "source": [
    "import re \n",
    "\n",
    "def contains_letters(token):\n",
    "    return bool(re.search(r'[a-zA-Z]', token))\n",
    "\n",
    "def remove_non_letters(dict_list):\n",
    "    for d in dict_list:\n",
    "        for key, value in d.items():\n",
    "            d[key] = [\n",
    "                [t for t in sentence if contains_letters(t)]\n",
    "                for sentence in value\n",
    "            ]\n",
    "    return dict_list \n",
    "\n",
    "# test on mohicans_tokenized\n",
    "mohicans_alpha = remove_non_letters(mohicans_tokenized)\n",
    "print_first_lines(mohicans_alpha, 10)"
   ]
  },
  {
   "cell_type": "code",
   "execution_count": 105,
   "metadata": {},
   "outputs": [],
   "source": [
    "del mohicans_alpha, mohicans_sents, mohicans_tokenized, roxbury_sents, roxbury_unlocated, screenplays_encoded, screenplays_unlocated, ten_things_encoded, ten_things_sents"
   ]
  },
  {
   "cell_type": "code",
   "execution_count": 106,
   "metadata": {},
   "outputs": [
    {
     "name": "stdout",
     "output_type": "stream",
     "text": [
      "{np.int8(1): [['A', 'NIGHT', 'AT', 'THE', 'ROXBURY']]}\n",
      "{np.int8(2): [['written', 'by', 'Steve', 'Koren', 'Will', 'Ferrell', 'Chris', 'Kattan', 'June']]}\n",
      "{np.int8(0): [['PANORAMIC', 'VIEW', 'OF', 'LOS', 'ANGELES', 'SUNSET']]}\n",
      "{np.int8(1): [['As', 'we', 'hear', 'What', 'is', 'Love', 'by', 'HADDAWAY', 'night', 'falls', 'and', 'partytime', 'begins']]}\n",
      "{np.int8(0): [['SUPERIMPOSE', 'SUNSET', 'BLVD.', 'PM']]}\n",
      "{np.int8(0): [['DANCE', 'CLUBS', 'NIGHT']]}\n",
      "{np.int8(2): [['Coconut', 'Teaser', 'The', 'Palace', 'The', 'Roxbury', 'Tatou', 'etc']]}\n",
      "{np.int8(0): [['DANCE', 'CLUBS-', 'QUICK', 'SHOTS', 'NIGHT']]}\n",
      "{np.int8(1): [['Of', 'random', 'dancers', 'gyrating', 'flirting', 'making', 'out', 'drinking']]}\n",
      "{np.int8(0): [['PALACE', 'NIGHT']]}\n"
     ]
    }
   ],
   "source": [
    "# seems to work so apply all \n",
    "screenplays_alpha = screenplays_tokenized.apply(remove_non_letters)\n",
    "print_first_lines(screenplays_alpha[0], 10)"
   ]
  },
  {
   "cell_type": "markdown",
   "metadata": {},
   "source": [
    "## to lower"
   ]
  },
  {
   "cell_type": "markdown",
   "metadata": {},
   "source": [
    "Since sentence boundaries are already marked, we can convert all chars to lowercase "
   ]
  },
  {
   "cell_type": "code",
   "execution_count": 107,
   "metadata": {},
   "outputs": [],
   "source": [
    "def convert_to_lower(dict_list):\n",
    "    for d in dict_list:\n",
    "        for key, value in d.items():\n",
    "            d[key] = [\n",
    "                [w.lower() for w in sentence]\n",
    "                for sentence in value\n",
    "            ]\n",
    "    return dict_list"
   ]
  },
  {
   "cell_type": "code",
   "execution_count": 108,
   "metadata": {},
   "outputs": [
    {
     "name": "stdout",
     "output_type": "stream",
     "text": [
      "{np.int8(0): [['THE', 'LAST', 'OF', 'THE', 'MOHICANS']]}\n",
      "{np.int8(2): [['Written', 'by', 'Michael', 'Mann', 'amp', 'Christopher', 'Crowe']]}\n",
      "{np.int8(1): [['The', 'screen', 'is', 'a', 'microcosm', 'of', 'leaf', 'crystal', 'drops', 'of', 'precipitation', 'a', 'stone', 'emerald', 'green', 'moss'], ['It', \"'s\", 'a', 'landscape', 'in', 'miniature'], ['We', 'HEAR', 'the', 'forest'], ['Some', 'distant', 'birds'], ['Their', 'sound', 'seems', 'to', 'reverberate', 'as', 'if', 'in', 'a', 'cavern'], ['A', 'piece', 'of', 'sunlight', 'refracts', 'within', 'the', 'drops', 'of', 'water', 'paints', 'a', 'patch', 'of', 'moss', 'yellow'], ['The', 'whisper', 'of', 'wind', 'is', 'joined', 'by', 'another', 'sound', 'that', 'mixes', 'with', 'it'], ['A', 'distant', 'rustling'], ['It', 'gets', 'closer', 'and', 'louder'], ['It', \"'s\", 'shallow', 'breathing'], ['It', 'gets', 'ominous'], ['We', \"'re\", 'interlopers', 'on', 'the', 'floor', 'of', 'the', 'forest', 'and', 'something', 'is', 'coming']]}\n",
      "{np.int8(0): [['SUDDENLY', 'A', 'MOCCASINED', 'FOOT']]}\n",
      "{np.int8(1): [['rockets', 'through', 'the', 'frame', 'scaring', 'us', 'and']]}\n",
      "{np.int8(0): [['EXTREMELY', 'CLOSE', 'PART', 'OF', 'AN', 'INDIAN', 'FACE']]}\n",
      "{np.int8(1): [['running', 'hard'], ['His', 'head', 'shaved', 'bald', 'except', 'for', 'a', 'scalp-lock'], ['Tattoos'], ['He', \"'s\", 'twenty-five'], ['He', 'seems', 'tall', 'and', 'muscled'], ['Heavy', 'even', 'breathing'], ['We', \"'ll\", 'learn', 'later']]}\n",
      "{np.int8(2): [['this', 'man', 'is', 'UNCAS', 'the', 'last', 'of', 'the', 'Mohicans']]}\n",
      "{np.int8(1): [['flash', 'as', 'he', 'runs'], ['One', 'carries', 'a', 'flintlock', 'musket'], ['Sweat', 'on', 'the', 'man', \"'s\", 'skin'], ['A', 'calico', 'shirt', 'is', 'gathered', 'at', 'the', 'waist', 'with', 'a', 'wampum', 'belt', 'of', 'small', 'white', 'beads', 'over', 'a', 'breechcloth'], ['He', 'wears', 'leggings', 'to', 'protect', 'his', 'legs'], ['A', 'long-handled', 'tomahawk', 'is', 'stuffed', 'in', 'his', 'belt']]}\n",
      "{np.int8(0): [['ANOTHER', 'PART', 'OF', 'THE', 'FOREST', 'MASSIVE', 'WAR', 'CLUB', 'DAY']]}\n"
     ]
    }
   ],
   "source": [
    "mo = copy.deepcopy(screenplays_alpha[10])\n",
    "print_first_lines(mo, 10)"
   ]
  },
  {
   "cell_type": "code",
   "execution_count": 109,
   "metadata": {},
   "outputs": [
    {
     "name": "stdout",
     "output_type": "stream",
     "text": [
      "{np.int8(0): [['the', 'last', 'of', 'the', 'mohicans']]}\n",
      "{np.int8(2): [['written', 'by', 'michael', 'mann', 'amp', 'christopher', 'crowe']]}\n",
      "{np.int8(1): [['the', 'screen', 'is', 'a', 'microcosm', 'of', 'leaf', 'crystal', 'drops', 'of', 'precipitation', 'a', 'stone', 'emerald', 'green', 'moss'], ['it', \"'s\", 'a', 'landscape', 'in', 'miniature'], ['we', 'hear', 'the', 'forest'], ['some', 'distant', 'birds'], ['their', 'sound', 'seems', 'to', 'reverberate', 'as', 'if', 'in', 'a', 'cavern'], ['a', 'piece', 'of', 'sunlight', 'refracts', 'within', 'the', 'drops', 'of', 'water', 'paints', 'a', 'patch', 'of', 'moss', 'yellow'], ['the', 'whisper', 'of', 'wind', 'is', 'joined', 'by', 'another', 'sound', 'that', 'mixes', 'with', 'it'], ['a', 'distant', 'rustling'], ['it', 'gets', 'closer', 'and', 'louder'], ['it', \"'s\", 'shallow', 'breathing'], ['it', 'gets', 'ominous'], ['we', \"'re\", 'interlopers', 'on', 'the', 'floor', 'of', 'the', 'forest', 'and', 'something', 'is', 'coming']]}\n",
      "{np.int8(0): [['suddenly', 'a', 'moccasined', 'foot']]}\n",
      "{np.int8(1): [['rockets', 'through', 'the', 'frame', 'scaring', 'us', 'and']]}\n",
      "{np.int8(0): [['extremely', 'close', 'part', 'of', 'an', 'indian', 'face']]}\n",
      "{np.int8(1): [['running', 'hard'], ['his', 'head', 'shaved', 'bald', 'except', 'for', 'a', 'scalp-lock'], ['tattoos'], ['he', \"'s\", 'twenty-five'], ['he', 'seems', 'tall', 'and', 'muscled'], ['heavy', 'even', 'breathing'], ['we', \"'ll\", 'learn', 'later']]}\n",
      "{np.int8(2): [['this', 'man', 'is', 'uncas', 'the', 'last', 'of', 'the', 'mohicans']]}\n",
      "{np.int8(1): [['flash', 'as', 'he', 'runs'], ['one', 'carries', 'a', 'flintlock', 'musket'], ['sweat', 'on', 'the', 'man', \"'s\", 'skin'], ['a', 'calico', 'shirt', 'is', 'gathered', 'at', 'the', 'waist', 'with', 'a', 'wampum', 'belt', 'of', 'small', 'white', 'beads', 'over', 'a', 'breechcloth'], ['he', 'wears', 'leggings', 'to', 'protect', 'his', 'legs'], ['a', 'long-handled', 'tomahawk', 'is', 'stuffed', 'in', 'his', 'belt']]}\n",
      "{np.int8(0): [['another', 'part', 'of', 'the', 'forest', 'massive', 'war', 'club', 'day']]}\n"
     ]
    }
   ],
   "source": [
    "# test on mohicans \n",
    "mo_lower = convert_to_lower(mo)\n",
    "print_first_lines(mo_lower, 10)"
   ]
  },
  {
   "cell_type": "code",
   "execution_count": 110,
   "metadata": {},
   "outputs": [
    {
     "name": "stdout",
     "output_type": "stream",
     "text": [
      "{np.int8(2): [['C', 'O', 'N', 'S', 'I', 'D', 'E', 'R', 'A', 'T', 'I', 'O', 'N']]}\n",
      "{np.int8(0): [['NICOLE', 'HOLOFCENER', 'AND', 'JEFF', 'WHIT', 'T', 'Y']]}\n",
      "{np.int8(1): [['BASED', 'ON', 'THE', 'BOOK', 'BY']]}\n",
      "{np.int8(0): [['NICOLE', 'HOLOFCENER', 'AND', 'JEFF', 'WHIT', 'T', 'Y']]}\n",
      "{np.int8(2): [['CAN', 'YOU', 'EVER', 'FORGIVE', 'ME'], ['Screenplay', 'by', 'Nicole', 'Holofcener', 'and', 'Jeff', 'Whitty', 'Based', 'on', 'the', 'book', 'CAN', 'YOU', 'EVER', 'FORGIVE', 'ME'], ['By', 'Lee', 'Israel', 'Final', 'Shooting', 'Script', 'March']]}\n",
      "{np.int8(0): [['FOX', 'SEARCHLIGHT', 'PICTURES', 'INC']]}\n",
      "{np.int8(2): [['Los', 'Angeles', 'CA']]}\n",
      "{np.int8(0): [['ALL', 'RIGHTS', 'RESERVED'], ['COPYRIGHT', 'WILLOW', 'AND', 'OAK', 'INC.', 'NO']]}\n",
      "{np.int8(0): [['PORTION', 'OF', 'THIS', 'SCRIPT', 'MAY', 'BE', 'PERFORMED', 'PUBLISHED', 'REPRODUCED']]}\n",
      "{np.int8(1): [['SOLD', 'OR', 'DISTRIBUTED', 'BY', 'ANY', 'MEANS', 'OR', 'QUOTED', 'OR', 'PUBLISHED', 'IN', 'ANY']]}\n"
     ]
    }
   ],
   "source": [
    "consideration = copy.deepcopy(screenplays_alpha[25])\n",
    "print_first_lines(consideration, 10)"
   ]
  },
  {
   "cell_type": "code",
   "execution_count": 111,
   "metadata": {},
   "outputs": [
    {
     "name": "stdout",
     "output_type": "stream",
     "text": [
      "{np.int8(2): [['c', 'o', 'n', 's', 'i', 'd', 'e', 'r', 'a', 't', 'i', 'o', 'n']]}\n",
      "{np.int8(0): [['nicole', 'holofcener', 'and', 'jeff', 'whit', 't', 'y']]}\n",
      "{np.int8(1): [['based', 'on', 'the', 'book', 'by']]}\n",
      "{np.int8(0): [['nicole', 'holofcener', 'and', 'jeff', 'whit', 't', 'y']]}\n",
      "{np.int8(2): [['can', 'you', 'ever', 'forgive', 'me'], ['screenplay', 'by', 'nicole', 'holofcener', 'and', 'jeff', 'whitty', 'based', 'on', 'the', 'book', 'can', 'you', 'ever', 'forgive', 'me'], ['by', 'lee', 'israel', 'final', 'shooting', 'script', 'march']]}\n",
      "{np.int8(0): [['fox', 'searchlight', 'pictures', 'inc']]}\n",
      "{np.int8(2): [['los', 'angeles', 'ca']]}\n",
      "{np.int8(0): [['all', 'rights', 'reserved'], ['copyright', 'willow', 'and', 'oak', 'inc.', 'no']]}\n",
      "{np.int8(0): [['portion', 'of', 'this', 'script', 'may', 'be', 'performed', 'published', 'reproduced']]}\n",
      "{np.int8(1): [['sold', 'or', 'distributed', 'by', 'any', 'means', 'or', 'quoted', 'or', 'published', 'in', 'any']]}\n"
     ]
    }
   ],
   "source": [
    "# apply all\n",
    "screenplays_lower = screenplays_alpha.apply(convert_to_lower)\n",
    "print_first_lines(screenplays_lower[25], 10)"
   ]
  },
  {
   "cell_type": "code",
   "execution_count": 112,
   "metadata": {},
   "outputs": [
    {
     "ename": "NameError",
     "evalue": "name 'unique_labels_series' is not defined",
     "output_type": "error",
     "traceback": [
      "\u001b[1;31m---------------------------------------------------------------------------\u001b[0m",
      "\u001b[1;31mNameError\u001b[0m                                 Traceback (most recent call last)",
      "Cell \u001b[1;32mIn[112], line 1\u001b[0m\n\u001b[1;32m----> 1\u001b[0m \u001b[38;5;28;01mdel\u001b[39;00m mo, mo_lower, screenplay_jsons, screenplays_alpha, screenplays_tokenized, \u001b[43munique_labels_series\u001b[49m\n",
      "\u001b[1;31mNameError\u001b[0m: name 'unique_labels_series' is not defined"
     ]
    }
   ],
   "source": [
    "del mo, mo_lower, screenplay_jsons, screenplays_alpha, screenplays_tokenized, unique_labels_series"
   ]
  },
  {
   "cell_type": "markdown",
   "metadata": {},
   "source": [
    "## remove tokens of length 1"
   ]
  },
  {
   "cell_type": "code",
   "execution_count": 113,
   "metadata": {},
   "outputs": [],
   "source": [
    "def cut_single_chars(dict_list):\n",
    "    for d in dict_list:\n",
    "        for key, value in d.items():\n",
    "            d[key] = [\n",
    "                [w for w in sentence if len(w) > 1]\n",
    "                for sentence in value]\n",
    "    return dict_list"
   ]
  },
  {
   "cell_type": "code",
   "execution_count": 114,
   "metadata": {},
   "outputs": [
    {
     "name": "stdout",
     "output_type": "stream",
     "text": [
      "{np.int8(2): [[]]}\n",
      "{np.int8(0): [['nicole', 'holofcener', 'and', 'jeff', 'whit']]}\n",
      "{np.int8(1): [['based', 'on', 'the', 'book', 'by']]}\n",
      "{np.int8(0): [['nicole', 'holofcener', 'and', 'jeff', 'whit']]}\n",
      "{np.int8(2): [['can', 'you', 'ever', 'forgive', 'me'], ['screenplay', 'by', 'nicole', 'holofcener', 'and', 'jeff', 'whitty', 'based', 'on', 'the', 'book', 'can', 'you', 'ever', 'forgive', 'me'], ['by', 'lee', 'israel', 'final', 'shooting', 'script', 'march']]}\n",
      "{np.int8(0): [['fox', 'searchlight', 'pictures', 'inc']]}\n",
      "{np.int8(2): [['los', 'angeles', 'ca']]}\n",
      "{np.int8(0): [['all', 'rights', 'reserved'], ['copyright', 'willow', 'and', 'oak', 'inc.', 'no']]}\n",
      "{np.int8(0): [['portion', 'of', 'this', 'script', 'may', 'be', 'performed', 'published', 'reproduced']]}\n",
      "{np.int8(1): [['sold', 'or', 'distributed', 'by', 'any', 'means', 'or', 'quoted', 'or', 'published', 'in', 'any']]}\n"
     ]
    }
   ],
   "source": [
    "# test on consideration \n",
    "consideration = copy.deepcopy(screenplays_lower[25])\n",
    "consideration_poly = cut_single_chars(consideration)\n",
    "print_first_lines(consideration_poly, 10)"
   ]
  },
  {
   "cell_type": "markdown",
   "metadata": {},
   "source": [
    "we'll remove empty values after also removing stopwords"
   ]
  },
  {
   "cell_type": "code",
   "execution_count": 115,
   "metadata": {},
   "outputs": [
    {
     "name": "stdout",
     "output_type": "stream",
     "text": [
      "{np.int8(2): [['written', 'by', 'rhett', 'reese', 'amp', 'paul', 'wernick', 'final', 'shooting', 'script', 'november']]}\n",
      "{np.int8(1): [['over', 'black'], ['low', 'volume', 'through', 'tinny', 'speaker', 'juice', 'newton', \"'s\", 'angel', 'of', 'the', 'morning']]}\n",
      "{np.int8(0): [['ext./int'], ['taxi', 'cab', 'morning']]}\n",
      "{np.int8(1): [['deadpool', 'in', 'full', 'dress', 'reds', 'and', 'mask', 'quietly', 'fidgets', 'in', 'the', 'back', 'seat', 'of', 'taxi', 'cab', 'as', 'it', 'proceeds', 'along', 'city', 'freeway'], ['deadpool', 'adjusts', 'the', 'two', 'katanas', 'strapped', 'to', 'his', 'back'], ['rolls', 'the', 'windows', 'up', 'down', 'up'], ['tries', 'futilely', 'to', 'untwist', 'the', 'seatbelt', 'then', 'lunges', 'forward', 'locking', 'it', 'up'], ['rifles', 'through', 'tourist', 'booklet', 'and', 'tears', 'out', 'haunted', 'segway', 'tour', 'coupon'], ['the', 'cabbie', 'young', 'thin', 'brown', 'glances', 'back', 'and', 'forth', 'from', 'the', 'rear', 'view', 'to', 'the', 'road', 'to', 'the', 'rear', 'view']]}\n",
      "{np.int8(2): [['kinda', 'lonesome', 'back', 'here']]}\n",
      "{np.int8(2): [['little', 'help']]}\n",
      "{np.int8(1): [['the', 'cabbie', 'grabs', 'deadpool', \"'s\", 'hand', 'and', 'pulls', 'him', 'through', 'to', 'the', 'front'], ['deadpool', \"'s\", 'head', 'rests', 'upside', 'down', 'on', 'the', 'bench', 'seat', 'as', 'he', 'maneuvers', 'his', 'legs', 'through'], ['the', 'cabbie', 'turns', 'the', 'helping', 'hand', 'into', 'handshake', 'then', 'turns', 'down', 'the', 'juice']]}\n",
      "{np.int8(2): [['dopinder']]}\n",
      "{np.int8(2): [['still', 'upside-down']]}\n",
      "{np.int8(1): [['pool'], ['deadpool'], ['dopinder', 'is', 'remarkably', 'unaffected', 'by', 'the', 'lunatic', 'in', 'his', 'cab']]}\n"
     ]
    }
   ],
   "source": [
    "# apply all \n",
    "screenplays_poly = screenplays_lower.apply(cut_single_chars)\n",
    "print_first_lines(screenplays_poly[250], 10)"
   ]
  },
  {
   "cell_type": "code",
   "execution_count": 116,
   "metadata": {},
   "outputs": [],
   "source": [
    "del screenplays_lower"
   ]
  },
  {
   "cell_type": "markdown",
   "metadata": {},
   "source": [
    "## stopwords"
   ]
  },
  {
   "cell_type": "code",
   "execution_count": 2,
   "metadata": {},
   "outputs": [
    {
     "name": "stdout",
     "output_type": "stream",
     "text": [
      "['i', 'me', 'my', 'myself', 'we', 'our', 'ours', 'ourselves', 'you', \"you're\", \"you've\", \"you'll\", \"you'd\", 'your', 'yours', 'yourself', 'yourselves', 'he', 'him', 'his', 'himself', 'she', \"she's\", 'her', 'hers', 'herself', 'it', \"it's\", 'its', 'itself', 'they', 'them', 'their', 'theirs', 'themselves', 'what', 'which', 'who', 'whom', 'this', 'that', \"that'll\", 'these', 'those', 'am', 'is', 'are', 'was', 'were', 'be', 'been', 'being', 'have', 'has', 'had', 'having', 'do', 'does', 'did', 'doing', 'a', 'an', 'the', 'and', 'but', 'if', 'or', 'because', 'as', 'until', 'while', 'of', 'at', 'by', 'for', 'with', 'about', 'against', 'between', 'into', 'through', 'during', 'before', 'after', 'above', 'below', 'to', 'from', 'up', 'down', 'in', 'out', 'on', 'off', 'over', 'under', 'again', 'further', 'then', 'once', 'here', 'there', 'when', 'where', 'why', 'how', 'all', 'any', 'both', 'each', 'few', 'more', 'most', 'other', 'some', 'such', 'no', 'nor', 'not', 'only', 'own', 'same', 'so', 'than', 'too', 'very', 's', 't', 'can', 'will', 'just', 'don', \"don't\", 'should', \"should've\", 'now', 'd', 'll', 'm', 'o', 're', 've', 'y', 'ain', 'aren', \"aren't\", 'couldn', \"couldn't\", 'didn', \"didn't\", 'doesn', \"doesn't\", 'hadn', \"hadn't\", 'hasn', \"hasn't\", 'haven', \"haven't\", 'isn', \"isn't\", 'ma', 'mightn', \"mightn't\", 'mustn', \"mustn't\", 'needn', \"needn't\", 'shan', \"shan't\", 'shouldn', \"shouldn't\", 'wasn', \"wasn't\", 'weren', \"weren't\", 'won', \"won't\", 'wouldn', \"wouldn't\"]\n"
     ]
    }
   ],
   "source": [
    "from nltk.corpus import stopwords\n",
    "\n",
    "stops = stopwords.words('english')\n",
    "print(stops)"
   ]
  },
  {
   "cell_type": "code",
   "execution_count": 3,
   "metadata": {},
   "outputs": [],
   "source": [
    "extra_stops = [\n",
    "'fox', 'searchlight', 'pictures', 'inc', 'los', 'angeles', 'ca',\n",
    "'all', 'rights', 'reserved', 'copyright', 'willow', 'and', 'oak', 'inc.', 'no',\n",
    "'portion', 'of', 'this', 'script', 'may', 'be', 'performed', 'published', 'reproduced',\n",
    "'sold', 'or', 'distributed', 'by', 'any', 'means', 'or', 'quoted', 'or', 'published', 'in', 'any',\n",
    "r'ext./int', 'amp', \"'ll\", 'ext', 'int'\n",
    "]\n",
    "\n",
    "for s in extra_stops:\n",
    "    if s not in stops:\n",
    "        stops.append(s)"
   ]
  },
  {
   "cell_type": "code",
   "execution_count": 5,
   "metadata": {},
   "outputs": [],
   "source": [
    "stops_path = r\"C:\\\\Users\\bened\\DataScience\\ANLP\\AT2\\\\36118_NLP_Spring\\\\front_end_pipeline\\\\stops.txt\"\n",
    "with open(stops_path, 'w', encoding='utf-8') as f:\n",
    "    for s in stops:\n",
    "        f.write(s + '\\n')"
   ]
  },
  {
   "cell_type": "code",
   "execution_count": 119,
   "metadata": {},
   "outputs": [],
   "source": [
    "del consideration, consideration_poly"
   ]
  },
  {
   "cell_type": "code",
   "execution_count": 120,
   "metadata": {},
   "outputs": [],
   "source": [
    "def remove_stops(dict_list):\n",
    "    for d in dict_list:\n",
    "        for key, value in d.items():\n",
    "            d[key] = [\n",
    "                [w for w in sentence if w not in stops]\n",
    "                for sentence in value]\n",
    "    return dict_list"
   ]
  },
  {
   "cell_type": "code",
   "execution_count": 121,
   "metadata": {},
   "outputs": [
    {
     "name": "stdout",
     "output_type": "stream",
     "text": [
      "{np.int8(2): [['written', 'rhett', 'reese', 'paul', 'wernick', 'final', 'shooting', 'november']]}\n",
      "{np.int8(1): [['black'], ['low', 'volume', 'tinny', 'speaker', 'juice', 'newton', \"'s\", 'angel', 'morning']]}\n",
      "{np.int8(0): [[], ['taxi', 'cab', 'morning']]}\n",
      "{np.int8(1): [['deadpool', 'full', 'dress', 'reds', 'mask', 'quietly', 'fidgets', 'back', 'seat', 'taxi', 'cab', 'proceeds', 'along', 'city', 'freeway'], ['deadpool', 'adjusts', 'two', 'katanas', 'strapped', 'back'], ['rolls', 'windows'], ['tries', 'futilely', 'untwist', 'seatbelt', 'lunges', 'forward', 'locking'], ['rifles', 'tourist', 'booklet', 'tears', 'haunted', 'segway', 'tour', 'coupon'], ['cabbie', 'young', 'thin', 'brown', 'glances', 'back', 'forth', 'rear', 'view', 'road', 'rear', 'view']]}\n",
      "{np.int8(2): [['kinda', 'lonesome', 'back']]}\n",
      "{np.int8(2): [['little', 'help']]}\n",
      "{np.int8(1): [['cabbie', 'grabs', 'deadpool', \"'s\", 'hand', 'pulls', 'front'], ['deadpool', \"'s\", 'head', 'rests', 'upside', 'bench', 'seat', 'maneuvers', 'legs'], ['cabbie', 'turns', 'helping', 'hand', 'handshake', 'turns', 'juice']]}\n",
      "{np.int8(2): [['dopinder']]}\n",
      "{np.int8(2): [['still', 'upside-down']]}\n",
      "{np.int8(1): [['pool'], ['deadpool'], ['dopinder', 'remarkably', 'unaffected', 'lunatic', 'cab']]}\n"
     ]
    }
   ],
   "source": [
    "# test on deadpool \n",
    "deadpool = copy.deepcopy(screenplays_poly[250])\n",
    "deadpool_nonstop = remove_stops(deadpool)\n",
    "print_first_lines(deadpool_nonstop, 10)"
   ]
  },
  {
   "cell_type": "code",
   "execution_count": 122,
   "metadata": {},
   "outputs": [
    {
     "name": "stdout",
     "output_type": "stream",
     "text": [
      "{np.int8(1): [['night', 'roxbury']]}\n",
      "{np.int8(2): [['written', 'steve', 'koren', 'ferrell', 'chris', 'kattan', 'june']]}\n",
      "{np.int8(0): [['panoramic', 'view', 'sunset']]}\n",
      "{np.int8(1): [['hear', 'love', 'haddaway', 'night', 'falls', 'partytime', 'begins']]}\n",
      "{np.int8(0): [['superimpose', 'sunset', 'blvd.', 'pm']]}\n",
      "{np.int8(0): [['dance', 'clubs', 'night']]}\n",
      "{np.int8(2): [['coconut', 'teaser', 'palace', 'roxbury', 'tatou', 'etc']]}\n",
      "{np.int8(0): [['dance', 'clubs-', 'quick', 'shots', 'night']]}\n",
      "{np.int8(1): [['random', 'dancers', 'gyrating', 'flirting', 'making', 'drinking']]}\n",
      "{np.int8(0): [['palace', 'night']]}\n"
     ]
    }
   ],
   "source": [
    "# apply all\n",
    "screenplays_nonstop = screenplays_poly.apply(remove_stops)\n",
    "print_first_lines(screenplays_nonstop[0], 10)"
   ]
  },
  {
   "cell_type": "code",
   "execution_count": 123,
   "metadata": {},
   "outputs": [
    {
     "name": "stdout",
     "output_type": "stream",
     "text": [
      "{np.int8(0): [['last', 'mohicans']]}\n",
      "{np.int8(2): [['written', 'michael', 'mann', 'christopher', 'crowe']]}\n",
      "{np.int8(1): [['screen', 'microcosm', 'leaf', 'crystal', 'drops', 'precipitation', 'stone', 'emerald', 'green', 'moss'], [\"'s\", 'landscape', 'miniature'], ['hear', 'forest'], ['distant', 'birds'], ['sound', 'seems', 'reverberate', 'cavern'], ['piece', 'sunlight', 'refracts', 'within', 'drops', 'water', 'paints', 'patch', 'moss', 'yellow'], ['whisper', 'wind', 'joined', 'another', 'sound', 'mixes'], ['distant', 'rustling'], ['gets', 'closer', 'louder'], [\"'s\", 'shallow', 'breathing'], ['gets', 'ominous'], [\"'re\", 'interlopers', 'floor', 'forest', 'something', 'coming']]}\n",
      "{np.int8(0): [['suddenly', 'moccasined', 'foot']]}\n",
      "{np.int8(1): [['rockets', 'frame', 'scaring', 'us']]}\n",
      "{np.int8(0): [['extremely', 'close', 'part', 'indian', 'face']]}\n",
      "{np.int8(1): [['running', 'hard'], ['head', 'shaved', 'bald', 'except', 'scalp-lock'], ['tattoos'], [\"'s\", 'twenty-five'], ['seems', 'tall', 'muscled'], ['heavy', 'even', 'breathing'], ['learn', 'later']]}\n",
      "{np.int8(2): [['man', 'uncas', 'last', 'mohicans']]}\n",
      "{np.int8(1): [['flash', 'runs'], ['one', 'carries', 'flintlock', 'musket'], ['sweat', 'man', \"'s\", 'skin'], ['calico', 'shirt', 'gathered', 'waist', 'wampum', 'belt', 'small', 'white', 'beads', 'breechcloth'], ['wears', 'leggings', 'protect', 'legs'], ['long-handled', 'tomahawk', 'stuffed', 'belt']]}\n",
      "{np.int8(0): [['another', 'part', 'forest', 'massive', 'war', 'club', 'day']]}\n"
     ]
    }
   ],
   "source": [
    "print_first_lines(screenplays_nonstop[10], 10)"
   ]
  },
  {
   "cell_type": "code",
   "execution_count": 124,
   "metadata": {},
   "outputs": [],
   "source": [
    "del screenplays_poly"
   ]
  },
  {
   "cell_type": "markdown",
   "metadata": {},
   "source": [
    "## remove empty values "
   ]
  },
  {
   "cell_type": "code",
   "execution_count": 125,
   "metadata": {},
   "outputs": [
    {
     "name": "stdout",
     "output_type": "stream",
     "text": [
      "{np.int8(2): [['written', 'rhett', 'reese', 'paul', 'wernick', 'final', 'shooting', 'november']]}\n",
      "{np.int8(1): [['black'], ['low', 'volume', 'tinny', 'speaker', 'juice', 'newton', \"'s\", 'angel', 'morning']]}\n",
      "{np.int8(0): [['taxi', 'cab', 'morning']]}\n",
      "{np.int8(1): [['deadpool', 'full', 'dress', 'reds', 'mask', 'quietly', 'fidgets', 'back', 'seat', 'taxi', 'cab', 'proceeds', 'along', 'city', 'freeway'], ['deadpool', 'adjusts', 'two', 'katanas', 'strapped', 'back'], ['rolls', 'windows'], ['tries', 'futilely', 'untwist', 'seatbelt', 'lunges', 'forward', 'locking'], ['rifles', 'tourist', 'booklet', 'tears', 'haunted', 'segway', 'tour', 'coupon'], ['cabbie', 'young', 'thin', 'brown', 'glances', 'back', 'forth', 'rear', 'view', 'road', 'rear', 'view']]}\n",
      "{np.int8(2): [['kinda', 'lonesome', 'back']]}\n",
      "{np.int8(2): [['little', 'help']]}\n",
      "{np.int8(1): [['cabbie', 'grabs', 'deadpool', \"'s\", 'hand', 'pulls', 'front'], ['deadpool', \"'s\", 'head', 'rests', 'upside', 'bench', 'seat', 'maneuvers', 'legs'], ['cabbie', 'turns', 'helping', 'hand', 'handshake', 'turns', 'juice']]}\n",
      "{np.int8(2): [['dopinder']]}\n",
      "{np.int8(2): [['still', 'upside-down']]}\n",
      "{np.int8(1): [['pool'], ['deadpool'], ['dopinder', 'remarkably', 'unaffected', 'lunatic', 'cab']]}\n"
     ]
    }
   ],
   "source": [
    "def remove_empties(dict_list):\n",
    "    for d in dict_list:\n",
    "        for key, value in d.items():\n",
    "            d[key] = [sent for sent in value if sent]\n",
    "    return dict_list\n",
    "\n",
    "# test on deadpool \n",
    "deadpool_cleaned = remove_empties(deadpool_nonstop)\n",
    "print_first_lines(deadpool_cleaned, 10)"
   ]
  },
  {
   "cell_type": "code",
   "execution_count": 126,
   "metadata": {},
   "outputs": [],
   "source": [
    "# apply all\n",
    "cleaned_screenplays = screenplays_nonstop.apply(remove_empties)"
   ]
  },
  {
   "cell_type": "code",
   "execution_count": 127,
   "metadata": {},
   "outputs": [
    {
     "name": "stdout",
     "output_type": "stream",
     "text": [
      "{np.int8(2): [['fourth', 'draft', 'screenplay', 'james', 'baldwin', 'arnold', 'perl', 'spike', 'lee', 'based', 'autobiography', 'malcolm', 'told', 'alex', 'haley']]}\n",
      "{np.int8(0): [['roxbury', 'street', 'war', 'years', 'day']]}\n",
      "{np.int8(1): [['bright', 'sunny', 'day', 'crowded', 'street', 'black', 'side', 'boston'], ['people', 'kids', 'busy', 'things'], ['shorty', 'bops', 'way', 'street'], ['runty', 'dark', 'young', 'man', 'mission', 'smile', 'face'], ['wears', 'flamboyant', 'style', 'time', 'whole', 'zoot-suit', 'pegged', 'legs', 'wide', 'brim', 'hat', 'white', 'feather', 'stuck', 'hat', 'band']]}\n",
      "{np.int8(0): [['street', 'day']]}\n",
      "{np.int8(1): [['follow', 'shot'], ['shorty', 'dodges', 'crowd', 'packages'], ['smile', 'one', 'anticipation'], ['nods', 'pal', 'without', 'stopping', 'eyes', 'couple', 'chicks', 'dancing', 'street', 'dissuaded']]}\n",
      "{np.int8(0): [['barber', 'shop', 'day']]}\n",
      "{np.int8(1): [['shorty', 'jacket', 'hat', 'sleeves', 'rolled'], ['like', 'surgeon', 'preparing', 'operation'], ['equipment', 'spread', 'table', 'lye', 'large', 'mason', 'jar', 'wooden', 'stirring', 'spoon', 'knife', 'eggs'], ['actions', 'character', 'ritual', 'thing', 'done', 'time-honored', 'fashion'], ['slices', 'potatoes', 'drops', 'thin', 'slices', 'mason', 'jar'], ['adds', 'water', 'makes', 'paste', 'starch'], ['behind', 'shorty', 'spirited', 'barbershop', 'conversation'], ['one', 'man', 'getting', 'haircut', 'two', 'others', 'watching', 'toomer', 'jason', 'one', 'behind', 'newspaper'], ['middle-aged', 'barber', 'cholly', 'talking']]}\n",
      "{np.int8(2): [['hit', 'number', 'woman', \"n't\", 'good']]}\n",
      "{np.int8(1): [['men', 'laugh']]}\n",
      "{np.int8(1): [['angle', 'shorty', 'pries', 'open', 'lye', 'whiffs'], [\"'s\", 'good', 'strong'], ['pours', 'mason', 'jar', 'stirring', 'wooden', 'spoon'], ['cracks', 'eggs', 'mixture', 'stirs'], ['waits', 'fumes', 'rise', 'feels', 'outside', 'jar', 'gets', 'hot']]}\n"
     ]
    }
   ],
   "source": [
    "print_first_lines(cleaned_screenplays[12], 10)"
   ]
  },
  {
   "cell_type": "code",
   "execution_count": 128,
   "metadata": {},
   "outputs": [
    {
     "name": "stdout",
     "output_type": "stream",
     "text": [
      "{np.int8(2): [['fourth', 'draft', 'screenplay', 'james', 'baldwin', 'arnold', 'perl', 'spike', 'lee', 'based', 'autobiography', 'malcolm', 'told', 'alex', 'haley']]}\n",
      "{np.int8(0): [['roxbury', 'street', 'war', 'years', 'day']]}\n",
      "{np.int8(1): [['bright', 'sunny', 'day', 'crowded', 'street', 'black', 'side', 'boston'], ['people', 'kids', 'busy', 'things'], ['shorty', 'bops', 'way', 'street'], ['runty', 'dark', 'young', 'man', 'mission', 'smile', 'face'], ['wears', 'flamboyant', 'style', 'time', 'whole', 'zoot-suit', 'pegged', 'legs', 'wide', 'brim', 'hat', 'white', 'feather', 'stuck', 'hat', 'band']]}\n",
      "{np.int8(0): [['street', 'day']]}\n",
      "{np.int8(1): [['follow', 'shot'], ['shorty', 'dodges', 'crowd', 'packages'], ['smile', 'one', 'anticipation'], ['nods', 'pal', 'without', 'stopping', 'eyes', 'couple', 'chicks', 'dancing', 'street', 'dissuaded']]}\n",
      "{np.int8(0): [['barber', 'shop', 'day']]}\n",
      "{np.int8(1): [['shorty', 'jacket', 'hat', 'sleeves', 'rolled'], ['like', 'surgeon', 'preparing', 'operation'], ['equipment', 'spread', 'table', 'lye', 'large', 'mason', 'jar', 'wooden', 'stirring', 'spoon', 'knife', 'eggs'], ['actions', 'character', 'ritual', 'thing', 'done', 'time-honored', 'fashion'], ['slices', 'potatoes', 'drops', 'thin', 'slices', 'mason', 'jar'], ['adds', 'water', 'makes', 'paste', 'starch'], ['behind', 'shorty', 'spirited', 'barbershop', 'conversation'], ['one', 'man', 'getting', 'haircut', 'two', 'others', 'watching', 'toomer', 'jason', 'one', 'behind', 'newspaper'], ['middle-aged', 'barber', 'cholly', 'talking']]}\n",
      "{np.int8(2): [['hit', 'number', 'woman', \"n't\", 'good']]}\n",
      "{np.int8(1): [['men', 'laugh']]}\n",
      "{np.int8(1): [['angle', 'shorty', 'pries', 'open', 'lye', 'whiffs'], [\"'s\", 'good', 'strong'], ['pours', 'mason', 'jar', 'stirring', 'wooden', 'spoon'], ['cracks', 'eggs', 'mixture', 'stirs'], ['waits', 'fumes', 'rise', 'feels', 'outside', 'jar', 'gets', 'hot']]}\n"
     ]
    }
   ],
   "source": [
    "# remove stops again \n",
    "cleaned_screenplays = cleaned_screenplays.apply(remove_stops)\n",
    "print_first_lines(cleaned_screenplays[12], 10)"
   ]
  },
  {
   "cell_type": "code",
   "execution_count": 129,
   "metadata": {},
   "outputs": [],
   "source": [
    "cleaned_screenplays = cleaned_screenplays.apply(remove_empties)"
   ]
  },
  {
   "cell_type": "markdown",
   "metadata": {},
   "source": [
    "# Save to JSON"
   ]
  },
  {
   "cell_type": "code",
   "execution_count": 130,
   "metadata": {},
   "outputs": [],
   "source": [
    "# convert series to a json\n",
    "cleaned_screenplays.to_json(\n",
    "    f'{root_path}\\\\cleaned_screenplays.json', \n",
    "    force_ascii=False, \n",
    "    indent=2,\n",
    "    compression='gzip')"
   ]
  },
  {
   "cell_type": "markdown",
   "metadata": {},
   "source": []
  },
  {
   "cell_type": "markdown",
   "metadata": {},
   "source": [
    "TODO: \n",
    "- expand stops list \n",
    "- cut useless metadata if possible \n",
    "- lemmatize if possible \n",
    "- stem if not \n",
    "- reach a reasonable avg length target \n",
    "- apply phrases model\n",
    "- try word vectorization. The eventual output vectors should look like:\n",
    "{label code: sentence{ {v1}, {v2} etc.}}\n",
    "- Build a BERT annotator.  Use these annotations as supervision. \n",
    "- Run through NN pipeline.  Truncate aggressively.  Use samples only for training. "
   ]
  }
 ],
 "metadata": {
  "kernelspec": {
   "display_name": "spacy_env",
   "language": "python",
   "name": "python3"
  },
  "language_info": {
   "codemirror_mode": {
    "name": "ipython",
    "version": 3
   },
   "file_extension": ".py",
   "mimetype": "text/x-python",
   "name": "python",
   "nbconvert_exporter": "python",
   "pygments_lexer": "ipython3",
   "version": "3.11.10"
  }
 },
 "nbformat": 4,
 "nbformat_minor": 2
}
